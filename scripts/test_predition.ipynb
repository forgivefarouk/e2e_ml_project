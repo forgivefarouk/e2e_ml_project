{
 "cells": [
  {
   "cell_type": "code",
   "execution_count": 32,
   "metadata": {},
   "outputs": [],
   "source": [
    "import JobPrediction\n",
    "from JobPrediction import JobPrediction\n",
    "import mlflow\n",
    "import os\n",
    "from mlflow.tracking import MlflowClient\n",
    "import pickle"
   ]
  },
  {
   "cell_type": "code",
   "execution_count": 33,
   "metadata": {},
   "outputs": [],
   "source": [
    "RUN_ID ='a6a1acf9579f4b858116fa024bff1619'\n",
    "MLFLOW_TRACKING_URI = '../models/mlruns'\n",
    "EXPERIMENT_ID = 1\n",
    "\n",
    "LOG_DATA_PKL    =  \"data_rf.pkl\"\n",
    "LOG_MODEL_PKL   =  \"model_rf.pkl\"\n",
    "LOG_METRICS_PKL =  \"metrics_rf.pkl\"\n",
    "\n",
    "CLUSTERS_PATH = \"../data/processed/skills_group_clusters.pkl\""
   ]
  },
  {
   "cell_type": "code",
   "execution_count": 34,
   "metadata": {},
   "outputs": [],
   "source": [
    "\n",
    "model = JobPrediction(mlflow_uri=MLFLOW_TRACKING_URI,run_id=RUN_ID,cluster_group_path=CLUSTERS_PATH)"
   ]
  },
  {
   "cell_type": "code",
   "execution_count": 35,
   "metadata": {},
   "outputs": [],
   "source": [
    "skills = [ 'Ansible', 'Terraform','Python','docker','kubertnetes','cloud']"
   ]
  },
  {
   "cell_type": "code",
   "execution_count": 36,
   "metadata": {},
   "outputs": [
    {
     "data": {
      "text/plain": [
       "DevOps specialist                                0.360068\n",
       "System administrator                             0.246243\n",
       "Developer, back-end                              0.196669\n",
       "Developer, QA or test                            0.136730\n",
       "Developer, embedded applications or devices      0.099112\n",
       "Academic researcher                              0.092512\n",
       "Developer, desktop or enterprise applications    0.091867\n",
       "Data scientist or machine learning specialist    0.070958\n",
       "Database administrator                           0.067042\n",
       "Scientist                                        0.065920\n",
       "Developer, full-stack                            0.050753\n",
       "Data or business analyst                         0.038667\n",
       "Engineer, data                                   0.033547\n",
       "Developer, game or graphics                      0.026875\n",
       "Developer, front-end                             0.026539\n",
       "Developer, mobile                                0.025482\n",
       "dtype: float64"
      ]
     },
     "execution_count": 36,
     "metadata": {},
     "output_type": "execute_result"
    }
   ],
   "source": [
    "model.predict_jobs_probabilities(skills)"
   ]
  },
  {
   "cell_type": "code",
   "execution_count": null,
   "metadata": {},
   "outputs": [],
   "source": []
  }
 ],
 "metadata": {
  "kernelspec": {
   "display_name": "e2e_env",
   "language": "python",
   "name": "python3"
  },
  "language_info": {
   "codemirror_mode": {
    "name": "ipython",
    "version": 3
   },
   "file_extension": ".py",
   "mimetype": "text/x-python",
   "name": "python",
   "nbconvert_exporter": "python",
   "pygments_lexer": "ipython3",
   "version": "3.9.16"
  },
  "orig_nbformat": 4
 },
 "nbformat": 4,
 "nbformat_minor": 2
}

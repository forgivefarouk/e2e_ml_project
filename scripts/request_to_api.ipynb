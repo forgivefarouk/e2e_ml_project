{
 "cells": [
  {
   "cell_type": "code",
   "execution_count": 57,
   "metadata": {},
   "outputs": [],
   "source": [
    "URL = 'http://127.0.0.1:8000/predict_jobs_probs'"
   ]
  },
  {
   "cell_type": "code",
   "execution_count": 58,
   "metadata": {},
   "outputs": [],
   "source": [
    "import requests\n",
    "import json\n",
    "import pandas as pd"
   ]
  },
  {
   "cell_type": "code",
   "execution_count": 59,
   "metadata": {},
   "outputs": [],
   "source": [
    "sample = ['Python','Keras','Pandas','TensorFlow','Torch/PyTorch']\n"
   ]
  },
  {
   "cell_type": "code",
   "execution_count": 60,
   "metadata": {},
   "outputs": [],
   "source": [
    "respose = requests.post(URL,\n",
    "                        data=json.dumps(sample), \n",
    "                        headers={'Content-Type': 'application/json'})"
   ]
  },
  {
   "cell_type": "code",
   "execution_count": 61,
   "metadata": {},
   "outputs": [],
   "source": [
    "probs =json.loads(respose.text)"
   ]
  },
  {
   "cell_type": "code",
   "execution_count": 62,
   "metadata": {},
   "outputs": [
    {
     "data": {
      "text/plain": [
       "Data scientist or machine learning specialist    0.721633\n",
       "Scientist                                        0.294651\n",
       "Academic researcher                              0.211852\n",
       "Data or business analyst                         0.136869\n",
       "Engineer, data                                   0.071313\n",
       "Developer, back-end                              0.050063\n",
       "Developer, embedded applications or devices      0.048426\n",
       "Developer, full-stack                            0.024347\n",
       "Developer, desktop or enterprise applications    0.018486\n",
       "Developer, mobile                                0.014841\n",
       "Developer, game or graphics                      0.012800\n",
       "DevOps specialist                                0.011904\n",
       "System administrator                             0.009095\n",
       "Developer, QA or test                            0.008535\n",
       "Developer, front-end                             0.007759\n",
       "Database administrator                           0.007576\n",
       "dtype: float64"
      ]
     },
     "execution_count": 62,
     "metadata": {},
     "output_type": "execute_result"
    }
   ],
   "source": [
    "pd.Series(probs).sort_values(ascending=False)"
   ]
  },
  {
   "cell_type": "code",
   "execution_count": null,
   "metadata": {},
   "outputs": [],
   "source": []
  }
 ],
 "metadata": {
  "kernelspec": {
   "display_name": "e2e_env",
   "language": "python",
   "name": "python3"
  },
  "language_info": {
   "codemirror_mode": {
    "name": "ipython",
    "version": 3
   },
   "file_extension": ".py",
   "mimetype": "text/x-python",
   "name": "python",
   "nbconvert_exporter": "python",
   "pygments_lexer": "ipython3",
   "version": "3.9.16"
  },
  "orig_nbformat": 4
 },
 "nbformat": 4,
 "nbformat_minor": 2
}

{
 "cells": [
  {
   "cell_type": "code",
   "execution_count": 1,
   "metadata": {},
   "outputs": [],
   "source": [
    "RUN_ID ='a6a1acf9579f4b858116fa024bff1619'\n",
    "MLFLOW_TRACKING_URI = '../models/mlruns'\n",
    "\n",
    "LOG_DATA_PKL    =  \"data_rf.pkl\"\n",
    "LOG_MODEL_PKL   =  \"model_rf.pkl\"\n",
    "LOG_METRICS_PKL =  \"metrics_rf.pkl\"\n",
    "\n",
    "CLUSTERS_PATH = \"../data/processed/skills_group_clusters.pkl\"\n"
   ]
  },
  {
   "cell_type": "code",
   "execution_count": 2,
   "metadata": {},
   "outputs": [],
   "source": [
    "import os \n",
    "import sklearn\n",
    "import pickle\n",
    "import yaml\n",
    "\n",
    "import pandas as pd\n",
    "\n",
    "import mlflow\n",
    "from mlflow.tracking import MlflowClient\n"
   ]
  },
  {
   "cell_type": "markdown",
   "metadata": {},
   "source": [
    "### Initialize MLflow"
   ]
  },
  {
   "cell_type": "code",
   "execution_count": 3,
   "metadata": {},
   "outputs": [
    {
     "data": {
      "text/plain": [
       "'g:/workspace/e2e_ml_project/notebooks/../models/mlruns/241658575313021916/a6a1acf9579f4b858116fa024bff1619/artifacts'"
      ]
     },
     "execution_count": 3,
     "metadata": {},
     "output_type": "execute_result"
    }
   ],
   "source": [
    "mlflow.set_tracking_uri(MLFLOW_TRACKING_URI)\n",
    "client = MlflowClient()\n",
    "\n",
    "run = client.get_run(RUN_ID)\n",
    "artifact_path = run.info.artifact_uri\n",
    "artifact_path.strip(\"file:///\")"
   ]
  },
  {
   "cell_type": "code",
   "execution_count": 4,
   "metadata": {},
   "outputs": [],
   "source": [
    "with open(os.path.join(artifact_path, LOG_MODEL_PKL).replace(\"file:///\", \"\"), \"rb\") as f:\n",
    "    model = pickle.load(f)"
   ]
  },
  {
   "cell_type": "code",
   "execution_count": 5,
   "metadata": {},
   "outputs": [],
   "source": [
    "model_rf= model['model']"
   ]
  },
  {
   "cell_type": "code",
   "execution_count": 6,
   "metadata": {},
   "outputs": [],
   "source": [
    "with open(os.path.join(artifact_path, LOG_DATA_PKL).replace(\"file:///\", \"\"), \"rb\") as f:\n",
    "    data = pickle.load(f)"
   ]
  },
  {
   "cell_type": "code",
   "execution_count": 7,
   "metadata": {},
   "outputs": [],
   "source": [
    "features=data['feature_name']"
   ]
  },
  {
   "cell_type": "code",
   "execution_count": 8,
   "metadata": {},
   "outputs": [],
   "source": [
    "with open(CLUSTERS_PATH , 'rb') as f:\n",
    "    cluser_data = pickle.load(f)"
   ]
  },
  {
   "cell_type": "code",
   "execution_count": 9,
   "metadata": {},
   "outputs": [
    {
     "data": {
      "text/plain": [
       "skill_group_0     [Cassandra, DynamoDB, Elasticsearch, MongoDB, ...\n",
       "skill_group_1                             [Unity 3D, Unreal Engine]\n",
       "skill_group_10    [SQL, VBA, IBM DB2, Microsoft SQL Server, Oracle]\n",
       "skill_group_11                                   [Assembly, C, C++]\n",
       "skill_group_12              [HTML/CSS, PHP, MySQL, Laravel, jQuery]\n",
       "skill_group_2         [Couchbase, MariaDB, Drupal, Gatsby, Symfony]\n",
       "skill_group_3     [Dart, Java, Kotlin, Objective-C, Swift, Fireb...\n",
       "skill_group_4     [Python, Scala, Django, Flask, Apache Spark, H...\n",
       "skill_group_5          [C#, ASP.NET, ASP.NET Core, .NET, .NET Core]\n",
       "skill_group_6     [Bash/Shell/PowerShell, Go, Rust, Ansible, Ter...\n",
       "skill_group_7     [JavaScript, TypeScript, Angular, Angular.js, ...\n",
       "skill_group_8     [Haskell, Julia, R, Keras, Pandas, TensorFlow,...\n",
       "skill_group_9             [Perl, Ruby, Ruby on Rails, Chef, Puppet]\n",
       "dtype: object"
      ]
     },
     "execution_count": 9,
     "metadata": {},
     "output_type": "execute_result"
    }
   ],
   "source": [
    "cluser_data"
   ]
  },
  {
   "cell_type": "code",
   "execution_count": 10,
   "metadata": {},
   "outputs": [],
   "source": [
    "sample = ['Python','Keras','Pandas','TensorFlow','Torch/PyTorch']\n"
   ]
  },
  {
   "cell_type": "code",
   "execution_count": 11,
   "metadata": {},
   "outputs": [
    {
     "data": {
      "text/plain": [
       "13                 Assembly\n",
       "14    Bash/Shell/PowerShell\n",
       "15                        C\n",
       "16                       C#\n",
       "17                      C++\n",
       "              ...          \n",
       "82                 Teraform\n",
       "83            Torch/PyTorch\n",
       "84                 Unity 3D\n",
       "85            Unreal Engine\n",
       "86                  Xamarin\n",
       "Length: 74, dtype: object"
      ]
     },
     "execution_count": 11,
     "metadata": {},
     "output_type": "execute_result"
    }
   ],
   "source": [
    "features = pd.Series(features)\n",
    "features_skill = features[~features.isin(cluser_data.index)]\n",
    "features_skill"
   ]
  },
  {
   "cell_type": "markdown",
   "metadata": {},
   "source": [
    "## One Hot Encoding"
   ]
  },
  {
   "cell_type": "code",
   "execution_count": 12,
   "metadata": {},
   "outputs": [],
   "source": [
    "ohe_skils = pd.Series(features_skill.isin(sample).astype(int).to_list(), index=features_skill.values)"
   ]
  },
  {
   "cell_type": "markdown",
   "metadata": {},
   "source": [
    "## Clustring Skills"
   ]
  },
  {
   "cell_type": "code",
   "execution_count": 13,
   "metadata": {},
   "outputs": [],
   "source": [
    "cluster_skills = pd.Series(cluser_data).explode().isin(sample).astype(int).groupby(level=0).sum()"
   ]
  },
  {
   "cell_type": "markdown",
   "metadata": {},
   "source": [
    "## combine features"
   ]
  },
  {
   "cell_type": "code",
   "execution_count": 14,
   "metadata": {},
   "outputs": [],
   "source": [
    "combine_df = pd.concat([ohe_skils, cluster_skills], axis=0)"
   ]
  },
  {
   "cell_type": "code",
   "execution_count": 15,
   "metadata": {},
   "outputs": [
    {
     "data": {
      "text/plain": [
       "Assembly                 0\n",
       "Bash/Shell/PowerShell    0\n",
       "C                        0\n",
       "C#                       0\n",
       "C++                      0\n",
       "                        ..\n",
       "skill_group_5            0\n",
       "skill_group_6            0\n",
       "skill_group_7            0\n",
       "skill_group_8            4\n",
       "skill_group_9            0\n",
       "Length: 87, dtype: int64"
      ]
     },
     "execution_count": 15,
     "metadata": {},
     "output_type": "execute_result"
    }
   ],
   "source": [
    "combine_df"
   ]
  },
  {
   "cell_type": "code",
   "execution_count": 16,
   "metadata": {},
   "outputs": [
    {
     "data": {
      "text/plain": [
       "(87,)"
      ]
     },
     "execution_count": 16,
     "metadata": {},
     "output_type": "execute_result"
    }
   ],
   "source": [
    "final_features = combine_df.loc[features]\n",
    "\n",
    "final_features.shape"
   ]
  },
  {
   "cell_type": "code",
   "execution_count": 17,
   "metadata": {},
   "outputs": [],
   "source": [
    "pred = model_rf.predict_proba(final_features.values.reshape(1,-1))"
   ]
  },
  {
   "cell_type": "code",
   "execution_count": 18,
   "metadata": {},
   "outputs": [
    {
     "data": {
      "text/plain": [
       "Data scientist or machine learning specialist    0.827832\n",
       "Scientist                                        0.243659\n",
       "Academic researcher                              0.200554\n",
       "Data or business analyst                         0.106116\n",
       "Engineer, data                                   0.067568\n",
       "Developer, back-end                              0.052526\n",
       "Developer, desktop or enterprise applications    0.014497\n",
       "Developer, embedded applications or devices      0.008411\n",
       "Developer, full-stack                            0.007098\n",
       "Developer, mobile                                0.005451\n",
       "System administrator                             0.003124\n",
       "DevOps specialist                                0.002675\n",
       "Developer, QA or test                            0.001623\n",
       "Developer, front-end                             0.001605\n",
       "Database administrator                           0.001048\n",
       "Developer, game or graphics                      0.000920\n",
       "dtype: float64"
      ]
     },
     "execution_count": 18,
     "metadata": {},
     "output_type": "execute_result"
    }
   ],
   "source": [
    "positive_probs = [prob[0][1] for prob in pred]\n",
    "pd.Series(positive_probs, \n",
    "          index=data['tareget_name']).sort_values(ascending=False)\n"
   ]
  }
 ],
 "metadata": {
  "kernelspec": {
   "display_name": "e2e_env",
   "language": "python",
   "name": "python3"
  },
  "language_info": {
   "codemirror_mode": {
    "name": "ipython",
    "version": 3
   },
   "file_extension": ".py",
   "mimetype": "text/x-python",
   "name": "python",
   "nbconvert_exporter": "python",
   "pygments_lexer": "ipython3",
   "version": "3.9.16"
  },
  "orig_nbformat": 4
 },
 "nbformat": 4,
 "nbformat_minor": 2
}

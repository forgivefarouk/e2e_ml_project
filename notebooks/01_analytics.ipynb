{
 "cells": [
  {
   "cell_type": "code",
   "execution_count": 1,
   "metadata": {},
   "outputs": [],
   "source": [
    "EXPORT_PATH = '../data/processed/'\n",
    "DATA_PATH = '../data/raw/'\n",
    "\n",
    "target_col= ['DevType']\n",
    "influnce_col = ['LanguageWorkedWith',\n",
    "                  'DatabaseWorkedWith',\n",
    "                  'PlatformWorkedWith',\n",
    "                  'WebframeWorkedWith',\n",
    "                  'MiscTechWorkedWith',\n",
    "                  'NEWCollabToolsWorkedWith']\n"
   ]
  },
  {
   "attachments": {},
   "cell_type": "markdown",
   "metadata": {},
   "source": [
    "# import lib"
   ]
  },
  {
   "cell_type": "code",
   "execution_count": 2,
   "metadata": {},
   "outputs": [],
   "source": [
    "import pandas as pd \n",
    "import numpy as np\n",
    "import logging\n",
    "import pickle\n",
    "import os\n",
    "\n",
    "import plotly \n",
    "import plotly.graph_objects as go\n",
    "from plotly.subplots import make_subplots\n",
    "import plotly.express as px\n",
    "import plotly.figure_factory as ff\n",
    "\n",
    "from sklearn.manifold import TSNE\n",
    "from sklearn.preprocessing import MultiLabelBinarizer\n",
    "from sklearn.preprocessing import StandardScaler\n",
    "from sklearn.preprocessing import RobustScaler\n",
    "from sklearn.preprocessing import MinMaxScaler\n",
    "from sklearn.pipeline import make_pipeline\n",
    "from sklearn.cluster import AgglomerativeClustering\n",
    "\n",
    "from matplotlib import pyplot as plt\n",
    "from scipy.cluster.hierarchy import dendrogram\n",
    "\n"
   ]
  },
  {
   "attachments": {},
   "cell_type": "markdown",
   "metadata": {},
   "source": [
    "## export my data frame"
   ]
  },
  {
   "cell_type": "code",
   "execution_count": 3,
   "metadata": {},
   "outputs": [
    {
     "ename": "EOFError",
     "evalue": "Ran out of input",
     "output_type": "error",
     "traceback": [
      "\u001b[1;31m---------------------------------------------------------------------------\u001b[0m",
      "\u001b[1;31mEOFError\u001b[0m                                  Traceback (most recent call last)",
      "Cell \u001b[1;32mIn[3], line 1\u001b[0m\n\u001b[1;32m----> 1\u001b[0m raw_df\u001b[39m=\u001b[39mpd\u001b[39m.\u001b[39;49mread_pickle(EXPORT_PATH\u001b[39m+\u001b[39;49m\u001b[39m'\u001b[39;49m\u001b[39m1_preprocessed.pkl\u001b[39;49m\u001b[39m'\u001b[39;49m)\n",
      "File \u001b[1;32mc:\\Users\\Sameh\\anaconda3\\envs\\e2e_env\\lib\\site-packages\\pandas\\io\\pickle.py:196\u001b[0m, in \u001b[0;36mread_pickle\u001b[1;34m(filepath_or_buffer, compression, storage_options)\u001b[0m\n\u001b[0;32m    193\u001b[0m     \u001b[39mwith\u001b[39;00m warnings\u001b[39m.\u001b[39mcatch_warnings(record\u001b[39m=\u001b[39m\u001b[39mTrue\u001b[39;00m):\n\u001b[0;32m    194\u001b[0m         \u001b[39m# We want to silence any warnings about, e.g. moved modules.\u001b[39;00m\n\u001b[0;32m    195\u001b[0m         warnings\u001b[39m.\u001b[39msimplefilter(\u001b[39m\"\u001b[39m\u001b[39mignore\u001b[39m\u001b[39m\"\u001b[39m, \u001b[39mWarning\u001b[39;00m)\n\u001b[1;32m--> 196\u001b[0m         \u001b[39mreturn\u001b[39;00m pickle\u001b[39m.\u001b[39;49mload(handles\u001b[39m.\u001b[39;49mhandle)\n\u001b[0;32m    197\u001b[0m \u001b[39mexcept\u001b[39;00m excs_to_catch:\n\u001b[0;32m    198\u001b[0m     \u001b[39m# e.g.\u001b[39;00m\n\u001b[0;32m    199\u001b[0m     \u001b[39m#  \"No module named 'pandas.core.sparse.series'\"\u001b[39;00m\n\u001b[0;32m    200\u001b[0m     \u001b[39m#  \"Can't get attribute '__nat_unpickle' on <module 'pandas._libs.tslib\"\u001b[39;00m\n\u001b[0;32m    201\u001b[0m     \u001b[39mreturn\u001b[39;00m pc\u001b[39m.\u001b[39mload(handles\u001b[39m.\u001b[39mhandle, encoding\u001b[39m=\u001b[39m\u001b[39mNone\u001b[39;00m)\n",
      "\u001b[1;31mEOFError\u001b[0m: Ran out of input"
     ]
    }
   ],
   "source": [
    "raw_df=pd.read_pickle(EXPORT_PATH+'1_preprocessed.pkl')\n"
   ]
  },
  {
   "attachments": {},
   "cell_type": "markdown",
   "metadata": {},
   "source": [
    "## one hot encoding"
   ]
  },
  {
   "cell_type": "code",
   "execution_count": null,
   "metadata": {},
   "outputs": [],
   "source": [
    "df=raw_df.copy()\n",
    "encoded_dfs = {}\n",
    "for col in target_col + influnce_col:\n",
    "    binarizer = MultiLabelBinarizer()\n",
    "    encoded_df = pd.DataFrame(binarizer.fit_transform(df[col]),\n",
    "                               columns=binarizer.classes_,\n",
    "                               index=df[col].index)\n",
    "    encoded_dfs[col] = encoded_df"
   ]
  },
  {
   "cell_type": "code",
   "execution_count": null,
   "metadata": {},
   "outputs": [],
   "source": [
    "df= pd.concat(encoded_dfs,axis=1)\n"
   ]
  },
  {
   "cell_type": "code",
   "execution_count": null,
   "metadata": {},
   "outputs": [
    {
     "data": {
      "application/vnd.plotly.v1+json": {
       "config": {
        "plotlyServerURL": "https://plot.ly"
       },
       "data": [
        {
         "branchvalues": "total",
         "domain": {
          "x": [
           0,
           1
          ],
          "y": [
           0,
           1
          ]
         },
         "hovertemplate": "labels=%{label}<br>count=%{value}<br>parent=%{parent}<br>id=%{id}<extra></extra>",
         "ids": [
          "MiscTechWorkedWith/.NET",
          "MiscTechWorkedWith/.NET Core",
          "WebframeWorkedWith/ASP.NET",
          "WebframeWorkedWith/ASP.NET Core",
          "PlatformWorkedWith/AWS",
          "PlatformWorkedWith/Android",
          "WebframeWorkedWith/Angular",
          "WebframeWorkedWith/Angular.js",
          "MiscTechWorkedWith/Ansible",
          "MiscTechWorkedWith/Apache Spark",
          "PlatformWorkedWith/Arduino",
          "LanguageWorkedWith/Assembly",
          "LanguageWorkedWith/Bash/Shell/PowerShell",
          "LanguageWorkedWith/C",
          "LanguageWorkedWith/C#",
          "LanguageWorkedWith/C++",
          "DatabaseWorkedWith/Cassandra",
          "MiscTechWorkedWith/Chef",
          "NEWCollabToolsWorkedWith/Confluence",
          "MiscTechWorkedWith/Cordova",
          "DatabaseWorkedWith/Couchbase",
          "LanguageWorkedWith/Dart",
          "WebframeWorkedWith/Django",
          "PlatformWorkedWith/Docker",
          "WebframeWorkedWith/Drupal",
          "DatabaseWorkedWith/DynamoDB",
          "DatabaseWorkedWith/Elasticsearch",
          "WebframeWorkedWith/Express",
          "NEWCollabToolsWorkedWith/Facebook Workplace",
          "DatabaseWorkedWith/Firebase",
          "WebframeWorkedWith/Flask",
          "MiscTechWorkedWith/Flutter",
          "WebframeWorkedWith/Gatsby",
          "NEWCollabToolsWorkedWith/Github",
          "NEWCollabToolsWorkedWith/Gitlab",
          "LanguageWorkedWith/Go",
          "PlatformWorkedWith/Google Cloud Platform",
          "NEWCollabToolsWorkedWith/Google Suite (Docs, Meet, etc)",
          "LanguageWorkedWith/HTML/CSS",
          "MiscTechWorkedWith/Hadoop",
          "LanguageWorkedWith/Haskell",
          "PlatformWorkedWith/Heroku",
          "PlatformWorkedWith/IBM Cloud or Watson",
          "DatabaseWorkedWith/IBM DB2",
          "LanguageWorkedWith/Java",
          "LanguageWorkedWith/JavaScript",
          "NEWCollabToolsWorkedWith/Jira",
          "LanguageWorkedWith/Julia",
          "MiscTechWorkedWith/Keras",
          "LanguageWorkedWith/Kotlin",
          "PlatformWorkedWith/Kubernetes",
          "WebframeWorkedWith/Laravel",
          "PlatformWorkedWith/Linux",
          "PlatformWorkedWith/MacOS",
          "DatabaseWorkedWith/MariaDB",
          "NEWCollabToolsWorkedWith/Microsoft Azure",
          "PlatformWorkedWith/Microsoft Azure",
          "DatabaseWorkedWith/Microsoft SQL Server",
          "NEWCollabToolsWorkedWith/Microsoft Teams",
          "DatabaseWorkedWith/MongoDB",
          "DatabaseWorkedWith/MySQL",
          "MiscTechWorkedWith/Node.js",
          "LanguageWorkedWith/Objective-C",
          "DatabaseWorkedWith/Oracle",
          "LanguageWorkedWith/PHP",
          "MiscTechWorkedWith/Pandas",
          "LanguageWorkedWith/Perl",
          "DatabaseWorkedWith/PostgreSQL",
          "MiscTechWorkedWith/Puppet",
          "LanguageWorkedWith/Python",
          "LanguageWorkedWith/R",
          "PlatformWorkedWith/Raspberry Pi",
          "MiscTechWorkedWith/React Native",
          "WebframeWorkedWith/React.js",
          "DatabaseWorkedWith/Redis",
          "LanguageWorkedWith/Ruby",
          "WebframeWorkedWith/Ruby on Rails",
          "LanguageWorkedWith/Rust",
          "LanguageWorkedWith/SQL",
          "DatabaseWorkedWith/SQLite",
          "LanguageWorkedWith/Scala",
          "NEWCollabToolsWorkedWith/Slack",
          "PlatformWorkedWith/Slack Apps and Integrations",
          "WebframeWorkedWith/Spring",
          "NEWCollabToolsWorkedWith/Stack Overflow for Teams",
          "LanguageWorkedWith/Swift",
          "WebframeWorkedWith/Symfony",
          "MiscTechWorkedWith/TensorFlow",
          "MiscTechWorkedWith/Teraform",
          "MiscTechWorkedWith/Torch/PyTorch",
          "NEWCollabToolsWorkedWith/Trello",
          "LanguageWorkedWith/TypeScript",
          "MiscTechWorkedWith/Unity 3D",
          "MiscTechWorkedWith/Unreal Engine",
          "LanguageWorkedWith/VBA",
          "WebframeWorkedWith/Vue.js",
          "PlatformWorkedWith/Windows",
          "PlatformWorkedWith/WordPress",
          "MiscTechWorkedWith/Xamarin",
          "PlatformWorkedWith/iOS",
          "WebframeWorkedWith/jQuery",
          "DatabaseWorkedWith",
          "LanguageWorkedWith",
          "MiscTechWorkedWith",
          "NEWCollabToolsWorkedWith",
          "PlatformWorkedWith",
          "WebframeWorkedWith"
         ],
         "labels": [
          ".NET",
          ".NET Core",
          "ASP.NET",
          "ASP.NET Core",
          "AWS",
          "Android",
          "Angular",
          "Angular.js",
          "Ansible",
          "Apache Spark",
          "Arduino",
          "Assembly",
          "Bash/Shell/PowerShell",
          "C",
          "C#",
          "C++",
          "Cassandra",
          "Chef",
          "Confluence",
          "Cordova",
          "Couchbase",
          "Dart",
          "Django",
          "Docker",
          "Drupal",
          "DynamoDB",
          "Elasticsearch",
          "Express",
          "Facebook Workplace",
          "Firebase",
          "Flask",
          "Flutter",
          "Gatsby",
          "Github",
          "Gitlab",
          "Go",
          "Google Cloud Platform",
          "Google Suite (Docs, Meet, etc)",
          "HTML/CSS",
          "Hadoop",
          "Haskell",
          "Heroku",
          "IBM Cloud or Watson",
          "IBM DB2",
          "Java",
          "JavaScript",
          "Jira",
          "Julia",
          "Keras",
          "Kotlin",
          "Kubernetes",
          "Laravel",
          "Linux",
          "MacOS",
          "MariaDB",
          "Microsoft Azure",
          "Microsoft Azure",
          "Microsoft SQL Server",
          "Microsoft Teams",
          "MongoDB",
          "MySQL",
          "Node.js",
          "Objective-C",
          "Oracle",
          "PHP",
          "Pandas",
          "Perl",
          "PostgreSQL",
          "Puppet",
          "Python",
          "R",
          "Raspberry Pi",
          "React Native",
          "React.js",
          "Redis",
          "Ruby",
          "Ruby on Rails",
          "Rust",
          "SQL",
          "SQLite",
          "Scala",
          "Slack",
          "Slack Apps and Integrations",
          "Spring",
          "Stack Overflow for Teams",
          "Swift",
          "Symfony",
          "TensorFlow",
          "Teraform",
          "Torch/PyTorch",
          "Trello",
          "TypeScript",
          "Unity 3D",
          "Unreal Engine",
          "VBA",
          "Vue.js",
          "Windows",
          "WordPress",
          "Xamarin",
          "iOS",
          "jQuery",
          "DatabaseWorkedWith",
          "LanguageWorkedWith",
          "MiscTechWorkedWith",
          "NEWCollabToolsWorkedWith",
          "PlatformWorkedWith",
          "WebframeWorkedWith"
         ],
         "name": "",
         "parents": [
          "MiscTechWorkedWith",
          "MiscTechWorkedWith",
          "WebframeWorkedWith",
          "WebframeWorkedWith",
          "PlatformWorkedWith",
          "PlatformWorkedWith",
          "WebframeWorkedWith",
          "WebframeWorkedWith",
          "MiscTechWorkedWith",
          "MiscTechWorkedWith",
          "PlatformWorkedWith",
          "LanguageWorkedWith",
          "LanguageWorkedWith",
          "LanguageWorkedWith",
          "LanguageWorkedWith",
          "LanguageWorkedWith",
          "DatabaseWorkedWith",
          "MiscTechWorkedWith",
          "NEWCollabToolsWorkedWith",
          "MiscTechWorkedWith",
          "DatabaseWorkedWith",
          "LanguageWorkedWith",
          "WebframeWorkedWith",
          "PlatformWorkedWith",
          "WebframeWorkedWith",
          "DatabaseWorkedWith",
          "DatabaseWorkedWith",
          "WebframeWorkedWith",
          "NEWCollabToolsWorkedWith",
          "DatabaseWorkedWith",
          "WebframeWorkedWith",
          "MiscTechWorkedWith",
          "WebframeWorkedWith",
          "NEWCollabToolsWorkedWith",
          "NEWCollabToolsWorkedWith",
          "LanguageWorkedWith",
          "PlatformWorkedWith",
          "NEWCollabToolsWorkedWith",
          "LanguageWorkedWith",
          "MiscTechWorkedWith",
          "LanguageWorkedWith",
          "PlatformWorkedWith",
          "PlatformWorkedWith",
          "DatabaseWorkedWith",
          "LanguageWorkedWith",
          "LanguageWorkedWith",
          "NEWCollabToolsWorkedWith",
          "LanguageWorkedWith",
          "MiscTechWorkedWith",
          "LanguageWorkedWith",
          "PlatformWorkedWith",
          "WebframeWorkedWith",
          "PlatformWorkedWith",
          "PlatformWorkedWith",
          "DatabaseWorkedWith",
          "NEWCollabToolsWorkedWith",
          "PlatformWorkedWith",
          "DatabaseWorkedWith",
          "NEWCollabToolsWorkedWith",
          "DatabaseWorkedWith",
          "DatabaseWorkedWith",
          "MiscTechWorkedWith",
          "LanguageWorkedWith",
          "DatabaseWorkedWith",
          "LanguageWorkedWith",
          "MiscTechWorkedWith",
          "LanguageWorkedWith",
          "DatabaseWorkedWith",
          "MiscTechWorkedWith",
          "LanguageWorkedWith",
          "LanguageWorkedWith",
          "PlatformWorkedWith",
          "MiscTechWorkedWith",
          "WebframeWorkedWith",
          "DatabaseWorkedWith",
          "LanguageWorkedWith",
          "WebframeWorkedWith",
          "LanguageWorkedWith",
          "LanguageWorkedWith",
          "DatabaseWorkedWith",
          "LanguageWorkedWith",
          "NEWCollabToolsWorkedWith",
          "PlatformWorkedWith",
          "WebframeWorkedWith",
          "NEWCollabToolsWorkedWith",
          "LanguageWorkedWith",
          "WebframeWorkedWith",
          "MiscTechWorkedWith",
          "MiscTechWorkedWith",
          "MiscTechWorkedWith",
          "NEWCollabToolsWorkedWith",
          "LanguageWorkedWith",
          "MiscTechWorkedWith",
          "MiscTechWorkedWith",
          "LanguageWorkedWith",
          "WebframeWorkedWith",
          "PlatformWorkedWith",
          "PlatformWorkedWith",
          "MiscTechWorkedWith",
          "PlatformWorkedWith",
          "WebframeWorkedWith",
          "",
          "",
          "",
          "",
          "",
          ""
         ],
         "type": "treemap",
         "values": [
          14144,
          10755,
          9258,
          8082,
          14389,
          14101,
          10617,
          6826,
          2955,
          2089,
          5712,
          3553,
          18980,
          12487,
          18041,
          13707,
          1654,
          733,
          17122,
          2419,
          937,
          2280,
          6014,
          18851,
          1369,
          3497,
          6817,
          8961,
          1580,
          7128,
          6005,
          2897,
          1703,
          43786,
          19545,
          5038,
          7569,
          21952,
          36181,
          1798,
          1222,
          5974,
          876,
          1421,
          23074,
          38822,
          25222,
          519,
          2504,
          4468,
          6178,
          4680,
          29600,
          12898,
          8312,
          7849,
          7830,
          16336,
          13518,
          13086,
          27559,
          20741,
          2340,
          8155,
          15007,
          6253,
          1796,
          17892,
          945,
          25287,
          3288,
          8010,
          4626,
          15167,
          9056,
          4046,
          2944,
          2929,
          31413,
          15434,
          2052,
          28018,
          3922,
          6941,
          3057,
          3397,
          1851,
          4652,
          2518,
          1872,
          15655,
          14578,
          4413,
          1316,
          3499,
          7322,
          28595,
          7654,
          2357,
          6562,
          18316,
          137284,
          288004,
          89987,
          197304,
          178721,
          116056
         ]
        }
       ],
       "layout": {
        "height": 1000,
        "legend": {
         "tracegroupgap": 0
        },
        "template": {
         "data": {
          "bar": [
           {
            "error_x": {
             "color": "#2a3f5f"
            },
            "error_y": {
             "color": "#2a3f5f"
            },
            "marker": {
             "line": {
              "color": "#E5ECF6",
              "width": 0.5
             },
             "pattern": {
              "fillmode": "overlay",
              "size": 10,
              "solidity": 0.2
             }
            },
            "type": "bar"
           }
          ],
          "barpolar": [
           {
            "marker": {
             "line": {
              "color": "#E5ECF6",
              "width": 0.5
             },
             "pattern": {
              "fillmode": "overlay",
              "size": 10,
              "solidity": 0.2
             }
            },
            "type": "barpolar"
           }
          ],
          "carpet": [
           {
            "aaxis": {
             "endlinecolor": "#2a3f5f",
             "gridcolor": "white",
             "linecolor": "white",
             "minorgridcolor": "white",
             "startlinecolor": "#2a3f5f"
            },
            "baxis": {
             "endlinecolor": "#2a3f5f",
             "gridcolor": "white",
             "linecolor": "white",
             "minorgridcolor": "white",
             "startlinecolor": "#2a3f5f"
            },
            "type": "carpet"
           }
          ],
          "choropleth": [
           {
            "colorbar": {
             "outlinewidth": 0,
             "ticks": ""
            },
            "type": "choropleth"
           }
          ],
          "contour": [
           {
            "colorbar": {
             "outlinewidth": 0,
             "ticks": ""
            },
            "colorscale": [
             [
              0,
              "#0d0887"
             ],
             [
              0.1111111111111111,
              "#46039f"
             ],
             [
              0.2222222222222222,
              "#7201a8"
             ],
             [
              0.3333333333333333,
              "#9c179e"
             ],
             [
              0.4444444444444444,
              "#bd3786"
             ],
             [
              0.5555555555555556,
              "#d8576b"
             ],
             [
              0.6666666666666666,
              "#ed7953"
             ],
             [
              0.7777777777777778,
              "#fb9f3a"
             ],
             [
              0.8888888888888888,
              "#fdca26"
             ],
             [
              1,
              "#f0f921"
             ]
            ],
            "type": "contour"
           }
          ],
          "contourcarpet": [
           {
            "colorbar": {
             "outlinewidth": 0,
             "ticks": ""
            },
            "type": "contourcarpet"
           }
          ],
          "heatmap": [
           {
            "colorbar": {
             "outlinewidth": 0,
             "ticks": ""
            },
            "colorscale": [
             [
              0,
              "#0d0887"
             ],
             [
              0.1111111111111111,
              "#46039f"
             ],
             [
              0.2222222222222222,
              "#7201a8"
             ],
             [
              0.3333333333333333,
              "#9c179e"
             ],
             [
              0.4444444444444444,
              "#bd3786"
             ],
             [
              0.5555555555555556,
              "#d8576b"
             ],
             [
              0.6666666666666666,
              "#ed7953"
             ],
             [
              0.7777777777777778,
              "#fb9f3a"
             ],
             [
              0.8888888888888888,
              "#fdca26"
             ],
             [
              1,
              "#f0f921"
             ]
            ],
            "type": "heatmap"
           }
          ],
          "heatmapgl": [
           {
            "colorbar": {
             "outlinewidth": 0,
             "ticks": ""
            },
            "colorscale": [
             [
              0,
              "#0d0887"
             ],
             [
              0.1111111111111111,
              "#46039f"
             ],
             [
              0.2222222222222222,
              "#7201a8"
             ],
             [
              0.3333333333333333,
              "#9c179e"
             ],
             [
              0.4444444444444444,
              "#bd3786"
             ],
             [
              0.5555555555555556,
              "#d8576b"
             ],
             [
              0.6666666666666666,
              "#ed7953"
             ],
             [
              0.7777777777777778,
              "#fb9f3a"
             ],
             [
              0.8888888888888888,
              "#fdca26"
             ],
             [
              1,
              "#f0f921"
             ]
            ],
            "type": "heatmapgl"
           }
          ],
          "histogram": [
           {
            "marker": {
             "pattern": {
              "fillmode": "overlay",
              "size": 10,
              "solidity": 0.2
             }
            },
            "type": "histogram"
           }
          ],
          "histogram2d": [
           {
            "colorbar": {
             "outlinewidth": 0,
             "ticks": ""
            },
            "colorscale": [
             [
              0,
              "#0d0887"
             ],
             [
              0.1111111111111111,
              "#46039f"
             ],
             [
              0.2222222222222222,
              "#7201a8"
             ],
             [
              0.3333333333333333,
              "#9c179e"
             ],
             [
              0.4444444444444444,
              "#bd3786"
             ],
             [
              0.5555555555555556,
              "#d8576b"
             ],
             [
              0.6666666666666666,
              "#ed7953"
             ],
             [
              0.7777777777777778,
              "#fb9f3a"
             ],
             [
              0.8888888888888888,
              "#fdca26"
             ],
             [
              1,
              "#f0f921"
             ]
            ],
            "type": "histogram2d"
           }
          ],
          "histogram2dcontour": [
           {
            "colorbar": {
             "outlinewidth": 0,
             "ticks": ""
            },
            "colorscale": [
             [
              0,
              "#0d0887"
             ],
             [
              0.1111111111111111,
              "#46039f"
             ],
             [
              0.2222222222222222,
              "#7201a8"
             ],
             [
              0.3333333333333333,
              "#9c179e"
             ],
             [
              0.4444444444444444,
              "#bd3786"
             ],
             [
              0.5555555555555556,
              "#d8576b"
             ],
             [
              0.6666666666666666,
              "#ed7953"
             ],
             [
              0.7777777777777778,
              "#fb9f3a"
             ],
             [
              0.8888888888888888,
              "#fdca26"
             ],
             [
              1,
              "#f0f921"
             ]
            ],
            "type": "histogram2dcontour"
           }
          ],
          "mesh3d": [
           {
            "colorbar": {
             "outlinewidth": 0,
             "ticks": ""
            },
            "type": "mesh3d"
           }
          ],
          "parcoords": [
           {
            "line": {
             "colorbar": {
              "outlinewidth": 0,
              "ticks": ""
             }
            },
            "type": "parcoords"
           }
          ],
          "pie": [
           {
            "automargin": true,
            "type": "pie"
           }
          ],
          "scatter": [
           {
            "fillpattern": {
             "fillmode": "overlay",
             "size": 10,
             "solidity": 0.2
            },
            "type": "scatter"
           }
          ],
          "scatter3d": [
           {
            "line": {
             "colorbar": {
              "outlinewidth": 0,
              "ticks": ""
             }
            },
            "marker": {
             "colorbar": {
              "outlinewidth": 0,
              "ticks": ""
             }
            },
            "type": "scatter3d"
           }
          ],
          "scattercarpet": [
           {
            "marker": {
             "colorbar": {
              "outlinewidth": 0,
              "ticks": ""
             }
            },
            "type": "scattercarpet"
           }
          ],
          "scattergeo": [
           {
            "marker": {
             "colorbar": {
              "outlinewidth": 0,
              "ticks": ""
             }
            },
            "type": "scattergeo"
           }
          ],
          "scattergl": [
           {
            "marker": {
             "colorbar": {
              "outlinewidth": 0,
              "ticks": ""
             }
            },
            "type": "scattergl"
           }
          ],
          "scattermapbox": [
           {
            "marker": {
             "colorbar": {
              "outlinewidth": 0,
              "ticks": ""
             }
            },
            "type": "scattermapbox"
           }
          ],
          "scatterpolar": [
           {
            "marker": {
             "colorbar": {
              "outlinewidth": 0,
              "ticks": ""
             }
            },
            "type": "scatterpolar"
           }
          ],
          "scatterpolargl": [
           {
            "marker": {
             "colorbar": {
              "outlinewidth": 0,
              "ticks": ""
             }
            },
            "type": "scatterpolargl"
           }
          ],
          "scatterternary": [
           {
            "marker": {
             "colorbar": {
              "outlinewidth": 0,
              "ticks": ""
             }
            },
            "type": "scatterternary"
           }
          ],
          "surface": [
           {
            "colorbar": {
             "outlinewidth": 0,
             "ticks": ""
            },
            "colorscale": [
             [
              0,
              "#0d0887"
             ],
             [
              0.1111111111111111,
              "#46039f"
             ],
             [
              0.2222222222222222,
              "#7201a8"
             ],
             [
              0.3333333333333333,
              "#9c179e"
             ],
             [
              0.4444444444444444,
              "#bd3786"
             ],
             [
              0.5555555555555556,
              "#d8576b"
             ],
             [
              0.6666666666666666,
              "#ed7953"
             ],
             [
              0.7777777777777778,
              "#fb9f3a"
             ],
             [
              0.8888888888888888,
              "#fdca26"
             ],
             [
              1,
              "#f0f921"
             ]
            ],
            "type": "surface"
           }
          ],
          "table": [
           {
            "cells": {
             "fill": {
              "color": "#EBF0F8"
             },
             "line": {
              "color": "white"
             }
            },
            "header": {
             "fill": {
              "color": "#C8D4E3"
             },
             "line": {
              "color": "white"
             }
            },
            "type": "table"
           }
          ]
         },
         "layout": {
          "annotationdefaults": {
           "arrowcolor": "#2a3f5f",
           "arrowhead": 0,
           "arrowwidth": 1
          },
          "autotypenumbers": "strict",
          "coloraxis": {
           "colorbar": {
            "outlinewidth": 0,
            "ticks": ""
           }
          },
          "colorscale": {
           "diverging": [
            [
             0,
             "#8e0152"
            ],
            [
             0.1,
             "#c51b7d"
            ],
            [
             0.2,
             "#de77ae"
            ],
            [
             0.3,
             "#f1b6da"
            ],
            [
             0.4,
             "#fde0ef"
            ],
            [
             0.5,
             "#f7f7f7"
            ],
            [
             0.6,
             "#e6f5d0"
            ],
            [
             0.7,
             "#b8e186"
            ],
            [
             0.8,
             "#7fbc41"
            ],
            [
             0.9,
             "#4d9221"
            ],
            [
             1,
             "#276419"
            ]
           ],
           "sequential": [
            [
             0,
             "#0d0887"
            ],
            [
             0.1111111111111111,
             "#46039f"
            ],
            [
             0.2222222222222222,
             "#7201a8"
            ],
            [
             0.3333333333333333,
             "#9c179e"
            ],
            [
             0.4444444444444444,
             "#bd3786"
            ],
            [
             0.5555555555555556,
             "#d8576b"
            ],
            [
             0.6666666666666666,
             "#ed7953"
            ],
            [
             0.7777777777777778,
             "#fb9f3a"
            ],
            [
             0.8888888888888888,
             "#fdca26"
            ],
            [
             1,
             "#f0f921"
            ]
           ],
           "sequentialminus": [
            [
             0,
             "#0d0887"
            ],
            [
             0.1111111111111111,
             "#46039f"
            ],
            [
             0.2222222222222222,
             "#7201a8"
            ],
            [
             0.3333333333333333,
             "#9c179e"
            ],
            [
             0.4444444444444444,
             "#bd3786"
            ],
            [
             0.5555555555555556,
             "#d8576b"
            ],
            [
             0.6666666666666666,
             "#ed7953"
            ],
            [
             0.7777777777777778,
             "#fb9f3a"
            ],
            [
             0.8888888888888888,
             "#fdca26"
            ],
            [
             1,
             "#f0f921"
            ]
           ]
          },
          "colorway": [
           "#636efa",
           "#EF553B",
           "#00cc96",
           "#ab63fa",
           "#FFA15A",
           "#19d3f3",
           "#FF6692",
           "#B6E880",
           "#FF97FF",
           "#FECB52"
          ],
          "font": {
           "color": "#2a3f5f"
          },
          "geo": {
           "bgcolor": "white",
           "lakecolor": "white",
           "landcolor": "#E5ECF6",
           "showlakes": true,
           "showland": true,
           "subunitcolor": "white"
          },
          "hoverlabel": {
           "align": "left"
          },
          "hovermode": "closest",
          "mapbox": {
           "style": "light"
          },
          "paper_bgcolor": "white",
          "plot_bgcolor": "#E5ECF6",
          "polar": {
           "angularaxis": {
            "gridcolor": "white",
            "linecolor": "white",
            "ticks": ""
           },
           "bgcolor": "#E5ECF6",
           "radialaxis": {
            "gridcolor": "white",
            "linecolor": "white",
            "ticks": ""
           }
          },
          "scene": {
           "xaxis": {
            "backgroundcolor": "#E5ECF6",
            "gridcolor": "white",
            "gridwidth": 2,
            "linecolor": "white",
            "showbackground": true,
            "ticks": "",
            "zerolinecolor": "white"
           },
           "yaxis": {
            "backgroundcolor": "#E5ECF6",
            "gridcolor": "white",
            "gridwidth": 2,
            "linecolor": "white",
            "showbackground": true,
            "ticks": "",
            "zerolinecolor": "white"
           },
           "zaxis": {
            "backgroundcolor": "#E5ECF6",
            "gridcolor": "white",
            "gridwidth": 2,
            "linecolor": "white",
            "showbackground": true,
            "ticks": "",
            "zerolinecolor": "white"
           }
          },
          "shapedefaults": {
           "line": {
            "color": "#2a3f5f"
           }
          },
          "ternary": {
           "aaxis": {
            "gridcolor": "white",
            "linecolor": "white",
            "ticks": ""
           },
           "baxis": {
            "gridcolor": "white",
            "linecolor": "white",
            "ticks": ""
           },
           "bgcolor": "#E5ECF6",
           "caxis": {
            "gridcolor": "white",
            "linecolor": "white",
            "ticks": ""
           }
          },
          "title": {
           "x": 0.05
          },
          "xaxis": {
           "automargin": true,
           "gridcolor": "white",
           "linecolor": "white",
           "ticks": "",
           "title": {
            "standoff": 15
           },
           "zerolinecolor": "white",
           "zerolinewidth": 2
          },
          "yaxis": {
           "automargin": true,
           "gridcolor": "white",
           "linecolor": "white",
           "ticks": "",
           "title": {
            "standoff": 15
           },
           "zerolinecolor": "white",
           "zerolinewidth": 2
          }
         }
        },
        "title": {
         "text": "skills"
        },
        "width": 1000
       }
      }
     },
     "metadata": {},
     "output_type": "display_data"
    }
   ],
   "source": [
    "skill = df.copy().drop(columns=['DevType']).sum().sort_values(ascending=False).reset_index()\n",
    "skill.columns = ['group','skill','count']\n",
    "px.treemap(skill,path=['group','skill'],values='count',title='skills',width=1000,height=1000)\n",
    "#skill"
   ]
  },
  {
   "cell_type": "code",
   "execution_count": null,
   "metadata": {},
   "outputs": [
    {
     "data": {
      "application/vnd.plotly.v1+json": {
       "config": {
        "plotlyServerURL": "https://plot.ly"
       },
       "data": [
        {
         "branchvalues": "total",
         "domain": {
          "x": [
           0,
           1
          ],
          "y": [
           0,
           1
          ]
         },
         "hovertemplate": "labels=%{label}<br>count=%{value}<br>parent=%{parent}<br>id=%{id}<extra></extra>",
         "ids": [
          "Academic researcher",
          "Data or business analyst",
          "Data scientist or machine learning specialist",
          "Database administrator",
          "Designer",
          "DevOps specialist",
          "Developer, QA or test",
          "Developer, back-end",
          "Developer, desktop or enterprise applications",
          "Developer, embedded applications or devices",
          "Developer, front-end",
          "Developer, full-stack",
          "Developer, game or graphics",
          "Developer, mobile",
          "Educator",
          "Engineer, data",
          "Engineer, site reliability",
          "Engineering manager",
          "Marketing or sales professional",
          "Product manager",
          "Scientist",
          "Senior executive/VP",
          "System administrator"
         ],
         "labels": [
          "Academic researcher",
          "Data or business analyst",
          "Data scientist or machine learning specialist",
          "Database administrator",
          "Designer",
          "DevOps specialist",
          "Developer, QA or test",
          "Developer, back-end",
          "Developer, desktop or enterprise applications",
          "Developer, embedded applications or devices",
          "Developer, front-end",
          "Developer, full-stack",
          "Developer, game or graphics",
          "Developer, mobile",
          "Educator",
          "Engineer, data",
          "Engineer, site reliability",
          "Engineering manager",
          "Marketing or sales professional",
          "Product manager",
          "Scientist",
          "Senior executive/VP",
          "System administrator"
         ],
         "name": "",
         "parents": [
          "",
          "",
          "",
          "",
          "",
          "",
          "",
          "",
          "",
          "",
          "",
          "",
          "",
          "",
          "",
          "",
          "",
          "",
          "",
          "",
          "",
          "",
          ""
         ],
         "type": "treemap",
         "values": [
          3552,
          4024,
          3988,
          5722,
          5321,
          5969,
          3947,
          27228,
          11784,
          4750,
          18296,
          27125,
          2789,
          9482,
          2928,
          3738,
          1940,
          2724,
          642,
          2497,
          2086,
          1320,
          5242
         ]
        }
       ],
       "layout": {
        "height": 1000,
        "legend": {
         "tracegroupgap": 0
        },
        "template": {
         "data": {
          "bar": [
           {
            "error_x": {
             "color": "#2a3f5f"
            },
            "error_y": {
             "color": "#2a3f5f"
            },
            "marker": {
             "line": {
              "color": "#E5ECF6",
              "width": 0.5
             },
             "pattern": {
              "fillmode": "overlay",
              "size": 10,
              "solidity": 0.2
             }
            },
            "type": "bar"
           }
          ],
          "barpolar": [
           {
            "marker": {
             "line": {
              "color": "#E5ECF6",
              "width": 0.5
             },
             "pattern": {
              "fillmode": "overlay",
              "size": 10,
              "solidity": 0.2
             }
            },
            "type": "barpolar"
           }
          ],
          "carpet": [
           {
            "aaxis": {
             "endlinecolor": "#2a3f5f",
             "gridcolor": "white",
             "linecolor": "white",
             "minorgridcolor": "white",
             "startlinecolor": "#2a3f5f"
            },
            "baxis": {
             "endlinecolor": "#2a3f5f",
             "gridcolor": "white",
             "linecolor": "white",
             "minorgridcolor": "white",
             "startlinecolor": "#2a3f5f"
            },
            "type": "carpet"
           }
          ],
          "choropleth": [
           {
            "colorbar": {
             "outlinewidth": 0,
             "ticks": ""
            },
            "type": "choropleth"
           }
          ],
          "contour": [
           {
            "colorbar": {
             "outlinewidth": 0,
             "ticks": ""
            },
            "colorscale": [
             [
              0,
              "#0d0887"
             ],
             [
              0.1111111111111111,
              "#46039f"
             ],
             [
              0.2222222222222222,
              "#7201a8"
             ],
             [
              0.3333333333333333,
              "#9c179e"
             ],
             [
              0.4444444444444444,
              "#bd3786"
             ],
             [
              0.5555555555555556,
              "#d8576b"
             ],
             [
              0.6666666666666666,
              "#ed7953"
             ],
             [
              0.7777777777777778,
              "#fb9f3a"
             ],
             [
              0.8888888888888888,
              "#fdca26"
             ],
             [
              1,
              "#f0f921"
             ]
            ],
            "type": "contour"
           }
          ],
          "contourcarpet": [
           {
            "colorbar": {
             "outlinewidth": 0,
             "ticks": ""
            },
            "type": "contourcarpet"
           }
          ],
          "heatmap": [
           {
            "colorbar": {
             "outlinewidth": 0,
             "ticks": ""
            },
            "colorscale": [
             [
              0,
              "#0d0887"
             ],
             [
              0.1111111111111111,
              "#46039f"
             ],
             [
              0.2222222222222222,
              "#7201a8"
             ],
             [
              0.3333333333333333,
              "#9c179e"
             ],
             [
              0.4444444444444444,
              "#bd3786"
             ],
             [
              0.5555555555555556,
              "#d8576b"
             ],
             [
              0.6666666666666666,
              "#ed7953"
             ],
             [
              0.7777777777777778,
              "#fb9f3a"
             ],
             [
              0.8888888888888888,
              "#fdca26"
             ],
             [
              1,
              "#f0f921"
             ]
            ],
            "type": "heatmap"
           }
          ],
          "heatmapgl": [
           {
            "colorbar": {
             "outlinewidth": 0,
             "ticks": ""
            },
            "colorscale": [
             [
              0,
              "#0d0887"
             ],
             [
              0.1111111111111111,
              "#46039f"
             ],
             [
              0.2222222222222222,
              "#7201a8"
             ],
             [
              0.3333333333333333,
              "#9c179e"
             ],
             [
              0.4444444444444444,
              "#bd3786"
             ],
             [
              0.5555555555555556,
              "#d8576b"
             ],
             [
              0.6666666666666666,
              "#ed7953"
             ],
             [
              0.7777777777777778,
              "#fb9f3a"
             ],
             [
              0.8888888888888888,
              "#fdca26"
             ],
             [
              1,
              "#f0f921"
             ]
            ],
            "type": "heatmapgl"
           }
          ],
          "histogram": [
           {
            "marker": {
             "pattern": {
              "fillmode": "overlay",
              "size": 10,
              "solidity": 0.2
             }
            },
            "type": "histogram"
           }
          ],
          "histogram2d": [
           {
            "colorbar": {
             "outlinewidth": 0,
             "ticks": ""
            },
            "colorscale": [
             [
              0,
              "#0d0887"
             ],
             [
              0.1111111111111111,
              "#46039f"
             ],
             [
              0.2222222222222222,
              "#7201a8"
             ],
             [
              0.3333333333333333,
              "#9c179e"
             ],
             [
              0.4444444444444444,
              "#bd3786"
             ],
             [
              0.5555555555555556,
              "#d8576b"
             ],
             [
              0.6666666666666666,
              "#ed7953"
             ],
             [
              0.7777777777777778,
              "#fb9f3a"
             ],
             [
              0.8888888888888888,
              "#fdca26"
             ],
             [
              1,
              "#f0f921"
             ]
            ],
            "type": "histogram2d"
           }
          ],
          "histogram2dcontour": [
           {
            "colorbar": {
             "outlinewidth": 0,
             "ticks": ""
            },
            "colorscale": [
             [
              0,
              "#0d0887"
             ],
             [
              0.1111111111111111,
              "#46039f"
             ],
             [
              0.2222222222222222,
              "#7201a8"
             ],
             [
              0.3333333333333333,
              "#9c179e"
             ],
             [
              0.4444444444444444,
              "#bd3786"
             ],
             [
              0.5555555555555556,
              "#d8576b"
             ],
             [
              0.6666666666666666,
              "#ed7953"
             ],
             [
              0.7777777777777778,
              "#fb9f3a"
             ],
             [
              0.8888888888888888,
              "#fdca26"
             ],
             [
              1,
              "#f0f921"
             ]
            ],
            "type": "histogram2dcontour"
           }
          ],
          "mesh3d": [
           {
            "colorbar": {
             "outlinewidth": 0,
             "ticks": ""
            },
            "type": "mesh3d"
           }
          ],
          "parcoords": [
           {
            "line": {
             "colorbar": {
              "outlinewidth": 0,
              "ticks": ""
             }
            },
            "type": "parcoords"
           }
          ],
          "pie": [
           {
            "automargin": true,
            "type": "pie"
           }
          ],
          "scatter": [
           {
            "fillpattern": {
             "fillmode": "overlay",
             "size": 10,
             "solidity": 0.2
            },
            "type": "scatter"
           }
          ],
          "scatter3d": [
           {
            "line": {
             "colorbar": {
              "outlinewidth": 0,
              "ticks": ""
             }
            },
            "marker": {
             "colorbar": {
              "outlinewidth": 0,
              "ticks": ""
             }
            },
            "type": "scatter3d"
           }
          ],
          "scattercarpet": [
           {
            "marker": {
             "colorbar": {
              "outlinewidth": 0,
              "ticks": ""
             }
            },
            "type": "scattercarpet"
           }
          ],
          "scattergeo": [
           {
            "marker": {
             "colorbar": {
              "outlinewidth": 0,
              "ticks": ""
             }
            },
            "type": "scattergeo"
           }
          ],
          "scattergl": [
           {
            "marker": {
             "colorbar": {
              "outlinewidth": 0,
              "ticks": ""
             }
            },
            "type": "scattergl"
           }
          ],
          "scattermapbox": [
           {
            "marker": {
             "colorbar": {
              "outlinewidth": 0,
              "ticks": ""
             }
            },
            "type": "scattermapbox"
           }
          ],
          "scatterpolar": [
           {
            "marker": {
             "colorbar": {
              "outlinewidth": 0,
              "ticks": ""
             }
            },
            "type": "scatterpolar"
           }
          ],
          "scatterpolargl": [
           {
            "marker": {
             "colorbar": {
              "outlinewidth": 0,
              "ticks": ""
             }
            },
            "type": "scatterpolargl"
           }
          ],
          "scatterternary": [
           {
            "marker": {
             "colorbar": {
              "outlinewidth": 0,
              "ticks": ""
             }
            },
            "type": "scatterternary"
           }
          ],
          "surface": [
           {
            "colorbar": {
             "outlinewidth": 0,
             "ticks": ""
            },
            "colorscale": [
             [
              0,
              "#0d0887"
             ],
             [
              0.1111111111111111,
              "#46039f"
             ],
             [
              0.2222222222222222,
              "#7201a8"
             ],
             [
              0.3333333333333333,
              "#9c179e"
             ],
             [
              0.4444444444444444,
              "#bd3786"
             ],
             [
              0.5555555555555556,
              "#d8576b"
             ],
             [
              0.6666666666666666,
              "#ed7953"
             ],
             [
              0.7777777777777778,
              "#fb9f3a"
             ],
             [
              0.8888888888888888,
              "#fdca26"
             ],
             [
              1,
              "#f0f921"
             ]
            ],
            "type": "surface"
           }
          ],
          "table": [
           {
            "cells": {
             "fill": {
              "color": "#EBF0F8"
             },
             "line": {
              "color": "white"
             }
            },
            "header": {
             "fill": {
              "color": "#C8D4E3"
             },
             "line": {
              "color": "white"
             }
            },
            "type": "table"
           }
          ]
         },
         "layout": {
          "annotationdefaults": {
           "arrowcolor": "#2a3f5f",
           "arrowhead": 0,
           "arrowwidth": 1
          },
          "autotypenumbers": "strict",
          "coloraxis": {
           "colorbar": {
            "outlinewidth": 0,
            "ticks": ""
           }
          },
          "colorscale": {
           "diverging": [
            [
             0,
             "#8e0152"
            ],
            [
             0.1,
             "#c51b7d"
            ],
            [
             0.2,
             "#de77ae"
            ],
            [
             0.3,
             "#f1b6da"
            ],
            [
             0.4,
             "#fde0ef"
            ],
            [
             0.5,
             "#f7f7f7"
            ],
            [
             0.6,
             "#e6f5d0"
            ],
            [
             0.7,
             "#b8e186"
            ],
            [
             0.8,
             "#7fbc41"
            ],
            [
             0.9,
             "#4d9221"
            ],
            [
             1,
             "#276419"
            ]
           ],
           "sequential": [
            [
             0,
             "#0d0887"
            ],
            [
             0.1111111111111111,
             "#46039f"
            ],
            [
             0.2222222222222222,
             "#7201a8"
            ],
            [
             0.3333333333333333,
             "#9c179e"
            ],
            [
             0.4444444444444444,
             "#bd3786"
            ],
            [
             0.5555555555555556,
             "#d8576b"
            ],
            [
             0.6666666666666666,
             "#ed7953"
            ],
            [
             0.7777777777777778,
             "#fb9f3a"
            ],
            [
             0.8888888888888888,
             "#fdca26"
            ],
            [
             1,
             "#f0f921"
            ]
           ],
           "sequentialminus": [
            [
             0,
             "#0d0887"
            ],
            [
             0.1111111111111111,
             "#46039f"
            ],
            [
             0.2222222222222222,
             "#7201a8"
            ],
            [
             0.3333333333333333,
             "#9c179e"
            ],
            [
             0.4444444444444444,
             "#bd3786"
            ],
            [
             0.5555555555555556,
             "#d8576b"
            ],
            [
             0.6666666666666666,
             "#ed7953"
            ],
            [
             0.7777777777777778,
             "#fb9f3a"
            ],
            [
             0.8888888888888888,
             "#fdca26"
            ],
            [
             1,
             "#f0f921"
            ]
           ]
          },
          "colorway": [
           "#636efa",
           "#EF553B",
           "#00cc96",
           "#ab63fa",
           "#FFA15A",
           "#19d3f3",
           "#FF6692",
           "#B6E880",
           "#FF97FF",
           "#FECB52"
          ],
          "font": {
           "color": "#2a3f5f"
          },
          "geo": {
           "bgcolor": "white",
           "lakecolor": "white",
           "landcolor": "#E5ECF6",
           "showlakes": true,
           "showland": true,
           "subunitcolor": "white"
          },
          "hoverlabel": {
           "align": "left"
          },
          "hovermode": "closest",
          "mapbox": {
           "style": "light"
          },
          "paper_bgcolor": "white",
          "plot_bgcolor": "#E5ECF6",
          "polar": {
           "angularaxis": {
            "gridcolor": "white",
            "linecolor": "white",
            "ticks": ""
           },
           "bgcolor": "#E5ECF6",
           "radialaxis": {
            "gridcolor": "white",
            "linecolor": "white",
            "ticks": ""
           }
          },
          "scene": {
           "xaxis": {
            "backgroundcolor": "#E5ECF6",
            "gridcolor": "white",
            "gridwidth": 2,
            "linecolor": "white",
            "showbackground": true,
            "ticks": "",
            "zerolinecolor": "white"
           },
           "yaxis": {
            "backgroundcolor": "#E5ECF6",
            "gridcolor": "white",
            "gridwidth": 2,
            "linecolor": "white",
            "showbackground": true,
            "ticks": "",
            "zerolinecolor": "white"
           },
           "zaxis": {
            "backgroundcolor": "#E5ECF6",
            "gridcolor": "white",
            "gridwidth": 2,
            "linecolor": "white",
            "showbackground": true,
            "ticks": "",
            "zerolinecolor": "white"
           }
          },
          "shapedefaults": {
           "line": {
            "color": "#2a3f5f"
           }
          },
          "ternary": {
           "aaxis": {
            "gridcolor": "white",
            "linecolor": "white",
            "ticks": ""
           },
           "baxis": {
            "gridcolor": "white",
            "linecolor": "white",
            "ticks": ""
           },
           "bgcolor": "#E5ECF6",
           "caxis": {
            "gridcolor": "white",
            "linecolor": "white",
            "ticks": ""
           }
          },
          "title": {
           "x": 0.05
          },
          "xaxis": {
           "automargin": true,
           "gridcolor": "white",
           "linecolor": "white",
           "ticks": "",
           "title": {
            "standoff": 15
           },
           "zerolinecolor": "white",
           "zerolinewidth": 2
          },
          "yaxis": {
           "automargin": true,
           "gridcolor": "white",
           "linecolor": "white",
           "ticks": "",
           "title": {
            "standoff": 15
           },
           "zerolinecolor": "white",
           "zerolinewidth": 2
          }
         }
        },
        "title": {
         "text": "jobs"
        },
        "width": 1000
       }
      }
     },
     "metadata": {},
     "output_type": "display_data"
    }
   ],
   "source": [
    "jobs_freq = df['DevType'].sum().reset_index()\n",
    "jobs_freq.columns = ['job','count']\n",
    "\n",
    "px.treemap(jobs_freq,path=['job'],values='count',title='jobs',width=1000,height=1000)"
   ]
  },
  {
   "cell_type": "code",
   "execution_count": null,
   "metadata": {},
   "outputs": [
    {
     "data": {
      "text/plain": [
       "['JavaScript',\n",
       " 'HTML/CSS',\n",
       " 'SQL',\n",
       " 'Python',\n",
       " 'Java',\n",
       " 'Bash/Shell/PowerShell',\n",
       " 'C#',\n",
       " 'PHP',\n",
       " 'TypeScript',\n",
       " 'C++',\n",
       " 'C',\n",
       " 'Go',\n",
       " 'Kotlin',\n",
       " 'Ruby',\n",
       " 'Assembly',\n",
       " 'VBA',\n",
       " 'Swift',\n",
       " 'R',\n",
       " 'Rust',\n",
       " 'Objective-C',\n",
       " 'Dart',\n",
       " 'Scala',\n",
       " 'Perl',\n",
       " 'Haskell',\n",
       " 'Julia']"
      ]
     },
     "execution_count": 17,
     "metadata": {},
     "output_type": "execute_result"
    }
   ],
   "source": [
    "sorted_roles = df['LanguageWorkedWith'].sum().sort_values(ascending=False).index.tolist()\n",
    "\n",
    "sorted_roles"
   ]
  },
  {
   "cell_type": "code",
   "execution_count": null,
   "metadata": {},
   "outputs": [
    {
     "data": {
      "text/plain": [
       "['Developer, back-end',\n",
       " 'Developer, full-stack',\n",
       " 'Developer, front-end',\n",
       " 'Developer, desktop or enterprise applications',\n",
       " 'Developer, mobile',\n",
       " 'DevOps specialist',\n",
       " 'Database administrator',\n",
       " 'Designer',\n",
       " 'System administrator',\n",
       " 'Developer, embedded applications or devices',\n",
       " 'Data or business analyst',\n",
       " 'Data scientist or machine learning specialist',\n",
       " 'Developer, QA or test',\n",
       " 'Engineer, data',\n",
       " 'Academic researcher',\n",
       " 'Educator',\n",
       " 'Developer, game or graphics',\n",
       " 'Engineering manager',\n",
       " 'Product manager',\n",
       " 'Scientist',\n",
       " 'Engineer, site reliability',\n",
       " 'Senior executive/VP',\n",
       " 'Marketing or sales professional']"
      ]
     },
     "execution_count": 18,
     "metadata": {},
     "output_type": "execute_result"
    }
   ],
   "source": [
    "sorted_roles = df['DevType'].sum().sort_values(ascending=False).index.tolist()\n",
    "sorted_roles"
   ]
  },
  {
   "cell_type": "code",
   "execution_count": null,
   "metadata": {},
   "outputs": [
    {
     "data": {
      "text/html": [
       "<div>\n",
       "<style scoped>\n",
       "    .dataframe tbody tr th:only-of-type {\n",
       "        vertical-align: middle;\n",
       "    }\n",
       "\n",
       "    .dataframe tbody tr th {\n",
       "        vertical-align: top;\n",
       "    }\n",
       "\n",
       "    .dataframe thead th {\n",
       "        text-align: right;\n",
       "    }\n",
       "</style>\n",
       "<table border=\"1\" class=\"dataframe\">\n",
       "  <thead>\n",
       "    <tr style=\"text-align: right;\">\n",
       "      <th></th>\n",
       "      <th>Assembly</th>\n",
       "      <th>Bash/Shell/PowerShell</th>\n",
       "      <th>C</th>\n",
       "      <th>C#</th>\n",
       "      <th>C++</th>\n",
       "      <th>Dart</th>\n",
       "      <th>Go</th>\n",
       "      <th>HTML/CSS</th>\n",
       "      <th>Haskell</th>\n",
       "      <th>Java</th>\n",
       "      <th>...</th>\n",
       "      <th>Facebook Workplace</th>\n",
       "      <th>Github</th>\n",
       "      <th>Gitlab</th>\n",
       "      <th>Google Suite (Docs, Meet, etc)</th>\n",
       "      <th>Jira</th>\n",
       "      <th>Microsoft Azure</th>\n",
       "      <th>Microsoft Teams</th>\n",
       "      <th>Slack</th>\n",
       "      <th>Stack Overflow for Teams</th>\n",
       "      <th>Trello</th>\n",
       "    </tr>\n",
       "  </thead>\n",
       "  <tbody>\n",
       "    <tr>\n",
       "      <th>Developer, back-end</th>\n",
       "      <td>4.745115</td>\n",
       "      <td>35.713236</td>\n",
       "      <td>17.173498</td>\n",
       "      <td>34.023799</td>\n",
       "      <td>19.244895</td>\n",
       "      <td>3.404584</td>\n",
       "      <td>11.146614</td>\n",
       "      <td>61.389011</td>\n",
       "      <td>2.001616</td>\n",
       "      <td>39.848685</td>\n",
       "      <td>...</td>\n",
       "      <td>2.754517</td>\n",
       "      <td>74.294844</td>\n",
       "      <td>36.785662</td>\n",
       "      <td>38.739533</td>\n",
       "      <td>49.911855</td>\n",
       "      <td>16.068018</td>\n",
       "      <td>25.672102</td>\n",
       "      <td>51.722492</td>\n",
       "      <td>4.976495</td>\n",
       "      <td>28.356839</td>\n",
       "    </tr>\n",
       "    <tr>\n",
       "      <th>Developer, full-stack</th>\n",
       "      <td>3.845161</td>\n",
       "      <td>33.500461</td>\n",
       "      <td>14.422120</td>\n",
       "      <td>36.376037</td>\n",
       "      <td>16.250691</td>\n",
       "      <td>3.911521</td>\n",
       "      <td>9.209217</td>\n",
       "      <td>73.784332</td>\n",
       "      <td>1.692166</td>\n",
       "      <td>36.781567</td>\n",
       "      <td>...</td>\n",
       "      <td>2.573272</td>\n",
       "      <td>75.395392</td>\n",
       "      <td>35.520737</td>\n",
       "      <td>39.347465</td>\n",
       "      <td>48.247005</td>\n",
       "      <td>17.518894</td>\n",
       "      <td>26.654378</td>\n",
       "      <td>52.733641</td>\n",
       "      <td>4.925346</td>\n",
       "      <td>30.348387</td>\n",
       "    </tr>\n",
       "    <tr>\n",
       "      <th>Developer, front-end</th>\n",
       "      <td>3.973546</td>\n",
       "      <td>29.334281</td>\n",
       "      <td>14.675339</td>\n",
       "      <td>33.542851</td>\n",
       "      <td>16.047223</td>\n",
       "      <td>4.394403</td>\n",
       "      <td>7.542632</td>\n",
       "      <td>78.312199</td>\n",
       "      <td>1.617840</td>\n",
       "      <td>33.728684</td>\n",
       "      <td>...</td>\n",
       "      <td>3.027984</td>\n",
       "      <td>75.726935</td>\n",
       "      <td>35.417578</td>\n",
       "      <td>39.713599</td>\n",
       "      <td>45.917140</td>\n",
       "      <td>15.954307</td>\n",
       "      <td>25.087451</td>\n",
       "      <td>51.470267</td>\n",
       "      <td>5.667906</td>\n",
       "      <td>31.351115</td>\n",
       "    </tr>\n",
       "    <tr>\n",
       "      <th>Developer, desktop or enterprise applications</th>\n",
       "      <td>6.737950</td>\n",
       "      <td>36.210115</td>\n",
       "      <td>22.878479</td>\n",
       "      <td>51.332315</td>\n",
       "      <td>28.131365</td>\n",
       "      <td>3.699932</td>\n",
       "      <td>7.909029</td>\n",
       "      <td>61.311948</td>\n",
       "      <td>1.849966</td>\n",
       "      <td>40.733198</td>\n",
       "      <td>...</td>\n",
       "      <td>2.528853</td>\n",
       "      <td>69.730143</td>\n",
       "      <td>32.569586</td>\n",
       "      <td>32.569586</td>\n",
       "      <td>45.239308</td>\n",
       "      <td>21.987441</td>\n",
       "      <td>32.739308</td>\n",
       "      <td>41.352682</td>\n",
       "      <td>4.981331</td>\n",
       "      <td>24.151392</td>\n",
       "    </tr>\n",
       "    <tr>\n",
       "      <th>Developer, mobile</th>\n",
       "      <td>5.357520</td>\n",
       "      <td>26.323560</td>\n",
       "      <td>19.521198</td>\n",
       "      <td>34.096182</td>\n",
       "      <td>22.516347</td>\n",
       "      <td>11.273993</td>\n",
       "      <td>7.403501</td>\n",
       "      <td>60.693946</td>\n",
       "      <td>1.497574</td>\n",
       "      <td>49.441046</td>\n",
       "      <td>...</td>\n",
       "      <td>3.680658</td>\n",
       "      <td>77.747311</td>\n",
       "      <td>36.753849</td>\n",
       "      <td>41.056739</td>\n",
       "      <td>45.074879</td>\n",
       "      <td>15.819447</td>\n",
       "      <td>22.463615</td>\n",
       "      <td>52.710399</td>\n",
       "      <td>6.580890</td>\n",
       "      <td>34.454756</td>\n",
       "    </tr>\n",
       "    <tr>\n",
       "      <th>DevOps specialist</th>\n",
       "      <td>5.327526</td>\n",
       "      <td>58.686547</td>\n",
       "      <td>17.574133</td>\n",
       "      <td>35.131513</td>\n",
       "      <td>18.261015</td>\n",
       "      <td>3.769476</td>\n",
       "      <td>19.919585</td>\n",
       "      <td>62.707321</td>\n",
       "      <td>2.479477</td>\n",
       "      <td>38.431898</td>\n",
       "      <td>...</td>\n",
       "      <td>3.451164</td>\n",
       "      <td>77.734964</td>\n",
       "      <td>43.910203</td>\n",
       "      <td>44.429553</td>\n",
       "      <td>59.038365</td>\n",
       "      <td>24.593734</td>\n",
       "      <td>32.819568</td>\n",
       "      <td>59.189144</td>\n",
       "      <td>4.657397</td>\n",
       "      <td>30.859440</td>\n",
       "    </tr>\n",
       "    <tr>\n",
       "      <th>Database administrator</th>\n",
       "      <td>6.850751</td>\n",
       "      <td>43.411395</td>\n",
       "      <td>19.189095</td>\n",
       "      <td>40.387976</td>\n",
       "      <td>20.447396</td>\n",
       "      <td>4.229290</td>\n",
       "      <td>10.013981</td>\n",
       "      <td>73.068857</td>\n",
       "      <td>2.009787</td>\n",
       "      <td>35.040196</td>\n",
       "      <td>...</td>\n",
       "      <td>3.005942</td>\n",
       "      <td>71.268787</td>\n",
       "      <td>33.974135</td>\n",
       "      <td>40.055925</td>\n",
       "      <td>37.172317</td>\n",
       "      <td>18.472562</td>\n",
       "      <td>26.476756</td>\n",
       "      <td>43.778399</td>\n",
       "      <td>6.308983</td>\n",
       "      <td>27.962251</td>\n",
       "    </tr>\n",
       "    <tr>\n",
       "      <th>Designer</th>\n",
       "      <td>7.028754</td>\n",
       "      <td>30.182297</td>\n",
       "      <td>22.533358</td>\n",
       "      <td>35.087390</td>\n",
       "      <td>24.130802</td>\n",
       "      <td>4.961473</td>\n",
       "      <td>6.558917</td>\n",
       "      <td>74.873144</td>\n",
       "      <td>1.935726</td>\n",
       "      <td>35.895508</td>\n",
       "      <td>...</td>\n",
       "      <td>3.476790</td>\n",
       "      <td>72.486375</td>\n",
       "      <td>31.685773</td>\n",
       "      <td>39.297125</td>\n",
       "      <td>34.636347</td>\n",
       "      <td>15.354257</td>\n",
       "      <td>24.018042</td>\n",
       "      <td>42.022176</td>\n",
       "      <td>8.024807</td>\n",
       "      <td>28.791581</td>\n",
       "    </tr>\n",
       "    <tr>\n",
       "      <th>System administrator</th>\n",
       "      <td>8.393743</td>\n",
       "      <td>54.940862</td>\n",
       "      <td>23.998474</td>\n",
       "      <td>31.896223</td>\n",
       "      <td>23.616940</td>\n",
       "      <td>4.101488</td>\n",
       "      <td>13.964136</td>\n",
       "      <td>69.496375</td>\n",
       "      <td>2.708890</td>\n",
       "      <td>35.806944</td>\n",
       "      <td>...</td>\n",
       "      <td>2.918733</td>\n",
       "      <td>73.636017</td>\n",
       "      <td>40.061045</td>\n",
       "      <td>43.132392</td>\n",
       "      <td>39.813048</td>\n",
       "      <td>16.081648</td>\n",
       "      <td>24.780618</td>\n",
       "      <td>46.375429</td>\n",
       "      <td>5.188859</td>\n",
       "      <td>28.462419</td>\n",
       "    </tr>\n",
       "    <tr>\n",
       "      <th>Developer, embedded applications or devices</th>\n",
       "      <td>15.389474</td>\n",
       "      <td>43.978947</td>\n",
       "      <td>47.894737</td>\n",
       "      <td>38.336842</td>\n",
       "      <td>47.473684</td>\n",
       "      <td>5.663158</td>\n",
       "      <td>10.778947</td>\n",
       "      <td>54.105263</td>\n",
       "      <td>2.863158</td>\n",
       "      <td>39.831579</td>\n",
       "      <td>...</td>\n",
       "      <td>3.347368</td>\n",
       "      <td>72.968421</td>\n",
       "      <td>38.315789</td>\n",
       "      <td>37.052632</td>\n",
       "      <td>46.147368</td>\n",
       "      <td>16.673684</td>\n",
       "      <td>27.663158</td>\n",
       "      <td>42.589474</td>\n",
       "      <td>6.273684</td>\n",
       "      <td>24.315789</td>\n",
       "    </tr>\n",
       "    <tr>\n",
       "      <th>Data or business analyst</th>\n",
       "      <td>5.839960</td>\n",
       "      <td>34.691849</td>\n",
       "      <td>17.544732</td>\n",
       "      <td>31.635189</td>\n",
       "      <td>18.961233</td>\n",
       "      <td>3.156064</td>\n",
       "      <td>6.312127</td>\n",
       "      <td>58.971173</td>\n",
       "      <td>2.360835</td>\n",
       "      <td>31.088469</td>\n",
       "      <td>...</td>\n",
       "      <td>4.373757</td>\n",
       "      <td>67.992048</td>\n",
       "      <td>27.186879</td>\n",
       "      <td>38.071571</td>\n",
       "      <td>36.978131</td>\n",
       "      <td>17.395626</td>\n",
       "      <td>29.274354</td>\n",
       "      <td>40.879722</td>\n",
       "      <td>6.361829</td>\n",
       "      <td>25.074553</td>\n",
       "    </tr>\n",
       "    <tr>\n",
       "      <th>Data scientist or machine learning specialist</th>\n",
       "      <td>7.522568</td>\n",
       "      <td>39.568706</td>\n",
       "      <td>25.050150</td>\n",
       "      <td>21.339017</td>\n",
       "      <td>29.789368</td>\n",
       "      <td>3.360080</td>\n",
       "      <td>9.553661</td>\n",
       "      <td>48.244734</td>\n",
       "      <td>3.660983</td>\n",
       "      <td>35.055165</td>\n",
       "      <td>...</td>\n",
       "      <td>4.037111</td>\n",
       "      <td>78.059178</td>\n",
       "      <td>36.183551</td>\n",
       "      <td>43.756269</td>\n",
       "      <td>40.847543</td>\n",
       "      <td>14.543631</td>\n",
       "      <td>24.373119</td>\n",
       "      <td>51.078235</td>\n",
       "      <td>7.246740</td>\n",
       "      <td>26.705115</td>\n",
       "    </tr>\n",
       "    <tr>\n",
       "      <th>Developer, QA or test</th>\n",
       "      <td>6.865974</td>\n",
       "      <td>42.386623</td>\n",
       "      <td>21.560679</td>\n",
       "      <td>38.358247</td>\n",
       "      <td>23.435521</td>\n",
       "      <td>4.155054</td>\n",
       "      <td>10.134279</td>\n",
       "      <td>67.240942</td>\n",
       "      <td>2.280213</td>\n",
       "      <td>43.374715</td>\n",
       "      <td>...</td>\n",
       "      <td>3.724348</td>\n",
       "      <td>74.790980</td>\n",
       "      <td>37.927540</td>\n",
       "      <td>42.715987</td>\n",
       "      <td>53.255637</td>\n",
       "      <td>18.520395</td>\n",
       "      <td>29.592095</td>\n",
       "      <td>51.330124</td>\n",
       "      <td>7.246010</td>\n",
       "      <td>29.820117</td>\n",
       "    </tr>\n",
       "    <tr>\n",
       "      <th>Engineer, data</th>\n",
       "      <td>7.276619</td>\n",
       "      <td>43.900482</td>\n",
       "      <td>22.980203</td>\n",
       "      <td>26.645265</td>\n",
       "      <td>23.809524</td>\n",
       "      <td>3.237025</td>\n",
       "      <td>11.797753</td>\n",
       "      <td>52.594971</td>\n",
       "      <td>2.835741</td>\n",
       "      <td>40.449438</td>\n",
       "      <td>...</td>\n",
       "      <td>4.119850</td>\n",
       "      <td>75.307651</td>\n",
       "      <td>36.436597</td>\n",
       "      <td>43.285179</td>\n",
       "      <td>49.277689</td>\n",
       "      <td>16.479401</td>\n",
       "      <td>27.554842</td>\n",
       "      <td>52.220439</td>\n",
       "      <td>6.982343</td>\n",
       "      <td>27.768860</td>\n",
       "    </tr>\n",
       "    <tr>\n",
       "      <th>Academic researcher</th>\n",
       "      <td>10.838964</td>\n",
       "      <td>36.768018</td>\n",
       "      <td>33.164414</td>\n",
       "      <td>24.239865</td>\n",
       "      <td>36.768018</td>\n",
       "      <td>4.110360</td>\n",
       "      <td>7.854730</td>\n",
       "      <td>53.462838</td>\n",
       "      <td>4.504505</td>\n",
       "      <td>39.864865</td>\n",
       "      <td>...</td>\n",
       "      <td>3.997748</td>\n",
       "      <td>77.730856</td>\n",
       "      <td>40.765766</td>\n",
       "      <td>40.934685</td>\n",
       "      <td>30.152027</td>\n",
       "      <td>10.951577</td>\n",
       "      <td>18.524775</td>\n",
       "      <td>45.213964</td>\n",
       "      <td>6.981982</td>\n",
       "      <td>26.745495</td>\n",
       "    </tr>\n",
       "    <tr>\n",
       "      <th>Educator</th>\n",
       "      <td>9.562842</td>\n",
       "      <td>38.183060</td>\n",
       "      <td>25.375683</td>\n",
       "      <td>29.576503</td>\n",
       "      <td>27.732240</td>\n",
       "      <td>5.601093</td>\n",
       "      <td>9.084699</td>\n",
       "      <td>66.803279</td>\n",
       "      <td>4.200820</td>\n",
       "      <td>39.993169</td>\n",
       "      <td>...</td>\n",
       "      <td>4.337432</td>\n",
       "      <td>78.278689</td>\n",
       "      <td>40.334699</td>\n",
       "      <td>46.892077</td>\n",
       "      <td>40.471311</td>\n",
       "      <td>14.924863</td>\n",
       "      <td>21.960383</td>\n",
       "      <td>51.434426</td>\n",
       "      <td>7.547814</td>\n",
       "      <td>33.060109</td>\n",
       "    </tr>\n",
       "    <tr>\n",
       "      <th>Developer, game or graphics</th>\n",
       "      <td>11.939763</td>\n",
       "      <td>35.353173</td>\n",
       "      <td>31.337397</td>\n",
       "      <td>53.531732</td>\n",
       "      <td>42.595913</td>\n",
       "      <td>6.095375</td>\n",
       "      <td>10.326282</td>\n",
       "      <td>62.459663</td>\n",
       "      <td>3.155253</td>\n",
       "      <td>41.376838</td>\n",
       "      <td>...</td>\n",
       "      <td>3.908211</td>\n",
       "      <td>79.455002</td>\n",
       "      <td>39.691646</td>\n",
       "      <td>44.424525</td>\n",
       "      <td>42.344926</td>\n",
       "      <td>14.879885</td>\n",
       "      <td>23.664396</td>\n",
       "      <td>49.408390</td>\n",
       "      <td>6.095375</td>\n",
       "      <td>34.636070</td>\n",
       "    </tr>\n",
       "    <tr>\n",
       "      <th>Engineering manager</th>\n",
       "      <td>7.856094</td>\n",
       "      <td>45.888399</td>\n",
       "      <td>21.732746</td>\n",
       "      <td>33.333333</td>\n",
       "      <td>23.017621</td>\n",
       "      <td>4.441997</td>\n",
       "      <td>16.409692</td>\n",
       "      <td>60.682819</td>\n",
       "      <td>2.679883</td>\n",
       "      <td>37.995595</td>\n",
       "      <td>...</td>\n",
       "      <td>4.038179</td>\n",
       "      <td>75.991189</td>\n",
       "      <td>36.710720</td>\n",
       "      <td>54.258443</td>\n",
       "      <td>59.030837</td>\n",
       "      <td>19.933921</td>\n",
       "      <td>28.634361</td>\n",
       "      <td>61.453744</td>\n",
       "      <td>5.983847</td>\n",
       "      <td>33.480176</td>\n",
       "    </tr>\n",
       "    <tr>\n",
       "      <th>Product manager</th>\n",
       "      <td>7.649179</td>\n",
       "      <td>37.484982</td>\n",
       "      <td>20.945134</td>\n",
       "      <td>34.521426</td>\n",
       "      <td>22.947537</td>\n",
       "      <td>6.207449</td>\n",
       "      <td>11.533841</td>\n",
       "      <td>69.603524</td>\n",
       "      <td>2.282739</td>\n",
       "      <td>36.283540</td>\n",
       "      <td>...</td>\n",
       "      <td>4.565479</td>\n",
       "      <td>75.090108</td>\n",
       "      <td>34.841810</td>\n",
       "      <td>49.539447</td>\n",
       "      <td>44.533440</td>\n",
       "      <td>18.301962</td>\n",
       "      <td>26.231478</td>\n",
       "      <td>53.344013</td>\n",
       "      <td>5.726872</td>\n",
       "      <td>36.844213</td>\n",
       "    </tr>\n",
       "    <tr>\n",
       "      <th>Scientist</th>\n",
       "      <td>11.601151</td>\n",
       "      <td>42.425695</td>\n",
       "      <td>34.851390</td>\n",
       "      <td>22.339406</td>\n",
       "      <td>39.837009</td>\n",
       "      <td>3.978907</td>\n",
       "      <td>9.491850</td>\n",
       "      <td>47.027804</td>\n",
       "      <td>4.554171</td>\n",
       "      <td>32.981783</td>\n",
       "      <td>...</td>\n",
       "      <td>3.739214</td>\n",
       "      <td>77.756472</td>\n",
       "      <td>40.460211</td>\n",
       "      <td>41.371045</td>\n",
       "      <td>32.118888</td>\n",
       "      <td>10.977948</td>\n",
       "      <td>19.463087</td>\n",
       "      <td>45.493768</td>\n",
       "      <td>6.615532</td>\n",
       "      <td>24.448706</td>\n",
       "    </tr>\n",
       "    <tr>\n",
       "      <th>Engineer, site reliability</th>\n",
       "      <td>7.628866</td>\n",
       "      <td>61.494845</td>\n",
       "      <td>20.670103</td>\n",
       "      <td>26.134021</td>\n",
       "      <td>21.494845</td>\n",
       "      <td>4.278351</td>\n",
       "      <td>30.206186</td>\n",
       "      <td>58.505155</td>\n",
       "      <td>3.969072</td>\n",
       "      <td>39.948454</td>\n",
       "      <td>...</td>\n",
       "      <td>5.721649</td>\n",
       "      <td>79.845361</td>\n",
       "      <td>41.958763</td>\n",
       "      <td>50.618557</td>\n",
       "      <td>56.340206</td>\n",
       "      <td>17.731959</td>\n",
       "      <td>25.567010</td>\n",
       "      <td>60.567010</td>\n",
       "      <td>6.907216</td>\n",
       "      <td>30.463918</td>\n",
       "    </tr>\n",
       "    <tr>\n",
       "      <th>Senior executive/VP</th>\n",
       "      <td>10.606061</td>\n",
       "      <td>44.393939</td>\n",
       "      <td>23.409091</td>\n",
       "      <td>34.848485</td>\n",
       "      <td>23.636364</td>\n",
       "      <td>7.348485</td>\n",
       "      <td>13.863636</td>\n",
       "      <td>69.166667</td>\n",
       "      <td>3.409091</td>\n",
       "      <td>33.333333</td>\n",
       "      <td>...</td>\n",
       "      <td>5.681818</td>\n",
       "      <td>75.075758</td>\n",
       "      <td>33.257576</td>\n",
       "      <td>55.606061</td>\n",
       "      <td>43.939394</td>\n",
       "      <td>21.060606</td>\n",
       "      <td>23.939394</td>\n",
       "      <td>59.393939</td>\n",
       "      <td>7.196970</td>\n",
       "      <td>35.000000</td>\n",
       "    </tr>\n",
       "    <tr>\n",
       "      <th>Marketing or sales professional</th>\n",
       "      <td>9.813084</td>\n",
       "      <td>31.152648</td>\n",
       "      <td>21.651090</td>\n",
       "      <td>25.700935</td>\n",
       "      <td>21.339564</td>\n",
       "      <td>9.034268</td>\n",
       "      <td>10.903427</td>\n",
       "      <td>76.635514</td>\n",
       "      <td>4.205607</td>\n",
       "      <td>32.242991</td>\n",
       "      <td>...</td>\n",
       "      <td>11.370717</td>\n",
       "      <td>70.872274</td>\n",
       "      <td>28.971963</td>\n",
       "      <td>54.049844</td>\n",
       "      <td>28.971963</td>\n",
       "      <td>18.535826</td>\n",
       "      <td>23.364486</td>\n",
       "      <td>45.638629</td>\n",
       "      <td>11.838006</td>\n",
       "      <td>35.358255</td>\n",
       "    </tr>\n",
       "  </tbody>\n",
       "</table>\n",
       "<p>23 rows × 101 columns</p>\n",
       "</div>"
      ],
      "text/plain": [
       "                                                Assembly   \n",
       "Developer, back-end                             4.745115  \\\n",
       "Developer, full-stack                           3.845161   \n",
       "Developer, front-end                            3.973546   \n",
       "Developer, desktop or enterprise applications   6.737950   \n",
       "Developer, mobile                               5.357520   \n",
       "DevOps specialist                               5.327526   \n",
       "Database administrator                          6.850751   \n",
       "Designer                                        7.028754   \n",
       "System administrator                            8.393743   \n",
       "Developer, embedded applications or devices    15.389474   \n",
       "Data or business analyst                        5.839960   \n",
       "Data scientist or machine learning specialist   7.522568   \n",
       "Developer, QA or test                           6.865974   \n",
       "Engineer, data                                  7.276619   \n",
       "Academic researcher                            10.838964   \n",
       "Educator                                        9.562842   \n",
       "Developer, game or graphics                    11.939763   \n",
       "Engineering manager                             7.856094   \n",
       "Product manager                                 7.649179   \n",
       "Scientist                                      11.601151   \n",
       "Engineer, site reliability                      7.628866   \n",
       "Senior executive/VP                            10.606061   \n",
       "Marketing or sales professional                 9.813084   \n",
       "\n",
       "                                               Bash/Shell/PowerShell   \n",
       "Developer, back-end                                        35.713236  \\\n",
       "Developer, full-stack                                      33.500461   \n",
       "Developer, front-end                                       29.334281   \n",
       "Developer, desktop or enterprise applications              36.210115   \n",
       "Developer, mobile                                          26.323560   \n",
       "DevOps specialist                                          58.686547   \n",
       "Database administrator                                     43.411395   \n",
       "Designer                                                   30.182297   \n",
       "System administrator                                       54.940862   \n",
       "Developer, embedded applications or devices                43.978947   \n",
       "Data or business analyst                                   34.691849   \n",
       "Data scientist or machine learning specialist              39.568706   \n",
       "Developer, QA or test                                      42.386623   \n",
       "Engineer, data                                             43.900482   \n",
       "Academic researcher                                        36.768018   \n",
       "Educator                                                   38.183060   \n",
       "Developer, game or graphics                                35.353173   \n",
       "Engineering manager                                        45.888399   \n",
       "Product manager                                            37.484982   \n",
       "Scientist                                                  42.425695   \n",
       "Engineer, site reliability                                 61.494845   \n",
       "Senior executive/VP                                        44.393939   \n",
       "Marketing or sales professional                            31.152648   \n",
       "\n",
       "                                                       C         C#   \n",
       "Developer, back-end                            17.173498  34.023799  \\\n",
       "Developer, full-stack                          14.422120  36.376037   \n",
       "Developer, front-end                           14.675339  33.542851   \n",
       "Developer, desktop or enterprise applications  22.878479  51.332315   \n",
       "Developer, mobile                              19.521198  34.096182   \n",
       "DevOps specialist                              17.574133  35.131513   \n",
       "Database administrator                         19.189095  40.387976   \n",
       "Designer                                       22.533358  35.087390   \n",
       "System administrator                           23.998474  31.896223   \n",
       "Developer, embedded applications or devices    47.894737  38.336842   \n",
       "Data or business analyst                       17.544732  31.635189   \n",
       "Data scientist or machine learning specialist  25.050150  21.339017   \n",
       "Developer, QA or test                          21.560679  38.358247   \n",
       "Engineer, data                                 22.980203  26.645265   \n",
       "Academic researcher                            33.164414  24.239865   \n",
       "Educator                                       25.375683  29.576503   \n",
       "Developer, game or graphics                    31.337397  53.531732   \n",
       "Engineering manager                            21.732746  33.333333   \n",
       "Product manager                                20.945134  34.521426   \n",
       "Scientist                                      34.851390  22.339406   \n",
       "Engineer, site reliability                     20.670103  26.134021   \n",
       "Senior executive/VP                            23.409091  34.848485   \n",
       "Marketing or sales professional                21.651090  25.700935   \n",
       "\n",
       "                                                     C++       Dart   \n",
       "Developer, back-end                            19.244895   3.404584  \\\n",
       "Developer, full-stack                          16.250691   3.911521   \n",
       "Developer, front-end                           16.047223   4.394403   \n",
       "Developer, desktop or enterprise applications  28.131365   3.699932   \n",
       "Developer, mobile                              22.516347  11.273993   \n",
       "DevOps specialist                              18.261015   3.769476   \n",
       "Database administrator                         20.447396   4.229290   \n",
       "Designer                                       24.130802   4.961473   \n",
       "System administrator                           23.616940   4.101488   \n",
       "Developer, embedded applications or devices    47.473684   5.663158   \n",
       "Data or business analyst                       18.961233   3.156064   \n",
       "Data scientist or machine learning specialist  29.789368   3.360080   \n",
       "Developer, QA or test                          23.435521   4.155054   \n",
       "Engineer, data                                 23.809524   3.237025   \n",
       "Academic researcher                            36.768018   4.110360   \n",
       "Educator                                       27.732240   5.601093   \n",
       "Developer, game or graphics                    42.595913   6.095375   \n",
       "Engineering manager                            23.017621   4.441997   \n",
       "Product manager                                22.947537   6.207449   \n",
       "Scientist                                      39.837009   3.978907   \n",
       "Engineer, site reliability                     21.494845   4.278351   \n",
       "Senior executive/VP                            23.636364   7.348485   \n",
       "Marketing or sales professional                21.339564   9.034268   \n",
       "\n",
       "                                                      Go   HTML/CSS   Haskell   \n",
       "Developer, back-end                            11.146614  61.389011  2.001616  \\\n",
       "Developer, full-stack                           9.209217  73.784332  1.692166   \n",
       "Developer, front-end                            7.542632  78.312199  1.617840   \n",
       "Developer, desktop or enterprise applications   7.909029  61.311948  1.849966   \n",
       "Developer, mobile                               7.403501  60.693946  1.497574   \n",
       "DevOps specialist                              19.919585  62.707321  2.479477   \n",
       "Database administrator                         10.013981  73.068857  2.009787   \n",
       "Designer                                        6.558917  74.873144  1.935726   \n",
       "System administrator                           13.964136  69.496375  2.708890   \n",
       "Developer, embedded applications or devices    10.778947  54.105263  2.863158   \n",
       "Data or business analyst                        6.312127  58.971173  2.360835   \n",
       "Data scientist or machine learning specialist   9.553661  48.244734  3.660983   \n",
       "Developer, QA or test                          10.134279  67.240942  2.280213   \n",
       "Engineer, data                                 11.797753  52.594971  2.835741   \n",
       "Academic researcher                             7.854730  53.462838  4.504505   \n",
       "Educator                                        9.084699  66.803279  4.200820   \n",
       "Developer, game or graphics                    10.326282  62.459663  3.155253   \n",
       "Engineering manager                            16.409692  60.682819  2.679883   \n",
       "Product manager                                11.533841  69.603524  2.282739   \n",
       "Scientist                                       9.491850  47.027804  4.554171   \n",
       "Engineer, site reliability                     30.206186  58.505155  3.969072   \n",
       "Senior executive/VP                            13.863636  69.166667  3.409091   \n",
       "Marketing or sales professional                10.903427  76.635514  4.205607   \n",
       "\n",
       "                                                    Java  ...   \n",
       "Developer, back-end                            39.848685  ...  \\\n",
       "Developer, full-stack                          36.781567  ...   \n",
       "Developer, front-end                           33.728684  ...   \n",
       "Developer, desktop or enterprise applications  40.733198  ...   \n",
       "Developer, mobile                              49.441046  ...   \n",
       "DevOps specialist                              38.431898  ...   \n",
       "Database administrator                         35.040196  ...   \n",
       "Designer                                       35.895508  ...   \n",
       "System administrator                           35.806944  ...   \n",
       "Developer, embedded applications or devices    39.831579  ...   \n",
       "Data or business analyst                       31.088469  ...   \n",
       "Data scientist or machine learning specialist  35.055165  ...   \n",
       "Developer, QA or test                          43.374715  ...   \n",
       "Engineer, data                                 40.449438  ...   \n",
       "Academic researcher                            39.864865  ...   \n",
       "Educator                                       39.993169  ...   \n",
       "Developer, game or graphics                    41.376838  ...   \n",
       "Engineering manager                            37.995595  ...   \n",
       "Product manager                                36.283540  ...   \n",
       "Scientist                                      32.981783  ...   \n",
       "Engineer, site reliability                     39.948454  ...   \n",
       "Senior executive/VP                            33.333333  ...   \n",
       "Marketing or sales professional                32.242991  ...   \n",
       "\n",
       "                                               Facebook Workplace     Github   \n",
       "Developer, back-end                                      2.754517  74.294844  \\\n",
       "Developer, full-stack                                    2.573272  75.395392   \n",
       "Developer, front-end                                     3.027984  75.726935   \n",
       "Developer, desktop or enterprise applications            2.528853  69.730143   \n",
       "Developer, mobile                                        3.680658  77.747311   \n",
       "DevOps specialist                                        3.451164  77.734964   \n",
       "Database administrator                                   3.005942  71.268787   \n",
       "Designer                                                 3.476790  72.486375   \n",
       "System administrator                                     2.918733  73.636017   \n",
       "Developer, embedded applications or devices              3.347368  72.968421   \n",
       "Data or business analyst                                 4.373757  67.992048   \n",
       "Data scientist or machine learning specialist            4.037111  78.059178   \n",
       "Developer, QA or test                                    3.724348  74.790980   \n",
       "Engineer, data                                           4.119850  75.307651   \n",
       "Academic researcher                                      3.997748  77.730856   \n",
       "Educator                                                 4.337432  78.278689   \n",
       "Developer, game or graphics                              3.908211  79.455002   \n",
       "Engineering manager                                      4.038179  75.991189   \n",
       "Product manager                                          4.565479  75.090108   \n",
       "Scientist                                                3.739214  77.756472   \n",
       "Engineer, site reliability                               5.721649  79.845361   \n",
       "Senior executive/VP                                      5.681818  75.075758   \n",
       "Marketing or sales professional                         11.370717  70.872274   \n",
       "\n",
       "                                                  Gitlab   \n",
       "Developer, back-end                            36.785662  \\\n",
       "Developer, full-stack                          35.520737   \n",
       "Developer, front-end                           35.417578   \n",
       "Developer, desktop or enterprise applications  32.569586   \n",
       "Developer, mobile                              36.753849   \n",
       "DevOps specialist                              43.910203   \n",
       "Database administrator                         33.974135   \n",
       "Designer                                       31.685773   \n",
       "System administrator                           40.061045   \n",
       "Developer, embedded applications or devices    38.315789   \n",
       "Data or business analyst                       27.186879   \n",
       "Data scientist or machine learning specialist  36.183551   \n",
       "Developer, QA or test                          37.927540   \n",
       "Engineer, data                                 36.436597   \n",
       "Academic researcher                            40.765766   \n",
       "Educator                                       40.334699   \n",
       "Developer, game or graphics                    39.691646   \n",
       "Engineering manager                            36.710720   \n",
       "Product manager                                34.841810   \n",
       "Scientist                                      40.460211   \n",
       "Engineer, site reliability                     41.958763   \n",
       "Senior executive/VP                            33.257576   \n",
       "Marketing or sales professional                28.971963   \n",
       "\n",
       "                                               Google Suite (Docs, Meet, etc)   \n",
       "Developer, back-end                                                 38.739533  \\\n",
       "Developer, full-stack                                               39.347465   \n",
       "Developer, front-end                                                39.713599   \n",
       "Developer, desktop or enterprise applications                       32.569586   \n",
       "Developer, mobile                                                   41.056739   \n",
       "DevOps specialist                                                   44.429553   \n",
       "Database administrator                                              40.055925   \n",
       "Designer                                                            39.297125   \n",
       "System administrator                                                43.132392   \n",
       "Developer, embedded applications or devices                         37.052632   \n",
       "Data or business analyst                                            38.071571   \n",
       "Data scientist or machine learning specialist                       43.756269   \n",
       "Developer, QA or test                                               42.715987   \n",
       "Engineer, data                                                      43.285179   \n",
       "Academic researcher                                                 40.934685   \n",
       "Educator                                                            46.892077   \n",
       "Developer, game or graphics                                         44.424525   \n",
       "Engineering manager                                                 54.258443   \n",
       "Product manager                                                     49.539447   \n",
       "Scientist                                                           41.371045   \n",
       "Engineer, site reliability                                          50.618557   \n",
       "Senior executive/VP                                                 55.606061   \n",
       "Marketing or sales professional                                     54.049844   \n",
       "\n",
       "                                                    Jira  Microsoft Azure   \n",
       "Developer, back-end                            49.911855        16.068018  \\\n",
       "Developer, full-stack                          48.247005        17.518894   \n",
       "Developer, front-end                           45.917140        15.954307   \n",
       "Developer, desktop or enterprise applications  45.239308        21.987441   \n",
       "Developer, mobile                              45.074879        15.819447   \n",
       "DevOps specialist                              59.038365        24.593734   \n",
       "Database administrator                         37.172317        18.472562   \n",
       "Designer                                       34.636347        15.354257   \n",
       "System administrator                           39.813048        16.081648   \n",
       "Developer, embedded applications or devices    46.147368        16.673684   \n",
       "Data or business analyst                       36.978131        17.395626   \n",
       "Data scientist or machine learning specialist  40.847543        14.543631   \n",
       "Developer, QA or test                          53.255637        18.520395   \n",
       "Engineer, data                                 49.277689        16.479401   \n",
       "Academic researcher                            30.152027        10.951577   \n",
       "Educator                                       40.471311        14.924863   \n",
       "Developer, game or graphics                    42.344926        14.879885   \n",
       "Engineering manager                            59.030837        19.933921   \n",
       "Product manager                                44.533440        18.301962   \n",
       "Scientist                                      32.118888        10.977948   \n",
       "Engineer, site reliability                     56.340206        17.731959   \n",
       "Senior executive/VP                            43.939394        21.060606   \n",
       "Marketing or sales professional                28.971963        18.535826   \n",
       "\n",
       "                                               Microsoft Teams      Slack   \n",
       "Developer, back-end                                  25.672102  51.722492  \\\n",
       "Developer, full-stack                                26.654378  52.733641   \n",
       "Developer, front-end                                 25.087451  51.470267   \n",
       "Developer, desktop or enterprise applications        32.739308  41.352682   \n",
       "Developer, mobile                                    22.463615  52.710399   \n",
       "DevOps specialist                                    32.819568  59.189144   \n",
       "Database administrator                               26.476756  43.778399   \n",
       "Designer                                             24.018042  42.022176   \n",
       "System administrator                                 24.780618  46.375429   \n",
       "Developer, embedded applications or devices          27.663158  42.589474   \n",
       "Data or business analyst                             29.274354  40.879722   \n",
       "Data scientist or machine learning specialist        24.373119  51.078235   \n",
       "Developer, QA or test                                29.592095  51.330124   \n",
       "Engineer, data                                       27.554842  52.220439   \n",
       "Academic researcher                                  18.524775  45.213964   \n",
       "Educator                                             21.960383  51.434426   \n",
       "Developer, game or graphics                          23.664396  49.408390   \n",
       "Engineering manager                                  28.634361  61.453744   \n",
       "Product manager                                      26.231478  53.344013   \n",
       "Scientist                                            19.463087  45.493768   \n",
       "Engineer, site reliability                           25.567010  60.567010   \n",
       "Senior executive/VP                                  23.939394  59.393939   \n",
       "Marketing or sales professional                      23.364486  45.638629   \n",
       "\n",
       "                                               Stack Overflow for Teams   \n",
       "Developer, back-end                                            4.976495  \\\n",
       "Developer, full-stack                                          4.925346   \n",
       "Developer, front-end                                           5.667906   \n",
       "Developer, desktop or enterprise applications                  4.981331   \n",
       "Developer, mobile                                              6.580890   \n",
       "DevOps specialist                                              4.657397   \n",
       "Database administrator                                         6.308983   \n",
       "Designer                                                       8.024807   \n",
       "System administrator                                           5.188859   \n",
       "Developer, embedded applications or devices                    6.273684   \n",
       "Data or business analyst                                       6.361829   \n",
       "Data scientist or machine learning specialist                  7.246740   \n",
       "Developer, QA or test                                          7.246010   \n",
       "Engineer, data                                                 6.982343   \n",
       "Academic researcher                                            6.981982   \n",
       "Educator                                                       7.547814   \n",
       "Developer, game or graphics                                    6.095375   \n",
       "Engineering manager                                            5.983847   \n",
       "Product manager                                                5.726872   \n",
       "Scientist                                                      6.615532   \n",
       "Engineer, site reliability                                     6.907216   \n",
       "Senior executive/VP                                            7.196970   \n",
       "Marketing or sales professional                               11.838006   \n",
       "\n",
       "                                                  Trello  \n",
       "Developer, back-end                            28.356839  \n",
       "Developer, full-stack                          30.348387  \n",
       "Developer, front-end                           31.351115  \n",
       "Developer, desktop or enterprise applications  24.151392  \n",
       "Developer, mobile                              34.454756  \n",
       "DevOps specialist                              30.859440  \n",
       "Database administrator                         27.962251  \n",
       "Designer                                       28.791581  \n",
       "System administrator                           28.462419  \n",
       "Developer, embedded applications or devices    24.315789  \n",
       "Data or business analyst                       25.074553  \n",
       "Data scientist or machine learning specialist  26.705115  \n",
       "Developer, QA or test                          29.820117  \n",
       "Engineer, data                                 27.768860  \n",
       "Academic researcher                            26.745495  \n",
       "Educator                                       33.060109  \n",
       "Developer, game or graphics                    34.636070  \n",
       "Engineering manager                            33.480176  \n",
       "Product manager                                36.844213  \n",
       "Scientist                                      24.448706  \n",
       "Engineer, site reliability                     30.463918  \n",
       "Senior executive/VP                            35.000000  \n",
       "Marketing or sales professional                35.358255  \n",
       "\n",
       "[23 rows x 101 columns]"
      ]
     },
     "execution_count": 19,
     "metadata": {},
     "output_type": "execute_result"
    }
   ],
   "source": [
    "skills =[]\n",
    "for role in sorted_roles:\n",
    "    role_mask = (df[('DevType', role)] == 1)\n",
    "    skills_role = pd.concat({tech_col: df.loc[role_mask,tech_col].mean() * 100\n",
    "                             for tech_col in influnce_col})\n",
    "    \n",
    "    \n",
    "    skills.append(skills_role)\n",
    "     \n",
    "\n",
    "\n",
    "skills = pd.concat(skills, axis=1)\n",
    "skills.columns = sorted_roles\n",
    "skills = skills.reset_index(level=0,drop=True)\n",
    "skills=skills.T\n",
    "skills"
   ]
  },
  {
   "cell_type": "code",
   "execution_count": null,
   "metadata": {},
   "outputs": [
    {
     "data": {
      "application/vnd.plotly.v1+json": {
       "config": {
        "plotlyServerURL": "https://plot.ly"
       },
       "data": [
        {
         "colorscale": [
          [
           0,
           "#000004"
          ],
          [
           0.1111111111111111,
           "#180f3d"
          ],
          [
           0.2222222222222222,
           "#440f76"
          ],
          [
           0.3333333333333333,
           "#721f81"
          ],
          [
           0.4444444444444444,
           "#9e2f7f"
          ],
          [
           0.5555555555555556,
           "#cd4071"
          ],
          [
           0.6666666666666666,
           "#f1605d"
          ],
          [
           0.7777777777777778,
           "#fd9668"
          ],
          [
           0.8888888888888888,
           "#feca8d"
          ],
          [
           1,
           "#fcfdbf"
          ]
         ],
         "type": "heatmap",
         "x": [
          "Assembly",
          "Bash/Shell/PowerShell",
          "C",
          "C#",
          "C++",
          "Dart",
          "Go",
          "HTML/CSS",
          "Haskell",
          "Java",
          "JavaScript",
          "Julia",
          "Kotlin",
          "Objective-C",
          "PHP",
          "Perl",
          "Python",
          "R",
          "Ruby",
          "Rust",
          "SQL",
          "Scala",
          "Swift",
          "TypeScript",
          "VBA",
          "Cassandra",
          "Couchbase",
          "DynamoDB",
          "Elasticsearch",
          "Firebase",
          "IBM DB2",
          "MariaDB",
          "Microsoft SQL Server",
          "MongoDB",
          "MySQL",
          "Oracle",
          "PostgreSQL",
          "Redis",
          "SQLite",
          "AWS",
          "Android",
          "Arduino",
          "Docker",
          "Google Cloud Platform",
          "Heroku",
          "IBM Cloud or Watson",
          "Kubernetes",
          "Linux",
          "MacOS",
          "Microsoft Azure",
          "Raspberry Pi",
          "Slack Apps and Integrations",
          "Windows",
          "WordPress",
          "iOS",
          "ASP.NET",
          "ASP.NET Core",
          "Angular",
          "Angular.js",
          "Django",
          "Drupal",
          "Express",
          "Flask",
          "Gatsby",
          "Laravel",
          "React.js",
          "Ruby on Rails",
          "Spring",
          "Symfony",
          "Vue.js",
          "jQuery",
          ".NET",
          ".NET Core",
          "Ansible",
          "Apache Spark",
          "Chef",
          "Cordova",
          "Flutter",
          "Hadoop",
          "Keras",
          "Node.js",
          "Pandas",
          "Puppet",
          "React Native",
          "TensorFlow",
          "Teraform",
          "Torch/PyTorch",
          "Unity 3D",
          "Unreal Engine",
          "Xamarin",
          "Confluence",
          "Facebook Workplace",
          "Github",
          "Gitlab",
          "Google Suite (Docs, Meet, etc)",
          "Jira",
          "Microsoft Azure",
          "Microsoft Teams",
          "Slack",
          "Stack Overflow for Teams",
          "Trello"
         ],
         "y": [
          "Developer, back-end",
          "Developer, full-stack",
          "Developer, front-end",
          "Developer, desktop or enterprise applications",
          "Developer, mobile",
          "DevOps specialist",
          "Database administrator",
          "Designer",
          "System administrator",
          "Developer, embedded applications or devices",
          "Data or business analyst",
          "Data scientist or machine learning specialist",
          "Developer, QA or test",
          "Engineer, data",
          "Academic researcher",
          "Educator",
          "Developer, game or graphics",
          "Engineering manager",
          "Product manager",
          "Scientist",
          "Engineer, site reliability",
          "Senior executive/VP",
          "Marketing or sales professional"
         ],
         "ygap": 1,
         "z": [
          [
           4.745115322462171,
           35.71323637432055,
           17.17349786983987,
           34.023799030409876,
           19.244894961069487,
           3.4045835169678274,
           11.146613779932423,
           61.38901131188482,
           2.0016159835463494,
           39.848685177023654,
           69.39180255619215,
           0.5619215513442045,
           7.271925958572058,
           3.400910827089761,
           28.14382253562509,
           3.514764213309828,
           39.86704862641399,
           3.5735272513588954,
           7.988100484795065,
           5.417217570148377,
           61.37432055237255,
           4.631261936242104,
           4.539444689290437,
           27.838989275745558,
           5.718378140149846,
           3.782870574408697,
           2.0603790215954163,
           7.841192889672397,
           16.101072425444396,
           10.78301748200382,
           2.743499338915822,
           17.412222711914204,
           32.90362861759953,
           24.63273101219333,
           49.397678859997065,
           15.715439988247393,
           36.95093286322903,
           21.77537828705744,
           27.03099750257088,
           30.08667548112237,
           21.17672983693257,
           8.039518143087998,
           41.1671808432496,
           14.13985603055678,
           10.456148082855883,
           1.4323490524460116,
           14.070074922873513,
           55.76979579844278,
           23.54561480828559,
           16.247980020567063,
           13.379609225796973,
           8.11297194064933,
           48.16732775084472,
           13.30615542823564,
           9.706919347730278,
           19.861906860584693,
           18.168796826795948,
           20.761715880711034,
           13.478771852504776,
           11.223740267371824,
           2.7030997502570884,
           16.203907742030264,
           11.10621419127369,
           2.6516820919641546,
           10.327603937123548,
           26.23402379903041,
           5.935066842955781,
           16.369178786543266,
           4.381519024533569,
           14.297781695313647,
           35.54796532980755,
           27.725135889525486,
           22.62009695901278,
           6.691640957837521,
           3.926105479653298,
           1.604965476715146,
           4.712061113559571,
           4.392537094167769,
           3.3127662700161595,
           3.114441016600558,
           37.55692669311003,
           8.939327163214337,
           1.9869252240340824,
           7.973409725282797,
           6.335390039665051,
           5.79183193771118,
           2.2770677244013515,
           6.217863963566916,
           1.7775819009842808,
           4.7157338034376375,
           34.211106214191275,
           2.754517408550022,
           74.29484354341119,
           36.78566181871602,
           38.73953283384751,
           49.9118554429264,
           16.068018216541795,
           25.672102247686208,
           51.722491552813274,
           4.976494784780374,
           28.35683854855296
          ],
          [
           3.845161290322581,
           33.500460829493086,
           14.422119815668202,
           36.37603686635945,
           16.250691244239633,
           3.911520737327189,
           9.209216589861752,
           73.78433179723503,
           1.6921658986175117,
           36.781566820276495,
           81.99078341013825,
           0.5124423963133641,
           6.705990783410138,
           3.44331797235023,
           30.311520737327193,
           2.8829493087557605,
           36.20276497695853,
           3.288479262672811,
           8.468202764976958,
           4.497695852534562,
           62.046082949308754,
           3.1889400921658986,
           4.836866359447005,
           37.235023041474655,
           5.776958525345622,
           2.79815668202765,
           1.9944700460829492,
           7.472811059907834,
           14.381566820276499,
           13.12442396313364,
           2.647004608294931,
           17.142857142857142,
           34.82764976958526,
           27.188940092165897,
           50.22672811059908,
           14.816589861751153,
           36.022119815668205,
           20.903225806451616,
           26.392626728110596,
           30.189861751152076,
           22.923502304147465,
           7.915207373271889,
           39.09677419354839,
           14.282027649769585,
           12.866359447004609,
           1.448847926267281,
           12.342857142857143,
           51.1815668202765,
           24.302304147465435,
           17.74746543778802,
           13.183410138248847,
           8.188018433179725,
           48.86267281105991,
           15.402764976958524,
           11.546543778801844,
           22.55115207373272,
           20.468202764976958,
           26.70230414746544,
           16.94377880184332,
           10.665437788018433,
           3.0414746543778803,
           21.92442396313364,
           10.031336405529954,
           4.1732718894009215,
           11.163133640552996,
           36.22857142857143,
           6.731797235023042,
           14.975115207373271,
           4.313364055299539,
           18.001843317972348,
           42.08663594470046,
           29.423041474654376,
           24.287557603686636,
           5.393548387096774,
           2.790783410138249,
           1.4414746543778802,
           6.016589861751152,
           5.172350230414747,
           2.3483870967741938,
           2.6764976958525346,
           47.34009216589862,
           7.498617511520737,
           1.7253456221198158,
           10.694930875576036,
           5.7695852534562215,
           4.748387096774193,
           1.9649769585253458,
           6.473732718894009,
           1.824884792626728,
           5.131797235023042,
           32.07741935483871,
           2.5732718894009214,
           75.39539170506913,
           35.52073732718894,
           39.34746543778802,
           48.24700460829493,
           17.51889400921659,
           26.65437788018433,
           52.73364055299539,
           4.925345622119816,
           30.348387096774193
          ],
          [
           3.9735461303017057,
           29.334280717096632,
           14.675338871884566,
           33.542850896370794,
           16.04722343681679,
           4.394403148229121,
           7.542632269348491,
           78.31219938784434,
           1.6178399650196764,
           33.728683865325756,
           84.0128989943157,
           0.4481853957149104,
           6.711849584608657,
           4.328815041539134,
           32.624617402710975,
           2.6125929164844774,
           31.29645824223874,
           2.9514648010494096,
           7.25295146480105,
           3.8860953213817226,
           56.394840402273715,
           2.295583734149541,
           5.875601224311325,
           39.0194578049847,
           6.3456493222562305,
           2.109750765194578,
           1.8419326628771315,
           6.006777437691299,
           11.368605159597726,
           15.828596414516834,
           2.3611718408395275,
           16.708570179274158,
           31.383909051158724,
           26.929383471797113,
           50.841714035854835,
           13.609532138172279,
           30.908395277656318,
           16.40249234805422,
           25.912767818102317,
           25.24048972452995,
           25.972890249234805,
           8.275032794053345,
           32.71206821163096,
           13.751639702667251,
           12.877131613467425,
           1.4265413205072146,
           9.44468736335811,
           45.419763882815914,
           24.579142982072586,
           15.074333187581985,
           12.357892435505029,
           7.859641451683428,
           48.88500218627022,
           18.84564932225623,
           14.013992129427196,
           20.529077393965895,
           17.539352864013992,
           28.377787494534324,
           18.03126366418889,
           9.368167905553126,
           3.4707039790118057,
           23.048753825972888,
           7.804984696108439,
           5.329033668561435,
           11.472452995190205,
           40.10712724092698,
           5.711630957586357,
           11.636423261915173,
           4.257761259291649,
           19.266506340183646,
           43.56689986882379,
           27.169873196327067,
           21.523830345430696,
           3.9516834280717097,
           2.04962833406209,
           1.0439440314822912,
           7.1217752514210755,
           5.728027984258855,
           1.7654132050721467,
           2.1425448185395717,
           49.36051595977263,
           5.596851770878881,
           1.579580236117184,
           12.762352426759948,
           5.0120244862264975,
           3.219282903366856,
           1.5686488850021865,
           7.362264975951027,
           2.104285089637079,
           5.378224748578924,
           29.268692610406642,
           3.0279842588543944,
           75.72693484914736,
           35.417577612592915,
           39.71359860078706,
           45.917140358548316,
           15.954306952339309,
           25.087450808919982,
           51.4702667249672,
           5.667905553126366,
           31.351114997813728
          ],
          [
           6.737949762389681,
           36.21011541072641,
           22.87847929395791,
           51.332315003394434,
           28.131364562118126,
           3.699932111337407,
           7.909029192124915,
           61.31194840461644,
           1.8499660556687034,
           40.73319755600815,
           65.69925322471147,
           0.721317040054311,
           6.907671418873049,
           5.066191446028514,
           22.174134419551937,
           3.699932111337407,
           36.10828241683639,
           3.63204344874406,
           5.337746096401901,
           5.371690427698574,
           62.02477936184657,
           3.054989816700611,
           5.762050237610318,
           28.301086218601494,
           10.123896809232859,
           2.7155465037338766,
           2.197895451459606,
           5.18499660556687,
           11.074338085539715,
           10.140868974881196,
           3.920570264765784,
           14.850644942294636,
           45.13747454175153,
           20.38357094365241,
           43.73727087576375,
           20.08655804480652,
           29.14969450101833,
           13.441955193482688,
           31.551255940257978,
           21.486761710794298,
           26.196537678207736,
           10.36999321113374,
           30.99966055668703,
           11.023421588594704,
           7.484725050916497,
           1.4511201629327901,
           9.971147318397827,
           49.45689069925322,
           19.20400543109301,
           20.621181262729124,
           15.08825526137135,
           5.974202308214529,
           68.77970128988458,
           12.08418194161575,
           12.415139171758316,
           28.615071283095723,
           25.19517990495587,
           22.284453496266124,
           14.867617107942973,
           7.781737949762389,
           2.3167006109979633,
           12.81398506449423,
           7.73082145281738,
           1.8584521384928716,
           6.839782756279702,
           21.452817379497624,
           3.513238289205703,
           15.08825526137135,
           2.842837746096402,
           11.617447386286491,
           35.429395790902916,
           45.58723693143245,
           33.29938900203666,
           4.2175831636116765,
           2.842837746096402,
           1.2983706720977597,
           5.609300746775289,
           4.760692464358452,
           2.6476578411405294,
           2.6391717583163614,
           33.71520706042091,
           6.916157501697216,
           1.7566191446028514,
           7.4168363883231505,
           5.872369314324508,
           3.250169721656483,
           2.096062457569586,
           8.630346232179226,
           2.774949083503055,
           8.621860149355058,
           31.54276985743381,
           2.5288526816021726,
           69.73014256619145,
           32.56958587915818,
           32.56958587915818,
           45.23930753564155,
           21.98744059742023,
           32.73930753564155,
           41.35268160217244,
           4.9813306177868295,
           24.151391717583166
          ],
          [
           5.357519510651762,
           26.323560430288968,
           19.521198059481122,
           34.09618224003375,
           22.51634676228644,
           11.27399282851719,
           7.4035013710187725,
           60.69394642480489,
           1.4975743514026576,
           49.44104619278633,
           66.64205863741827,
           0.5484075089643535,
           20.934402024889266,
           14.923012022780005,
           29.339801729592914,
           2.4151022990930184,
           31.195950221472263,
           2.963509808057372,
           7.087112423539338,
           3.4591858257751533,
           50.28475005273149,
           2.214722632356043,
           21.145327989875554,
           29.962033326302468,
           5.389158405399705,
           2.27800042185193,
           2.3096393165998736,
           6.116852984602405,
           9.586585108626872,
           28.685931238135414,
           2.2041763341067284,
           15.85108626871968,
           28.11643113267243,
           25.079097236869856,
           50.34802784222738,
           12.507909723686986,
           27.54693102720945,
           14.047669268086901,
           43.35583210293187,
           24.214300780426072,
           62.58173381143218,
           11.706391056739085,
           27.336005062223162,
           16.968993883147014,
           11.600928074245939,
           1.8139632988820924,
           7.793714406243408,
           40.392322294874496,
           28.337903395908036,
           14.522252689306054,
           14.237502636574561,
           7.930816283484497,
           41.700063277789496,
           16.20966040919637,
           38.58890529424172,
           18.519299725796245,
           15.977641847711455,
           22.54798565703438,
           14.764817549040288,
           9.20691837165155,
           2.7736764395697113,
           19.721577726218097,
           7.456232862265345,
           3.3748154397806367,
           11.0630668635309,
           30.24678337903396,
           5.199325036912044,
           11.970048512971946,
           3.627926597764185,
           13.636363636363635,
           33.769246994305,
           26.102088167053367,
           20.702383463404345,
           3.0478801940518876,
           2.1619911411094703,
           1.0651761231807635,
           11.020881670533642,
           14.226956338325248,
           1.9510651761231808,
           2.815861632566969,
           40.82472052309639,
           5.526260282640793,
           1.4975743514026576,
           19.700485129719468,
           7.034380932292765,
           2.858046825564227,
           2.0987133516135836,
           11.126344653026788,
           3.290445053786121,
           11.569289179497996,
           27.93714406243409,
           3.6806580890107568,
           77.74731069394643,
           36.753849398861,
           41.05673908458131,
           45.07487871757013,
           15.819447373971737,
           22.463615271039867,
           52.71039865007382,
           6.580890107572242,
           34.454756380510446
          ],
          [
           5.327525548668119,
           58.68654716032836,
           17.574133020606467,
           35.13151281621712,
           18.26101524543475,
           3.7694756240576313,
           19.919584520020102,
           62.70732115932317,
           2.4794772993801306,
           38.43189814039202,
           70.29653208242587,
           0.9884402747528899,
           8.175573797956107,
           4.087786898978053,
           26.553861618361534,
           6.349472273412632,
           51.76746523705813,
           4.288825598927794,
           12.079075221980231,
           7.321159323169709,
           63.05913888423521,
           5.411291673647177,
           4.891941698777014,
           32.166191991958456,
           5.8803819735299045,
           5.846875523538281,
           3.5349304741162673,
           13.838163846540457,
           27.00619869324845,
           10.956609147260847,
           3.668956274082761,
           23.203216619199196,
           35.91891439102027,
           29.38515664265371,
           48.4335734628916,
           15.831797621042051,
           45.04942201373765,
           32.83632099179092,
           29.88775339252806,
           44.93214943876696,
           20.237895794940524,
           9.39855922265036,
           63.343943709164016,
           20.807505444798124,
           10.202714022449321,
           2.445970849388507,
           29.938013067515495,
           70.74886915731278,
           29.050092142737476,
           26.16853744345787,
           19.85257162003686,
           14.156475121460883,
           45.652538113586864,
           14.324007371418999,
           11.157647847210587,
           20.924778019768805,
           22.04724409448819,
           23.370748869157314,
           15.412966996146757,
           13.63712514659072,
           3.886748199028313,
           18.445300720388673,
           15.915563746021109,
           3.886748199028313,
           9.130507622717374,
           28.76528731780868,
           7.287652873178087,
           16.334394370916403,
           5.428044898642989,
           16.736471770815882,
           33.690735466577316,
           28.7987937678003,
           26.687887418328028,
           20.857765119785558,
           5.243759423689061,
           5.277265873680684,
           5.763109398559223,
           4.875188473781203,
           4.741162673814709,
           3.7862288490534426,
           43.457865639135534,
           10.722063997319484,
           5.712849723571788,
           8.828949572792762,
           7.823756073044061,
           17.440107220639973,
           2.680515999329871,
           6.13168034846708,
           2.0606466744848384,
           5.394538448651366,
           44.44630591388842,
           3.4511643491372093,
           77.73496398056626,
           43.910202714022454,
           44.429552688892606,
           59.03836488524041,
           24.593734293851565,
           32.81956776679511,
           59.189143910202716,
           4.657396548835651,
           30.85944044228514
          ],
          [
           6.850751485494583,
           43.411394617266694,
           19.18909472212513,
           40.38797623208668,
           20.447396015379237,
           4.229290457881859,
           10.013981125480601,
           73.06885704299197,
           2.009786787836421,
           35.04019573575673,
           74.27472911569382,
           0.9262495630898288,
           6.291506466270534,
           5.173016427822439,
           41.50646627053477,
           6.23907724571828,
           42.24047535826634,
           6.274030059419783,
           7.444949318420132,
           4.526389374344634,
           80.07689619014332,
           3.0408947920307585,
           5.924501922404754,
           24.23977630199231,
           13.491786088780147,
           3.670045438657812,
           2.6389374344634744,
           6.815798671793079,
           14.872422229989516,
           12.320866829779797,
           4.037049982523593,
           27.455435162530584,
           46.01537923802866,
           23.593149248514507,
           59.402306885704306,
           18.175463124781547,
           37.189793778399164,
           19.975533030408947,
           32.52359314924851,
           30.059419783292558,
           26.074799021321216,
           11.272282418734708,
           33.92170569730864,
           16.218105557497378,
           9.140160782943028,
           2.1146452289409297,
           11.272282418734708,
           56.83327507864383,
           21.04159384830479,
           19.50367004543866,
           17.493883257602235,
           8.930443900734009,
           59.07025515554002,
           21.688220901782593,
           13.386927647675636,
           26.82628451590353,
           20.027962250961203,
           19.64348130024467,
           16.07829430269137,
           12.111149947570778,
           4.596295001747641,
           15.798671793079343,
           11.464522894092974,
           2.778748689269486,
           15.379238028661307,
           22.859140160782943,
           5.522544564837469,
           9.664452988465571,
           6.256553652569032,
           16.58511010136316,
           47.6581614819993,
           35.389723872771754,
           25.09612023767913,
           8.091576371897938,
           4.2642432715833625,
           2.2719328905976934,
           6.780845858091576,
           5.522544564837469,
           3.862285914016078,
           2.883607130373995,
           38.67528836071304,
           10.013981125480601,
           2.9010835372247463,
           9.140160782943028,
           6.850751485494583,
           5.312827682628452,
           2.7962250961202377,
           7.462425725270884,
           2.6738902481649776,
           7.3051380636141205,
           23.226144704648725,
           3.005941978329256,
           71.26878713736455,
           33.97413491786089,
           40.055924501922405,
           37.17231737154841,
           18.47256204124432,
           26.4767563788885,
           43.77839916113247,
           6.308982873121287,
           27.96225096120238
          ],
          [
           7.0287539936102235,
           30.182296560796846,
           22.533358391279833,
           35.08738958842323,
           24.130802480736705,
           4.961473407254275,
           6.558917496711144,
           74.87314414583724,
           1.935726367224206,
           35.89550836308965,
           75.98195827851907,
           0.9208795339221951,
           7.103927833114076,
           5.713211802292802,
           37.981582409321554,
           4.134561172711896,
           35.951888742717536,
           4.491636910355196,
           6.840819394850592,
           3.6083442961849275,
           58.804735951888745,
           1.8793459875963165,
           7.479797030633339,
           27.870700996053372,
           9.528284157113324,
           2.5559105431309903,
           2.2364217252396164,
           4.999060327006202,
           8.851719601578651,
           16.500657771095657,
           3.4579966171772227,
           18.53035143769968,
           32.77579402367976,
           23.003194888178914,
           55.19639165570381,
           15.260289419282088,
           25.803420409697424,
           11.445217064461568,
           29.900394662657398,
           21.14264236045856,
           29.63728622439391,
           11.294869385453863,
           24.03683518135689,
           14.62131178349934,
           11.783499342228906,
           2.1236609659838375,
           7.42341665100545,
           44.7472279646683,
           21.424544258598008,
           13.47491073106559,
           14.65889870325127,
           6.822025934974629,
           55.44070663409134,
           25.671866190565684,
           15.86168013531291,
           20.710392783311406,
           14.809246382258973,
           22.834053749295244,
           16.93290734824281,
           10.129674873144145,
           4.773538808494644,
           18.248449539560234,
           7.83687276827664,
           4.698364968990791,
           12.666791956399173,
           29.017102048487125,
           5.299755685021613,
           9.302762638601767,
           4.134561172711896,
           17.308776545762075,
           45.74328133809434,
           29.24262356699868,
           19.921067468520956,
           3.7398985153166695,
           2.837812441270438,
           1.5410637098289794,
           6.9723736139823345,
           6.897199774478481,
           2.499530163503101,
           2.180041345611727,
           41.890622063521896,
           6.483743657207292,
           2.161247885735764,
           11.069347866942305,
           6.107874459688029,
           2.3491824844953957,
           2.405562864123285,
           10.467957150911483,
           4.021800413456117,
           6.29580905844766,
           20.879533922195076,
           3.476790077053186,
           72.48637474158993,
           31.685773350873898,
           39.29712460063898,
           34.63634655140011,
           15.354256718661905,
           24.018041721480923,
           42.02217628265363,
           8.02480736703627,
           28.79158052997557
          ],
          [
           8.393742846241894,
           54.94086226631056,
           23.998473864937047,
           31.896222815719188,
           23.61694009919878,
           4.101487981686379,
           13.964135826020602,
           69.49637542922548,
           2.708889736741702,
           35.80694391453644,
           71.04158718046547,
           1.2590614269362839,
           6.447920640976726,
           4.425791682563907,
           39.75581838992751,
           8.260206028233497,
           50.91568103777184,
           5.207935902327356,
           10.511255246089279,
           7.306371613887828,
           68.14193056085463,
           3.452880579931324,
           5.322396032048837,
           23.52155665776421,
           10.702022128958413,
           4.311331552842427,
           2.689813048454788,
           7.039297977871041,
           17.3788630293781,
           10.282334986646319,
           3.719954215948111,
           31.55284242655475,
           35.23464326592903,
           23.712323540633346,
           57.535291873330785,
           15.261350629530712,
           40.499809233117126,
           23.73140022892026,
           35.12018313620756,
           31.972529568866843,
           24.28462418924075,
           13.296451735978634,
           42.69362838611217,
           16.88286913391835,
           9.805417779473483,
           2.2510492178557806,
           15.375810759252193,
           70.67913010301412,
           23.97939717665013,
           17.32163296451736,
           23.73140022892026,
           9.50019076688287,
           52.89965661961084,
           21.13697062190004,
           11.52231972529569,
           18.06562380770698,
           14.6699732926364,
           17.798550171690195,
           13.620755436856161,
           14.498283098054177,
           5.11255246089279,
           15.566577642121327,
           13.639832125143075,
           2.861503243037009,
           12.361694009919878,
           22.128958412819536,
           6.75314765356734,
           9.786341091186571,
           6.447920640976726,
           16.19610835558947,
           41.26287676459366,
           26.955360549408624,
           19.896985883250668,
           15.070583746661578,
           4.120564669973293,
           3.5864173979397176,
           5.990080122090805,
           5.265165967188096,
           3.6818008393742843,
           3.0331934376192295,
           38.744753910721094,
           9.462037390309042,
           5.0362457077451355,
           7.458985120183136,
           7.058374666157954,
           9.080503624570776,
           2.918733307897749,
           7.954979015642884,
           3.4147272033574967,
           5.589469668065624,
           27.413201068294548,
           2.918733307897749,
           73.63601678748569,
           40.061045402518126,
           43.13239221671118,
           39.813048454788245,
           16.08164822586799,
           24.780618084700496,
           46.37542922548646,
           5.188859214040443,
           28.46241892407478
          ],
          [
           15.389473684210525,
           43.97894736842105,
           47.89473684210526,
           38.33684210526316,
           47.473684210526315,
           5.663157894736842,
           10.778947368421052,
           54.10526315789473,
           2.863157894736842,
           39.83157894736842,
           58.37894736842105,
           1.263157894736842,
           9.284210526315789,
           8.715789473684211,
           25.157894736842106,
           5.6421052631578945,
           50.27368421052631,
           4.378947368421052,
           7.178947368421053,
           9.031578947368422,
           49.55789473684211,
           3.136842105263158,
           9.263157894736842,
           22.526315789473685,
           9.494736842105263,
           3.663157894736842,
           2.8000000000000003,
           6.421052631578947,
           10.042105263157895,
           13.368421052631579,
           3.494736842105263,
           17.49473684210526,
           30.589473684210528,
           20.968421052631577,
           45.03157894736842,
           15.073684210526316,
           29.957894736842107,
           14.526315789473685,
           38.821052631578944,
           23.157894736842106,
           36.46315789473684,
           23.978947368421053,
           33.97894736842105,
           14.063157894736841,
           7.831578947368421,
           2.378947368421053,
           9.873684210526317,
           63.49473684210526,
           22.526315789473685,
           15.389473684210525,
           30.23157894736842,
           7.473684210526316,
           56.48421052631579,
           13.473684210526315,
           18.294736842105262,
           19.11578947368421,
           16.568421052631578,
           18.821052631578947,
           14.547368421052632,
           10.547368421052632,
           2.926315789473684,
           13.094736842105261,
           10.821052631578947,
           2.4842105263157896,
           8.063157894736841,
           19.747368421052634,
           4.905263157894737,
           10.505263157894737,
           3.7263157894736847,
           12.021052631578948,
           30.484210526315792,
           32.61052631578947,
           24.08421052631579,
           5.747368421052632,
           3.494736842105263,
           1.831578947368421,
           7.284210526315789,
           7.178947368421053,
           3.0947368421052635,
           4.757894736842106,
           34,
           9.284210526315789,
           2.168421052631579,
           9.178947368421053,
           10.442105263157893,
           3.4526315789473685,
           3.8947368421052633,
           10.063157894736841,
           3.7894736842105265,
           9.010526315789473,
           31.305263157894736,
           3.3473684210526313,
           72.96842105263158,
           38.315789473684205,
           37.05263157894737,
           46.14736842105263,
           16.673684210526314,
           27.66315789473684,
           42.589473684210525,
           6.273684210526316,
           24.31578947368421
          ],
          [
           5.8399602385685885,
           34.69184890656064,
           17.544731610337973,
           31.6351888667992,
           18.961232604373755,
           3.1560636182902586,
           6.312127236580517,
           58.97117296222664,
           2.360834990059642,
           31.088469184890656,
           57.55467196819085,
           1.8638170974155068,
           4.920477137176938,
           3.6779324055666,
           25.894632206759443,
           4.970178926441352,
           53.23061630218688,
           18.93638170974155,
           6.163021868787276,
           3.354870775347912,
           73.45924453280318,
           4.473161033797217,
           4.150099403578529,
           16.84890656063618,
           18.961232604373755,
           3.5288270377733597,
           2.3856858846918487,
           5.666003976143141,
           11.456262425447317,
           9.542743538767395,
           5.5168986083499005,
           16.575546719681906,
           45.80019880715705,
           19.905566600397613,
           49.6520874751491,
           22.39065606361829,
           34.09542743538768,
           11.928429423459244,
           30.66600397614314,
           25.497017892644138,
           20.328031809145127,
           9.791252485089464,
           26.565606361829026,
           16.451292246520875,
           9.269383697813122,
           3.2803180914512926,
           8.399602385685885,
           46.34691848906561,
           18.389662027833,
           19.01093439363817,
           14.115308151093439,
           7.231610337972167,
           59.04572564612326,
           17.072564612326044,
           9.269383697813122,
           20.601391650099405,
           15.283300198807156,
           14.48807157057654,
           12.226640159045726,
           13.543737574552683,
           3.8270377733598413,
           10.636182902584492,
           14.41351888667992,
           2.261431411530815,
           8.623260437375746,
           17.2713717693837,
           4.920477137176938,
           8.722664015904574,
           3.6530815109343937,
           10.43737574552684,
           33.64811133200795,
           28.45427435387674,
           19.25944333996024,
           4.52286282306163,
           8.499005964214712,
           1.9880715705765408,
           4.796222664015905,
           4.398608349900597,
           7.952286282306163,
           7.75347912524851,
           27.907554671968192,
           26.988071570576537,
           2.3111332007952288,
           6.535785288270378,
           13.643141153081512,
           3.354870775347912,
           5.790258449304175,
           5.193836978131213,
           2.0129224652087476,
           5.318091451292246,
           24.055666003976143,
           4.3737574552683895,
           67.9920477137177,
           27.186878727634195,
           38.07157057654075,
           36.97813121272366,
           17.395626242544733,
           29.27435387673956,
           40.87972166998012,
           6.36182902584493,
           25.074552683896624
          ],
          [
           7.5225677031093285,
           39.56870611835506,
           25.050150451354064,
           21.339017051153462,
           29.789368104312942,
           3.3600802407221666,
           9.553660982948847,
           48.24473420260782,
           3.6609829488465397,
           35.05516549648947,
           48.26980942828485,
           4.237713139418255,
           5.917753259779338,
           3.8114343029087263,
           18.004012036108325,
           4.413239719157472,
           78.33500501504514,
           27.632898696088265,
           6.41925777331996,
           6.218655967903711,
           58.45035105315948,
           8.375125376128386,
           4.689067201604814,
           13.99197592778335,
           9.327983951855568,
           5.441323971915748,
           2.3570712136409226,
           7.096288866599799,
           15.57171514543631,
           9.954864593781345,
           3.786359077231695,
           13.665997993981946,
           27.256770310932797,
           25.827482447342025,
           46.26379137412236,
           16.098294884653964,
           39.1173520561685,
           15.220661985957873,
           33.45035105315948,
           32.59779338014042,
           19.408224674022065,
           11.885656970912738,
           39.96990972918756,
           22.216649949849547,
           9.754262788365095,
           4.112337011033099,
           13.716148445336007,
           63.54062186559679,
           24.82447342026078,
           16.72517552657974,
           17.953861584754264,
           8.049147442326982,
           48.72116349047141,
           12.211634904714144,
           8.224674022066198,
           11.158475426278837,
           9.378134403209629,
           12.637913741223672,
           10.75727181544634,
           19.132397191574725,
           2.8335005015045134,
           10.782347041123371,
           26.4543630892678,
           2.683049147442327,
           6.218655967903711,
           18.756268806419257,
           4.663991975927784,
           9.553660982948847,
           2.8084252758274824,
           9.829488465396189,
           24.172517552657975,
           17.201604814443332,
           13.440320962888666,
           6.093279839518555,
           15.697091273821465,
           2.0812437311935805,
           3.7612838515546643,
           4.789368104312939,
           12.963891675025074,
           27.256770310932797,
           25.651955867602812,
           50.075225677031085,
           2.432296890672016,
           7.246740220661986,
           37.938816449348046,
           5.1654964894684054,
           19.834503510531594,
           6.64493480441324,
           2.7582748244734203,
           3.5857572718154462,
           28.58575727181545,
           4.037111334002006,
           78.05917753259779,
           36.18355065195587,
           43.75626880641926,
           40.84754262788365,
           14.543630892678033,
           24.37311935807422,
           51.07823470411233,
           7.246740220661986,
           26.705115346038117
          ],
          [
           6.865974157588041,
           42.386622751456805,
           21.560678996706358,
           38.3582467696985,
           23.43552064859387,
           4.155054471750697,
           10.134279199391944,
           67.24094248796554,
           2.2802128198631872,
           43.374714973397516,
           71.54801114770713,
           1.3681276919179122,
           8.79148720547251,
           5.649860653661008,
           30.833544464149988,
           5.903217633645807,
           44.210793007347355,
           4.079047377755257,
           9.602229541423867,
           5.117810995692931,
           63.38991639219661,
           3.775019001773499,
           6.6632885736002025,
           27.793260704332408,
           8.99417278946035,
           3.4709906257917407,
           2.5842411958449456,
           7.575373701545478,
           15.252090195084875,
           13.757284013174562,
           3.7243476057765394,
           19.50848745882949,
           35.39397010387636,
           24.423612870534583,
           52.52090195084874,
           18.267038256903977,
           33.18976437800861,
           17.329617430960223,
           31.59361540410438,
           28.78135292627312,
           27.793260704332408,
           10.362300481378261,
           38.94096782366354,
           15.049404611097037,
           9.830250823410184,
           2.4322270078540664,
           13.225234355206487,
           56.29592095262225,
           26.349125918419052,
           18.29237395490246,
           15.860146947048392,
           10.86901444134786,
           56.346592348619204,
           16.696224980998224,
           15.049404611097037,
           21.28198631872308,
           18.191031162908537,
           22.194071446668357,
           17.101596148973904,
           11.147707119331137,
           4.4590828477324544,
           16.18951102102863,
           10.61565746136306,
           3.014948061819103,
           11.147707119331137,
           25.918419052444897,
           6.435267291613885,
           14.694704839118316,
           5.092475297694452,
           15.150747403090955,
           38.484925259690904,
           31.5682797061059,
           24.220927286546747,
           7.347352419559158,
           3.749683303775019,
           2.482898403851026,
           6.485938687610844,
           5.4218393716746895,
           3.2936407398023815,
           2.837598175829744,
           40.689130985558656,
           8.538130225487713,
           3.2176336458069423,
           9.095515581454269,
           6.764631365594122,
           5.573853559665569,
           2.5842411958449456,
           8.71548011147707,
           3.166962249809982,
           6.257917405624525,
           37.674182923739544,
           3.7243476057765394,
           74.79098049151254,
           37.92753990372435,
           42.71598682543704,
           53.25563719280466,
           18.520395236888774,
           29.592095262224476,
           51.3301241449202,
           7.246009627565239,
           29.820116544210794
          ],
          [
           7.2766185125735685,
           43.90048154093098,
           22.98020331728197,
           26.64526484751204,
           23.809523809523807,
           3.2370251471375067,
           11.797752808988763,
           52.59497057249867,
           2.8357410379882286,
           40.44943820224719,
           56.90208667736758,
           2.247191011235955,
           6.71482075976458,
           4.360620652755484,
           22.953451043338685,
           5.778491171749598,
           65.08828250401284,
           13.857677902621724,
           7.811663991439273,
           5.858747993579454,
           67.1749598715891,
           12.680577849117174,
           4.628143392188336,
           18.432316746923487,
           11.15569823434992,
           7.490636704119851,
           3.504547886570358,
           10.112359550561797,
           20.278223649010165,
           11.20920278223649,
           4.333868378812198,
           16.613162118780096,
           34.4836811128946,
           27.314071696094167,
           49.67897271268058,
           18.726591760299627,
           44.0342429106474,
           21.910112359550563,
           32.102728731942214,
           37.31942215088282,
           20.518994114499733,
           12.54681647940075,
           44.569288389513105,
           21.69609416800428,
           9.65757089352595,
           3.263777421080792,
           18.325307651150347,
           62.84109149277689,
           25.842696629213485,
           18.45906902086677,
           18.619582664526487,
           10.914927768860354,
           49.518459069020864,
           12.787586944890316,
           9.149277688603531,
           14.526484751203853,
           12.413055109684324,
           15.302300695559124,
           12.867843766720172,
           16.559657570893528,
           3.210272873194221,
           13.456393793472445,
           22.364901016586412,
           2.7822364901016585,
           7.784911717495987,
           21.187800963081862,
           5.591225254146603,
           14.018191546281432,
           4.226859283039058,
           11.985018726591761,
           29.507758159443554,
           21.74959871589085,
           16.934189406099517,
           8.507223113964688,
           17.46923488496522,
           2.354200107009096,
           4.5211342964151955,
           4.574638844301766,
           14.686998394863563,
           10.914927768860354,
           31.942215088282506,
           32.530765115034775,
           2.8089887640449436,
           7.410379882289994,
           17.415730337078653,
           8.801498127340825,
           8.079186730872125,
           6.821829855537722,
           2.701979668271803,
           4.735152487961477,
           34.85821294810059,
           4.119850187265917,
           75.30765115034778,
           36.43659711075441,
           43.28517924023542,
           49.2776886035313,
           16.479400749063668,
           27.554842161583736,
           52.220438737292675,
           6.982343499197431,
           27.768860353130016
          ],
          [
           10.838963963963964,
           36.76801801801802,
           33.164414414414416,
           24.239864864864867,
           36.76801801801802,
           4.110360360360361,
           7.85472972972973,
           53.46283783783784,
           4.504504504504505,
           39.86486486486486,
           54.19481981981982,
           4.335585585585585,
           6.587837837837837,
           4.870495495495495,
           25.788288288288285,
           5.405405405405405,
           59.03716216216216,
           17.989864864864867,
           6.925675675675675,
           6.78490990990991,
           46.70608108108108,
           4.983108108108108,
           5.63063063063063,
           15.79391891891892,
           7.967342342342343,
           3.800675675675676,
           2.505630630630631,
           4.5608108108108105,
           9.90990990990991,
           12.528153153153154,
           3.040540540540541,
           16.019144144144143,
           22.804054054054053,
           23.170045045045047,
           47.015765765765764,
           13.56981981981982,
           30.236486486486484,
           12.443693693693694,
           32.74211711711711,
           21.79054054054054,
           26.97072072072072,
           14.329954954954955,
           30.96846846846847,
           16.07545045045045,
           10.416666666666668,
           3.350225225225225,
           8.220720720720722,
           62.19031531531532,
           22.60698198198198,
           11.993243243243242,
           16.666666666666664,
           5.996621621621621,
           49.0990990990991,
           15.850225225225225,
           10.416666666666668,
           13.034909909909908,
           9.628378378378379,
           15.118243243243242,
           11.683558558558559,
           13.992117117117116,
           3.2939189189189184,
           11.79617117117117,
           14.076576576576578,
           2.5337837837837838,
           9.121621621621621,
           18.86261261261261,
           5.405405405405405,
           11.120495495495495,
           3.350225225225225,
           11.233108108108109,
           29.898648648648653,
           19.98873873873874,
           13.65427927927928,
           4.842342342342342,
           6.221846846846847,
           1.5202702702702704,
           5.123873873873873,
           5.574324324324325,
           5.79954954954955,
           13.147522522522523,
           28.29391891891892,
           25.11261261261261,
           2.1114864864864864,
           7.573198198198199,
           19.90427927927928,
           3.0968468468468466,
           10.022522522522523,
           7.882882882882883,
           2.956081081081081,
           4.391891891891892,
           19.53828828828829,
           3.9977477477477477,
           77.73085585585585,
           40.765765765765764,
           40.93468468468468,
           30.152027027027028,
           10.951576576576578,
           18.524774774774773,
           45.21396396396396,
           6.981981981981981,
           26.745495495495497
          ],
          [
           9.562841530054644,
           38.18306010928962,
           25.37568306010929,
           29.57650273224044,
           27.732240437158467,
           5.601092896174864,
           9.084699453551913,
           66.80327868852459,
           4.200819672131147,
           39.9931693989071,
           68.4084699453552,
           2.185792349726776,
           9.870218579234972,
           5.976775956284152,
           32.99180327868852,
           5.669398907103825,
           45.25273224043716,
           9.221311475409836,
           8.777322404371585,
           5.669398907103825,
           56.62568306010929,
           4.132513661202186,
           6.864754098360656,
           26.331967213114755,
           8.435792349726775,
           3.5177595628415297,
           2.7663934426229506,
           6.796448087431695,
           12.295081967213115,
           16.188524590163937,
           3.790983606557377,
           21.311475409836063,
           28.927595628415297,
           26.400273224043712,
           53.85928961748634,
           15.881147540983607,
           34.18715846994536,
           16.87158469945355,
           34.80191256830601,
           25.512295081967213,
           28.688524590163933,
           14.412568306010929,
           35.040983606557376,
           16.76912568306011,
           14.515027322404372,
           2.698087431693989,
           11.202185792349727,
           56.93306010928961,
           26.707650273224044,
           14.993169398907105,
           18.066939890710383,
           9.528688524590164,
           51.263661202185794,
           20.21857923497268,
           13.456284153005466,
           16.35928961748634,
           13.866120218579233,
           20.32103825136612,
           14.685792349726775,
           13.114754098360656,
           4.67896174863388,
           18.954918032786885,
           12.09016393442623,
           4.474043715846995,
           11.441256830601093,
           27.86885245901639,
           6.4890710382513666,
           13.524590163934427,
           5.498633879781421,
           15.23224043715847,
           37.36338797814208,
           25.136612021857925,
           18.237704918032787,
           6.762295081967213,
           4.5423497267759565,
           2.288251366120219,
           7.035519125683059,
           7.41120218579235,
           3.927595628415301,
           5.532786885245901,
           39.58333333333333,
           12.978142076502733,
           2.8346994535519126,
           11.441256830601093,
           10.758196721311474,
           4.67896174863388,
           4.337431693989071,
           9.426229508196721,
           3.3811475409836067,
           5.942622950819672,
           27.66393442622951,
           4.337431693989071,
           78.27868852459017,
           40.33469945355191,
           46.89207650273224,
           40.47131147540984,
           14.924863387978144,
           21.9603825136612,
           51.434426229508205,
           7.547814207650274,
           33.060109289617486
          ],
          [
           11.939763356041592,
           35.353173180351384,
           31.33739691645751,
           53.53173180351381,
           42.595912513445676,
           6.09537468626748,
           10.326281821441377,
           62.459662961635,
           3.155252778773754,
           41.37683757619218,
           67.22839727500897,
           1.3983506633201863,
           10.039440659734671,
           10.147006095374685,
           30.36930799569738,
           3.872355683040516,
           43.85084259591252,
           4.195051989960559,
           8.031552527787737,
           10.362136966654715,
           49.26496952312657,
           3.2628182144137687,
           9.788454643241305,
           28.074578702043745,
           7.60129078522768,
           2.6532807457870207,
           3.0118321979204015,
           6.704912154894227,
           9.824309788454643,
           16.780207959842237,
           2.6174256005736822,
           18.142703477949084,
           26.78379347436357,
           24.632484761563283,
           48.04589458587307,
           13.409824309788455,
           27.321620652563645,
           15.059160989602008,
           33.95482251703119,
           23.01900322696307,
           43.20544998207242,
           16.098960200788813,
           31.122266045177483,
           15.453567586948727,
           11.258515596988168,
           2.2947292936536394,
           9.752599498027967,
           52.92219433488705,
           26.532807457870206,
           13.696665471495159,
           18.752240946575835,
           7.852276801721048,
           64.2524202223019,
           16.56507708856221,
           24.52491932592327,
           18.60882036572248,
           16.2782359268555,
           18.64467551093582,
           13.553244890641809,
           10.254571531014701,
           3.657224811760488,
           17.999282897095732,
           9.680889207601291,
           3.7289351021871644,
           9.5016134815346,
           27.142344926496953,
           5.808533524560774,
           9.358192900681248,
           4.697024022947293,
           16.134815346002153,
           34.31337396916457,
           36.966654714951595,
           27.895302975977053,
           4.553603442093941,
           3.1911079239870923,
           2.007888131946934,
           7.60129078522768,
           8.103262818214414,
           3.04768734313374,
           4.230907135173897,
           41.23341699533883,
           7.565435640014343,
           2.4022947292936534,
           12.19074937253496,
           9.465758336321262,
           4.051631409107207,
           3.513804230907135,
           43.09788454643241,
           16.098960200788813,
           8.246683399067766,
           29.006812477590532,
           3.9082108282538544,
           79.45500179275726,
           39.6916457511653,
           44.424524919325926,
           42.34492649695231,
           14.879885263535316,
           23.664395840803152,
           49.40839010397992,
           6.09537468626748,
           34.63607027608462
          ],
          [
           7.856093979441997,
           45.88839941262849,
           21.73274596182085,
           33.33333333333333,
           23.017621145374452,
           4.441997063142438,
           16.409691629955947,
           60.68281938325991,
           2.679882525697504,
           37.99559471365639,
           69.34654919236417,
           1.57856093979442,
           9.544787077826726,
           7.599118942731277,
           26.431718061674008,
           6.130690161527165,
           46.51248164464023,
           5.39647577092511,
           12.812041116005874,
           7.63582966226138,
           60.4258443465492,
           7.085168869309838,
           8.737151248164464,
           30.066079295154186,
           6.571218795888399,
           6.4610866372980915,
           4.001468428781204,
           13.876651982378855,
           25.40381791483113,
           13.215859030837004,
           3.81791483113069,
           18.318649045521294,
           32.8928046989721,
           28.524229074889867,
           47.09985315712188,
           14.574155653450807,
           44.860499265785606,
           32.305433186490454,
           30.726872246696036,
           44.82378854625551,
           24.963289280469898,
           10.682819383259911,
           50.14684287812041,
           21.32892804698972,
           11.674008810572687,
           2.7900146842878124,
           22.24669603524229,
           61.60058737151248,
           33.44346549192364,
           21.32892804698972,
           18.3920704845815,
           13.766519823788546,
           42.621145374449334,
           15.38179148311307,
           16.409691629955947,
           18.869309838472834,
           18.355359765051396,
           21.292217327459618,
           16.079295154185022,
           11.930983847283407,
           4.662261380323055,
           18.68575624082232,
           13.362701908957417,
           4.809104258443465,
           8.994126284875184,
           33.627019089574155,
           10.205580029368576,
           14.4640234948605,
           5.359765051395008,
           15.52863436123348,
           30.837004405286343,
           27.019089574155654,
           23.53157121879589,
           11.490455212922173,
           6.424375917767988,
           4.331864904552129,
           5.947136563876652,
           5.469897209985316,
           5.8370044052863435,
           3.9647577092511015,
           43.4654919236417,
           11.380323054331864,
           4.5154185022026425,
           10.38913362701909,
           9.140969162995596,
           11.637298091042585,
           3.81791483113069,
           7.048458149779736,
           2.679882525697504,
           5.726872246696035,
           44.49339207048458,
           4.038179148311307,
           75.99118942731278,
           36.71071953010279,
           54.25844346549192,
           59.03083700440529,
           19.933920704845814,
           28.634361233480178,
           61.45374449339207,
           5.983847283406755,
           33.480176211453745
          ],
          [
           7.649179014817781,
           37.48498197837405,
           20.94513416099319,
           34.52142571085302,
           22.947537044453345,
           6.207448938726472,
           11.533840608730477,
           69.60352422907489,
           2.2827392871445733,
           36.28354024829796,
           73.00760913095715,
           1.5618742490989186,
           9.130957148578293,
           8.049659591509812,
           34.88185822987585,
           5.246295554665599,
           42.01041249499399,
           6.888265919102923,
           10.13215859030837,
           5.206247496996395,
           63.115738886664,
           3.2839407288746494,
           10.01201441730076,
           28.39407288746496,
           10.492591109331197,
           4.325190228273929,
           3.123748498197837,
           8.53023628354025,
           15.93912695234281,
           17.22066479775731,
           3.9247096515818978,
           20.704845814977972,
           35.32238686423708,
           26.111333600320386,
           52.42290748898678,
           15.618742490989188,
           36.72406888265919,
           20.50460552663196,
           34.96195434521426,
           33.11974369243092,
           30.356427713255908,
           11.894273127753303,
           36.04325190228274,
           21.18542250700841,
           13.215859030837004,
           2.8033640368442128,
           12.655186223468162,
           53.66439727673208,
           27.75330396475771,
           19.463356027232678,
           18.622346816179416,
           11.213456147376851,
           50.62074489387265,
           22.90748898678414,
           19.823788546255507,
           20.464557468962756,
           16.900280336403682,
           21.105326391670005,
           15.818982779335203,
           12.975570684821786,
           5.246295554665599,
           18.622346816179416,
           11.17340808970765,
           4.805766920304365,
           12.655186223468162,
           28.55426511814177,
           7.929515418502203,
           10.732879455346415,
           5.967160592711253,
           16.940328394072885,
           41.529835802963554,
           28.994793752503,
           22.3468161794153,
           6.888265919102923,
           4.685622747296756,
           2.643171806167401,
           7.8494193031637955,
           7.889467360833,
           4.004805766920304,
           3.884661593912695,
           42.57108530236284,
           10.332398878654384,
           3.0036043251902282,
           12.214657589106928,
           8.970764917901482,
           5.206247496996395,
           3.644373247897477,
           9.010812975570685,
           3.2038446135362433,
           7.529034841810173,
           28.233880656788145,
           4.565478574289147,
           75.0901081297557,
           34.84181017220665,
           49.539447336804166,
           44.533440128153785,
           18.30196235482579,
           26.231477773327995,
           53.34401281537845,
           5.726872246696035,
           36.8442130556668
          ],
          [
           11.601150527325025,
           42.42569511025887,
           34.851390220517736,
           22.33940556088207,
           39.83700862895494,
           3.978906999041227,
           9.491850431447748,
           47.02780441035475,
           4.554170661553212,
           32.98178331735379,
           48.465963566634706,
           5.465004793863854,
           5.944391179290508,
           5.321188878235858,
           20.086289549376797,
           6.615532118887824,
           67.68935762224353,
           22.24352828379674,
           7.766059443911794,
           8.820709491850431,
           43.672099712368166,
           5.129434324065196,
           6.2320230105465,
           14.04602109300096,
           9.731543624161073,
           4.1227229146692235,
           3.2598274209012463,
           5.512943432406519,
           9.491850431447748,
           10.354745925215724,
           3.4995206136145733,
           14.669223394055608,
           20.949185043144773,
           19.606903163950143,
           39.213806327900286,
           11.984659635666347,
           31.1601150527325,
           11.84084372003835,
           33.17353787152445,
           23.441994247363375,
           22.53116011505273,
           15.244487056567593,
           32.98178331735379,
           16.347075743048897,
           8.389261744966444,
           3.978906999041227,
           9.87535953978907,
           67.16203259827421,
           24.73633748801534,
           12.559923298178333,
           19.942473633748804,
           6.903163950143816,
           50,
           11.984659635666347,
           10.162991371045061,
           11.073825503355705,
           9.683604985618409,
           11.553211888782359,
           9.827420901246404,
           14.285714285714285,
           3.691275167785235,
           10.738255033557047,
           15.771812080536913,
           2.924256951102589,
           6.7114093959731544,
           17.449664429530202,
           5.704697986577181,
           8.964525407478426,
           3.883029721955897,
           9.683604985618409,
           25.071907957814,
           19.12751677852349,
           13.422818791946309,
           6.136145733461169,
           6.85522531160115,
           2.1572387344199426,
           4.650047938638543,
           5.417066155321189,
           6.85522531160115,
           16.155321188878236,
           25.98274209012464,
           30.393096836049853,
           2.3010546500479387,
           7.28667305848514,
           24.30488974113135,
           3.883029721955897,
           12.224352828379674,
           8.724832214765101,
           4.026845637583892,
           4.410354745925216,
           22.96260786193672,
           3.7392138063279003,
           77.75647171620325,
           40.46021093000959,
           41.37104506232023,
           32.118887823585816,
           10.977948226270374,
           19.463087248322147,
           45.49376797698945,
           6.615532118887824,
           24.448705656759348
          ],
          [
           7.628865979381444,
           61.49484536082475,
           20.670103092783503,
           26.134020618556704,
           21.494845360824744,
           4.278350515463917,
           30.20618556701031,
           58.50515463917526,
           3.9690721649484533,
           39.948453608247426,
           65.87628865979381,
           2.0103092783505154,
           9.175257731958762,
           4.587628865979381,
           28.09278350515464,
           9.845360824742269,
           59.896907216494846,
           5.309278350515464,
           16.391752577319586,
           11.237113402061857,
           61.701030927835056,
           7.783505154639175,
           5.206185567010309,
           27.010309278350515,
           6.855670103092784,
           8.8659793814433,
           3.65979381443299,
           18.402061855670105,
           33.76288659793815,
           10.77319587628866,
           3.711340206185567,
           24.690721649484537,
           28.04123711340206,
           28.60824742268041,
           53.76288659793814,
           12.886597938144329,
           49.432989690721655,
           40,
           30.77319587628866,
           50.4639175257732,
           19.948453608247423,
           10.824742268041238,
           63.4020618556701,
           25.670103092783503,
           11.752577319587628,
           3.2989690721649487,
           36.08247422680412,
           74.63917525773196,
           33.298969072164944,
           20.927835051546392,
           20.721649484536083,
           17.422680412371133,
           39.43298969072165,
           15.463917525773196,
           10.463917525773196,
           14.484536082474229,
           14.896907216494846,
           18.04123711340206,
           15.257731958762887,
           16.34020618556701,
           5.206185567010309,
           19.329896907216497,
           20.412371134020617,
           4.896907216494846,
           9.587628865979383,
           28.298969072164947,
           10.257731958762886,
           15.206185567010309,
           6.288659793814433,
           14.793814432989691,
           30.97938144329897,
           20.36082474226804,
           19.02061855670103,
           26.134020618556704,
           7.422680412371134,
           8.041237113402062,
           5.103092783505154,
           5.927835051546391,
           6.494845360824743,
           4.22680412371134,
           42.628865979381445,
           12.216494845360824,
           9.278350515463918,
           9.742268041237114,
           8.350515463917525,
           25.51546391752577,
           3.865979381443299,
           6.701030927835052,
           3.1443298969072164,
           4.587628865979381,
           43.29896907216495,
           5.721649484536083,
           79.84536082474227,
           41.95876288659794,
           50.618556701030926,
           56.34020618556701,
           17.7319587628866,
           25.56701030927835,
           60.567010309278345,
           6.907216494845361,
           30.463917525773194
          ],
          [
           10.606060606060606,
           44.3939393939394,
           23.40909090909091,
           34.84848484848485,
           23.636363636363637,
           7.348484848484849,
           13.863636363636363,
           69.16666666666667,
           3.4090909090909087,
           33.33333333333333,
           72.87878787878788,
           2.727272727272727,
           9.393939393939393,
           9.318181818181818,
           31.515151515151512,
           8.333333333333332,
           45.984848484848484,
           6.8181818181818175,
           12.5,
           7.954545454545454,
           65.07575757575758,
           6.212121212121212,
           10.681818181818182,
           29.772727272727273,
           10.303030303030303,
           6.59090909090909,
           5.227272727272727,
           12.727272727272727,
           21.59090909090909,
           15.757575757575756,
           5.227272727272727,
           22.954545454545457,
           34.54545454545455,
           25.833333333333336,
           49.54545454545455,
           13.712121212121211,
           45.75757575757576,
           29.393939393939394,
           33.63636363636363,
           45.07575757575758,
           31.363636363636367,
           13.560606060606062,
           42.95454545454545,
           24.848484848484848,
           14.696969696969697,
           5,
           19.090909090909093,
           58.86363636363636,
           33.18181818181819,
           24.62121212121212,
           23.03030303030303,
           14.84848484848485,
           44.31818181818182,
           23.863636363636363,
           23.40909090909091,
           20.530303030303028,
           20.303030303030305,
           20.606060606060606,
           15.075757575757576,
           13.560606060606062,
           6.0606060606060606,
           18.409090909090907,
           12.727272727272727,
           5.227272727272727,
           12.424242424242424,
           31.439393939393938,
           10.378787878787879,
           10.303030303030303,
           6.666666666666667,
           19.015151515151516,
           36.43939393939394,
           28.939393939393938,
           26.136363636363637,
           10.53030303030303,
           5.681818181818182,
           3.939393939393939,
           8.409090909090908,
           7.878787878787878,
           4.772727272727273,
           6.4393939393939394,
           43.78787878787879,
           12.878787878787879,
           4.848484848484849,
           15.151515151515152,
           11.363636363636363,
           9.242424242424242,
           5.151515151515151,
           8.787878787878787,
           4.318181818181818,
           8.93939393939394,
           29.09090909090909,
           5.681818181818182,
           75.07575757575758,
           33.25757575757576,
           55.6060606060606,
           43.93939393939394,
           21.06060606060606,
           23.939393939393938,
           59.3939393939394,
           7.196969696969697,
           35
          ],
          [
           9.813084112149532,
           31.15264797507788,
           21.651090342679126,
           25.70093457943925,
           21.339563862928348,
           9.034267912772584,
           10.903426791277258,
           76.63551401869158,
           4.205607476635514,
           32.242990654205606,
           71.02803738317756,
           4.049844236760125,
           9.034267912772584,
           9.345794392523365,
           49.06542056074766,
           7.78816199376947,
           38.62928348909657,
           10.43613707165109,
           11.214953271028037,
           6.230529595015576,
           57.78816199376947,
           5.451713395638629,
           10.12461059190031,
           22.897196261682243,
           13.862928348909657,
           5.919003115264798,
           6.230529595015576,
           7.78816199376947,
           9.968847352024921,
           19.470404984423677,
           5.763239875389408,
           23.98753894080997,
           31.15264797507788,
           24.922118380062305,
           61.37071651090342,
           15.732087227414329,
           30.062305295950154,
           13.239875389408098,
           32.398753894081,
           27.102803738317753,
           30.218068535825545,
           14.018691588785046,
           23.05295950155763,
           25.54517133956386,
           14.641744548286603,
           7.476635514018691,
           10.43613707165109,
           42.36760124610592,
           27.41433021806853,
           18.22429906542056,
           18.53582554517134,
           12.461059190031152,
           47.19626168224299,
           42.36760124610592,
           21.02803738317757,
           19.003115264797508,
           15.42056074766355,
           19.626168224299064,
           16.355140186915886,
           15.109034267912772,
           9.968847352024921,
           19.470404984423677,
           11.993769470404985,
           9.034267912772584,
           18.06853582554517,
           26.635514018691588,
           9.345794392523365,
           9.968847352024921,
           9.190031152647975,
           18.22429906542056,
           45.482866043613704,
           26.168224299065418,
           19.003115264797508,
           7.009345794392523,
           6.853582554517133,
           4.672897196261682,
           9.813084112149532,
           10.59190031152648,
           4.8286604361370715,
           6.074766355140187,
           41.74454828660436,
           11.682242990654206,
           4.517133956386292,
           14.953271028037381,
           11.838006230529595,
           5.451713395638629,
           5.919003115264798,
           11.059190031152648,
           6.853582554517133,
           8.566978193146417,
           19.314641744548286,
           11.370716510903426,
           70.87227414330218,
           28.971962616822427,
           54.04984423676012,
           28.971962616822427,
           18.53582554517134,
           23.364485981308412,
           45.638629283489095,
           11.838006230529595,
           35.3582554517134
          ]
         ]
        }
       ],
       "layout": {
        "height": 700,
        "template": {
         "data": {
          "bar": [
           {
            "error_x": {
             "color": "#2a3f5f"
            },
            "error_y": {
             "color": "#2a3f5f"
            },
            "marker": {
             "line": {
              "color": "#E5ECF6",
              "width": 0.5
             },
             "pattern": {
              "fillmode": "overlay",
              "size": 10,
              "solidity": 0.2
             }
            },
            "type": "bar"
           }
          ],
          "barpolar": [
           {
            "marker": {
             "line": {
              "color": "#E5ECF6",
              "width": 0.5
             },
             "pattern": {
              "fillmode": "overlay",
              "size": 10,
              "solidity": 0.2
             }
            },
            "type": "barpolar"
           }
          ],
          "carpet": [
           {
            "aaxis": {
             "endlinecolor": "#2a3f5f",
             "gridcolor": "white",
             "linecolor": "white",
             "minorgridcolor": "white",
             "startlinecolor": "#2a3f5f"
            },
            "baxis": {
             "endlinecolor": "#2a3f5f",
             "gridcolor": "white",
             "linecolor": "white",
             "minorgridcolor": "white",
             "startlinecolor": "#2a3f5f"
            },
            "type": "carpet"
           }
          ],
          "choropleth": [
           {
            "colorbar": {
             "outlinewidth": 0,
             "ticks": ""
            },
            "type": "choropleth"
           }
          ],
          "contour": [
           {
            "colorbar": {
             "outlinewidth": 0,
             "ticks": ""
            },
            "colorscale": [
             [
              0,
              "#0d0887"
             ],
             [
              0.1111111111111111,
              "#46039f"
             ],
             [
              0.2222222222222222,
              "#7201a8"
             ],
             [
              0.3333333333333333,
              "#9c179e"
             ],
             [
              0.4444444444444444,
              "#bd3786"
             ],
             [
              0.5555555555555556,
              "#d8576b"
             ],
             [
              0.6666666666666666,
              "#ed7953"
             ],
             [
              0.7777777777777778,
              "#fb9f3a"
             ],
             [
              0.8888888888888888,
              "#fdca26"
             ],
             [
              1,
              "#f0f921"
             ]
            ],
            "type": "contour"
           }
          ],
          "contourcarpet": [
           {
            "colorbar": {
             "outlinewidth": 0,
             "ticks": ""
            },
            "type": "contourcarpet"
           }
          ],
          "heatmap": [
           {
            "colorbar": {
             "outlinewidth": 0,
             "ticks": ""
            },
            "colorscale": [
             [
              0,
              "#0d0887"
             ],
             [
              0.1111111111111111,
              "#46039f"
             ],
             [
              0.2222222222222222,
              "#7201a8"
             ],
             [
              0.3333333333333333,
              "#9c179e"
             ],
             [
              0.4444444444444444,
              "#bd3786"
             ],
             [
              0.5555555555555556,
              "#d8576b"
             ],
             [
              0.6666666666666666,
              "#ed7953"
             ],
             [
              0.7777777777777778,
              "#fb9f3a"
             ],
             [
              0.8888888888888888,
              "#fdca26"
             ],
             [
              1,
              "#f0f921"
             ]
            ],
            "type": "heatmap"
           }
          ],
          "heatmapgl": [
           {
            "colorbar": {
             "outlinewidth": 0,
             "ticks": ""
            },
            "colorscale": [
             [
              0,
              "#0d0887"
             ],
             [
              0.1111111111111111,
              "#46039f"
             ],
             [
              0.2222222222222222,
              "#7201a8"
             ],
             [
              0.3333333333333333,
              "#9c179e"
             ],
             [
              0.4444444444444444,
              "#bd3786"
             ],
             [
              0.5555555555555556,
              "#d8576b"
             ],
             [
              0.6666666666666666,
              "#ed7953"
             ],
             [
              0.7777777777777778,
              "#fb9f3a"
             ],
             [
              0.8888888888888888,
              "#fdca26"
             ],
             [
              1,
              "#f0f921"
             ]
            ],
            "type": "heatmapgl"
           }
          ],
          "histogram": [
           {
            "marker": {
             "pattern": {
              "fillmode": "overlay",
              "size": 10,
              "solidity": 0.2
             }
            },
            "type": "histogram"
           }
          ],
          "histogram2d": [
           {
            "colorbar": {
             "outlinewidth": 0,
             "ticks": ""
            },
            "colorscale": [
             [
              0,
              "#0d0887"
             ],
             [
              0.1111111111111111,
              "#46039f"
             ],
             [
              0.2222222222222222,
              "#7201a8"
             ],
             [
              0.3333333333333333,
              "#9c179e"
             ],
             [
              0.4444444444444444,
              "#bd3786"
             ],
             [
              0.5555555555555556,
              "#d8576b"
             ],
             [
              0.6666666666666666,
              "#ed7953"
             ],
             [
              0.7777777777777778,
              "#fb9f3a"
             ],
             [
              0.8888888888888888,
              "#fdca26"
             ],
             [
              1,
              "#f0f921"
             ]
            ],
            "type": "histogram2d"
           }
          ],
          "histogram2dcontour": [
           {
            "colorbar": {
             "outlinewidth": 0,
             "ticks": ""
            },
            "colorscale": [
             [
              0,
              "#0d0887"
             ],
             [
              0.1111111111111111,
              "#46039f"
             ],
             [
              0.2222222222222222,
              "#7201a8"
             ],
             [
              0.3333333333333333,
              "#9c179e"
             ],
             [
              0.4444444444444444,
              "#bd3786"
             ],
             [
              0.5555555555555556,
              "#d8576b"
             ],
             [
              0.6666666666666666,
              "#ed7953"
             ],
             [
              0.7777777777777778,
              "#fb9f3a"
             ],
             [
              0.8888888888888888,
              "#fdca26"
             ],
             [
              1,
              "#f0f921"
             ]
            ],
            "type": "histogram2dcontour"
           }
          ],
          "mesh3d": [
           {
            "colorbar": {
             "outlinewidth": 0,
             "ticks": ""
            },
            "type": "mesh3d"
           }
          ],
          "parcoords": [
           {
            "line": {
             "colorbar": {
              "outlinewidth": 0,
              "ticks": ""
             }
            },
            "type": "parcoords"
           }
          ],
          "pie": [
           {
            "automargin": true,
            "type": "pie"
           }
          ],
          "scatter": [
           {
            "fillpattern": {
             "fillmode": "overlay",
             "size": 10,
             "solidity": 0.2
            },
            "type": "scatter"
           }
          ],
          "scatter3d": [
           {
            "line": {
             "colorbar": {
              "outlinewidth": 0,
              "ticks": ""
             }
            },
            "marker": {
             "colorbar": {
              "outlinewidth": 0,
              "ticks": ""
             }
            },
            "type": "scatter3d"
           }
          ],
          "scattercarpet": [
           {
            "marker": {
             "colorbar": {
              "outlinewidth": 0,
              "ticks": ""
             }
            },
            "type": "scattercarpet"
           }
          ],
          "scattergeo": [
           {
            "marker": {
             "colorbar": {
              "outlinewidth": 0,
              "ticks": ""
             }
            },
            "type": "scattergeo"
           }
          ],
          "scattergl": [
           {
            "marker": {
             "colorbar": {
              "outlinewidth": 0,
              "ticks": ""
             }
            },
            "type": "scattergl"
           }
          ],
          "scattermapbox": [
           {
            "marker": {
             "colorbar": {
              "outlinewidth": 0,
              "ticks": ""
             }
            },
            "type": "scattermapbox"
           }
          ],
          "scatterpolar": [
           {
            "marker": {
             "colorbar": {
              "outlinewidth": 0,
              "ticks": ""
             }
            },
            "type": "scatterpolar"
           }
          ],
          "scatterpolargl": [
           {
            "marker": {
             "colorbar": {
              "outlinewidth": 0,
              "ticks": ""
             }
            },
            "type": "scatterpolargl"
           }
          ],
          "scatterternary": [
           {
            "marker": {
             "colorbar": {
              "outlinewidth": 0,
              "ticks": ""
             }
            },
            "type": "scatterternary"
           }
          ],
          "surface": [
           {
            "colorbar": {
             "outlinewidth": 0,
             "ticks": ""
            },
            "colorscale": [
             [
              0,
              "#0d0887"
             ],
             [
              0.1111111111111111,
              "#46039f"
             ],
             [
              0.2222222222222222,
              "#7201a8"
             ],
             [
              0.3333333333333333,
              "#9c179e"
             ],
             [
              0.4444444444444444,
              "#bd3786"
             ],
             [
              0.5555555555555556,
              "#d8576b"
             ],
             [
              0.6666666666666666,
              "#ed7953"
             ],
             [
              0.7777777777777778,
              "#fb9f3a"
             ],
             [
              0.8888888888888888,
              "#fdca26"
             ],
             [
              1,
              "#f0f921"
             ]
            ],
            "type": "surface"
           }
          ],
          "table": [
           {
            "cells": {
             "fill": {
              "color": "#EBF0F8"
             },
             "line": {
              "color": "white"
             }
            },
            "header": {
             "fill": {
              "color": "#C8D4E3"
             },
             "line": {
              "color": "white"
             }
            },
            "type": "table"
           }
          ]
         },
         "layout": {
          "annotationdefaults": {
           "arrowcolor": "#2a3f5f",
           "arrowhead": 0,
           "arrowwidth": 1
          },
          "autotypenumbers": "strict",
          "coloraxis": {
           "colorbar": {
            "outlinewidth": 0,
            "ticks": ""
           }
          },
          "colorscale": {
           "diverging": [
            [
             0,
             "#8e0152"
            ],
            [
             0.1,
             "#c51b7d"
            ],
            [
             0.2,
             "#de77ae"
            ],
            [
             0.3,
             "#f1b6da"
            ],
            [
             0.4,
             "#fde0ef"
            ],
            [
             0.5,
             "#f7f7f7"
            ],
            [
             0.6,
             "#e6f5d0"
            ],
            [
             0.7,
             "#b8e186"
            ],
            [
             0.8,
             "#7fbc41"
            ],
            [
             0.9,
             "#4d9221"
            ],
            [
             1,
             "#276419"
            ]
           ],
           "sequential": [
            [
             0,
             "#0d0887"
            ],
            [
             0.1111111111111111,
             "#46039f"
            ],
            [
             0.2222222222222222,
             "#7201a8"
            ],
            [
             0.3333333333333333,
             "#9c179e"
            ],
            [
             0.4444444444444444,
             "#bd3786"
            ],
            [
             0.5555555555555556,
             "#d8576b"
            ],
            [
             0.6666666666666666,
             "#ed7953"
            ],
            [
             0.7777777777777778,
             "#fb9f3a"
            ],
            [
             0.8888888888888888,
             "#fdca26"
            ],
            [
             1,
             "#f0f921"
            ]
           ],
           "sequentialminus": [
            [
             0,
             "#0d0887"
            ],
            [
             0.1111111111111111,
             "#46039f"
            ],
            [
             0.2222222222222222,
             "#7201a8"
            ],
            [
             0.3333333333333333,
             "#9c179e"
            ],
            [
             0.4444444444444444,
             "#bd3786"
            ],
            [
             0.5555555555555556,
             "#d8576b"
            ],
            [
             0.6666666666666666,
             "#ed7953"
            ],
            [
             0.7777777777777778,
             "#fb9f3a"
            ],
            [
             0.8888888888888888,
             "#fdca26"
            ],
            [
             1,
             "#f0f921"
            ]
           ]
          },
          "colorway": [
           "#636efa",
           "#EF553B",
           "#00cc96",
           "#ab63fa",
           "#FFA15A",
           "#19d3f3",
           "#FF6692",
           "#B6E880",
           "#FF97FF",
           "#FECB52"
          ],
          "font": {
           "color": "#2a3f5f"
          },
          "geo": {
           "bgcolor": "white",
           "lakecolor": "white",
           "landcolor": "#E5ECF6",
           "showlakes": true,
           "showland": true,
           "subunitcolor": "white"
          },
          "hoverlabel": {
           "align": "left"
          },
          "hovermode": "closest",
          "mapbox": {
           "style": "light"
          },
          "paper_bgcolor": "white",
          "plot_bgcolor": "#E5ECF6",
          "polar": {
           "angularaxis": {
            "gridcolor": "white",
            "linecolor": "white",
            "ticks": ""
           },
           "bgcolor": "#E5ECF6",
           "radialaxis": {
            "gridcolor": "white",
            "linecolor": "white",
            "ticks": ""
           }
          },
          "scene": {
           "xaxis": {
            "backgroundcolor": "#E5ECF6",
            "gridcolor": "white",
            "gridwidth": 2,
            "linecolor": "white",
            "showbackground": true,
            "ticks": "",
            "zerolinecolor": "white"
           },
           "yaxis": {
            "backgroundcolor": "#E5ECF6",
            "gridcolor": "white",
            "gridwidth": 2,
            "linecolor": "white",
            "showbackground": true,
            "ticks": "",
            "zerolinecolor": "white"
           },
           "zaxis": {
            "backgroundcolor": "#E5ECF6",
            "gridcolor": "white",
            "gridwidth": 2,
            "linecolor": "white",
            "showbackground": true,
            "ticks": "",
            "zerolinecolor": "white"
           }
          },
          "shapedefaults": {
           "line": {
            "color": "#2a3f5f"
           }
          },
          "ternary": {
           "aaxis": {
            "gridcolor": "white",
            "linecolor": "white",
            "ticks": ""
           },
           "baxis": {
            "gridcolor": "white",
            "linecolor": "white",
            "ticks": ""
           },
           "bgcolor": "#E5ECF6",
           "caxis": {
            "gridcolor": "white",
            "linecolor": "white",
            "ticks": ""
           }
          },
          "title": {
           "x": 0.05
          },
          "xaxis": {
           "automargin": true,
           "gridcolor": "white",
           "linecolor": "white",
           "ticks": "",
           "title": {
            "standoff": 15
           },
           "zerolinecolor": "white",
           "zerolinewidth": 2
          },
          "yaxis": {
           "automargin": true,
           "gridcolor": "white",
           "linecolor": "white",
           "ticks": "",
           "title": {
            "standoff": 15
           },
           "zerolinecolor": "white",
           "zerolinewidth": 2
          }
         }
        },
        "width": 1600
       }
      }
     },
     "metadata": {},
     "output_type": "display_data"
    }
   ],
   "source": [
    "fig = go.Figure(data=go.Heatmap(z=skills, x=skills.columns,y=skills.index, colorscale='magma', ygap=1))\n",
    "fig.update_layout(width=1600, height=700)\n",
    "fig.show()\n"
   ]
  },
  {
   "cell_type": "code",
   "execution_count": null,
   "metadata": {},
   "outputs": [
    {
     "data": {
      "application/vnd.plotly.v1+json": {
       "config": {
        "plotlyServerURL": "https://plot.ly"
       },
       "data": [
        {
         "hoverinfo": "text",
         "marker": {
          "color": "rgb(0,116,217)"
         },
         "mode": "lines",
         "type": "scatter",
         "x": [
          0,
          56.74044696437166,
          56.74044696437166,
          0
         ],
         "xaxis": "x",
         "y": [
          -15,
          -15,
          -25,
          -25
         ],
         "yaxis": "y"
        },
        {
         "hoverinfo": "text",
         "marker": {
          "color": "rgb(0,116,217)"
         },
         "mode": "lines",
         "type": "scatter",
         "x": [
          0,
          80.22708544468749,
          80.22708544468749,
          56.74044696437166
         ],
         "xaxis": "x",
         "y": [
          -5,
          -5,
          -20,
          -20
         ],
         "yaxis": "y"
        },
        {
         "hoverinfo": "text",
         "marker": {
          "color": "rgb(0,116,217)"
         },
         "mode": "lines",
         "type": "scatter",
         "x": [
          0,
          60.19492612621921,
          60.19492612621921,
          0
         ],
         "xaxis": "x",
         "y": [
          -35,
          -35,
          -45,
          -45
         ],
         "yaxis": "y"
        },
        {
         "hoverinfo": "text",
         "marker": {
          "color": "rgb(0,116,217)"
         },
         "mode": "lines",
         "type": "scatter",
         "x": [
          0,
          25.610857313842114,
          25.610857313842114,
          0
         ],
         "xaxis": "x",
         "y": [
          -65,
          -65,
          -75,
          -75
         ],
         "yaxis": "y"
        },
        {
         "hoverinfo": "text",
         "marker": {
          "color": "rgb(0,116,217)"
         },
         "mode": "lines",
         "type": "scatter",
         "x": [
          0,
          26.52237181528871,
          26.52237181528871,
          0
         ],
         "xaxis": "x",
         "y": [
          -85,
          -85,
          -95,
          -95
         ],
         "yaxis": "y"
        },
        {
         "hoverinfo": "text",
         "marker": {
          "color": "rgb(0,116,217)"
         },
         "mode": "lines",
         "type": "scatter",
         "x": [
          25.610857313842114,
          37.2207320235436,
          37.2207320235436,
          26.52237181528871
         ],
         "xaxis": "x",
         "y": [
          -70,
          -70,
          -90,
          -90
         ],
         "yaxis": "y"
        },
        {
         "hoverinfo": "text",
         "marker": {
          "color": "rgb(0,116,217)"
         },
         "mode": "lines",
         "type": "scatter",
         "x": [
          0,
          39.48727240286117,
          39.48727240286117,
          0
         ],
         "xaxis": "x",
         "y": [
          -105,
          -105,
          -115,
          -115
         ],
         "yaxis": "y"
        },
        {
         "hoverinfo": "text",
         "marker": {
          "color": "rgb(0,116,217)"
         },
         "mode": "lines",
         "type": "scatter",
         "x": [
          37.2207320235436,
          49.63406831124528,
          49.63406831124528,
          39.48727240286117
         ],
         "xaxis": "x",
         "y": [
          -80,
          -80,
          -110,
          -110
         ],
         "yaxis": "y"
        },
        {
         "hoverinfo": "text",
         "marker": {
          "color": "rgb(0,116,217)"
         },
         "mode": "lines",
         "type": "scatter",
         "x": [
          0,
          58.13523123096598,
          58.13523123096598,
          49.63406831124528
         ],
         "xaxis": "x",
         "y": [
          -55,
          -55,
          -95,
          -95
         ],
         "yaxis": "y"
        },
        {
         "hoverinfo": "text",
         "marker": {
          "color": "rgb(0,116,217)"
         },
         "mode": "lines",
         "type": "scatter",
         "x": [
          0,
          21.608202047134856,
          21.608202047134856,
          0
         ],
         "xaxis": "x",
         "y": [
          -145,
          -145,
          -155,
          -155
         ],
         "yaxis": "y"
        },
        {
         "hoverinfo": "text",
         "marker": {
          "color": "rgb(0,116,217)"
         },
         "mode": "lines",
         "type": "scatter",
         "x": [
          0,
          45.339925775336035,
          45.339925775336035,
          21.608202047134856
         ],
         "xaxis": "x",
         "y": [
          -135,
          -135,
          -150,
          -150
         ],
         "yaxis": "y"
        },
        {
         "hoverinfo": "text",
         "marker": {
          "color": "rgb(0,116,217)"
         },
         "mode": "lines",
         "type": "scatter",
         "x": [
          0,
          69.81416508109645,
          69.81416508109645,
          45.339925775336035
         ],
         "xaxis": "x",
         "y": [
          -125,
          -125,
          -142.5,
          -142.5
         ],
         "yaxis": "y"
        },
        {
         "hoverinfo": "text",
         "marker": {
          "color": "rgb(0,116,217)"
         },
         "mode": "lines",
         "type": "scatter",
         "x": [
          58.13523123096598,
          73.45235257661753,
          73.45235257661753,
          69.81416508109645
         ],
         "xaxis": "x",
         "y": [
          -75,
          -75,
          -133.75,
          -133.75
         ],
         "yaxis": "y"
        },
        {
         "hoverinfo": "text",
         "marker": {
          "color": "rgb(0,116,217)"
         },
         "mode": "lines",
         "type": "scatter",
         "x": [
          60.19492612621921,
          88.73248913941538,
          88.73248913941538,
          73.45235257661753
         ],
         "xaxis": "x",
         "y": [
          -40,
          -40,
          -104.375,
          -104.375
         ],
         "yaxis": "y"
        },
        {
         "hoverinfo": "text",
         "marker": {
          "color": "rgb(0,116,217)"
         },
         "mode": "lines",
         "type": "scatter",
         "x": [
          80.22708544468749,
          96.01241477973282,
          96.01241477973282,
          88.73248913941538
         ],
         "xaxis": "x",
         "y": [
          -12.5,
          -12.5,
          -72.1875,
          -72.1875
         ],
         "yaxis": "y"
        },
        {
         "hoverinfo": "text",
         "marker": {
          "color": "rgb(0,116,217)"
         },
         "mode": "lines",
         "type": "scatter",
         "x": [
          0,
          34.7634691450898,
          34.7634691450898,
          0
         ],
         "xaxis": "x",
         "y": [
          -175,
          -175,
          -185,
          -185
         ],
         "yaxis": "y"
        },
        {
         "hoverinfo": "text",
         "marker": {
          "color": "rgb(0,116,217)"
         },
         "mode": "lines",
         "type": "scatter",
         "x": [
          0,
          49.87662672507037,
          49.87662672507037,
          34.7634691450898
         ],
         "xaxis": "x",
         "y": [
          -165,
          -165,
          -180,
          -180
         ],
         "yaxis": "y"
        },
        {
         "hoverinfo": "text",
         "marker": {
          "color": "rgb(0,116,217)"
         },
         "mode": "lines",
         "type": "scatter",
         "x": [
          0,
          25.732766205730577,
          25.732766205730577,
          0
         ],
         "xaxis": "x",
         "y": [
          -195,
          -195,
          -205,
          -205
         ],
         "yaxis": "y"
        },
        {
         "hoverinfo": "text",
         "marker": {
          "color": "rgb(0,116,217)"
         },
         "mode": "lines",
         "type": "scatter",
         "x": [
          0,
          50.00791472861684,
          50.00791472861684,
          0
         ],
         "xaxis": "x",
         "y": [
          -215,
          -215,
          -225,
          -225
         ],
         "yaxis": "y"
        },
        {
         "hoverinfo": "text",
         "marker": {
          "color": "rgb(0,116,217)"
         },
         "mode": "lines",
         "type": "scatter",
         "x": [
          25.732766205730577,
          61.798758870672515,
          61.798758870672515,
          50.00791472861684
         ],
         "xaxis": "x",
         "y": [
          -200,
          -200,
          -220,
          -220
         ],
         "yaxis": "y"
        },
        {
         "hoverinfo": "text",
         "marker": {
          "color": "rgb(0,116,217)"
         },
         "mode": "lines",
         "type": "scatter",
         "x": [
          49.87662672507037,
          110.07650007328604,
          110.07650007328604,
          61.798758870672515
         ],
         "xaxis": "x",
         "y": [
          -172.5,
          -172.5,
          -210,
          -210
         ],
         "yaxis": "y"
        },
        {
         "hoverinfo": "text",
         "marker": {
          "color": "rgb(0,116,217)"
         },
         "mode": "lines",
         "type": "scatter",
         "x": [
          96.01241477973282,
          124.88813635087034,
          124.88813635087034,
          110.07650007328604
         ],
         "xaxis": "x",
         "y": [
          -42.34375,
          -42.34375,
          -191.25,
          -191.25
         ],
         "yaxis": "y"
        }
       ],
       "layout": {
        "autosize": false,
        "height": 1000,
        "hovermode": "closest",
        "showlegend": false,
        "template": {
         "data": {
          "bar": [
           {
            "error_x": {
             "color": "#2a3f5f"
            },
            "error_y": {
             "color": "#2a3f5f"
            },
            "marker": {
             "line": {
              "color": "#E5ECF6",
              "width": 0.5
             },
             "pattern": {
              "fillmode": "overlay",
              "size": 10,
              "solidity": 0.2
             }
            },
            "type": "bar"
           }
          ],
          "barpolar": [
           {
            "marker": {
             "line": {
              "color": "#E5ECF6",
              "width": 0.5
             },
             "pattern": {
              "fillmode": "overlay",
              "size": 10,
              "solidity": 0.2
             }
            },
            "type": "barpolar"
           }
          ],
          "carpet": [
           {
            "aaxis": {
             "endlinecolor": "#2a3f5f",
             "gridcolor": "white",
             "linecolor": "white",
             "minorgridcolor": "white",
             "startlinecolor": "#2a3f5f"
            },
            "baxis": {
             "endlinecolor": "#2a3f5f",
             "gridcolor": "white",
             "linecolor": "white",
             "minorgridcolor": "white",
             "startlinecolor": "#2a3f5f"
            },
            "type": "carpet"
           }
          ],
          "choropleth": [
           {
            "colorbar": {
             "outlinewidth": 0,
             "ticks": ""
            },
            "type": "choropleth"
           }
          ],
          "contour": [
           {
            "colorbar": {
             "outlinewidth": 0,
             "ticks": ""
            },
            "colorscale": [
             [
              0,
              "#0d0887"
             ],
             [
              0.1111111111111111,
              "#46039f"
             ],
             [
              0.2222222222222222,
              "#7201a8"
             ],
             [
              0.3333333333333333,
              "#9c179e"
             ],
             [
              0.4444444444444444,
              "#bd3786"
             ],
             [
              0.5555555555555556,
              "#d8576b"
             ],
             [
              0.6666666666666666,
              "#ed7953"
             ],
             [
              0.7777777777777778,
              "#fb9f3a"
             ],
             [
              0.8888888888888888,
              "#fdca26"
             ],
             [
              1,
              "#f0f921"
             ]
            ],
            "type": "contour"
           }
          ],
          "contourcarpet": [
           {
            "colorbar": {
             "outlinewidth": 0,
             "ticks": ""
            },
            "type": "contourcarpet"
           }
          ],
          "heatmap": [
           {
            "colorbar": {
             "outlinewidth": 0,
             "ticks": ""
            },
            "colorscale": [
             [
              0,
              "#0d0887"
             ],
             [
              0.1111111111111111,
              "#46039f"
             ],
             [
              0.2222222222222222,
              "#7201a8"
             ],
             [
              0.3333333333333333,
              "#9c179e"
             ],
             [
              0.4444444444444444,
              "#bd3786"
             ],
             [
              0.5555555555555556,
              "#d8576b"
             ],
             [
              0.6666666666666666,
              "#ed7953"
             ],
             [
              0.7777777777777778,
              "#fb9f3a"
             ],
             [
              0.8888888888888888,
              "#fdca26"
             ],
             [
              1,
              "#f0f921"
             ]
            ],
            "type": "heatmap"
           }
          ],
          "heatmapgl": [
           {
            "colorbar": {
             "outlinewidth": 0,
             "ticks": ""
            },
            "colorscale": [
             [
              0,
              "#0d0887"
             ],
             [
              0.1111111111111111,
              "#46039f"
             ],
             [
              0.2222222222222222,
              "#7201a8"
             ],
             [
              0.3333333333333333,
              "#9c179e"
             ],
             [
              0.4444444444444444,
              "#bd3786"
             ],
             [
              0.5555555555555556,
              "#d8576b"
             ],
             [
              0.6666666666666666,
              "#ed7953"
             ],
             [
              0.7777777777777778,
              "#fb9f3a"
             ],
             [
              0.8888888888888888,
              "#fdca26"
             ],
             [
              1,
              "#f0f921"
             ]
            ],
            "type": "heatmapgl"
           }
          ],
          "histogram": [
           {
            "marker": {
             "pattern": {
              "fillmode": "overlay",
              "size": 10,
              "solidity": 0.2
             }
            },
            "type": "histogram"
           }
          ],
          "histogram2d": [
           {
            "colorbar": {
             "outlinewidth": 0,
             "ticks": ""
            },
            "colorscale": [
             [
              0,
              "#0d0887"
             ],
             [
              0.1111111111111111,
              "#46039f"
             ],
             [
              0.2222222222222222,
              "#7201a8"
             ],
             [
              0.3333333333333333,
              "#9c179e"
             ],
             [
              0.4444444444444444,
              "#bd3786"
             ],
             [
              0.5555555555555556,
              "#d8576b"
             ],
             [
              0.6666666666666666,
              "#ed7953"
             ],
             [
              0.7777777777777778,
              "#fb9f3a"
             ],
             [
              0.8888888888888888,
              "#fdca26"
             ],
             [
              1,
              "#f0f921"
             ]
            ],
            "type": "histogram2d"
           }
          ],
          "histogram2dcontour": [
           {
            "colorbar": {
             "outlinewidth": 0,
             "ticks": ""
            },
            "colorscale": [
             [
              0,
              "#0d0887"
             ],
             [
              0.1111111111111111,
              "#46039f"
             ],
             [
              0.2222222222222222,
              "#7201a8"
             ],
             [
              0.3333333333333333,
              "#9c179e"
             ],
             [
              0.4444444444444444,
              "#bd3786"
             ],
             [
              0.5555555555555556,
              "#d8576b"
             ],
             [
              0.6666666666666666,
              "#ed7953"
             ],
             [
              0.7777777777777778,
              "#fb9f3a"
             ],
             [
              0.8888888888888888,
              "#fdca26"
             ],
             [
              1,
              "#f0f921"
             ]
            ],
            "type": "histogram2dcontour"
           }
          ],
          "mesh3d": [
           {
            "colorbar": {
             "outlinewidth": 0,
             "ticks": ""
            },
            "type": "mesh3d"
           }
          ],
          "parcoords": [
           {
            "line": {
             "colorbar": {
              "outlinewidth": 0,
              "ticks": ""
             }
            },
            "type": "parcoords"
           }
          ],
          "pie": [
           {
            "automargin": true,
            "type": "pie"
           }
          ],
          "scatter": [
           {
            "fillpattern": {
             "fillmode": "overlay",
             "size": 10,
             "solidity": 0.2
            },
            "type": "scatter"
           }
          ],
          "scatter3d": [
           {
            "line": {
             "colorbar": {
              "outlinewidth": 0,
              "ticks": ""
             }
            },
            "marker": {
             "colorbar": {
              "outlinewidth": 0,
              "ticks": ""
             }
            },
            "type": "scatter3d"
           }
          ],
          "scattercarpet": [
           {
            "marker": {
             "colorbar": {
              "outlinewidth": 0,
              "ticks": ""
             }
            },
            "type": "scattercarpet"
           }
          ],
          "scattergeo": [
           {
            "marker": {
             "colorbar": {
              "outlinewidth": 0,
              "ticks": ""
             }
            },
            "type": "scattergeo"
           }
          ],
          "scattergl": [
           {
            "marker": {
             "colorbar": {
              "outlinewidth": 0,
              "ticks": ""
             }
            },
            "type": "scattergl"
           }
          ],
          "scattermapbox": [
           {
            "marker": {
             "colorbar": {
              "outlinewidth": 0,
              "ticks": ""
             }
            },
            "type": "scattermapbox"
           }
          ],
          "scatterpolar": [
           {
            "marker": {
             "colorbar": {
              "outlinewidth": 0,
              "ticks": ""
             }
            },
            "type": "scatterpolar"
           }
          ],
          "scatterpolargl": [
           {
            "marker": {
             "colorbar": {
              "outlinewidth": 0,
              "ticks": ""
             }
            },
            "type": "scatterpolargl"
           }
          ],
          "scatterternary": [
           {
            "marker": {
             "colorbar": {
              "outlinewidth": 0,
              "ticks": ""
             }
            },
            "type": "scatterternary"
           }
          ],
          "surface": [
           {
            "colorbar": {
             "outlinewidth": 0,
             "ticks": ""
            },
            "colorscale": [
             [
              0,
              "#0d0887"
             ],
             [
              0.1111111111111111,
              "#46039f"
             ],
             [
              0.2222222222222222,
              "#7201a8"
             ],
             [
              0.3333333333333333,
              "#9c179e"
             ],
             [
              0.4444444444444444,
              "#bd3786"
             ],
             [
              0.5555555555555556,
              "#d8576b"
             ],
             [
              0.6666666666666666,
              "#ed7953"
             ],
             [
              0.7777777777777778,
              "#fb9f3a"
             ],
             [
              0.8888888888888888,
              "#fdca26"
             ],
             [
              1,
              "#f0f921"
             ]
            ],
            "type": "surface"
           }
          ],
          "table": [
           {
            "cells": {
             "fill": {
              "color": "#EBF0F8"
             },
             "line": {
              "color": "white"
             }
            },
            "header": {
             "fill": {
              "color": "#C8D4E3"
             },
             "line": {
              "color": "white"
             }
            },
            "type": "table"
           }
          ]
         },
         "layout": {
          "annotationdefaults": {
           "arrowcolor": "#2a3f5f",
           "arrowhead": 0,
           "arrowwidth": 1
          },
          "autotypenumbers": "strict",
          "coloraxis": {
           "colorbar": {
            "outlinewidth": 0,
            "ticks": ""
           }
          },
          "colorscale": {
           "diverging": [
            [
             0,
             "#8e0152"
            ],
            [
             0.1,
             "#c51b7d"
            ],
            [
             0.2,
             "#de77ae"
            ],
            [
             0.3,
             "#f1b6da"
            ],
            [
             0.4,
             "#fde0ef"
            ],
            [
             0.5,
             "#f7f7f7"
            ],
            [
             0.6,
             "#e6f5d0"
            ],
            [
             0.7,
             "#b8e186"
            ],
            [
             0.8,
             "#7fbc41"
            ],
            [
             0.9,
             "#4d9221"
            ],
            [
             1,
             "#276419"
            ]
           ],
           "sequential": [
            [
             0,
             "#0d0887"
            ],
            [
             0.1111111111111111,
             "#46039f"
            ],
            [
             0.2222222222222222,
             "#7201a8"
            ],
            [
             0.3333333333333333,
             "#9c179e"
            ],
            [
             0.4444444444444444,
             "#bd3786"
            ],
            [
             0.5555555555555556,
             "#d8576b"
            ],
            [
             0.6666666666666666,
             "#ed7953"
            ],
            [
             0.7777777777777778,
             "#fb9f3a"
            ],
            [
             0.8888888888888888,
             "#fdca26"
            ],
            [
             1,
             "#f0f921"
            ]
           ],
           "sequentialminus": [
            [
             0,
             "#0d0887"
            ],
            [
             0.1111111111111111,
             "#46039f"
            ],
            [
             0.2222222222222222,
             "#7201a8"
            ],
            [
             0.3333333333333333,
             "#9c179e"
            ],
            [
             0.4444444444444444,
             "#bd3786"
            ],
            [
             0.5555555555555556,
             "#d8576b"
            ],
            [
             0.6666666666666666,
             "#ed7953"
            ],
            [
             0.7777777777777778,
             "#fb9f3a"
            ],
            [
             0.8888888888888888,
             "#fdca26"
            ],
            [
             1,
             "#f0f921"
            ]
           ]
          },
          "colorway": [
           "#636efa",
           "#EF553B",
           "#00cc96",
           "#ab63fa",
           "#FFA15A",
           "#19d3f3",
           "#FF6692",
           "#B6E880",
           "#FF97FF",
           "#FECB52"
          ],
          "font": {
           "color": "#2a3f5f"
          },
          "geo": {
           "bgcolor": "white",
           "lakecolor": "white",
           "landcolor": "#E5ECF6",
           "showlakes": true,
           "showland": true,
           "subunitcolor": "white"
          },
          "hoverlabel": {
           "align": "left"
          },
          "hovermode": "closest",
          "mapbox": {
           "style": "light"
          },
          "paper_bgcolor": "white",
          "plot_bgcolor": "#E5ECF6",
          "polar": {
           "angularaxis": {
            "gridcolor": "white",
            "linecolor": "white",
            "ticks": ""
           },
           "bgcolor": "#E5ECF6",
           "radialaxis": {
            "gridcolor": "white",
            "linecolor": "white",
            "ticks": ""
           }
          },
          "scene": {
           "xaxis": {
            "backgroundcolor": "#E5ECF6",
            "gridcolor": "white",
            "gridwidth": 2,
            "linecolor": "white",
            "showbackground": true,
            "ticks": "",
            "zerolinecolor": "white"
           },
           "yaxis": {
            "backgroundcolor": "#E5ECF6",
            "gridcolor": "white",
            "gridwidth": 2,
            "linecolor": "white",
            "showbackground": true,
            "ticks": "",
            "zerolinecolor": "white"
           },
           "zaxis": {
            "backgroundcolor": "#E5ECF6",
            "gridcolor": "white",
            "gridwidth": 2,
            "linecolor": "white",
            "showbackground": true,
            "ticks": "",
            "zerolinecolor": "white"
           }
          },
          "shapedefaults": {
           "line": {
            "color": "#2a3f5f"
           }
          },
          "ternary": {
           "aaxis": {
            "gridcolor": "white",
            "linecolor": "white",
            "ticks": ""
           },
           "baxis": {
            "gridcolor": "white",
            "linecolor": "white",
            "ticks": ""
           },
           "bgcolor": "#E5ECF6",
           "caxis": {
            "gridcolor": "white",
            "linecolor": "white",
            "ticks": ""
           }
          },
          "title": {
           "x": 0.05
          },
          "xaxis": {
           "automargin": true,
           "gridcolor": "white",
           "linecolor": "white",
           "ticks": "",
           "title": {
            "standoff": 15
           },
           "zerolinecolor": "white",
           "zerolinewidth": 2
          },
          "yaxis": {
           "automargin": true,
           "gridcolor": "white",
           "linecolor": "white",
           "ticks": "",
           "title": {
            "standoff": 15
           },
           "zerolinecolor": "white",
           "zerolinewidth": 2
          }
         }
        },
        "width": 800,
        "xaxis": {
         "mirror": "allticks",
         "rangemode": "tozero",
         "showgrid": false,
         "showline": true,
         "showticklabels": true,
         "ticks": "outside",
         "type": "linear",
         "zeroline": false
        },
        "yaxis": {
         "mirror": "allticks",
         "rangemode": "tozero",
         "showgrid": false,
         "showline": true,
         "showticklabels": true,
         "tickmode": "array",
         "ticks": "outside",
         "ticktext": [
          "Developer, mobile",
          "Developer, embedded applications or devices",
          "Developer, game or graphics",
          "Developer, desktop or enterprise applications",
          "Data or business analyst",
          "Senior executive/VP",
          "Developer, back-end",
          "Developer, QA or test",
          "Educator",
          "Product manager",
          "Database administrator",
          "System administrator",
          "Marketing or sales professional",
          "Designer",
          "Developer, full-stack",
          "Developer, front-end",
          "Engineer, site reliability",
          "DevOps specialist",
          "Engineering manager",
          "Academic researcher",
          "Scientist",
          "Data scientist or machine learning specialist",
          "Engineer, data"
         ],
         "tickvals": [
          -5,
          -15,
          -25,
          -35,
          -45,
          -55,
          -65,
          -75,
          -85,
          -95,
          -105,
          -115,
          -125,
          -135,
          -145,
          -155,
          -165,
          -175,
          -185,
          -195,
          -205,
          -215,
          -225
         ],
         "type": "linear",
         "zeroline": false
        }
       }
      }
     },
     "metadata": {},
     "output_type": "display_data"
    }
   ],
   "source": [
    "fig= ff.create_dendrogram(skills,orientation='left',labels=skills.index,color_threshold=0.5)\n",
    "fig.update_layout(width=800,height=1000)\n",
    "fig.show()\n"
   ]
  },
  {
   "attachments": {},
   "cell_type": "markdown",
   "metadata": {},
   "source": [
    "## Normalization"
   ]
  },
  {
   "cell_type": "code",
   "execution_count": null,
   "metadata": {},
   "outputs": [
    {
     "data": {
      "application/vnd.plotly.v1+json": {
       "config": {
        "plotlyServerURL": "https://plot.ly"
       },
       "data": [
        {
         "colorscale": [
          [
           0,
           "#000004"
          ],
          [
           0.1111111111111111,
           "#180f3d"
          ],
          [
           0.2222222222222222,
           "#440f76"
          ],
          [
           0.3333333333333333,
           "#721f81"
          ],
          [
           0.4444444444444444,
           "#9e2f7f"
          ],
          [
           0.5555555555555556,
           "#cd4071"
          ],
          [
           0.6666666666666666,
           "#f1605d"
          ],
          [
           0.7777777777777778,
           "#fd9668"
          ],
          [
           0.8888888888888888,
           "#feca8d"
          ],
          [
           1,
           "#fcfdbf"
          ]
         ],
         "type": "heatmap",
         "x": [
          "Assembly",
          "Bash/Shell/PowerShell",
          "C",
          "C#",
          "C++",
          "Dart",
          "Go",
          "HTML/CSS",
          "Haskell",
          "Java",
          "JavaScript",
          "Julia",
          "Kotlin",
          "Objective-C",
          "PHP",
          "Perl",
          "Python",
          "R",
          "Ruby",
          "Rust",
          "SQL",
          "Scala",
          "Swift",
          "TypeScript",
          "VBA",
          "Cassandra",
          "Couchbase",
          "DynamoDB",
          "Elasticsearch",
          "Firebase",
          "IBM DB2",
          "MariaDB",
          "Microsoft SQL Server",
          "MongoDB",
          "MySQL",
          "Oracle",
          "PostgreSQL",
          "Redis",
          "SQLite",
          "AWS",
          "Android",
          "Arduino",
          "Docker",
          "Google Cloud Platform",
          "Heroku",
          "IBM Cloud or Watson",
          "Kubernetes",
          "Linux",
          "MacOS",
          "Microsoft Azure",
          "Raspberry Pi",
          "Slack Apps and Integrations",
          "Windows",
          "WordPress",
          "iOS",
          "ASP.NET",
          "ASP.NET Core",
          "Angular",
          "Angular.js",
          "Django",
          "Drupal",
          "Express",
          "Flask",
          "Gatsby",
          "Laravel",
          "React.js",
          "Ruby on Rails",
          "Spring",
          "Symfony",
          "Vue.js",
          "jQuery",
          ".NET",
          ".NET Core",
          "Ansible",
          "Apache Spark",
          "Chef",
          "Cordova",
          "Flutter",
          "Hadoop",
          "Keras",
          "Node.js",
          "Pandas",
          "Puppet",
          "React Native",
          "TensorFlow",
          "Teraform",
          "Torch/PyTorch",
          "Unity 3D",
          "Unreal Engine",
          "Xamarin",
          "Confluence",
          "Facebook Workplace",
          "Github",
          "Gitlab",
          "Google Suite (Docs, Meet, etc)",
          "Jira",
          "Microsoft Azure",
          "Microsoft Teams",
          "Slack",
          "Stack Overflow for Teams",
          "Trello"
         ],
         "y": [
          "Developer, back-end",
          "Developer, full-stack",
          "Developer, front-end",
          "Developer, desktop or enterprise applications",
          "Developer, mobile",
          "DevOps specialist",
          "Database administrator",
          "Designer",
          "System administrator",
          "Developer, embedded applications or devices",
          "Data or business analyst",
          "Data scientist or machine learning specialist",
          "Developer, QA or test",
          "Engineer, data",
          "Academic researcher",
          "Educator",
          "Developer, game or graphics",
          "Engineering manager",
          "Product manager",
          "Scientist",
          "Engineer, site reliability",
          "Senior executive/VP",
          "Marketing or sales professional"
         ],
         "ygap": 1,
         "z": [
          [
           -1.1661249564421348,
           -0.519501256982442,
           -0.8676450383217279,
           0.057036539741315014,
           -0.7902730868723309,
           -0.8124562545348717,
           -0.047546559441794124,
           -0.2464031948167877,
           -0.8596320921379136,
           0.5031753604393114,
           0.25485204093466035,
           -0.9624841583926041,
           -0.3353838951322935,
           -1.0108610741417343,
           -0.2663731414662558,
           -1.040693820744893,
           -0.6613663565398269,
           -0.7187108731647673,
           -0.3527191934632742,
           -0.41759617473238264,
           0.1738183073886134,
           -0.04369047917103876,
           -0.7800493424719541,
           0.32269878896512255,
           -1.1404717958753505,
           -0.322148247537999,
           -0.9179528630730575,
           -0.08701707803109625,
           0.12926898043263427,
           -0.7341852631479567,
           -1.0668036561237277,
           -0.4696962818464279,
           -0.0032724241018059117,
           -0.05825822833144959,
           -0.2160058414879583,
           0.04008612867442746,
           0.2021726090443377,
           0.3091029625693188,
           -1.4512054904692597,
           -0.046793451276218576,
           -0.7262821694052018,
           -1.2527533348433504,
           0.34497783437229285,
           -0.9263341683861036,
           -0.26828030408817194,
           -1.0648550884141939,
           0.017889036398258625,
           -0.11928897796408187,
           -0.516028192044482,
           -0.40222741250588934,
           -1.1687633465001055,
           -0.5117713679629426,
           -0.4414522601905721,
           -0.7365527663090375,
           -0.8026671475883951,
           0.22095511978924928,
           0.47377125224989364,
           0.2550477706009246,
           -0.5486168280702572,
           -0.5440817833211196,
           -0.9498203947242574,
           -0.08936243509972772,
           -0.40681971677627515,
           -0.7529672821880399,
           -0.051168800738484274,
           0.026354045659640304,
           -0.31592048663946476,
           1.7145515287944324,
           -0.33940637077067254,
           -0.1656007234615197,
           -0.06432188127629353,
           -0.021356398930997295,
           0.2299011733149527,
           -0.26677455838806285,
           -0.4684403684792388,
           -0.6617654426169984,
           -1.0221919038104206,
           -0.9041670956329855,
           -0.5248018044055891,
           -0.5381227954058189,
           -0.11528503019380197,
           -0.5127089510914018,
           -0.6800705254963816,
           -0.7229595583468477,
           -0.6608707202321541,
           -0.1649914092145592,
           -0.6459936354463472,
           -0.46365647196034143,
           -0.6747636869884557,
           -0.8715990802457462,
           0.5849117595301991,
           -0.7701164051414275,
           -0.26195154284451067,
           0.06922832635335607,
           -0.8279445271568264,
           0.7296397534749715,
           -0.3322303560650201,
           -0.0007540039527649849,
           0.2737372597241065,
           -1.0770665797284862,
           -0.4193728321918958
          ],
          [
           -1.4944689247376166,
           -0.7723413853107183,
           -1.2459349119431704,
           0.3615675649363663,
           -1.1558932604531549,
           -0.5501107042476483,
           -0.42952455123416833,
           1.181562721341351,
           -1.1865004697799975,
           -0.25218274791617257,
           1.6328742525126445,
           -0.998686951958837,
           -0.5200015393193347,
           -0.9954005478426404,
           0.04140492580016088,
           -1.3776397996931304,
           -0.9734436943084728,
           -0.7608331768163772,
           -0.16734318089156563,
           -0.8530599425626108,
           0.25521409168283005,
           -0.643607860983874,
           -0.696727864088616,
           1.7706789190588552,
           -1.1215454337145279,
           -0.887127643899002,
           -0.9825737953962002,
           -0.1964362707932032,
           -0.14099789679548355,
           -0.17523735465998277,
           -1.1748704648212658,
           -0.531764993464189,
           0.3024856411920747,
           0.8924221307076025,
           -0.04758985227125882,
           -0.3258333113790514,
           0.06109230582274699,
           0.1936387922220691,
           -1.6233643151262012,
           -0.0345013834761433,
           -0.53776165955892,
           -1.289950887412739,
           0.1441498793954312,
           -0.8911856414247757,
           0.9093000299900243,
           -1.0525063081887462,
           -0.22908453744831989,
           -0.615175043616036,
           -0.32705011860920985,
           0.022461864589379654,
           -1.218630660190263,
           -0.4868233710840253,
           -0.3413513974819931,
           -0.4121056431171265,
           -0.5301514508237175,
           0.8684345745677416,
           1.0730212749338295,
           1.7413095812790773,
           1.135784147232188,
           -0.7559833971406741,
           -0.7338369630637893,
           1.5330300384104698,
           -0.638015847537135,
           0.24958643406640976,
           0.25490448370366225,
           1.717211652443688,
           0.11325845827002812,
           1.1660514114639828,
           -0.38639027952653215,
           1.1161246186534848,
           0.9685666149576895,
           0.25647122852205667,
           0.5820316854862334,
           -0.502985274457706,
           -0.7687941332464802,
           -0.7630998347472594,
           -0.2552682634035317,
           -0.5549624875021671,
           -0.8297172463280457,
           -0.6146629592930096,
           1.3894939010985332,
           -0.6459473516603103,
           -0.829346331720507,
           0.14618087099041466,
           -0.7373500142603641,
           -0.3634692435617572,
           -0.7218684948774893,
           -0.4286721269623342,
           -0.6581363087016707,
           -0.6565701933922728,
           0.2851911339486922,
           -0.8735861024831539,
           0.09736947409908958,
           -0.24804199894795498,
           -0.7226147102857323,
           0.5279327590318444,
           0.14569746086585542,
           0.2811648767616525,
           0.44031715413838984,
           -1.1124041536471079,
           0.11051484062229887
          ],
          [
           -1.4476283236376843,
           -1.2483849301335914,
           -1.2111195565508457,
           -0.005229114728715531,
           -1.1807385756365896,
           -0.30021378067536625,
           -0.7581089711791009,
           1.7031821986197966,
           -1.2650100534417519,
           -1.004035016287044,
           1.8540445377664525,
           -1.0457023653465787,
           -0.5180902990881168,
           -0.6725716792197098,
           0.3698272220927008,
           -1.521820474447956,
           -1.391300850174468,
           -0.8106347051587444,
           -0.6365732795568845,
           -1.1426995090906509,
           -0.4295329579446723,
           -1.0151892868134802,
           -0.4057304914249124,
           2.0456700637730476,
           -0.9378107596613239,
           -1.2821003992881266,
           -1.1321301773646606,
           -0.6318872147432958,
           -0.614566425326209,
           0.47031118553286705,
           -1.4949815714209396,
           -0.6318358094795616,
           -0.2447804314044423,
           0.7958903630300515,
           0.07734055793185543,
           -0.8172232253415943,
           -0.7156472224483204,
           -0.4022128120375236,
           -1.7527749166971005,
           -0.6240954884042559,
           -0.20865630616188396,
           -1.1822802083145383,
           -0.47516200586250174,
           -1.0223113552761847,
           0.9145630917989248,
           -1.0692019551214271,
           -0.6434916587380528,
           -1.2378984960233972,
           -0.2579114815130012,
           -0.7346315955284561,
           -1.428449934856393,
           -0.5959870059622313,
           -0.33813689312986034,
           0.12067544718875776,
           -0.16463205722127236,
           0.3815872596498843,
           0.30973135711343924,
           2.160494820409645,
           1.6644297140502295,
           -1.2483573195568463,
           -0.4598614956909305,
           1.85190061524476,
           -1.1168832199565304,
           1.0111013106475797,
           0.3682151062066598,
           2.3733779784987106,
           -0.4362798685490129,
           -0.14757083014447206,
           -0.4247211117984217,
           1.5537390025201565,
           1.2023981793026997,
           -0.11221381645506949,
           -0.0016058942431182663,
           -0.7653578988173736,
           -0.9648695230879832,
           -1.0094960755172,
           0.3944627628733134,
           -0.3061269354210232,
           -1.0140407435060421,
           -0.7079828908945823,
           1.700261532062127,
           -0.8218247224004872,
           -0.9125303619578699,
           0.8064291495766324,
           -0.8397487815974339,
           -0.6543262940659105,
           -0.8182229537567128,
           -0.3071851600092834,
           -0.5599246715157874,
           -0.5292121275125666,
           -0.10935286075169705,
           -0.6139992643324932,
           0.20561591332025025,
           -0.2739166787625251,
           -0.6591788314413438,
           0.24565526875992613,
           -0.36968757778939226,
           -0.1685524036808202,
           0.23218494133810014,
           -0.5993895687341634,
           0.3773088158042073
          ],
          [
           -0.4390487449982483,
           -0.4627259732795109,
           -0.08326111889993097,
           2.2978729183169833,
           0.29484765484397063,
           -0.6596101299959826,
           -0.6858700098146846,
           -0.25528099713818525,
           -1.0198180746568855,
           0.721009666030087,
           -0.14902308635661396,
           -0.8458580363506252,
           -0.4542098984540094,
           -0.40374369695592216,
           -1.113972253328595,
           -0.9419440473207829,
           -0.9814905238253047,
           -0.7100637781750535,
           -1.376068068699013,
           -0.4391567541183511,
           0.2526327888030118,
           -0.6993229559748346,
           -0.43754134124911664,
           0.3939104521110068,
           0.28287906736449886,
           -0.9345252169674951,
           -0.7831238835831079,
           -0.8759779597615711,
           -0.6608184659928331,
           -0.8874809714701053,
           0.251426860183059,
           -1.0599492693591113,
           1.940883468889069,
           -1.63856441346488,
           -1.3658810863452588,
           1.8195563924197329,
           -0.9827817545220491,
           -0.7941579981560793,
           -0.23216099327126277,
           -1.0712584611001101,
           -0.18451914569758396,
           -0.5554045131481996,
           -0.6412643159950271,
           -1.6967979262937665,
           -1.7200572638548062,
           -1.050805625372056,
           -0.5682135449485828,
           -0.8015743842435198,
           -1.600315935016582,
           0.8363652758898679,
           -0.734482081962972,
           -1.2227708606187364,
           2.525875030652393,
           -0.925651295690492,
           -0.4014806880744739,
           2.3284215940865405,
           2.3049225722748403,
           0.6360179143067627,
           0.12652533961020002,
           -1.850480864186418,
           -1.196457515478476,
           -1.050776549708286,
           -1.1328350380338807,
           -1.275615133163807,
           -1.3288359859816536,
           -0.7825209073374062,
           -1.6204995936987994,
           1.2105668365995188,
           -1.4001252237453028,
           -1.0930832437859297,
           -0.08305185254284178,
           2.9014122150982806,
           2.485129558313635,
           -0.716972777177872,
           -0.7550229609973858,
           -0.8517981166964489,
           -0.4947107833084408,
           -0.7393050975427448,
           -0.7350944321851812,
           -0.6211864824086996,
           -0.7061918056421089,
           -0.6998138888997938,
           -0.8114994497466842,
           -0.9007058856133682,
           -0.723456790653631,
           -0.6484511882975061,
           -0.6899992603439868,
           -0.1338033334682438,
           -0.32418043808442304,
           1.1471556006717916,
           0.21008850999680703,
           -0.8989442024167301,
           -1.752293405491527,
           -0.9882543880683425,
           -1.8969435882853065,
           0.16353162224495843,
           1.6176654449872672,
           2.0275754573944202,
           -1.4346181323722287,
           -1.073725633417052,
           -1.5383083642414364
          ],
          [
           -0.9426921874673808,
           -1.5924012518325685,
           -0.5448572605047672,
           0.06640758747160018,
           -0.39079833881189036,
           3.260049044662365,
           -0.7855400738010245,
           -0.32647607146741536,
           -1.3920451648335124,
           2.865545125398039,
           -0.04590309475038798,
           -0.9723720816244806,
           4.121547315060911,
           3.189793024658084,
           -0.09656344908323405,
           -1.627141936367287,
           -1.3998608522228517,
           -0.8088547822586957,
           -0.7006066771615863,
           -1.3448737632907193,
           -1.1698774582885136,
           -1.048822543272635,
           3.872021724634795,
           0.6498714745010795,
           -1.2468372953432585,
           -1.1855671928494862,
           -0.6735638018095759,
           -0.5991918521800599,
           -0.8946591408639155,
           3.539654533776863,
           -1.6708046788932274,
           -0.8294220182418307,
           -0.764035495578631,
           0.10774994606363597,
           -0.022948596906676465,
           -1.265690711940436,
           -1.2262304845665521,
           -0.7139675788807177,
           2.9513524742076926,
           -0.7463402800124913,
           3.742355049216415,
           -0.15551374592780018,
           -0.9966362622738437,
           -0.22689760967154274,
           0.2910359553732751,
           -0.7792313233506681,
           -0.8795630425903007,
           -1.7812537298625866,
           0.6808136527426082,
           -0.8909936814937455,
           -0.9507152385165676,
           -0.5723260802912361,
           -1.3724702398351334,
           -0.28723980824304085,
           3.475811867596523,
           -0.10229935003908013,
           -0.0972674013073442,
           0.7019504059805789,
           0.0765526613997281,
           -1.3095589758721977,
           -0.9047715587516776,
           0.9082820232072707,
           -1.191896468578547,
           -0.2765050803369107,
           0.21824777720839256,
           0.7052246970926309,
           -0.7122463895893276,
           -0.016304586564683192,
           -0.8589094710781551,
           -0.39447280342444546,
           -0.3452991341442507,
           -0.2869350635675715,
           -0.17507716159408895,
           -0.9298207529357483,
           -0.9351435157965797,
           -0.9963360639938607,
           2.6867210925000404,
           3.499739890184348,
           -0.9553416815940134,
           -0.5903060664013282,
           0.38734444294020753,
           -0.8283531002561956,
           -0.959328714988072,
           3.0221795712110158,
           -0.5663887870577936,
           -0.7230384593835897,
           -0.6893547804844479,
           0.20746877596842678,
           -0.14297911601728958,
           2.670438675601567,
           -0.2963965040310015,
           -0.24139990857358326,
           0.8652540177243766,
           0.06124908580292619,
           -0.4264676060962949,
           0.14361005209398225,
           -0.4141111902080732,
           -0.9216086269494834,
           0.43648820931031335,
           0.0313667819298061,
           1.2030889912339577
          ],
          [
           -0.9536353425074214,
           2.105516386961418,
           -0.8125612884451843,
           0.20044602396058106,
           -0.9104139678655216,
           -0.6236206023369945,
           1.682135801266963,
           -0.09453124190500195,
           -0.35487297054833866,
           0.15425450005633431,
           0.35380745622366827,
           -0.6504099266060402,
           -0.040598657169197416,
           -0.7604441807521578,
           -0.49212186320264384,
           0.4710519064597143,
           0.3521606215748445,
           -0.6130093232725022,
           1.2268787705865136,
           0.48406567144074614,
           0.3779635678865136,
           0.28075402655571524,
           -0.6812987304514313,
           0.9895443653206808,
           -1.088131013005018,
           0.8620741740891255,
           0.527781786562296,
           1.6942426587416946,
           1.8433049296727868,
           -0.6927449156438615,
           -0.030361801454796684,
           0.8646967219429361,
           0.4759052312154306,
           1.709217577959385,
           -0.41185761271236865,
           0.08745500428902943,
           1.4322773195573544,
           1.7734599426393338,
           -0.6807821627994854,
           1.7216741206118318,
           -0.8276058824698937,
           -0.8460870252728949,
           2.496107872044431,
           0.722082417869083,
           -0.39210304011852837,
           -0.30619768320208274,
           2.2868336005988055,
           1.4996175304924062,
           0.8586780025218511,
           2.4075060546711193,
           0.4764494332941808,
           1.4972938582573365,
           -0.8034777157855277,
           -0.5790417337935665,
           -0.5877611694035079,
           0.4768586109560969,
           1.4845365001563144,
           0.9077955995033565,
           0.39162953622570423,
           0.3719094035109428,
           -0.1943020311226286,
           0.5463178003399146,
           0.627626267019653,
           0.060800079779662064,
           -0.489692050408716,
           0.45458815230902216,
           0.41268413435900436,
           1.700865455692971,
           0.3820359060347685,
           0.6782650621978402,
           -0.35770129638606424,
           0.15432582016879332,
           1.0889278270590317,
           2.3110002534003913,
           -0.11985001391967817,
           1.6143887972739113,
           -0.40428771573271044,
           -0.6880331552727811,
           -0.07317434003333234,
           -0.42071319384929956,
           0.7923566350238405,
           -0.3478395035019958,
           1.4462052984916234,
           -0.4497357877728701,
           -0.4596897011546989,
           2.0506738193946052,
           -0.5479081279754208,
           -0.47544015895242364,
           -0.5752639544090337,
           -0.5207809208725797,
           2.0226580921273487,
           -0.3724136181428807,
           0.8612229050823003,
           1.8562167376121865,
           0.15790282736907477,
           1.8353729225209967,
           2.476195350100466,
           2.0506106155354678,
           1.5038172589112457,
           -1.2975229257068295,
           0.246489867783235
          ],
          [
           -0.3978935703202966,
           0.36011950825411737,
           -0.5905184989983919,
           0.8809708282428957,
           -0.6434365033303976,
           -0.3856614019367321,
           -0.2708568589525472,
           1.099138586835252,
           -0.851001370504921,
           -0.6810409187964099,
           0.7889254977087342,
           -0.6959134824907671,
           -0.655213347210397,
           -0.36479812704592035,
           1.6309060365442398,
           0.4121783971306734,
           -0.4592278850883905,
           -0.319650350698014,
           -0.5624395001614864,
           -0.8394713683284343,
           2.4399630325195076,
           -0.705185621323248,
           -0.39203115856535004,
           -0.2319595913590223,
           1.3709888844856803,
           -0.38688164632934746,
           -0.350701077527405,
           -0.39158640940934053,
           -0.06384667474947461,
           -0.36706503714849775,
           0.38187534472809076,
           1.8445165535035988,
           2.0803967175709097,
           -0.44488934238540606,
           1.8163695867161829,
           1.0415548519955067,
           0.2384539365175962,
           0.07082164831106606,
           0.0300634658787476,
           -0.05004028717372666,
           -0.19765779660661792,
           -0.2854122165661897,
           -0.35782804031179194,
           -0.4125367597718009,
           -0.9112449781931681,
           -0.5541823222925858,
           -0.3821652136348671,
           -0.004350390838023324,
           -1.141390586302085,
           0.5198600097722934,
           -0.12305107375073746,
           -0.24001599044765945,
           1.1281172984415881,
           0.5605590545138306,
           -0.25752325352994976,
           1.897742132401902,
           0.9582898420755565,
           -0.024720709841985718,
           0.7150568714156166,
           -0.20726876473836134,
           0.2585990307135848,
           -0.20429118071683686,
           -0.32975087526845426,
           -0.6692449218285871,
           1.7993581546176163,
           -0.5446020279174298,
           -0.5381360288570771,
           -0.923450741592449,
           0.9531839842361756,
           0.6258890200781262,
           1.8486789455654433,
           1.2327971378976426,
           0.7527820869063676,
           -0.01203175031716883,
           -0.37898473157819756,
           -0.24836769655235857,
           0.1940326751374673,
           -0.39814353993959534,
           -0.351055803097797,
           -0.5784660604939142,
           0.05673363591737071,
           -0.41332378008968157,
           -0.15838719002457186,
           -0.35034789774106706,
           -0.5912098044762153,
           -0.2561047325662188,
           -0.5197771724528163,
           -0.2934904116802609,
           -0.35970349864252793,
           0.46665050722154083,
           -0.958154188126198,
           -0.6265827924956435,
           -1.2499370786263815,
           -0.6359632170175924,
           -0.5998677758356684,
           -0.8138342212011194,
           0.4598418438136914,
           0.2301864617634254,
           -1.0349977255106702,
           -0.15648657669082358,
           -0.5243600284966585
          ],
          [
           -0.3329501978879448,
           -1.1514874227263088,
           -0.13071215619386356,
           0.1947336374027126,
           -0.19365825221708013,
           -0.006748725870330737,
           -0.952058562555766,
           1.3069960995854744,
           -0.9292304960150078,
           -0.4703978156981853,
           0.9756548636709055,
           -0.6998426129959124,
           -0.39018773046735244,
           -0.16785714593646783,
           1.1304295674071032,
           -0.7101569946434766,
           -0.99481015902061,
           -0.5830393533621573,
           -0.7957047874334882,
           -1.2742358345890579,
           -0.1375318884851582,
           -1.1883186477459708,
           0.04367847776263261,
           0.32758573829307047,
           0.0904463832176005,
           -1.0261163170390548,
           -0.7453505194662589,
           -0.9312059755361314,
           -1.0101631585162378,
           0.6307477832201078,
           -0.26662068045283094,
           -0.21205084603495022,
           -0.023587407684080134,
           -0.6642994162697046,
           0.9619651306386366,
           -0.14520442914639659,
           -1.4910577361158497,
           -1.0585059379887964,
           -0.6773730057786658,
           -1.1122516899902233,
           0.18682382103356648,
           -0.2786535110802398,
           -1.3166533663491469,
           -0.8073057673122002,
           0.3802365698680939,
           -0.5474343856443418,
           -0.9325116406516393,
           -1.3105847529750134,
           -1.0457512968191667,
           -1.1876253752790966,
           -0.8436103069525434,
           -0.9409255607105883,
           0.6056127765467717,
           1.1770220743212039,
           0.10907815004879769,
           0.42524188395205237,
           -0.4017638790932908,
           0.7735211093670238,
           1.1304993419445255,
           -0.9593302037284156,
           0.37173308751147577,
           0.49048894472029814,
           -1.1100243947017039,
           0.5955627406959202,
           0.8057282755099437,
           0.4971896655190278,
           -0.6581468848868605,
           -1.0657593151050755,
           -0.5096514065609488,
           0.8763010584066295,
           1.5461927386900876,
           0.22694951678905662,
           -0.34007368029736196,
           -0.8038958790987553,
           -0.7563524244722092,
           -0.7013728444936683,
           0.3066305492665938,
           0.21743461780721532,
           -0.7819291394673047,
           -0.7014295535302834,
           0.5512940546814838,
           -0.7398039930515659,
           -0.5805896956525362,
           0.26575405328671303,
           -0.6916237844712383,
           -0.8198315896281761,
           -0.614754163696452,
           0.11744897074862488,
           0.11409866094441445,
           -0.05498844485569188,
           -1.2877844000902587,
           -0.3577843664842712,
           -0.8524035299726854,
           -1.209933618909708,
           -0.7313367151982448,
           -1.1210827995644868,
           -0.567347983785692,
           -0.4754790981666699,
           -1.3243234545696545,
           1.0289301873622507,
           -0.30370182983726607
          ],
          [
           0.16505952321596853,
           1.6775202210174434,
           0.07072811717397309,
           -0.21840880678709257,
           -0.2564056371323158,
           -0.4518005797264497,
           0.5079571950342024,
           0.6875815007083227,
           -0.11254739087193483,
           -0.4922091273417456,
           0.4352983709135188,
           -0.4524024686968485,
           -0.6041883929063012,
           -0.6372165545172014,
           1.3823423662259868,
           1.4900434669420672,
           0.27961641629582173,
           -0.4771899355701896,
           0.6215156478560292,
           0.4770625615868791,
           0.993832834772325,
           -0.5338248142769487,
           -0.5607086893631615,
           -0.34264116188279325,
           0.4696618810810639,
           -0.018943868168586505,
           -0.300819713372243,
           -0.3252011762680336,
           0.33010838173419155,
           -0.8537097608599359,
           0.02675204084591182,
           2.788663909609683,
           0.36716348732741044,
           -0.40056720156076814,
           1.4370975712563219,
           -0.14477241334252822,
           0.741222481001444,
           0.568060490892032,
           0.7303240325514527,
           0.17785897875086362,
           -0.39086250895011326,
           0.32028063449495003,
           0.49304214746594827,
           -0.24818989069825148,
           -0.5862139174841492,
           -0.4520891188878515,
           0.20459522350509685,
           1.4920802812785985,
           -0.4076939628975885,
           -0.09814383331208806,
           1.4623192729900503,
           -0.05061282769893944,
           0.23980691527204273,
           0.47525391623685653,
           -0.5337399195938617,
           -0.2115291944037411,
           -0.43805995049580765,
           -0.4862996910091082,
           -0.47959610417125786,
           0.6987586768295788,
           0.5881242298006872,
           -0.27011527579953476,
           0.13813773876516736,
           -0.6147191320550417,
           0.693964049567787,
           -0.668132717713692,
           0.12475940036468372,
           -0.8754933602774165,
           1.085106413712403,
           0.49128181143043714,
           0.838440564738629,
           -0.14731443705141536,
           -0.34515917420824316,
           1.2579210763194755,
           -0.4169954512398971,
           0.5663721561921933,
           -0.270853160305755,
           -0.5133990904756703,
           -0.40812120623151044,
           -0.5523225850042687,
           0.06741834695425344,
           -0.4643681389525787,
           1.0600872326414141,
           -0.8872453373090269,
           -0.5631455769050376,
           0.46056004178567356,
           -0.48999323020227153,
           -0.22614473589327627,
           -0.0992928582967638,
           -0.42003704399804037,
           -0.36999517727783476,
           -0.6763686011461695,
           -0.4770537148132306,
           0.8907651232770307,
           -0.06684194549173832,
           -0.493893287843713,
           -0.32774054333611174,
           -0.25661519921054476,
           -0.607154752978541,
           -0.930349735770247,
           -0.39128125514745304
          ],
          [
           2.717418802061239,
           0.4249702387181163,
           3.356250543999909,
           0.6154220096210047,
           2.6567251141353108,
           0.3563806629445751,
           -0.12003581370436436,
           -1.0855056704704258,
           0.050404196416529254,
           0.4989625040149589,
           -0.9496865830673887,
           -0.4494051746233768,
           0.32105743001505327,
           0.9268034535566918,
           -0.690326571046481,
           0.09381409831684859,
           0.22493924611210103,
           -0.5996917883629821,
           -0.6651475748001788,
           1.294080008086517,
           -1.2579487149933684,
           -0.6652774266420367,
           0.5432798135021216,
           -0.4960132162913369,
           0.07960779567257449,
           -0.3908333732593598,
           -0.19278611880742247,
           -0.5088364732734394,
           -0.8230618111956891,
           -0.11698960316908573,
           -0.22547440403695132,
           -0.45068291733533766,
           -0.37102905426829147,
           -1.4210526629807174,
           -1.1029507790418374,
           -0.2211709017385993,
           -0.8600217064873956,
           -0.6505996189075576,
           1.728391876541552,
           -0.8721846845869083,
           0.9235063779152178,
           3.516807318770595,
           -0.3522756394099578,
           -0.9452959450731621,
           -1.5505914927876934,
           -0.3563622123316164,
           -0.5821497215834673,
           0.7156062811356624,
           -0.7705912668174365,
           -0.6453764496233609,
           3.114449541513503,
           -0.7242922701140974,
           0.7558340779235321,
           -0.7106279433017386,
           0.46950288268472506,
           0.04131524295348573,
           0.0566960403238622,
           -0.23048220472379766,
           -0.029153193917818756,
           -0.800796182911719,
           -0.8073424344366122,
           -0.9711526917703582,
           -0.46815529382286836,
           -0.8633118972679769,
           -0.880686213214107,
           -1.0710453559923243,
           -0.8706502464414412,
           -0.5926304809705375,
           -0.7910830329211879,
           -0.9534227511155703,
           -0.8642236338379458,
           0.77803812759549,
           0.5390893163623524,
           -0.438601512109535,
           -0.5825605796237386,
           -0.5213065595501166,
           0.48995736391253286,
           0.3436027388112143,
           -0.5937379046534437,
           -0.2508933501126541,
           -0.662386923014761,
           -0.48081376136427956,
           -0.5764961797066562,
           -0.33796107886543025,
           -0.10576993507952731,
           -0.6099401052038163,
           -0.25270927611144545,
           0.06210170173624915,
           0.03243379270554647,
           1.3480250998429633,
           0.17672576220013603,
           -0.4316687838133759,
           -0.695018894995453,
           0.4530173209503459,
           -1.1202154122953367,
           0.27354882508233963,
           -0.13272008250766695,
           0.5706906709284553,
           -1.2308650807436168,
           -0.18087346855367223,
           -1.4945673545261262
          ],
          [
           -0.7666759717335957,
           -0.6362088638723429,
           -0.816603719385526,
           -0.2522034064914315,
           -0.8249109037685193,
           -0.941068017406956,
           -1.000715827282766,
           -0.5249430484795051,
           -0.4801934052679365,
           -1.6542569297253322,
           -1.0398422728919974,
           -0.009916240249301161,
           -1.1024663471254146,
           -0.9098663155190627,
           -0.5857217720962122,
           -0.2645232496535238,
           0.47677332431323505,
           1.5514992182459748,
           -1.0574144436862827,
           -1.3942749074184806,
           1.638118586787189,
           -0.10945075302845375,
           -0.88912285009506,
           -1.370932991883436,
           3.138077394187705,
           -0.4679056752417881,
           -0.5990033934301552,
           -0.7331059884846038,
           -0.6007887118739689,
           -1.0302673540242113,
           2.0391940119700367,
           -0.6624878144137162,
           2.0462010684407,
           -1.8163391284629866,
           -0.16432437798628116,
           2.757548424704839,
           -0.23155899353026452,
           -0.994533507279836,
           -0.4708998951204432,
           -0.5935365619678132,
           -0.8178779484245073,
           -0.7285812910969139,
           -1.071364381766367,
           -0.3548869371732622,
           -0.8481092858108403,
           0.31827952873098353,
           -0.7929275752132959,
           -1.1376935907904426,
           -1.803692723210267,
           0.38030576979172476,
           -0.9817730319795461,
           -0.8047658274159589,
           1.1245860659716604,
           -0.15370670167764905,
           -0.8674821883557684,
           0.3989980910999577,
           -0.2782203343877267,
           -1.3145405484739854,
           -1.1573001226512811,
           0.3364645005105677,
           -0.23241497178320442,
           -1.6684218285106067,
           0.3045505049983551,
           -1.010097864029715,
           -0.6755080799338185,
           -1.4899295244435296,
           -0.8624548523141153,
           -1.2940015325813292,
           -0.8415684589930003,
           -1.5014262687022422,
           -0.3644344659937136,
           0.09795224308639422,
           -0.47979394535976866,
           -0.6614217875292515,
           0.7413378198639559,
           -0.42430977025664113,
           -0.9727138967157234,
           -0.9014483539492434,
           0.9421121793336101,
           0.2726504720306155,
           -1.599484776993868,
           1.1564586249618782,
           -0.49505454274718147,
           -1.1820768870055216,
           0.3269110372054347,
           -0.6285355803273869,
           0.2081260039431098,
           -0.6036693207349203,
           -0.5920394295125299,
           -0.5602900713950947,
           -0.8416306965567559,
           0.15427763419327423,
           -2.3197688070173124,
           -2.3383533547695063,
           -0.9436750238975625,
           -0.8373610775682041,
           0.10509226576861327,
           1.0331133889822308,
           -1.51253505218582,
           -0.11997659820731345,
           -1.2926846175797502
          ],
          [
           -0.15278460366290644,
           -0.07896065758627525,
           0.21532424141910048,
           -1.585190960165918,
           0.49730533649320385,
           -0.835487186230863,
           -0.3616137592551874,
           -1.7606504243877048,
           0.8931371403710134,
           -0.67735422371836,
           -2.055380510449635,
           1.72701051815543,
           -0.7771379765992938,
           -0.8611950460393678,
           -1.7060621514670447,
           -0.5615381270492553,
           2.614847650786926,
           2.8366067922330886,
           -0.9584772125571619,
           -0.03805387824805734,
           -0.1804718281210389,
           1.513526976798314,
           -0.7381332005886125,
           -1.8112016086816658,
           0.025732670377952554,
           0.6293890534649684,
           -0.627058854876087,
           -0.30827336784848913,
           0.04606614667869226,
           -0.931884521482999,
           0.10112046899473305,
           -1.3329222037288517,
           -0.9006494976610823,
           0.38608207709527786,
           -0.8526348000741468,
           0.19594531496716122,
           0.5312367597338874,
           -0.5586752028293905,
           0.2799958842507123,
           0.25234355076704046,
           -0.9171481815706282,
           -0.10187194742363039,
           0.22884339796838765,
           1.070459639022277,
           -0.611207207456649,
           0.9410140797453078,
           -0.0327186449536206,
           0.7205654372457516,
           -0.1966418545164235,
           -0.26707450461217286,
           -0.0061398086810781315,
           -0.5329887937380321,
           -0.36172287328974495,
           -0.9059281444510314,
           -1.0222419210459557,
           -1.8745373300010324,
           -1.817170320645288,
           -1.7774271856246016,
           -1.8715859833217234,
           2.457619314844733,
           -0.8665860844886855,
           -1.6269682972038046,
           2.894423165550614,
           -0.7322999787593654,
           -1.5563686702093122,
           -1.2387176093647907,
           -1.0006170612443355,
           -0.9670423172803961,
           -1.423848106777159,
           -1.7117749646652334,
           -1.8612573503556866,
           -1.743317676770023,
           -1.7086628542426896,
           -0.37565686109294716,
           2.6456186225613303,
           -0.36656008055165107,
           -1.5811474346898462,
           -0.72646398837472,
           2.526671360474744,
           3.6812767324840108,
           -1.9464254034912887,
           3.2915838274729214,
           -0.42590997887795695,
           -0.9550275123895253,
           3.610934325603858,
           -0.2841291905950075,
           3.6225337223070273,
           -0.40526406052402875,
           -0.330041585318999,
           -1.455590792373403,
           -0.2052853102660464,
           -0.03790737784028608,
           0.9670762854989874,
           -0.08179413152863334,
           0.04125031098237778,
           -0.36855790879145617,
           -0.8343733441344375,
           -0.37356972918383075,
           0.16760034240237398,
           0.4913846271129437,
           -0.8588437979865869
          ],
          [
           -0.392339650470253,
           0.24302518720368194,
           -0.2644468731257968,
           0.6181931513418077,
           -0.2785586425034176,
           -0.42407933585543023,
           -0.2471388433981481,
           0.42775107759776587,
           -0.5653536274089622,
           1.3715524125132736,
           0.4906888412558776,
           -0.3726011165171511,
           0.16032273331754596,
           -0.19095330328174098,
           0.1155238476973944,
           0.23306494956360876,
           -0.29142114704420063,
           -0.6440088120689498,
           0.2705246873627386,
           -0.5593880568902635,
           0.4180430585073047,
           -0.39983499819907087,
           -0.18506306523484153,
           0.3156517663133605,
           -0.0821162440957721,
           -0.5010893049050699,
           -0.4043284007654947,
           -0.16597244074297374,
           -0.004171571044385179,
           -0.02415901598327588,
           0.03167230555951374,
           0.013336692658198385,
           0.39248309759774985,
           -0.1360314087615296,
           0.4184567142748797,
           1.078834839038155,
           -0.3691229727262657,
           -0.2794708249580319,
           -0.2207372943792507,
           -0.2022900434154176,
           -0.012192729625622381,
           -0.55770641120502,
           0.12903677364837488,
           -0.7014700711579179,
           -0.5740809964423936,
           -0.3164844264307869,
           -0.1029140822017132,
           -0.0624264861424871,
           0.18412985302807064,
           0.17679267805289334,
           -0.5382927657662803,
           0.40443054084370555,
           0.7360227653824639,
           -0.21194468442545836,
           -0.011249579191916633,
           0.5628623095100587,
           0.47956576038723087,
           0.61340544182828,
           1.2125019424092358,
           -0.5729398797283975,
           0.1710170276488853,
           -0.09344548126086132,
           -0.5123338685973243,
           -0.5136165395106329,
           0.24925340272053195,
           -0.02703933503964948,
           -0.04647488379089574,
           1.0557227850034228,
           0.1507046958618474,
           0.1295530496089487,
           0.3996183145438262,
           0.6074957221016095,
           0.5679608480271621,
           -0.1474563545869613,
           -0.5151135250541865,
           -0.11760768360267691,
           0.020658741384983324,
           -0.4432398788963797,
           -0.5308488755773265,
           -0.586507130546268,
           0.36648899692348036,
           -0.5498120816444605,
           0.02225867197360148,
           -0.36460571439834627,
           -0.6028505790545716,
           -0.20645395204543648,
           -0.5713142584345378,
           -0.12216317443215098,
           -0.1863843968010492,
           -0.07457151635166535,
           1.0713727944627127,
           -0.2164583756850211,
           -0.09996641675379024,
           0.3556359608894402,
           -0.13898794214128424,
           1.1347596313714328,
           0.4755984060822202,
           1.1243070344203676,
           0.20909740806360672,
           0.49087988009035627,
           -0.030041137269429904
          ],
          [
           -0.24251800152055075,
           0.41600443559436534,
           -0.06927497553109158,
           -0.8982208516727305,
           -0.23288937162168918,
           -0.8991695416499984,
           0.08083226755934576,
           -1.2594944219448905,
           0.021444102618120454,
           0.6511265041320327,
           -1.1112192387060134,
           0.27058989717502474,
           -0.5171210514042341,
           -0.6609761925240395,
           -1.0033219035385106,
           0.16654850700828508,
           1.4866593632843215,
           0.8010055736278383,
           -0.42084445543461885,
           -0.2084977944375482,
           0.8766673935370626,
           3.304331009700808,
           -0.7552007594744646,
           -1.1269208326365683,
           0.6162371937160916,
           1.8051818186060942,
           0.49799295858643444,
           0.587579773886257,
           0.785821429874925,
           -0.6324449698186146,
           0.7142895257226145,
           -0.653820265078493,
           0.24782346095412577,
           0.938959856859071,
           -0.15886281599716856,
           1.2659178194818965,
           1.2780786074868116,
           0.3269403915096326,
           -0.08343722419378725,
           0.814807732872305,
           -0.7972683316355091,
           0.09596702992414644,
           0.6749798179082577,
           0.9417646924895473,
           -0.6584489039821111,
           0.3058994653763824,
           0.6263415700686198,
           0.644961676833528,
           0.05765254397942843,
           0.22400461239163194,
           0.1630644538362427,
           0.4196936865665854,
           -0.24694536236324627,
           -0.8168004465229658,
           -0.8852742834337355,
           -1.063634393099052,
           -1.0262372052695807,
           -1.110830478147118,
           -0.845599742846715,
           1.4811456330669774,
           -0.6260936933527668,
           -0.8685833617986672,
           2.0148182275408195,
           -0.666946859833337,
           -0.9826140333766025,
           -0.8273558553739505,
           -0.50113944121986,
           0.789545814281924,
           -0.4460239698136893,
           -0.9658916498279765,
           -1.0184700359377246,
           -0.9991312117645468,
           -0.9708357347261448,
           0.06360246621607539,
           3.1144459444353774,
           -0.1973770767235543,
           -1.1344364901092279,
           -0.8226209311229553,
           3.0714797320542098,
           0.8251826967250809,
           -0.9789011830358699,
           1.6690529716708769,
           -0.2109429757771199,
           -0.9027678245496399,
           0.8368483238512786,
           0.40748928549017327,
           0.7646054983762577,
           -0.3810776080239266,
           -0.3498298228955362,
           -0.8615631631227033,
           0.6758113375330164,
           0.009326695287754934,
           0.06872281741649915,
           -0.018324625769886017,
           -0.040370213092824694,
           0.6528065114276754,
           -0.19671830418275202,
           0.5396034187926925,
           0.35577065875780844,
           0.3087200789052034,
           -0.5758151132080571
          ],
          [
           1.0571868724806768,
           -0.3989779048628884,
           1.3309629608829894,
           -1.209634481504083,
           1.3494635174703211,
           -0.4472090268238389,
           -0.6965757131714454,
           -1.1595143628477178,
           1.7841387455812734,
           0.507160031710517,
           -1.407328416552828,
           1.7986216029083848,
           -0.5585450323246547,
           -0.4750892773117458,
           -0.6008208876773803,
           -0.032417595035830166,
           0.9713014632257142,
           1.4116298926105408,
           -0.7629402711411275,
           0.23011061467401192,
           -1.6034959058309513,
           0.10265593795746016,
           -0.47435801279944634,
           -1.5335123504498964,
           -0.4138683289440672,
           -0.311932574291387,
           -0.4814026986907801,
           -1.0613777278213377,
           -0.8438398913595582,
           -0.31758099503899134,
           -0.7341399499843633,
           -0.7906971884822971,
           -1.608258094687543,
           -0.6022461326482726,
           -0.6998760695858368,
           -0.8333900020559746,
           -0.817705538967916,
           -0.9263177275908587,
           0.0889960344936502,
           -1.0350707980477163,
           -0.10096540035970414,
           0.6295361428903468,
           -0.644289926103696,
           -0.44780481751759355,
           -0.2875701223827583,
           0.3706023624296322,
           -0.8185057302110136,
           0.574627166547075,
           -0.7504454277494521,
           -1.6072681987918733,
           -0.3333021495604986,
           -1.2153179212201217,
           -0.3073158132033245,
           -0.3428618535992824,
           -0.6975275974280679,
           -1.4227552573031004,
           -1.7519540379061822,
           -1.1568793793777814,
           -1.4213016646118308,
           0.5066452756042368,
           -0.5727027362207943,
           -1.3394381907451047,
           0.232077374174819,
           -0.8306487882059292,
           -0.49294719206289106,
           -1.220726576623606,
           -0.6012359951106474,
           -0.35056475713861673,
           -1.0503481305828657,
           -1.2260770875702645,
           -0.9567225778737534,
           -1.287260041785489,
           -1.6634796280150819,
           -0.6032868842720677,
           0.13890672807020962,
           -0.7142609719607403,
           -0.7800899633632851,
           -0.3749562790686927,
           0.26146426570794484,
           1.2153774097009744,
           -1.5400568975173123,
           0.9830141341874883,
           -0.6089870666150133,
           -0.8507704403010626,
           1.1732231140495146,
           -0.6776153481593507,
           1.2370652637432447,
           -0.23600227390440892,
           -0.26051096378809346,
           -1.0389662662799477,
           -1.476190200449824,
           -0.060379317423313573,
           0.8598816320693563,
           1.0675241791666914,
           -0.4476146337537902,
           -1.6643858958951254,
           -2.0176191369576504,
           -2.052079003370837,
           -0.7984982252021485,
           0.30847031643287137,
           -0.8480999256150238
          ],
          [
           0.5915996435590959,
           -0.23728982728838652,
           0.26008206349991475,
           -0.5187299411515335,
           0.24611088017903643,
           0.32426134807206386,
           -0.4540743987900196,
           0.3773313253149109,
           1.463360134403271,
           0.538758378710846,
           0.14729935910977465,
           0.22566586671261402,
           0.5122231870712765,
           -0.07176860922281798,
           0.4219616747333671,
           0.10836975933740818,
           -0.202681940943796,
           0.11587730667408862,
           -0.047986601004316995,
           -0.2981690496699547,
           -0.40156232536865377,
           -0.2511391568531378,
           -0.12862331302216878,
           0.09045845685165556,
           -0.2625198107605932,
           -0.4742556367428961,
           -0.2257359113507059,
           -0.3973340471841215,
           -0.4689455021574023,
           0.5562343699970879,
           0.106299592484057,
           0.42879119774982194,
           -0.6351283437017141,
           0.5991088382923163,
           0.6903415060029008,
           0.10754522237921227,
           -0.21762568132689503,
           -0.340109727571215,
           0.6444913329903655,
           -0.5917166662888652,
           0.0844286720575764,
           0.6542565631192923,
           -0.24925888864410328,
           -0.2763102340642591,
           1.714805678322634,
           -0.11749799982927756,
           -0.392188277624356,
           0.006434163832932336,
           0.2736688994273592,
           -0.7576190753283806,
           0.022600953700307742,
           -0.041139207462127216,
           0.004291396371472371,
           0.33313425278577913,
           -0.24724901708479,
           -0.6223568592638988,
           -0.6475527437710887,
           0.14479567065639123,
           0.03813711859033733,
           0.17364542972246488,
           0.31136490507146464,
           0.6908500872959826,
           -0.1951813551902591,
           0.44776068106525013,
           0.3567872508969132,
           0.30293109326462647,
           -0.01749213699980467,
           0.5953362960237972,
           0.4306977466349579,
           0.15775227997034916,
           0.22245340986567727,
           -0.4449155479546394,
           -0.6955623204441241,
           -0.25391780099638894,
           -0.3054106127743171,
           -0.23825322789945527,
           0.3437533691170642,
           0.44760772246277414,
           -0.33040631067779425,
           -0.11546401662625805,
           0.19640284086596652,
           -0.13919494109791183,
           -0.196270639415094,
           0.3845262760614456,
           -0.06304415375499293,
           -0.376674917888841,
           -0.1450822222853182,
           -0.024984048085992874,
           -0.11109640200511842,
           -0.23752122666246864,
           -0.3347744706567977,
           0.13353993241215117,
           1.0387450371456013,
           0.9594034573223261,
           0.5845573293174856,
           -0.41414064413492846,
           -0.7087929084129274,
           -1.0660393865095241,
           0.22628046440320698,
           0.6993885066833309,
           0.8320177953796528
          ],
          [
           1.4588083195591648,
           -0.5606434434921687,
           1.0797643960916605,
           2.58261906206787,
           2.0611037392268394,
           0.5800575749241342,
           -0.2092835309381164,
           -0.12306196570305437,
           0.3589404855070754,
           0.8795228538366745,
           0.018228097722477004,
           -0.3504876427936669,
           0.5674262972814623,
           1.4485872728502838,
           0.049609781383763644,
           -0.8499908047769706,
           -0.3220771706699934,
           -0.6268665002679701,
           -0.33594158835582866,
           1.9242008603690703,
           -1.2934417369586808,
           -0.6128790955185087,
           0.6904395737587022,
           0.3590044064889955,
           -0.5321335864416356,
           -0.9702501829814427,
           0.014906293633239708,
           -0.42452265160952857,
           -0.857294268854189,
           0.697482882220056,
           -1.2079967189525262,
           -0.3013748435569801,
           -0.9758131632626649,
           -0.05834981146493397,
           -0.49061206731694523,
           -0.8985237387223539,
           -1.2604535782854405,
           -0.580056301856399,
           0.4160441147896927,
           -0.8887301402545709,
           1.6511686039312206,
           1.158876164875327,
           -0.629371671848994,
           -0.6015504575799767,
           0.12374017154306198,
           -0.4193962416586616,
           -0.5994635337326334,
           -0.42705171017012516,
           0.23000308217746915,
           -1.124819255710409,
           0.19678179802587664,
           -0.5984352651423839,
           1.8741342381759263,
           -0.23223962033255957,
           1.3924208934874984,
           -0.08074580228245544,
           -0.018929337655902698,
           -0.27460958183159945,
           -0.5124141710753845,
           -0.9119261452795054,
           -0.3408059480051374,
           0.4198229296685581,
           -0.7133937530736522,
           -0.04318070858934757,
           -0.3537476445812541,
           0.1800219998990057,
           -0.38408085384192653,
           -1.04395004778862,
           -0.12190707139329737,
           0.470072444069488,
           -0.25934550137630685,
           1.4908297154317545,
           1.3439070735417478,
           -0.6558279926045162,
           -0.6628867629136938,
           -0.41202712850419887,
           0.6763667065989033,
           0.7575162771080665,
           -0.6086139193675574,
           -0.3429959476115893,
           0.45020731104097855,
           -0.639767938230942,
           -0.4430313323605931,
           0.6238829570158774,
           -0.23774181921894216,
           -0.4960019415365296,
           -0.3453208221348197,
           4.578863713652794,
           4.3593254841124525,
           0.9532576686180823,
           -0.14613936336850064,
           -0.1114942801790128,
           1.4228028135225157,
           0.7981117290737028,
           0.15703172086105735,
           -0.18714057489300018,
           -0.7236089918662022,
           -0.5769775447853507,
           -0.10749515502502754,
           -0.30406269915176715,
           1.2513308471809212
          ],
          [
           -0.031099120637149136,
           0.6431514731513361,
           -0.2407892044208747,
           -0.03235417720880735,
           -0.3295880658013734,
           -0.2755834097008181,
           0.9901239389476347,
           -0.32775792909204776,
           -0.1431873566554924,
           0.0468033707697666,
           0.24990242308647964,
           -0.21863180504453905,
           0.4060619167154399,
           0.5196948400157041,
           -0.5094642717431013,
           0.35437572118098787,
           -0.09539241919027261,
           -0.449328894935887,
           1.5098899129915306,
           0.6330861120246454,
           0.058893796863016476,
           0.9769842256769998,
           0.39592117817201633,
           0.6659055266628694,
           -0.8649329604437046,
           1.214477676238514,
           0.9852023026629844,
           1.7056746578634951,
           1.5914473911968228,
           -0.1534096881411005,
           0.13646052951375798,
           -0.26083248793115993,
           -0.0049925197540838856,
           1.389029790645395,
           -0.6827942602896966,
           -0.42452761773340647,
           1.4035812556545864,
           1.7031757648727226,
           -0.45448465442251706,
           1.708765625738977,
           -0.31761754349826626,
           -0.4617974346950833,
           1.2159985892113128,
           0.8509916649667372,
           0.3267417192653676,
           -0.04869394378837847,
           1.187057951560749,
           0.5108906199952332,
           1.955893449366861,
           1.0368156882261175,
           0.10523838855005539,
           1.3676595046557116,
           -1.2398726019479198,
           -0.4153512592336734,
           0.19025870613149173,
           -0.018028731720302713,
           0.5223915689696109,
           0.3877726802238399,
           0.7155434029743383,
           -0.27565013293627033,
           0.30070512264126936,
           0.6145132588417845,
           0.07852962838384436,
           0.6685272718482588,
           -0.5396515956392918,
           1.2770862235709877,
           1.9844992812209667,
           0.9649602500072133,
           0.3349659102733822,
           0.2603141815898935,
           -0.8084941498813029,
           -0.1368864816336115,
           0.4223842156905299,
           0.6064538823478052,
           0.19248656286718485,
           1.0284131984211984,
           -0.29609938814341624,
           -0.4217193147832338,
           0.27330666567468576,
           -0.389511374867833,
           0.7935296574244979,
           -0.2869629876729896,
           0.7628664232134083,
           0.04852197465139485,
           -0.2816432624187969,
           0.9468981870014109,
           -0.27138608401876174,
           -0.35009124385477625,
           -0.3575971609140473,
           -0.3490249787917537,
           2.0292723205692447,
           -0.03729778250287182,
           0.29189312232068015,
           0.05043118514341774,
           1.8608469676154313,
           1.8344608731132106,
           0.9412227858449095,
           0.8494317382481212,
           1.8768947440002526,
           -0.38111396719885604,
           0.9437842315214402
          ],
          [
           -0.106591065956748,
           -0.3170548828162475,
           -0.3490787824910725,
           0.12146147196700796,
           -0.33814598756200803,
           0.638057225085037,
           0.028799234384310694,
           0.6999252585258834,
           -0.5626849506121134,
           -0.3748348159372581,
           0.6503333763345213,
           -0.23084108424860547,
           0.2710635812434016,
           0.6839500735728771,
           0.6903188932091617,
           -0.11727064935823618,
           -0.4788217300954862,
           -0.22888307493318064,
           0.4751396997949,
           -0.5175066186015994,
           0.3848216498657335,
           -0.6040934256455052,
           0.7530689405828245,
           0.4082402057320506,
           0.4019981517981629,
           -0.010992455945976093,
           0.12463544068570281,
           0.11764712048072677,
           0.10381486317657447,
           0.8026301218454706,
           0.2560626607112717,
           0.2890082347161541,
           0.381107363585166,
           0.491649230479309,
           0.3985497736193571,
           0.0007208407267896045,
           0.1677135332885635,
           0.1408654975098946,
           0.6876521500434764,
           0.3145208988299003,
           0.2644372038160643,
           -0.09929373197619058,
           -0.15203958527791767,
           0.815513358051044,
           1.0800584301915375,
           -0.0387024605722032,
           -0.18442483665830817,
           -0.34683598891945405,
           0.5348138764673311,
           0.5084421386465875,
           0.1637670096905353,
           0.518934634469401,
           -0.08826189952976593,
           0.7492389271298019,
           0.6960113936110572,
           0.3660530399888665,
           0.14318215398747458,
           0.3410148764250991,
           0.5890009675647833,
           0.12081888669876359,
           0.6734919447291777,
           0.5965297466351852,
           -0.3923669394143161,
           0.6663283475656507,
           0.8014768350381414,
           0.4188878380244142,
           0.7584396028611646,
           -0.5030739013969568,
           0.7536854403772781,
           0.748806059299002,
           0.8806110510558178,
           0.18639722108043585,
           0.17219036545054878,
           -0.23099519723575068,
           -0.2675071911299393,
           -0.01826750311918421,
           0.8222397864586852,
           0.6617774963094565,
           -0.3059941664129986,
           -0.4035099210364507,
           0.6559582094660323,
           -0.383876158845701,
           -0.09988158344713007,
           0.6315182449554216,
           -0.30464960811025565,
           -0.2763777777705799,
           -0.3135771536465934,
           -0.08178299282892035,
           -0.1734199248101437,
           0.5823642934635161,
           -0.254713687593865,
           0.2637276567495601,
           -0.002303405797912154,
           -0.4183315622855092,
           1.0432382477864697,
           0.0780114120987829,
           0.4036452099524389,
           0.15979006012720492,
           0.54087181720275,
           -0.5586510740185554,
           1.838847350235454
          ],
          [
           1.3352670319755888,
           0.2474897431486787,
           1.5629070456028853,
           -1.455676276826927,
           1.7242158676800443,
           -0.5152375775542954,
           -0.37380035189348243,
           -1.900843190500416,
           1.8366005058744117,
           -1.1879788095888846,
           -2.0339260164177326,
           2.6249924336461112,
           -0.768448235862134,
           -0.3107783609817974,
           -1.4104124396931155,
           0.6129412389941036,
           1.7081860451377666,
           2.0402051124880374,
           -0.4384531807516038,
           1.1942172143523309,
           -1.9711159068413413,
           0.163518664767079,
           -0.30588036906660676,
           -1.8028729534943928,
           0.1561161850310391,
           -0.12715803612949983,
           0.2580550058701111,
           -0.7785690373817062,
           -0.909549261192378,
           -0.8364235941942103,
           -0.22011694133175508,
           -1.1017534308869366,
           -1.9030267668322671,
           -1.9274151219011935,
           -2.284793631000347,
           -1.4787043986189865,
           -0.6774127227415396,
           -1.0061289688586976,
           0.20534360706880994,
           -0.8383413210823424,
           -0.5801052108288096,
           0.9031918846772592,
           -0.44899983471776483,
           -0.3806519710272919,
           -1.2781190014229824,
           0.8411467850792703,
           -0.5819101675097548,
           1.1119598355817464,
           -0.21865321084690584,
           -1.44677117753993,
           0.49929954934301707,
           -0.9139525353105988,
           -0.1776234308813623,
           -0.9410522204255615,
           -0.7351061916077721,
           -1.8949181735452891,
           -1.7375613875734075,
           -2.0488061916865985,
           -2.3236029084431093,
           0.6180789807001661,
           -0.3190717335172324,
           -1.6394732073295135,
           0.5967066319772566,
           -0.573371612943204,
           -1.3758620292960047,
           -1.4597663282873146,
           -0.4400144884561133,
           -1.1988401614371604,
           -0.6830493387200637,
           -1.762255375650645,
           -1.7191841281638556,
           -1.4281814546206484,
           -1.7123589225353522,
           -0.36785665968098447,
           0.30646940611513657,
           -0.3194570851248228,
           -1.0586490305157952,
           -0.44537735141225676,
           0.5952456770491726,
           1.7410559437846085,
           -1.8955461518015244,
           1.471359076787874,
           -0.5008060760370959,
           -0.9422746282877312,
           1.76804943863876,
           -0.5280723456635233,
           1.7723696790443828,
           -0.1208844829113078,
           0.11587210115496706,
           -1.029424339137262,
           -0.9951734100495989,
           -0.20797153816819774,
           0.8682450252497577,
           0.990884440757709,
           -0.3720112554052069,
           -1.4260885232360865,
           -2.0089321459480436,
           -1.7827778077073504,
           -0.7524024243477896,
           0.055300011173030794,
           -1.459202589257443
          ],
          [
           -0.11400218077495373,
           2.4264031931525714,
           -0.38689309444186554,
           -0.9644087714440197,
           -0.5155331782004765,
           -0.36027228611216505,
           3.7102461084545793,
           -0.5786292990616531,
           1.2185680487497015,
           0.5277459458283628,
           -0.1296597136673512,
           0.0972688194420319,
           0.2855151822372323,
           -0.5782149873285092,
           -0.2736198578869332,
           2.335404237706277,
           1.044523673453838,
           -0.4622142909601233,
           2.892080050901663,
           2.3385690346345083,
           0.21340499364719842,
           1.2674492683027718,
           -0.5932645812910365,
           0.19499467461735565,
           -0.7730314060364143,
           2.5942844012302078,
           0.6502049527776808,
           3.049841647776285,
           2.90530143315448,
           -0.736529907709559,
           0.017105000648610053,
           1.2074558989155189,
           -0.7759850408474295,
           1.4202770754114122,
           0.6707578565527663,
           -1.1115277705285762,
           2.0981110507752287,
           2.72185861341111,
           -0.44199188071862644,
           2.3806461753260666,
           -0.858843945600925,
           -0.41932980316756496,
           2.5017452904286634,
           1.9242431970642475,
           0.36512869746572885,
           0.33223907920194307,
           3.1654254894899796,
           1.9200735703933756,
           1.9198064403257535,
           0.9232167880124033,
           0.697340259198377,
           2.5830911641145153,
           -1.6988348534258222,
           -0.4026423796540468,
           -0.6905280161142643,
           -1.0737342162854793,
           -0.37891851889304057,
           -0.4255824156787837,
           0.3161670473494794,
           1.3978536821526923,
           0.6478898901082598,
           0.7971976405737157,
           1.5948473619862573,
           0.7263793828711069,
           -0.3222382785808486,
           0.37569736284513633,
           2.012592234941947,
           1.2569670061802327,
           0.9753169560169548,
           0.006042676450850463,
           -0.7860034001016524,
           -1.2263757544173035,
           -0.5302284149929088,
           3.271107504318504,
           0.45659180788033876,
           3.3275451777886578,
           -0.792307026037677,
           -0.2166522325842479,
           0.4813014785431244,
           -0.3437130385110206,
           0.6648456340583326,
           -0.20963290807883125,
           3.4809320180349124,
           -0.1580599337381351,
           -0.3884881360236053,
           3.5867198525895954,
           -0.25970073027766716,
           -0.39759416690090665,
           -0.1943398659101852,
           -0.9378059612425164,
           1.8614908081621588,
           0.9237641350039372,
           1.5502522148596376,
           1.3667535696522874,
           1.2302036958988904,
           1.5084742775969497,
           0.21588236097966257,
           -0.030916008045958173,
           1.730811341122342,
           0.25681686228376926,
           0.14125381016245087
          ],
          [
           0.9722131849007423,
           0.47238880190340804,
           -0.01030676770621149,
           0.16380398213338432,
           -0.25403384225748743,
           1.2285557752424734,
           0.4881426815134389,
           0.6495983863750466,
           0.6270666288867055,
           -1.1014004242199313,
           0.6362434631208704,
           0.6218549753633835,
           0.3568528460433739,
           1.1464198089438498,
           0.21230101927399417,
           1.5290421534673575,
           -0.14032953857805172,
           -0.2392395899668649,
           1.3894052991261696,
           0.7840223836933353,
           0.6223122554097734,
           0.6138499731871253,
           0.9407117571164615,
           0.6206983775414742,
           0.3407541627127687,
           1.2889632827103519,
           2.187051003819848,
           1.3642784756695965,
           0.9921455000603158,
           0.4533569112637097,
           1.7148349046609526,
           0.807396530012036,
           0.25764025803382395,
           0.3882580815694408,
           -0.18598616746928534,
           -0.7754594925585458,
           1.539840994691497,
           1.317723424022233,
           0.3301606301586108,
           1.7387814446387877,
           0.3731402500657335,
           0.399323620000513,
           0.5183509153254299,
           1.7211177689967505,
           1.8036990282630403,
           1.6053961026495183,
           0.7358143452490095,
           0.21508675457431803,
           1.8905487933461453,
           1.9692673996039463,
           1.284123572043376,
           1.7273413385307472,
           -0.9955697057528287,
           0.8972012723152277,
           1.2271258727501553,
           0.38188235150072897,
           1.029975547372304,
           0.21610474341989028,
           0.22770609108134834,
           0.3428668711780661,
           1.1932632852403189,
           0.5360483555824641,
           -0.058145229099036785,
           0.9440524844590716,
           0.7168769376790908,
           0.9069881698040276,
           2.0778020631958545,
           -0.6721998394120346,
           1.2359030970244032,
           1.4667620885466468,
           0.07649364687685707,
           0.17733217130838685,
           0.9724583005139248,
           0.431737348485449,
           -0.003959905970358647,
           0.7851530195651727,
           1.1512669436179352,
           0.656995165557047,
           -0.06319430946695799,
           0.04298537446674949,
           0.8431169778453489,
           -0.1483833257094627,
           0.952937617616768,
           1.5694281496492866,
           0.018792546022604172,
           0.4913596128860084,
           0.05283605873665252,
           -0.11226427032641569,
           0.21827930534968734,
           1.3112626387506952,
           -0.13432624775472574,
           0.9010251847871459,
           -0.006988757912392317,
           -0.8156916983649943,
           2.0943338141974217,
           0.0060390354734216655,
           1.312360187933453,
           -0.4980514739470258,
           1.5375559166671593,
           0.4569995175928417,
           1.34816096194045
          ],
          [
           0.6828994650024192,
           -1.0406113889216824,
           -0.2520161217101104,
           -1.0204779892222726,
           -0.5344944959944712,
           2.1009669297281053,
           -0.09549340174786054,
           1.5100246629109868,
           1.4684174343266807,
           -1.369925824210898,
           0.43381635249936523,
           1.5895510345363648,
           0.2395219140770374,
           1.156486625023335,
           2.704155227861616,
           1.2383030629840182,
           -0.7667835364828332,
           0.29539533409288843,
           0.8932259464788797,
           -0.03243080888395181,
           -0.2607076348377079,
           0.2975669825024584,
           0.7846123036572243,
           -0.43885850955150835,
           1.4908988646765218,
           0.9034573652372517,
           3.170701464914871,
           -0.10276866334912911,
           -0.8345762760596931,
           1.3396951646362136,
           2.3150776214497855,
           1.0454246307319,
           -0.28153155502243493,
           0.04936790011888693,
           2.2162392614922624,
           0.04686317442970443,
           -0.8441624618555695,
           -0.8209113210442965,
           -0.003603769998173882,
           -0.40224727045898345,
           0.24950478235840726,
           0.5363967033779256,
           -1.4120885992074215,
           1.8933568139683798,
           1.7767171419425742,
           3.4590636918718305,
           -0.5017250091705937,
           -1.5677697663654684,
           0.45015746295965836,
           0.15751228007744048,
           0.1417761665314272,
           0.9336801577416806,
           -0.5812455179207402,
           3.7606615562857773,
           0.8744047141872076,
           0.014187097486914626,
           -0.24244875284572545,
           -0.029052227605525602,
           0.8496365372616731,
           0.9305669945807498,
           3.6878790371710695,
           0.8370470594229029,
           -0.21591490034679836,
           3.4524270657129876,
           2.7845083008742386,
           0.09427735916279234,
           1.5213540364260216,
           -0.803685512357756,
           2.975431822509127,
           1.1931015153820144,
           1.5050559422746528,
           -0.27611323412854805,
           -0.5339247200075777,
           -0.20896258978660792,
           0.30603480849034687,
           1.2397908126697037,
           1.976665065268312,
           1.8719418237385903,
           -0.045509475832604444,
           -0.020741262598758508,
           0.5288259953880795,
           -0.25904110253244994,
           0.7638453825987382,
           1.5061172389203754,
           0.08291266909780945,
           -0.2296867232392733,
           0.239426139994404,
           0.19828687934782413,
           1.1094947403445914,
           1.1187916420635649,
           -1.507606001557225,
           4.148711478394605,
           -1.3793957040837266,
           -1.8906158415768033,
           1.82470526634895,
           -1.8073580111623533,
           0.4806812488653786,
           -0.6630534374438575,
           -0.7285375131061433,
           3.663366211258461,
           1.4434813334930106
          ]
         ]
        }
       ],
       "layout": {
        "height": 700,
        "template": {
         "data": {
          "bar": [
           {
            "error_x": {
             "color": "#2a3f5f"
            },
            "error_y": {
             "color": "#2a3f5f"
            },
            "marker": {
             "line": {
              "color": "#E5ECF6",
              "width": 0.5
             },
             "pattern": {
              "fillmode": "overlay",
              "size": 10,
              "solidity": 0.2
             }
            },
            "type": "bar"
           }
          ],
          "barpolar": [
           {
            "marker": {
             "line": {
              "color": "#E5ECF6",
              "width": 0.5
             },
             "pattern": {
              "fillmode": "overlay",
              "size": 10,
              "solidity": 0.2
             }
            },
            "type": "barpolar"
           }
          ],
          "carpet": [
           {
            "aaxis": {
             "endlinecolor": "#2a3f5f",
             "gridcolor": "white",
             "linecolor": "white",
             "minorgridcolor": "white",
             "startlinecolor": "#2a3f5f"
            },
            "baxis": {
             "endlinecolor": "#2a3f5f",
             "gridcolor": "white",
             "linecolor": "white",
             "minorgridcolor": "white",
             "startlinecolor": "#2a3f5f"
            },
            "type": "carpet"
           }
          ],
          "choropleth": [
           {
            "colorbar": {
             "outlinewidth": 0,
             "ticks": ""
            },
            "type": "choropleth"
           }
          ],
          "contour": [
           {
            "colorbar": {
             "outlinewidth": 0,
             "ticks": ""
            },
            "colorscale": [
             [
              0,
              "#0d0887"
             ],
             [
              0.1111111111111111,
              "#46039f"
             ],
             [
              0.2222222222222222,
              "#7201a8"
             ],
             [
              0.3333333333333333,
              "#9c179e"
             ],
             [
              0.4444444444444444,
              "#bd3786"
             ],
             [
              0.5555555555555556,
              "#d8576b"
             ],
             [
              0.6666666666666666,
              "#ed7953"
             ],
             [
              0.7777777777777778,
              "#fb9f3a"
             ],
             [
              0.8888888888888888,
              "#fdca26"
             ],
             [
              1,
              "#f0f921"
             ]
            ],
            "type": "contour"
           }
          ],
          "contourcarpet": [
           {
            "colorbar": {
             "outlinewidth": 0,
             "ticks": ""
            },
            "type": "contourcarpet"
           }
          ],
          "heatmap": [
           {
            "colorbar": {
             "outlinewidth": 0,
             "ticks": ""
            },
            "colorscale": [
             [
              0,
              "#0d0887"
             ],
             [
              0.1111111111111111,
              "#46039f"
             ],
             [
              0.2222222222222222,
              "#7201a8"
             ],
             [
              0.3333333333333333,
              "#9c179e"
             ],
             [
              0.4444444444444444,
              "#bd3786"
             ],
             [
              0.5555555555555556,
              "#d8576b"
             ],
             [
              0.6666666666666666,
              "#ed7953"
             ],
             [
              0.7777777777777778,
              "#fb9f3a"
             ],
             [
              0.8888888888888888,
              "#fdca26"
             ],
             [
              1,
              "#f0f921"
             ]
            ],
            "type": "heatmap"
           }
          ],
          "heatmapgl": [
           {
            "colorbar": {
             "outlinewidth": 0,
             "ticks": ""
            },
            "colorscale": [
             [
              0,
              "#0d0887"
             ],
             [
              0.1111111111111111,
              "#46039f"
             ],
             [
              0.2222222222222222,
              "#7201a8"
             ],
             [
              0.3333333333333333,
              "#9c179e"
             ],
             [
              0.4444444444444444,
              "#bd3786"
             ],
             [
              0.5555555555555556,
              "#d8576b"
             ],
             [
              0.6666666666666666,
              "#ed7953"
             ],
             [
              0.7777777777777778,
              "#fb9f3a"
             ],
             [
              0.8888888888888888,
              "#fdca26"
             ],
             [
              1,
              "#f0f921"
             ]
            ],
            "type": "heatmapgl"
           }
          ],
          "histogram": [
           {
            "marker": {
             "pattern": {
              "fillmode": "overlay",
              "size": 10,
              "solidity": 0.2
             }
            },
            "type": "histogram"
           }
          ],
          "histogram2d": [
           {
            "colorbar": {
             "outlinewidth": 0,
             "ticks": ""
            },
            "colorscale": [
             [
              0,
              "#0d0887"
             ],
             [
              0.1111111111111111,
              "#46039f"
             ],
             [
              0.2222222222222222,
              "#7201a8"
             ],
             [
              0.3333333333333333,
              "#9c179e"
             ],
             [
              0.4444444444444444,
              "#bd3786"
             ],
             [
              0.5555555555555556,
              "#d8576b"
             ],
             [
              0.6666666666666666,
              "#ed7953"
             ],
             [
              0.7777777777777778,
              "#fb9f3a"
             ],
             [
              0.8888888888888888,
              "#fdca26"
             ],
             [
              1,
              "#f0f921"
             ]
            ],
            "type": "histogram2d"
           }
          ],
          "histogram2dcontour": [
           {
            "colorbar": {
             "outlinewidth": 0,
             "ticks": ""
            },
            "colorscale": [
             [
              0,
              "#0d0887"
             ],
             [
              0.1111111111111111,
              "#46039f"
             ],
             [
              0.2222222222222222,
              "#7201a8"
             ],
             [
              0.3333333333333333,
              "#9c179e"
             ],
             [
              0.4444444444444444,
              "#bd3786"
             ],
             [
              0.5555555555555556,
              "#d8576b"
             ],
             [
              0.6666666666666666,
              "#ed7953"
             ],
             [
              0.7777777777777778,
              "#fb9f3a"
             ],
             [
              0.8888888888888888,
              "#fdca26"
             ],
             [
              1,
              "#f0f921"
             ]
            ],
            "type": "histogram2dcontour"
           }
          ],
          "mesh3d": [
           {
            "colorbar": {
             "outlinewidth": 0,
             "ticks": ""
            },
            "type": "mesh3d"
           }
          ],
          "parcoords": [
           {
            "line": {
             "colorbar": {
              "outlinewidth": 0,
              "ticks": ""
             }
            },
            "type": "parcoords"
           }
          ],
          "pie": [
           {
            "automargin": true,
            "type": "pie"
           }
          ],
          "scatter": [
           {
            "fillpattern": {
             "fillmode": "overlay",
             "size": 10,
             "solidity": 0.2
            },
            "type": "scatter"
           }
          ],
          "scatter3d": [
           {
            "line": {
             "colorbar": {
              "outlinewidth": 0,
              "ticks": ""
             }
            },
            "marker": {
             "colorbar": {
              "outlinewidth": 0,
              "ticks": ""
             }
            },
            "type": "scatter3d"
           }
          ],
          "scattercarpet": [
           {
            "marker": {
             "colorbar": {
              "outlinewidth": 0,
              "ticks": ""
             }
            },
            "type": "scattercarpet"
           }
          ],
          "scattergeo": [
           {
            "marker": {
             "colorbar": {
              "outlinewidth": 0,
              "ticks": ""
             }
            },
            "type": "scattergeo"
           }
          ],
          "scattergl": [
           {
            "marker": {
             "colorbar": {
              "outlinewidth": 0,
              "ticks": ""
             }
            },
            "type": "scattergl"
           }
          ],
          "scattermapbox": [
           {
            "marker": {
             "colorbar": {
              "outlinewidth": 0,
              "ticks": ""
             }
            },
            "type": "scattermapbox"
           }
          ],
          "scatterpolar": [
           {
            "marker": {
             "colorbar": {
              "outlinewidth": 0,
              "ticks": ""
             }
            },
            "type": "scatterpolar"
           }
          ],
          "scatterpolargl": [
           {
            "marker": {
             "colorbar": {
              "outlinewidth": 0,
              "ticks": ""
             }
            },
            "type": "scatterpolargl"
           }
          ],
          "scatterternary": [
           {
            "marker": {
             "colorbar": {
              "outlinewidth": 0,
              "ticks": ""
             }
            },
            "type": "scatterternary"
           }
          ],
          "surface": [
           {
            "colorbar": {
             "outlinewidth": 0,
             "ticks": ""
            },
            "colorscale": [
             [
              0,
              "#0d0887"
             ],
             [
              0.1111111111111111,
              "#46039f"
             ],
             [
              0.2222222222222222,
              "#7201a8"
             ],
             [
              0.3333333333333333,
              "#9c179e"
             ],
             [
              0.4444444444444444,
              "#bd3786"
             ],
             [
              0.5555555555555556,
              "#d8576b"
             ],
             [
              0.6666666666666666,
              "#ed7953"
             ],
             [
              0.7777777777777778,
              "#fb9f3a"
             ],
             [
              0.8888888888888888,
              "#fdca26"
             ],
             [
              1,
              "#f0f921"
             ]
            ],
            "type": "surface"
           }
          ],
          "table": [
           {
            "cells": {
             "fill": {
              "color": "#EBF0F8"
             },
             "line": {
              "color": "white"
             }
            },
            "header": {
             "fill": {
              "color": "#C8D4E3"
             },
             "line": {
              "color": "white"
             }
            },
            "type": "table"
           }
          ]
         },
         "layout": {
          "annotationdefaults": {
           "arrowcolor": "#2a3f5f",
           "arrowhead": 0,
           "arrowwidth": 1
          },
          "autotypenumbers": "strict",
          "coloraxis": {
           "colorbar": {
            "outlinewidth": 0,
            "ticks": ""
           }
          },
          "colorscale": {
           "diverging": [
            [
             0,
             "#8e0152"
            ],
            [
             0.1,
             "#c51b7d"
            ],
            [
             0.2,
             "#de77ae"
            ],
            [
             0.3,
             "#f1b6da"
            ],
            [
             0.4,
             "#fde0ef"
            ],
            [
             0.5,
             "#f7f7f7"
            ],
            [
             0.6,
             "#e6f5d0"
            ],
            [
             0.7,
             "#b8e186"
            ],
            [
             0.8,
             "#7fbc41"
            ],
            [
             0.9,
             "#4d9221"
            ],
            [
             1,
             "#276419"
            ]
           ],
           "sequential": [
            [
             0,
             "#0d0887"
            ],
            [
             0.1111111111111111,
             "#46039f"
            ],
            [
             0.2222222222222222,
             "#7201a8"
            ],
            [
             0.3333333333333333,
             "#9c179e"
            ],
            [
             0.4444444444444444,
             "#bd3786"
            ],
            [
             0.5555555555555556,
             "#d8576b"
            ],
            [
             0.6666666666666666,
             "#ed7953"
            ],
            [
             0.7777777777777778,
             "#fb9f3a"
            ],
            [
             0.8888888888888888,
             "#fdca26"
            ],
            [
             1,
             "#f0f921"
            ]
           ],
           "sequentialminus": [
            [
             0,
             "#0d0887"
            ],
            [
             0.1111111111111111,
             "#46039f"
            ],
            [
             0.2222222222222222,
             "#7201a8"
            ],
            [
             0.3333333333333333,
             "#9c179e"
            ],
            [
             0.4444444444444444,
             "#bd3786"
            ],
            [
             0.5555555555555556,
             "#d8576b"
            ],
            [
             0.6666666666666666,
             "#ed7953"
            ],
            [
             0.7777777777777778,
             "#fb9f3a"
            ],
            [
             0.8888888888888888,
             "#fdca26"
            ],
            [
             1,
             "#f0f921"
            ]
           ]
          },
          "colorway": [
           "#636efa",
           "#EF553B",
           "#00cc96",
           "#ab63fa",
           "#FFA15A",
           "#19d3f3",
           "#FF6692",
           "#B6E880",
           "#FF97FF",
           "#FECB52"
          ],
          "font": {
           "color": "#2a3f5f"
          },
          "geo": {
           "bgcolor": "white",
           "lakecolor": "white",
           "landcolor": "#E5ECF6",
           "showlakes": true,
           "showland": true,
           "subunitcolor": "white"
          },
          "hoverlabel": {
           "align": "left"
          },
          "hovermode": "closest",
          "mapbox": {
           "style": "light"
          },
          "paper_bgcolor": "white",
          "plot_bgcolor": "#E5ECF6",
          "polar": {
           "angularaxis": {
            "gridcolor": "white",
            "linecolor": "white",
            "ticks": ""
           },
           "bgcolor": "#E5ECF6",
           "radialaxis": {
            "gridcolor": "white",
            "linecolor": "white",
            "ticks": ""
           }
          },
          "scene": {
           "xaxis": {
            "backgroundcolor": "#E5ECF6",
            "gridcolor": "white",
            "gridwidth": 2,
            "linecolor": "white",
            "showbackground": true,
            "ticks": "",
            "zerolinecolor": "white"
           },
           "yaxis": {
            "backgroundcolor": "#E5ECF6",
            "gridcolor": "white",
            "gridwidth": 2,
            "linecolor": "white",
            "showbackground": true,
            "ticks": "",
            "zerolinecolor": "white"
           },
           "zaxis": {
            "backgroundcolor": "#E5ECF6",
            "gridcolor": "white",
            "gridwidth": 2,
            "linecolor": "white",
            "showbackground": true,
            "ticks": "",
            "zerolinecolor": "white"
           }
          },
          "shapedefaults": {
           "line": {
            "color": "#2a3f5f"
           }
          },
          "ternary": {
           "aaxis": {
            "gridcolor": "white",
            "linecolor": "white",
            "ticks": ""
           },
           "baxis": {
            "gridcolor": "white",
            "linecolor": "white",
            "ticks": ""
           },
           "bgcolor": "#E5ECF6",
           "caxis": {
            "gridcolor": "white",
            "linecolor": "white",
            "ticks": ""
           }
          },
          "title": {
           "x": 0.05
          },
          "xaxis": {
           "automargin": true,
           "gridcolor": "white",
           "linecolor": "white",
           "ticks": "",
           "title": {
            "standoff": 15
           },
           "zerolinecolor": "white",
           "zerolinewidth": 2
          },
          "yaxis": {
           "automargin": true,
           "gridcolor": "white",
           "linecolor": "white",
           "ticks": "",
           "title": {
            "standoff": 15
           },
           "zerolinecolor": "white",
           "zerolinewidth": 2
          }
         }
        },
        "width": 1600
       }
      }
     },
     "metadata": {},
     "output_type": "display_data"
    }
   ],
   "source": [
    "from sklearn.preprocessing import StandardScaler\n",
    "std_skills = StandardScaler().fit_transform(skills)\n",
    "std_skills = pd.DataFrame(std_skills, columns=skills.columns, index=skills.index)\n",
    "fig = go.Figure(data=go.Heatmap(z=std_skills, x=skills.columns,y=skills.index, colorscale='magma', ygap=1))\n",
    "fig.update_layout(width=1600, height=700)\n",
    "fig.show()\n"
   ]
  },
  {
   "cell_type": "code",
   "execution_count": null,
   "metadata": {},
   "outputs": [
    {
     "data": {
      "application/vnd.plotly.v1+json": {
       "config": {
        "plotlyServerURL": "https://plot.ly"
       },
       "data": [
        {
         "hoverinfo": "text",
         "marker": {
          "color": "rgb(0,116,217)"
         },
         "mode": "lines",
         "type": "scatter",
         "x": [
          0,
          6.733268802317174,
          6.733268802317174,
          0
         ],
         "xaxis": "x",
         "y": [
          -15,
          -15,
          -25,
          -25
         ],
         "yaxis": "y"
        },
        {
         "hoverinfo": "text",
         "marker": {
          "color": "rgb(0,116,217)"
         },
         "mode": "lines",
         "type": "scatter",
         "x": [
          0,
          9.885118662530148,
          9.885118662530148,
          6.733268802317174
         ],
         "xaxis": "x",
         "y": [
          -5,
          -5,
          -20,
          -20
         ],
         "yaxis": "y"
        },
        {
         "hoverinfo": "text",
         "marker": {
          "color": "rgb(0,116,217)"
         },
         "mode": "lines",
         "type": "scatter",
         "x": [
          0,
          11.985155026095024,
          11.985155026095024,
          0
         ],
         "xaxis": "x",
         "y": [
          -35,
          -35,
          -45,
          -45
         ],
         "yaxis": "y"
        },
        {
         "hoverinfo": "text",
         "marker": {
          "color": "rgb(0,116,217)"
         },
         "mode": "lines",
         "type": "scatter",
         "x": [
          0,
          10.75580020856159,
          10.75580020856159,
          0
         ],
         "xaxis": "x",
         "y": [
          -65,
          -65,
          -75,
          -75
         ],
         "yaxis": "y"
        },
        {
         "hoverinfo": "text",
         "marker": {
          "color": "rgb(0,116,217)"
         },
         "mode": "lines",
         "type": "scatter",
         "x": [
          0,
          15.928839884729276,
          15.928839884729276,
          10.75580020856159
         ],
         "xaxis": "x",
         "y": [
          -55,
          -55,
          -70,
          -70
         ],
         "yaxis": "y"
        },
        {
         "hoverinfo": "text",
         "marker": {
          "color": "rgb(0,116,217)"
         },
         "mode": "lines",
         "type": "scatter",
         "x": [
          11.985155026095024,
          19.54358915293342,
          19.54358915293342,
          15.928839884729276
         ],
         "xaxis": "x",
         "y": [
          -40,
          -40,
          -62.5,
          -62.5
         ],
         "yaxis": "y"
        },
        {
         "hoverinfo": "text",
         "marker": {
          "color": "rgb(0,116,217)"
         },
         "mode": "lines",
         "type": "scatter",
         "x": [
          0,
          5.109016729409869,
          5.109016729409869,
          0
         ],
         "xaxis": "x",
         "y": [
          -85,
          -85,
          -95,
          -95
         ],
         "yaxis": "y"
        },
        {
         "hoverinfo": "text",
         "marker": {
          "color": "rgb(0,116,217)"
         },
         "mode": "lines",
         "type": "scatter",
         "x": [
          0,
          8.800207531957073,
          8.800207531957073,
          0
         ],
         "xaxis": "x",
         "y": [
          -105,
          -105,
          -115,
          -115
         ],
         "yaxis": "y"
        },
        {
         "hoverinfo": "text",
         "marker": {
          "color": "rgb(0,116,217)"
         },
         "mode": "lines",
         "type": "scatter",
         "x": [
          5.109016729409869,
          12.368943497641038,
          12.368943497641038,
          8.800207531957073
         ],
         "xaxis": "x",
         "y": [
          -90,
          -90,
          -110,
          -110
         ],
         "yaxis": "y"
        },
        {
         "hoverinfo": "text",
         "marker": {
          "color": "rgb(0,116,217)"
         },
         "mode": "lines",
         "type": "scatter",
         "x": [
          0,
          11.415635117328643,
          11.415635117328643,
          0
         ],
         "xaxis": "x",
         "y": [
          -125,
          -125,
          -135,
          -135
         ],
         "yaxis": "y"
        },
        {
         "hoverinfo": "text",
         "marker": {
          "color": "rgb(0,116,217)"
         },
         "mode": "lines",
         "type": "scatter",
         "x": [
          0,
          7.394186068228005,
          7.394186068228005,
          0
         ],
         "xaxis": "x",
         "y": [
          -145,
          -145,
          -155,
          -155
         ],
         "yaxis": "y"
        },
        {
         "hoverinfo": "text",
         "marker": {
          "color": "rgb(0,116,217)"
         },
         "mode": "lines",
         "type": "scatter",
         "x": [
          0,
          6.0223207116250626,
          6.0223207116250626,
          0
         ],
         "xaxis": "x",
         "y": [
          -175,
          -175,
          -185,
          -185
         ],
         "yaxis": "y"
        },
        {
         "hoverinfo": "text",
         "marker": {
          "color": "rgb(0,116,217)"
         },
         "mode": "lines",
         "type": "scatter",
         "x": [
          0,
          8.29904706930542,
          8.29904706930542,
          6.0223207116250626
         ],
         "xaxis": "x",
         "y": [
          -165,
          -165,
          -180,
          -180
         ],
         "yaxis": "y"
        },
        {
         "hoverinfo": "text",
         "marker": {
          "color": "rgb(0,116,217)"
         },
         "mode": "lines",
         "type": "scatter",
         "x": [
          0,
          4.044803431804298,
          4.044803431804298,
          0
         ],
         "xaxis": "x",
         "y": [
          -195,
          -195,
          -205,
          -205
         ],
         "yaxis": "y"
        },
        {
         "hoverinfo": "text",
         "marker": {
          "color": "rgb(0,116,217)"
         },
         "mode": "lines",
         "type": "scatter",
         "x": [
          0,
          6.062818293907914,
          6.062818293907914,
          0
         ],
         "xaxis": "x",
         "y": [
          -215,
          -215,
          -225,
          -225
         ],
         "yaxis": "y"
        },
        {
         "hoverinfo": "text",
         "marker": {
          "color": "rgb(0,116,217)"
         },
         "mode": "lines",
         "type": "scatter",
         "x": [
          4.044803431804298,
          9.130021772854995,
          9.130021772854995,
          6.062818293907914
         ],
         "xaxis": "x",
         "y": [
          -200,
          -200,
          -220,
          -220
         ],
         "yaxis": "y"
        },
        {
         "hoverinfo": "text",
         "marker": {
          "color": "rgb(0,116,217)"
         },
         "mode": "lines",
         "type": "scatter",
         "x": [
          8.29904706930542,
          9.979071462862395,
          9.979071462862395,
          9.130021772854995
         ],
         "xaxis": "x",
         "y": [
          -172.5,
          -172.5,
          -210,
          -210
         ],
         "yaxis": "y"
        },
        {
         "hoverinfo": "text",
         "marker": {
          "color": "rgb(0,116,217)"
         },
         "mode": "lines",
         "type": "scatter",
         "x": [
          7.394186068228005,
          12.961029846854839,
          12.961029846854839,
          9.979071462862395
         ],
         "xaxis": "x",
         "y": [
          -150,
          -150,
          -191.25,
          -191.25
         ],
         "yaxis": "y"
        },
        {
         "hoverinfo": "text",
         "marker": {
          "color": "rgb(0,116,217)"
         },
         "mode": "lines",
         "type": "scatter",
         "x": [
          11.415635117328643,
          15.570505055264242,
          15.570505055264242,
          12.961029846854839
         ],
         "xaxis": "x",
         "y": [
          -130,
          -130,
          -170.625,
          -170.625
         ],
         "yaxis": "y"
        },
        {
         "hoverinfo": "text",
         "marker": {
          "color": "rgb(0,116,217)"
         },
         "mode": "lines",
         "type": "scatter",
         "x": [
          12.368943497641038,
          20.10194458613899,
          20.10194458613899,
          15.570505055264242
         ],
         "xaxis": "x",
         "y": [
          -100,
          -100,
          -150.3125,
          -150.3125
         ],
         "yaxis": "y"
        },
        {
         "hoverinfo": "text",
         "marker": {
          "color": "rgb(0,116,217)"
         },
         "mode": "lines",
         "type": "scatter",
         "x": [
          19.54358915293342,
          22.718132365732007,
          22.718132365732007,
          20.10194458613899
         ],
         "xaxis": "x",
         "y": [
          -51.25,
          -51.25,
          -125.15625,
          -125.15625
         ],
         "yaxis": "y"
        },
        {
         "hoverinfo": "text",
         "marker": {
          "color": "rgb(0,116,217)"
         },
         "mode": "lines",
         "type": "scatter",
         "x": [
          9.885118662530148,
          23.877619339645687,
          23.877619339645687,
          22.718132365732007
         ],
         "xaxis": "x",
         "y": [
          -12.5,
          -12.5,
          -88.203125,
          -88.203125
         ],
         "yaxis": "y"
        }
       ],
       "layout": {
        "autosize": false,
        "height": 1000,
        "hovermode": "closest",
        "showlegend": false,
        "template": {
         "data": {
          "bar": [
           {
            "error_x": {
             "color": "#2a3f5f"
            },
            "error_y": {
             "color": "#2a3f5f"
            },
            "marker": {
             "line": {
              "color": "#E5ECF6",
              "width": 0.5
             },
             "pattern": {
              "fillmode": "overlay",
              "size": 10,
              "solidity": 0.2
             }
            },
            "type": "bar"
           }
          ],
          "barpolar": [
           {
            "marker": {
             "line": {
              "color": "#E5ECF6",
              "width": 0.5
             },
             "pattern": {
              "fillmode": "overlay",
              "size": 10,
              "solidity": 0.2
             }
            },
            "type": "barpolar"
           }
          ],
          "carpet": [
           {
            "aaxis": {
             "endlinecolor": "#2a3f5f",
             "gridcolor": "white",
             "linecolor": "white",
             "minorgridcolor": "white",
             "startlinecolor": "#2a3f5f"
            },
            "baxis": {
             "endlinecolor": "#2a3f5f",
             "gridcolor": "white",
             "linecolor": "white",
             "minorgridcolor": "white",
             "startlinecolor": "#2a3f5f"
            },
            "type": "carpet"
           }
          ],
          "choropleth": [
           {
            "colorbar": {
             "outlinewidth": 0,
             "ticks": ""
            },
            "type": "choropleth"
           }
          ],
          "contour": [
           {
            "colorbar": {
             "outlinewidth": 0,
             "ticks": ""
            },
            "colorscale": [
             [
              0,
              "#0d0887"
             ],
             [
              0.1111111111111111,
              "#46039f"
             ],
             [
              0.2222222222222222,
              "#7201a8"
             ],
             [
              0.3333333333333333,
              "#9c179e"
             ],
             [
              0.4444444444444444,
              "#bd3786"
             ],
             [
              0.5555555555555556,
              "#d8576b"
             ],
             [
              0.6666666666666666,
              "#ed7953"
             ],
             [
              0.7777777777777778,
              "#fb9f3a"
             ],
             [
              0.8888888888888888,
              "#fdca26"
             ],
             [
              1,
              "#f0f921"
             ]
            ],
            "type": "contour"
           }
          ],
          "contourcarpet": [
           {
            "colorbar": {
             "outlinewidth": 0,
             "ticks": ""
            },
            "type": "contourcarpet"
           }
          ],
          "heatmap": [
           {
            "colorbar": {
             "outlinewidth": 0,
             "ticks": ""
            },
            "colorscale": [
             [
              0,
              "#0d0887"
             ],
             [
              0.1111111111111111,
              "#46039f"
             ],
             [
              0.2222222222222222,
              "#7201a8"
             ],
             [
              0.3333333333333333,
              "#9c179e"
             ],
             [
              0.4444444444444444,
              "#bd3786"
             ],
             [
              0.5555555555555556,
              "#d8576b"
             ],
             [
              0.6666666666666666,
              "#ed7953"
             ],
             [
              0.7777777777777778,
              "#fb9f3a"
             ],
             [
              0.8888888888888888,
              "#fdca26"
             ],
             [
              1,
              "#f0f921"
             ]
            ],
            "type": "heatmap"
           }
          ],
          "heatmapgl": [
           {
            "colorbar": {
             "outlinewidth": 0,
             "ticks": ""
            },
            "colorscale": [
             [
              0,
              "#0d0887"
             ],
             [
              0.1111111111111111,
              "#46039f"
             ],
             [
              0.2222222222222222,
              "#7201a8"
             ],
             [
              0.3333333333333333,
              "#9c179e"
             ],
             [
              0.4444444444444444,
              "#bd3786"
             ],
             [
              0.5555555555555556,
              "#d8576b"
             ],
             [
              0.6666666666666666,
              "#ed7953"
             ],
             [
              0.7777777777777778,
              "#fb9f3a"
             ],
             [
              0.8888888888888888,
              "#fdca26"
             ],
             [
              1,
              "#f0f921"
             ]
            ],
            "type": "heatmapgl"
           }
          ],
          "histogram": [
           {
            "marker": {
             "pattern": {
              "fillmode": "overlay",
              "size": 10,
              "solidity": 0.2
             }
            },
            "type": "histogram"
           }
          ],
          "histogram2d": [
           {
            "colorbar": {
             "outlinewidth": 0,
             "ticks": ""
            },
            "colorscale": [
             [
              0,
              "#0d0887"
             ],
             [
              0.1111111111111111,
              "#46039f"
             ],
             [
              0.2222222222222222,
              "#7201a8"
             ],
             [
              0.3333333333333333,
              "#9c179e"
             ],
             [
              0.4444444444444444,
              "#bd3786"
             ],
             [
              0.5555555555555556,
              "#d8576b"
             ],
             [
              0.6666666666666666,
              "#ed7953"
             ],
             [
              0.7777777777777778,
              "#fb9f3a"
             ],
             [
              0.8888888888888888,
              "#fdca26"
             ],
             [
              1,
              "#f0f921"
             ]
            ],
            "type": "histogram2d"
           }
          ],
          "histogram2dcontour": [
           {
            "colorbar": {
             "outlinewidth": 0,
             "ticks": ""
            },
            "colorscale": [
             [
              0,
              "#0d0887"
             ],
             [
              0.1111111111111111,
              "#46039f"
             ],
             [
              0.2222222222222222,
              "#7201a8"
             ],
             [
              0.3333333333333333,
              "#9c179e"
             ],
             [
              0.4444444444444444,
              "#bd3786"
             ],
             [
              0.5555555555555556,
              "#d8576b"
             ],
             [
              0.6666666666666666,
              "#ed7953"
             ],
             [
              0.7777777777777778,
              "#fb9f3a"
             ],
             [
              0.8888888888888888,
              "#fdca26"
             ],
             [
              1,
              "#f0f921"
             ]
            ],
            "type": "histogram2dcontour"
           }
          ],
          "mesh3d": [
           {
            "colorbar": {
             "outlinewidth": 0,
             "ticks": ""
            },
            "type": "mesh3d"
           }
          ],
          "parcoords": [
           {
            "line": {
             "colorbar": {
              "outlinewidth": 0,
              "ticks": ""
             }
            },
            "type": "parcoords"
           }
          ],
          "pie": [
           {
            "automargin": true,
            "type": "pie"
           }
          ],
          "scatter": [
           {
            "fillpattern": {
             "fillmode": "overlay",
             "size": 10,
             "solidity": 0.2
            },
            "type": "scatter"
           }
          ],
          "scatter3d": [
           {
            "line": {
             "colorbar": {
              "outlinewidth": 0,
              "ticks": ""
             }
            },
            "marker": {
             "colorbar": {
              "outlinewidth": 0,
              "ticks": ""
             }
            },
            "type": "scatter3d"
           }
          ],
          "scattercarpet": [
           {
            "marker": {
             "colorbar": {
              "outlinewidth": 0,
              "ticks": ""
             }
            },
            "type": "scattercarpet"
           }
          ],
          "scattergeo": [
           {
            "marker": {
             "colorbar": {
              "outlinewidth": 0,
              "ticks": ""
             }
            },
            "type": "scattergeo"
           }
          ],
          "scattergl": [
           {
            "marker": {
             "colorbar": {
              "outlinewidth": 0,
              "ticks": ""
             }
            },
            "type": "scattergl"
           }
          ],
          "scattermapbox": [
           {
            "marker": {
             "colorbar": {
              "outlinewidth": 0,
              "ticks": ""
             }
            },
            "type": "scattermapbox"
           }
          ],
          "scatterpolar": [
           {
            "marker": {
             "colorbar": {
              "outlinewidth": 0,
              "ticks": ""
             }
            },
            "type": "scatterpolar"
           }
          ],
          "scatterpolargl": [
           {
            "marker": {
             "colorbar": {
              "outlinewidth": 0,
              "ticks": ""
             }
            },
            "type": "scatterpolargl"
           }
          ],
          "scatterternary": [
           {
            "marker": {
             "colorbar": {
              "outlinewidth": 0,
              "ticks": ""
             }
            },
            "type": "scatterternary"
           }
          ],
          "surface": [
           {
            "colorbar": {
             "outlinewidth": 0,
             "ticks": ""
            },
            "colorscale": [
             [
              0,
              "#0d0887"
             ],
             [
              0.1111111111111111,
              "#46039f"
             ],
             [
              0.2222222222222222,
              "#7201a8"
             ],
             [
              0.3333333333333333,
              "#9c179e"
             ],
             [
              0.4444444444444444,
              "#bd3786"
             ],
             [
              0.5555555555555556,
              "#d8576b"
             ],
             [
              0.6666666666666666,
              "#ed7953"
             ],
             [
              0.7777777777777778,
              "#fb9f3a"
             ],
             [
              0.8888888888888888,
              "#fdca26"
             ],
             [
              1,
              "#f0f921"
             ]
            ],
            "type": "surface"
           }
          ],
          "table": [
           {
            "cells": {
             "fill": {
              "color": "#EBF0F8"
             },
             "line": {
              "color": "white"
             }
            },
            "header": {
             "fill": {
              "color": "#C8D4E3"
             },
             "line": {
              "color": "white"
             }
            },
            "type": "table"
           }
          ]
         },
         "layout": {
          "annotationdefaults": {
           "arrowcolor": "#2a3f5f",
           "arrowhead": 0,
           "arrowwidth": 1
          },
          "autotypenumbers": "strict",
          "coloraxis": {
           "colorbar": {
            "outlinewidth": 0,
            "ticks": ""
           }
          },
          "colorscale": {
           "diverging": [
            [
             0,
             "#8e0152"
            ],
            [
             0.1,
             "#c51b7d"
            ],
            [
             0.2,
             "#de77ae"
            ],
            [
             0.3,
             "#f1b6da"
            ],
            [
             0.4,
             "#fde0ef"
            ],
            [
             0.5,
             "#f7f7f7"
            ],
            [
             0.6,
             "#e6f5d0"
            ],
            [
             0.7,
             "#b8e186"
            ],
            [
             0.8,
             "#7fbc41"
            ],
            [
             0.9,
             "#4d9221"
            ],
            [
             1,
             "#276419"
            ]
           ],
           "sequential": [
            [
             0,
             "#0d0887"
            ],
            [
             0.1111111111111111,
             "#46039f"
            ],
            [
             0.2222222222222222,
             "#7201a8"
            ],
            [
             0.3333333333333333,
             "#9c179e"
            ],
            [
             0.4444444444444444,
             "#bd3786"
            ],
            [
             0.5555555555555556,
             "#d8576b"
            ],
            [
             0.6666666666666666,
             "#ed7953"
            ],
            [
             0.7777777777777778,
             "#fb9f3a"
            ],
            [
             0.8888888888888888,
             "#fdca26"
            ],
            [
             1,
             "#f0f921"
            ]
           ],
           "sequentialminus": [
            [
             0,
             "#0d0887"
            ],
            [
             0.1111111111111111,
             "#46039f"
            ],
            [
             0.2222222222222222,
             "#7201a8"
            ],
            [
             0.3333333333333333,
             "#9c179e"
            ],
            [
             0.4444444444444444,
             "#bd3786"
            ],
            [
             0.5555555555555556,
             "#d8576b"
            ],
            [
             0.6666666666666666,
             "#ed7953"
            ],
            [
             0.7777777777777778,
             "#fb9f3a"
            ],
            [
             0.8888888888888888,
             "#fdca26"
            ],
            [
             1,
             "#f0f921"
            ]
           ]
          },
          "colorway": [
           "#636efa",
           "#EF553B",
           "#00cc96",
           "#ab63fa",
           "#FFA15A",
           "#19d3f3",
           "#FF6692",
           "#B6E880",
           "#FF97FF",
           "#FECB52"
          ],
          "font": {
           "color": "#2a3f5f"
          },
          "geo": {
           "bgcolor": "white",
           "lakecolor": "white",
           "landcolor": "#E5ECF6",
           "showlakes": true,
           "showland": true,
           "subunitcolor": "white"
          },
          "hoverlabel": {
           "align": "left"
          },
          "hovermode": "closest",
          "mapbox": {
           "style": "light"
          },
          "paper_bgcolor": "white",
          "plot_bgcolor": "#E5ECF6",
          "polar": {
           "angularaxis": {
            "gridcolor": "white",
            "linecolor": "white",
            "ticks": ""
           },
           "bgcolor": "#E5ECF6",
           "radialaxis": {
            "gridcolor": "white",
            "linecolor": "white",
            "ticks": ""
           }
          },
          "scene": {
           "xaxis": {
            "backgroundcolor": "#E5ECF6",
            "gridcolor": "white",
            "gridwidth": 2,
            "linecolor": "white",
            "showbackground": true,
            "ticks": "",
            "zerolinecolor": "white"
           },
           "yaxis": {
            "backgroundcolor": "#E5ECF6",
            "gridcolor": "white",
            "gridwidth": 2,
            "linecolor": "white",
            "showbackground": true,
            "ticks": "",
            "zerolinecolor": "white"
           },
           "zaxis": {
            "backgroundcolor": "#E5ECF6",
            "gridcolor": "white",
            "gridwidth": 2,
            "linecolor": "white",
            "showbackground": true,
            "ticks": "",
            "zerolinecolor": "white"
           }
          },
          "shapedefaults": {
           "line": {
            "color": "#2a3f5f"
           }
          },
          "ternary": {
           "aaxis": {
            "gridcolor": "white",
            "linecolor": "white",
            "ticks": ""
           },
           "baxis": {
            "gridcolor": "white",
            "linecolor": "white",
            "ticks": ""
           },
           "bgcolor": "#E5ECF6",
           "caxis": {
            "gridcolor": "white",
            "linecolor": "white",
            "ticks": ""
           }
          },
          "title": {
           "x": 0.05
          },
          "xaxis": {
           "automargin": true,
           "gridcolor": "white",
           "linecolor": "white",
           "ticks": "",
           "title": {
            "standoff": 15
           },
           "zerolinecolor": "white",
           "zerolinewidth": 2
          },
          "yaxis": {
           "automargin": true,
           "gridcolor": "white",
           "linecolor": "white",
           "ticks": "",
           "title": {
            "standoff": 15
           },
           "zerolinecolor": "white",
           "zerolinewidth": 2
          }
         }
        },
        "width": 800,
        "xaxis": {
         "mirror": "allticks",
         "rangemode": "tozero",
         "showgrid": false,
         "showline": true,
         "showticklabels": true,
         "ticks": "outside",
         "type": "linear",
         "zeroline": false
        },
        "yaxis": {
         "mirror": "allticks",
         "rangemode": "tozero",
         "showgrid": false,
         "showline": true,
         "showticklabels": true,
         "tickmode": "array",
         "ticks": "outside",
         "ticktext": [
          "Engineer, site reliability",
          "DevOps specialist",
          "Engineering manager",
          "Senior executive/VP",
          "Marketing or sales professional",
          "Developer, mobile",
          "Developer, embedded applications or devices",
          "Developer, game or graphics",
          "Academic researcher",
          "Scientist",
          "Data scientist or machine learning specialist",
          "Engineer, data",
          "Developer, desktop or enterprise applications",
          "Data or business analyst",
          "Database administrator",
          "System administrator",
          "Designer",
          "Educator",
          "Product manager",
          "Developer, full-stack",
          "Developer, front-end",
          "Developer, back-end",
          "Developer, QA or test"
         ],
         "tickvals": [
          -5,
          -15,
          -25,
          -35,
          -45,
          -55,
          -65,
          -75,
          -85,
          -95,
          -105,
          -115,
          -125,
          -135,
          -145,
          -155,
          -165,
          -175,
          -185,
          -195,
          -205,
          -215,
          -225
         ],
         "type": "linear",
         "zeroline": false
        }
       }
      }
     },
     "metadata": {},
     "output_type": "display_data"
    }
   ],
   "source": [
    "fig= ff.create_dendrogram(std_skills,orientation='left',labels=std_skills.index,color_threshold=0.5)\n",
    "fig.update_layout(width=800,height=1000)\n",
    "fig.show()\n",
    "\n"
   ]
  },
  {
   "attachments": {},
   "cell_type": "markdown",
   "metadata": {},
   "source": [
    "## profile for roles"
   ]
  },
  {
   "cell_type": "code",
   "execution_count": null,
   "metadata": {},
   "outputs": [
    {
     "data": {
      "text/html": [
       "<div>\n",
       "<style scoped>\n",
       "    .dataframe tbody tr th:only-of-type {\n",
       "        vertical-align: middle;\n",
       "    }\n",
       "\n",
       "    .dataframe tbody tr th {\n",
       "        vertical-align: top;\n",
       "    }\n",
       "\n",
       "    .dataframe thead th {\n",
       "        text-align: right;\n",
       "    }\n",
       "</style>\n",
       "<table border=\"1\" class=\"dataframe\">\n",
       "  <thead>\n",
       "    <tr style=\"text-align: right;\">\n",
       "      <th></th>\n",
       "      <th>percentage</th>\n",
       "      <th>specificity</th>\n",
       "    </tr>\n",
       "  </thead>\n",
       "  <tbody>\n",
       "    <tr>\n",
       "      <th>Python</th>\n",
       "      <td>78.335005</td>\n",
       "      <td>2.614848</td>\n",
       "    </tr>\n",
       "    <tr>\n",
       "      <th>Github</th>\n",
       "      <td>78.059178</td>\n",
       "      <td>0.967076</td>\n",
       "    </tr>\n",
       "    <tr>\n",
       "      <th>Linux</th>\n",
       "      <td>63.540622</td>\n",
       "      <td>0.720565</td>\n",
       "    </tr>\n",
       "    <tr>\n",
       "      <th>SQL</th>\n",
       "      <td>58.450351</td>\n",
       "      <td>-0.180472</td>\n",
       "    </tr>\n",
       "    <tr>\n",
       "      <th>Slack</th>\n",
       "      <td>51.078235</td>\n",
       "      <td>0.167600</td>\n",
       "    </tr>\n",
       "    <tr>\n",
       "      <th>...</th>\n",
       "      <td>...</td>\n",
       "      <td>...</td>\n",
       "    </tr>\n",
       "    <tr>\n",
       "      <th>Unreal Engine</th>\n",
       "      <td>2.758275</td>\n",
       "      <td>-0.330042</td>\n",
       "    </tr>\n",
       "    <tr>\n",
       "      <th>Gatsby</th>\n",
       "      <td>2.683049</td>\n",
       "      <td>-0.732300</td>\n",
       "    </tr>\n",
       "    <tr>\n",
       "      <th>Puppet</th>\n",
       "      <td>2.432297</td>\n",
       "      <td>-0.425910</td>\n",
       "    </tr>\n",
       "    <tr>\n",
       "      <th>Couchbase</th>\n",
       "      <td>2.357071</td>\n",
       "      <td>-0.627059</td>\n",
       "    </tr>\n",
       "    <tr>\n",
       "      <th>Chef</th>\n",
       "      <td>2.081244</td>\n",
       "      <td>-0.366560</td>\n",
       "    </tr>\n",
       "  </tbody>\n",
       "</table>\n",
       "<p>101 rows × 2 columns</p>\n",
       "</div>"
      ],
      "text/plain": [
       "               percentage  specificity\n",
       "Python          78.335005     2.614848\n",
       "Github          78.059178     0.967076\n",
       "Linux           63.540622     0.720565\n",
       "SQL             58.450351    -0.180472\n",
       "Slack           51.078235     0.167600\n",
       "...                   ...          ...\n",
       "Unreal Engine    2.758275    -0.330042\n",
       "Gatsby           2.683049    -0.732300\n",
       "Puppet           2.432297    -0.425910\n",
       "Couchbase        2.357071    -0.627059\n",
       "Chef             2.081244    -0.366560\n",
       "\n",
       "[101 rows x 2 columns]"
      ]
     },
     "execution_count": 24,
     "metadata": {},
     "output_type": "execute_result"
    }
   ],
   "source": [
    "role='Data scientist or machine learning specialist'\n",
    "single_role_skills = pd.concat([skills.loc[role], std_skills.loc[role]], axis=1)\n",
    "single_role_skills.columns = ['percentage', 'specificity']\n",
    "single_role_skills = single_role_skills.sort_values(by='percentage',ascending=False)\n",
    "single_role_skills"
   ]
  },
  {
   "cell_type": "code",
   "execution_count": null,
   "metadata": {},
   "outputs": [
    {
     "data": {
      "application/vnd.plotly.v1+json": {
       "config": {
        "plotlyServerURL": "https://plot.ly"
       },
       "data": [
        {
         "alignmentgroup": "True",
         "hovertemplate": "x=%{x}<br>y=%{y}<br>color=%{marker.color}<extra></extra>",
         "legendgroup": "",
         "marker": {
          "color": [
           2.614847650786926,
           0.9670762854989874,
           0.7205654372457516,
           -0.1804718281210389,
           0.16760034240237398,
           3.2915838274729214,
           -0.36172287328974495,
           -2.055380510449635,
           -1.7606504243877048,
           -0.8526348000741468,
           0.04125031098237778,
           -0.36855790879145617,
           0.22884339796838765,
           -0.07896065758627525,
           0.5312367597338874,
           3.610934325603858,
           -0.08179413152863334,
           -0.67735422371836,
           0.2799958842507123,
           0.25234355076704046,
           0.49730533649320385,
           -0.2052853102660464,
           2.8366067922330886,
           -0.9006494976610823,
           3.6812767324840108,
           -0.8588437979865869,
           2.894423165550614,
           0.38608207709527786,
           -1.9464254034912887,
           0.21532424141910048
          ],
          "coloraxis": "coloraxis",
          "pattern": {
           "shape": ""
          }
         },
         "name": "",
         "offsetgroup": "",
         "orientation": "h",
         "showlegend": false,
         "textposition": "auto",
         "type": "bar",
         "x": [
          78.33500501504514,
          78.05917753259779,
          63.54062186559679,
          58.45035105315948,
          51.07823470411233,
          50.075225677031085,
          48.72116349047141,
          48.26980942828485,
          48.24473420260782,
          46.26379137412236,
          43.75626880641926,
          40.84754262788365,
          39.96990972918756,
          39.56870611835506,
          39.1173520561685,
          37.938816449348046,
          36.18355065195587,
          35.05516549648947,
          33.45035105315948,
          32.59779338014042,
          29.789368104312942,
          28.58575727181545,
          27.632898696088265,
          27.256770310932797,
          27.256770310932797,
          26.705115346038117,
          26.4543630892678,
          25.827482447342025,
          25.651955867602812,
          25.050150451354064
         ],
         "xaxis": "x",
         "y": [
          "Python",
          "Github",
          "Linux",
          "SQL",
          "Slack",
          "Pandas",
          "Windows",
          "JavaScript",
          "HTML/CSS",
          "MySQL",
          "Google Suite (Docs, Meet, etc)",
          "Jira",
          "Docker",
          "Bash/Shell/PowerShell",
          "PostgreSQL",
          "TensorFlow",
          "Gitlab",
          "Java",
          "SQLite",
          "AWS",
          "C++",
          "Confluence",
          "R",
          "Microsoft SQL Server",
          "Keras",
          "Trello",
          "Flask",
          "MongoDB",
          "Node.js",
          "C"
         ],
         "yaxis": "y"
        }
       ],
       "layout": {
        "barmode": "relative",
        "coloraxis": {
         "cmax": 4.578863713652794,
         "cmin": -2.3383533547695063,
         "colorbar": {
          "title": {
           "text": "color"
          }
         },
         "colorscale": [
          [
           0,
           "rgb(255,247,236)"
          ],
          [
           0.125,
           "rgb(254,232,200)"
          ],
          [
           0.25,
           "rgb(253,212,158)"
          ],
          [
           0.375,
           "rgb(253,187,132)"
          ],
          [
           0.5,
           "rgb(252,141,89)"
          ],
          [
           0.625,
           "rgb(239,101,72)"
          ],
          [
           0.75,
           "rgb(215,48,31)"
          ],
          [
           0.875,
           "rgb(179,0,0)"
          ],
          [
           1,
           "rgb(127,0,0)"
          ]
         ]
        },
        "height": 800,
        "legend": {
         "tracegroupgap": 0
        },
        "margin": {
         "t": 60
        },
        "template": {
         "data": {
          "bar": [
           {
            "error_x": {
             "color": "#2a3f5f"
            },
            "error_y": {
             "color": "#2a3f5f"
            },
            "marker": {
             "line": {
              "color": "#E5ECF6",
              "width": 0.5
             },
             "pattern": {
              "fillmode": "overlay",
              "size": 10,
              "solidity": 0.2
             }
            },
            "type": "bar"
           }
          ],
          "barpolar": [
           {
            "marker": {
             "line": {
              "color": "#E5ECF6",
              "width": 0.5
             },
             "pattern": {
              "fillmode": "overlay",
              "size": 10,
              "solidity": 0.2
             }
            },
            "type": "barpolar"
           }
          ],
          "carpet": [
           {
            "aaxis": {
             "endlinecolor": "#2a3f5f",
             "gridcolor": "white",
             "linecolor": "white",
             "minorgridcolor": "white",
             "startlinecolor": "#2a3f5f"
            },
            "baxis": {
             "endlinecolor": "#2a3f5f",
             "gridcolor": "white",
             "linecolor": "white",
             "minorgridcolor": "white",
             "startlinecolor": "#2a3f5f"
            },
            "type": "carpet"
           }
          ],
          "choropleth": [
           {
            "colorbar": {
             "outlinewidth": 0,
             "ticks": ""
            },
            "type": "choropleth"
           }
          ],
          "contour": [
           {
            "colorbar": {
             "outlinewidth": 0,
             "ticks": ""
            },
            "colorscale": [
             [
              0,
              "#0d0887"
             ],
             [
              0.1111111111111111,
              "#46039f"
             ],
             [
              0.2222222222222222,
              "#7201a8"
             ],
             [
              0.3333333333333333,
              "#9c179e"
             ],
             [
              0.4444444444444444,
              "#bd3786"
             ],
             [
              0.5555555555555556,
              "#d8576b"
             ],
             [
              0.6666666666666666,
              "#ed7953"
             ],
             [
              0.7777777777777778,
              "#fb9f3a"
             ],
             [
              0.8888888888888888,
              "#fdca26"
             ],
             [
              1,
              "#f0f921"
             ]
            ],
            "type": "contour"
           }
          ],
          "contourcarpet": [
           {
            "colorbar": {
             "outlinewidth": 0,
             "ticks": ""
            },
            "type": "contourcarpet"
           }
          ],
          "heatmap": [
           {
            "colorbar": {
             "outlinewidth": 0,
             "ticks": ""
            },
            "colorscale": [
             [
              0,
              "#0d0887"
             ],
             [
              0.1111111111111111,
              "#46039f"
             ],
             [
              0.2222222222222222,
              "#7201a8"
             ],
             [
              0.3333333333333333,
              "#9c179e"
             ],
             [
              0.4444444444444444,
              "#bd3786"
             ],
             [
              0.5555555555555556,
              "#d8576b"
             ],
             [
              0.6666666666666666,
              "#ed7953"
             ],
             [
              0.7777777777777778,
              "#fb9f3a"
             ],
             [
              0.8888888888888888,
              "#fdca26"
             ],
             [
              1,
              "#f0f921"
             ]
            ],
            "type": "heatmap"
           }
          ],
          "heatmapgl": [
           {
            "colorbar": {
             "outlinewidth": 0,
             "ticks": ""
            },
            "colorscale": [
             [
              0,
              "#0d0887"
             ],
             [
              0.1111111111111111,
              "#46039f"
             ],
             [
              0.2222222222222222,
              "#7201a8"
             ],
             [
              0.3333333333333333,
              "#9c179e"
             ],
             [
              0.4444444444444444,
              "#bd3786"
             ],
             [
              0.5555555555555556,
              "#d8576b"
             ],
             [
              0.6666666666666666,
              "#ed7953"
             ],
             [
              0.7777777777777778,
              "#fb9f3a"
             ],
             [
              0.8888888888888888,
              "#fdca26"
             ],
             [
              1,
              "#f0f921"
             ]
            ],
            "type": "heatmapgl"
           }
          ],
          "histogram": [
           {
            "marker": {
             "pattern": {
              "fillmode": "overlay",
              "size": 10,
              "solidity": 0.2
             }
            },
            "type": "histogram"
           }
          ],
          "histogram2d": [
           {
            "colorbar": {
             "outlinewidth": 0,
             "ticks": ""
            },
            "colorscale": [
             [
              0,
              "#0d0887"
             ],
             [
              0.1111111111111111,
              "#46039f"
             ],
             [
              0.2222222222222222,
              "#7201a8"
             ],
             [
              0.3333333333333333,
              "#9c179e"
             ],
             [
              0.4444444444444444,
              "#bd3786"
             ],
             [
              0.5555555555555556,
              "#d8576b"
             ],
             [
              0.6666666666666666,
              "#ed7953"
             ],
             [
              0.7777777777777778,
              "#fb9f3a"
             ],
             [
              0.8888888888888888,
              "#fdca26"
             ],
             [
              1,
              "#f0f921"
             ]
            ],
            "type": "histogram2d"
           }
          ],
          "histogram2dcontour": [
           {
            "colorbar": {
             "outlinewidth": 0,
             "ticks": ""
            },
            "colorscale": [
             [
              0,
              "#0d0887"
             ],
             [
              0.1111111111111111,
              "#46039f"
             ],
             [
              0.2222222222222222,
              "#7201a8"
             ],
             [
              0.3333333333333333,
              "#9c179e"
             ],
             [
              0.4444444444444444,
              "#bd3786"
             ],
             [
              0.5555555555555556,
              "#d8576b"
             ],
             [
              0.6666666666666666,
              "#ed7953"
             ],
             [
              0.7777777777777778,
              "#fb9f3a"
             ],
             [
              0.8888888888888888,
              "#fdca26"
             ],
             [
              1,
              "#f0f921"
             ]
            ],
            "type": "histogram2dcontour"
           }
          ],
          "mesh3d": [
           {
            "colorbar": {
             "outlinewidth": 0,
             "ticks": ""
            },
            "type": "mesh3d"
           }
          ],
          "parcoords": [
           {
            "line": {
             "colorbar": {
              "outlinewidth": 0,
              "ticks": ""
             }
            },
            "type": "parcoords"
           }
          ],
          "pie": [
           {
            "automargin": true,
            "type": "pie"
           }
          ],
          "scatter": [
           {
            "fillpattern": {
             "fillmode": "overlay",
             "size": 10,
             "solidity": 0.2
            },
            "type": "scatter"
           }
          ],
          "scatter3d": [
           {
            "line": {
             "colorbar": {
              "outlinewidth": 0,
              "ticks": ""
             }
            },
            "marker": {
             "colorbar": {
              "outlinewidth": 0,
              "ticks": ""
             }
            },
            "type": "scatter3d"
           }
          ],
          "scattercarpet": [
           {
            "marker": {
             "colorbar": {
              "outlinewidth": 0,
              "ticks": ""
             }
            },
            "type": "scattercarpet"
           }
          ],
          "scattergeo": [
           {
            "marker": {
             "colorbar": {
              "outlinewidth": 0,
              "ticks": ""
             }
            },
            "type": "scattergeo"
           }
          ],
          "scattergl": [
           {
            "marker": {
             "colorbar": {
              "outlinewidth": 0,
              "ticks": ""
             }
            },
            "type": "scattergl"
           }
          ],
          "scattermapbox": [
           {
            "marker": {
             "colorbar": {
              "outlinewidth": 0,
              "ticks": ""
             }
            },
            "type": "scattermapbox"
           }
          ],
          "scatterpolar": [
           {
            "marker": {
             "colorbar": {
              "outlinewidth": 0,
              "ticks": ""
             }
            },
            "type": "scatterpolar"
           }
          ],
          "scatterpolargl": [
           {
            "marker": {
             "colorbar": {
              "outlinewidth": 0,
              "ticks": ""
             }
            },
            "type": "scatterpolargl"
           }
          ],
          "scatterternary": [
           {
            "marker": {
             "colorbar": {
              "outlinewidth": 0,
              "ticks": ""
             }
            },
            "type": "scatterternary"
           }
          ],
          "surface": [
           {
            "colorbar": {
             "outlinewidth": 0,
             "ticks": ""
            },
            "colorscale": [
             [
              0,
              "#0d0887"
             ],
             [
              0.1111111111111111,
              "#46039f"
             ],
             [
              0.2222222222222222,
              "#7201a8"
             ],
             [
              0.3333333333333333,
              "#9c179e"
             ],
             [
              0.4444444444444444,
              "#bd3786"
             ],
             [
              0.5555555555555556,
              "#d8576b"
             ],
             [
              0.6666666666666666,
              "#ed7953"
             ],
             [
              0.7777777777777778,
              "#fb9f3a"
             ],
             [
              0.8888888888888888,
              "#fdca26"
             ],
             [
              1,
              "#f0f921"
             ]
            ],
            "type": "surface"
           }
          ],
          "table": [
           {
            "cells": {
             "fill": {
              "color": "#EBF0F8"
             },
             "line": {
              "color": "white"
             }
            },
            "header": {
             "fill": {
              "color": "#C8D4E3"
             },
             "line": {
              "color": "white"
             }
            },
            "type": "table"
           }
          ]
         },
         "layout": {
          "annotationdefaults": {
           "arrowcolor": "#2a3f5f",
           "arrowhead": 0,
           "arrowwidth": 1
          },
          "autotypenumbers": "strict",
          "coloraxis": {
           "colorbar": {
            "outlinewidth": 0,
            "ticks": ""
           }
          },
          "colorscale": {
           "diverging": [
            [
             0,
             "#8e0152"
            ],
            [
             0.1,
             "#c51b7d"
            ],
            [
             0.2,
             "#de77ae"
            ],
            [
             0.3,
             "#f1b6da"
            ],
            [
             0.4,
             "#fde0ef"
            ],
            [
             0.5,
             "#f7f7f7"
            ],
            [
             0.6,
             "#e6f5d0"
            ],
            [
             0.7,
             "#b8e186"
            ],
            [
             0.8,
             "#7fbc41"
            ],
            [
             0.9,
             "#4d9221"
            ],
            [
             1,
             "#276419"
            ]
           ],
           "sequential": [
            [
             0,
             "#0d0887"
            ],
            [
             0.1111111111111111,
             "#46039f"
            ],
            [
             0.2222222222222222,
             "#7201a8"
            ],
            [
             0.3333333333333333,
             "#9c179e"
            ],
            [
             0.4444444444444444,
             "#bd3786"
            ],
            [
             0.5555555555555556,
             "#d8576b"
            ],
            [
             0.6666666666666666,
             "#ed7953"
            ],
            [
             0.7777777777777778,
             "#fb9f3a"
            ],
            [
             0.8888888888888888,
             "#fdca26"
            ],
            [
             1,
             "#f0f921"
            ]
           ],
           "sequentialminus": [
            [
             0,
             "#0d0887"
            ],
            [
             0.1111111111111111,
             "#46039f"
            ],
            [
             0.2222222222222222,
             "#7201a8"
            ],
            [
             0.3333333333333333,
             "#9c179e"
            ],
            [
             0.4444444444444444,
             "#bd3786"
            ],
            [
             0.5555555555555556,
             "#d8576b"
            ],
            [
             0.6666666666666666,
             "#ed7953"
            ],
            [
             0.7777777777777778,
             "#fb9f3a"
            ],
            [
             0.8888888888888888,
             "#fdca26"
            ],
            [
             1,
             "#f0f921"
            ]
           ]
          },
          "colorway": [
           "#636efa",
           "#EF553B",
           "#00cc96",
           "#ab63fa",
           "#FFA15A",
           "#19d3f3",
           "#FF6692",
           "#B6E880",
           "#FF97FF",
           "#FECB52"
          ],
          "font": {
           "color": "#2a3f5f"
          },
          "geo": {
           "bgcolor": "white",
           "lakecolor": "white",
           "landcolor": "#E5ECF6",
           "showlakes": true,
           "showland": true,
           "subunitcolor": "white"
          },
          "hoverlabel": {
           "align": "left"
          },
          "hovermode": "closest",
          "mapbox": {
           "style": "light"
          },
          "paper_bgcolor": "white",
          "plot_bgcolor": "#E5ECF6",
          "polar": {
           "angularaxis": {
            "gridcolor": "white",
            "linecolor": "white",
            "ticks": ""
           },
           "bgcolor": "#E5ECF6",
           "radialaxis": {
            "gridcolor": "white",
            "linecolor": "white",
            "ticks": ""
           }
          },
          "scene": {
           "xaxis": {
            "backgroundcolor": "#E5ECF6",
            "gridcolor": "white",
            "gridwidth": 2,
            "linecolor": "white",
            "showbackground": true,
            "ticks": "",
            "zerolinecolor": "white"
           },
           "yaxis": {
            "backgroundcolor": "#E5ECF6",
            "gridcolor": "white",
            "gridwidth": 2,
            "linecolor": "white",
            "showbackground": true,
            "ticks": "",
            "zerolinecolor": "white"
           },
           "zaxis": {
            "backgroundcolor": "#E5ECF6",
            "gridcolor": "white",
            "gridwidth": 2,
            "linecolor": "white",
            "showbackground": true,
            "ticks": "",
            "zerolinecolor": "white"
           }
          },
          "shapedefaults": {
           "line": {
            "color": "#2a3f5f"
           }
          },
          "ternary": {
           "aaxis": {
            "gridcolor": "white",
            "linecolor": "white",
            "ticks": ""
           },
           "baxis": {
            "gridcolor": "white",
            "linecolor": "white",
            "ticks": ""
           },
           "bgcolor": "#E5ECF6",
           "caxis": {
            "gridcolor": "white",
            "linecolor": "white",
            "ticks": ""
           }
          },
          "title": {
           "x": 0.05
          },
          "xaxis": {
           "automargin": true,
           "gridcolor": "white",
           "linecolor": "white",
           "ticks": "",
           "title": {
            "standoff": 15
           },
           "zerolinecolor": "white",
           "zerolinewidth": 2
          },
          "yaxis": {
           "automargin": true,
           "gridcolor": "white",
           "linecolor": "white",
           "ticks": "",
           "title": {
            "standoff": 15
           },
           "zerolinecolor": "white",
           "zerolinewidth": 2
          }
         }
        },
        "title": {
         "text": "Data scientist or machine learning specialist"
        },
        "width": 800,
        "xaxis": {
         "anchor": "y",
         "domain": [
          0,
          1
         ],
         "title": {
          "text": "x"
         }
        },
        "yaxis": {
         "anchor": "x",
         "domain": [
          0,
          1
         ],
         "title": {
          "text": "y"
         }
        }
       }
      }
     },
     "metadata": {},
     "output_type": "display_data"
    }
   ],
   "source": [
    "threshold = 25\n",
    "\n",
    "single_role_skills = single_role_skills[single_role_skills['percentage'] > threshold]\n",
    "\n",
    "fig = px.bar(df, \n",
    "             y=single_role_skills.index, \n",
    "             x=single_role_skills['percentage'], \n",
    "             color=single_role_skills['specificity'], \n",
    "             color_continuous_scale='orrd', \n",
    "             range_color=[std_skills.values.min(),std_skills.values.max()],\n",
    "             orientation='h')\n",
    "\n",
    "fig.update_layout(width=800, height=800, title=role)\n",
    "fig.show()"
   ]
  }
 ],
 "metadata": {
  "kernelspec": {
   "display_name": "e2e_env",
   "language": "python",
   "name": "python3"
  },
  "language_info": {
   "codemirror_mode": {
    "name": "ipython",
    "version": 3
   },
   "file_extension": ".py",
   "mimetype": "text/x-python",
   "name": "python",
   "nbconvert_exporter": "python",
   "pygments_lexer": "ipython3",
   "version": "3.9.16"
  },
  "orig_nbformat": 4
 },
 "nbformat": 4,
 "nbformat_minor": 2
}

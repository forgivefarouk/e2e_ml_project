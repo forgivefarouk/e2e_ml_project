{
 "cells": [
  {
   "cell_type": "code",
   "execution_count": 1,
   "metadata": {},
   "outputs": [],
   "source": [
    "EXPORT_PATH = '../data/processed/'\n",
    "DATA_PATH = '../data/raw/'\n",
    "\n",
    "target_col= ['DevType']\n",
    "influnce_col = ['LanguageWorkedWith',\n",
    "                  'DatabaseWorkedWith',\n",
    "                  'WebframeWorkedWith',\n",
    "                  'MiscTechWorkedWith',]\n"
   ]
  },
  {
   "cell_type": "code",
   "execution_count": 2,
   "metadata": {},
   "outputs": [],
   "source": [
    "import pandas as pd \n",
    "import numpy as np\n",
    "import logging\n",
    "import pickle\n",
    "import os\n",
    "import seaborn as sns\n",
    "import plotly \n",
    "import plotly.graph_objects as go\n",
    "from plotly.subplots import make_subplots\n",
    "import plotly.express as px\n",
    "import plotly.figure_factory as ff\n",
    "\n",
    "from sklearn.manifold import TSNE\n",
    "from sklearn.preprocessing import MultiLabelBinarizer\n",
    "from sklearn.preprocessing import StandardScaler\n",
    "from sklearn.preprocessing import RobustScaler\n",
    "from sklearn.preprocessing import MinMaxScaler\n",
    "from sklearn.pipeline import make_pipeline\n",
    "from sklearn.cluster import AgglomerativeClustering\n",
    "from sklearn.model_selection import train_test_split\n",
    "\n",
    "from matplotlib import pyplot as plt\n",
    "from scipy.cluster.hierarchy import dendrogram\n",
    "\n"
   ]
  },
  {
   "cell_type": "code",
   "execution_count": 3,
   "metadata": {},
   "outputs": [],
   "source": [
    "df =pd.read_pickle(EXPORT_PATH+'1_preprocessed.pkl')\n"
   ]
  },
  {
   "cell_type": "markdown",
   "metadata": {},
   "source": [
    "## One Hot Encoding"
   ]
  },
  {
   "cell_type": "code",
   "execution_count": 4,
   "metadata": {},
   "outputs": [],
   "source": [
    "ml = MultiLabelBinarizer()\n",
    "encode_df = {}\n",
    "for col in target_col + influnce_col:\n",
    "    encoded = ml.fit_transform(df[col])\n",
    "    df_encoded = pd.DataFrame(encoded, columns=ml.classes_)\n",
    "    \n",
    "    encode_df[col] = df_encoded\n",
    "    \n",
    "    ohe_df = pd.concat(encode_df, axis=1)"
   ]
  },
  {
   "cell_type": "code",
   "execution_count": 5,
   "metadata": {},
   "outputs": [
    {
     "data": {
      "text/plain": [
       "['Developer, back-end',\n",
       " 'Developer, full-stack',\n",
       " 'Developer, front-end',\n",
       " 'Developer, desktop or enterprise applications',\n",
       " 'Developer, mobile',\n",
       " 'DevOps specialist',\n",
       " 'Database administrator',\n",
       " 'Designer',\n",
       " 'System administrator',\n",
       " 'Developer, embedded applications or devices',\n",
       " 'Data or business analyst',\n",
       " 'Data scientist or machine learning specialist',\n",
       " 'Developer, QA or test',\n",
       " 'Engineer, data',\n",
       " 'Academic researcher',\n",
       " 'Educator',\n",
       " 'Developer, game or graphics',\n",
       " 'Engineering manager',\n",
       " 'Product manager',\n",
       " 'Scientist',\n",
       " 'Engineer, site reliability',\n",
       " 'Senior executive/VP',\n",
       " 'Marketing or sales professional']"
      ]
     },
     "execution_count": 5,
     "metadata": {},
     "output_type": "execute_result"
    }
   ],
   "source": [
    "sorted_roles = ohe_df['DevType'].sum().sort_values(ascending=False).index.tolist()\n",
    "sorted_roles"
   ]
  },
  {
   "cell_type": "code",
   "execution_count": 6,
   "metadata": {},
   "outputs": [],
   "source": [
    "skills =[]\n",
    "for role in sorted_roles:\n",
    "    role_mask = (ohe_df['DevType'][role] == 1)\n",
    "    skills_role = pd.concat({tech_col: ohe_df.loc[role_mask,tech_col].mean() * 100\n",
    "                             for tech_col in influnce_col})    \n",
    "    skills.append(skills_role)\n",
    "    \n",
    "skills_df = pd.DataFrame(skills, index=sorted_roles)\n",
    "skills_df = skills_df.T\n",
    "skills_df.reset_index(0,drop=True,inplace=True)\n",
    "final_df = skills_df.T"
   ]
  },
  {
   "cell_type": "markdown",
   "metadata": {},
   "source": [
    "## Dimensionality reduction"
   ]
  },
  {
   "cell_type": "code",
   "execution_count": 7,
   "metadata": {},
   "outputs": [
    {
     "data": {
      "text/plain": [
       "array([0.34662718, 0.54602742, 0.67104211, 0.7757216 , 0.84898746,\n",
       "       0.89824596, 0.92652287, 0.94779761, 0.96260189, 0.97336835,\n",
       "       0.98074629, 0.98589707, 0.98918125, 0.99200595, 0.99413453,\n",
       "       0.99591327, 0.99717967, 0.99812399, 0.9989084 , 0.99949256])"
      ]
     },
     "execution_count": 7,
     "metadata": {},
     "output_type": "execute_result"
    }
   ],
   "source": [
    "from sklearn.cluster import AgglomerativeClustering\n",
    "from sklearn.decomposition import PCA\n",
    "from sklearn.preprocessing import StandardScaler\n",
    "\n",
    "st = StandardScaler()\n",
    "std_final_df = st.fit_transform(final_df)\n",
    "\n",
    "std_final_df = pd.DataFrame(std_final_df, index=final_df.index, columns=final_df.columns)\n",
    "\n",
    "pca = PCA(n_components=20, random_state=42, svd_solver='full')\n",
    "pca_final_df = pca.fit_transform(std_final_df.T)\n",
    "\n",
    "pca_final_df = pd.DataFrame(pca_final_df, index=final_df.columns)\n",
    "\n",
    "pca.explained_variance_ratio_.cumsum()"
   ]
  },
  {
   "cell_type": "code",
   "execution_count": 8,
   "metadata": {},
   "outputs": [
    {
     "data": {
      "text/html": [
       "<div>\n",
       "<style scoped>\n",
       "    .dataframe tbody tr th:only-of-type {\n",
       "        vertical-align: middle;\n",
       "    }\n",
       "\n",
       "    .dataframe tbody tr th {\n",
       "        vertical-align: top;\n",
       "    }\n",
       "\n",
       "    .dataframe thead th {\n",
       "        text-align: right;\n",
       "    }\n",
       "</style>\n",
       "<table border=\"1\" class=\"dataframe\">\n",
       "  <thead>\n",
       "    <tr style=\"text-align: right;\">\n",
       "      <th></th>\n",
       "      <th>0</th>\n",
       "      <th>1</th>\n",
       "      <th>2</th>\n",
       "      <th>3</th>\n",
       "      <th>4</th>\n",
       "      <th>5</th>\n",
       "      <th>6</th>\n",
       "      <th>7</th>\n",
       "      <th>8</th>\n",
       "      <th>9</th>\n",
       "      <th>10</th>\n",
       "      <th>11</th>\n",
       "      <th>12</th>\n",
       "      <th>13</th>\n",
       "      <th>14</th>\n",
       "      <th>15</th>\n",
       "      <th>16</th>\n",
       "      <th>17</th>\n",
       "      <th>18</th>\n",
       "      <th>19</th>\n",
       "    </tr>\n",
       "  </thead>\n",
       "  <tbody>\n",
       "    <tr>\n",
       "      <th>Assembly</th>\n",
       "      <td>1.895473</td>\n",
       "      <td>2.816718</td>\n",
       "      <td>-0.794881</td>\n",
       "      <td>0.266319</td>\n",
       "      <td>2.724708</td>\n",
       "      <td>-0.977496</td>\n",
       "      <td>0.068127</td>\n",
       "      <td>-0.865236</td>\n",
       "      <td>0.178371</td>\n",
       "      <td>1.277137</td>\n",
       "      <td>0.168260</td>\n",
       "      <td>0.174983</td>\n",
       "      <td>0.127263</td>\n",
       "      <td>0.111413</td>\n",
       "      <td>-0.328882</td>\n",
       "      <td>0.180203</td>\n",
       "      <td>0.080796</td>\n",
       "      <td>-0.119276</td>\n",
       "      <td>-0.038596</td>\n",
       "      <td>-0.023782</td>\n",
       "    </tr>\n",
       "    <tr>\n",
       "      <th>Bash/Shell/PowerShell</th>\n",
       "      <td>2.073694</td>\n",
       "      <td>-2.593689</td>\n",
       "      <td>0.006060</td>\n",
       "      <td>1.374805</td>\n",
       "      <td>1.736357</td>\n",
       "      <td>0.274544</td>\n",
       "      <td>-1.211820</td>\n",
       "      <td>-0.517316</td>\n",
       "      <td>-0.502586</td>\n",
       "      <td>0.117453</td>\n",
       "      <td>-0.094034</td>\n",
       "      <td>-0.174940</td>\n",
       "      <td>0.453469</td>\n",
       "      <td>-0.011238</td>\n",
       "      <td>0.571496</td>\n",
       "      <td>-0.256706</td>\n",
       "      <td>0.165639</td>\n",
       "      <td>-0.005530</td>\n",
       "      <td>0.100773</td>\n",
       "      <td>-0.083915</td>\n",
       "    </tr>\n",
       "    <tr>\n",
       "      <th>C</th>\n",
       "      <td>2.135053</td>\n",
       "      <td>3.265204</td>\n",
       "      <td>-0.183170</td>\n",
       "      <td>1.379012</td>\n",
       "      <td>2.161179</td>\n",
       "      <td>-1.052924</td>\n",
       "      <td>-0.609153</td>\n",
       "      <td>-1.463546</td>\n",
       "      <td>0.295429</td>\n",
       "      <td>1.303075</td>\n",
       "      <td>0.548644</td>\n",
       "      <td>-0.158757</td>\n",
       "      <td>-0.076906</td>\n",
       "      <td>-0.043183</td>\n",
       "      <td>-0.213681</td>\n",
       "      <td>-0.265275</td>\n",
       "      <td>0.041939</td>\n",
       "      <td>-0.229466</td>\n",
       "      <td>-0.116337</td>\n",
       "      <td>-0.091050</td>\n",
       "    </tr>\n",
       "    <tr>\n",
       "      <th>C#</th>\n",
       "      <td>-2.798604</td>\n",
       "      <td>1.364297</td>\n",
       "      <td>2.403346</td>\n",
       "      <td>2.479237</td>\n",
       "      <td>1.517486</td>\n",
       "      <td>-0.716906</td>\n",
       "      <td>0.297893</td>\n",
       "      <td>0.939654</td>\n",
       "      <td>-0.215099</td>\n",
       "      <td>-0.197384</td>\n",
       "      <td>-0.160924</td>\n",
       "      <td>0.053794</td>\n",
       "      <td>-0.131156</td>\n",
       "      <td>0.171781</td>\n",
       "      <td>0.082374</td>\n",
       "      <td>0.155807</td>\n",
       "      <td>-0.001824</td>\n",
       "      <td>0.092178</td>\n",
       "      <td>-0.040143</td>\n",
       "      <td>0.095128</td>\n",
       "    </tr>\n",
       "    <tr>\n",
       "      <th>C++</th>\n",
       "      <td>2.066030</td>\n",
       "      <td>3.705348</td>\n",
       "      <td>-0.037518</td>\n",
       "      <td>1.859284</td>\n",
       "      <td>1.956906</td>\n",
       "      <td>-1.540200</td>\n",
       "      <td>-0.463406</td>\n",
       "      <td>-0.694408</td>\n",
       "      <td>0.201126</td>\n",
       "      <td>0.610659</td>\n",
       "      <td>0.313576</td>\n",
       "      <td>0.025079</td>\n",
       "      <td>-0.162411</td>\n",
       "      <td>0.028424</td>\n",
       "      <td>-0.157274</td>\n",
       "      <td>-0.129653</td>\n",
       "      <td>0.104401</td>\n",
       "      <td>0.017513</td>\n",
       "      <td>-0.069948</td>\n",
       "      <td>0.055444</td>\n",
       "    </tr>\n",
       "  </tbody>\n",
       "</table>\n",
       "</div>"
      ],
      "text/plain": [
       "                             0         1         2         3         4    \n",
       "Assembly               1.895473  2.816718 -0.794881  0.266319  2.724708  \\\n",
       "Bash/Shell/PowerShell  2.073694 -2.593689  0.006060  1.374805  1.736357   \n",
       "C                      2.135053  3.265204 -0.183170  1.379012  2.161179   \n",
       "C#                    -2.798604  1.364297  2.403346  2.479237  1.517486   \n",
       "C++                    2.066030  3.705348 -0.037518  1.859284  1.956906   \n",
       "\n",
       "                             5         6         7         8         9    \n",
       "Assembly              -0.977496  0.068127 -0.865236  0.178371  1.277137  \\\n",
       "Bash/Shell/PowerShell  0.274544 -1.211820 -0.517316 -0.502586  0.117453   \n",
       "C                     -1.052924 -0.609153 -1.463546  0.295429  1.303075   \n",
       "C#                    -0.716906  0.297893  0.939654 -0.215099 -0.197384   \n",
       "C++                   -1.540200 -0.463406 -0.694408  0.201126  0.610659   \n",
       "\n",
       "                             10        11        12        13        14   \n",
       "Assembly               0.168260  0.174983  0.127263  0.111413 -0.328882  \\\n",
       "Bash/Shell/PowerShell -0.094034 -0.174940  0.453469 -0.011238  0.571496   \n",
       "C                      0.548644 -0.158757 -0.076906 -0.043183 -0.213681   \n",
       "C#                    -0.160924  0.053794 -0.131156  0.171781  0.082374   \n",
       "C++                    0.313576  0.025079 -0.162411  0.028424 -0.157274   \n",
       "\n",
       "                             15        16        17        18        19  \n",
       "Assembly               0.180203  0.080796 -0.119276 -0.038596 -0.023782  \n",
       "Bash/Shell/PowerShell -0.256706  0.165639 -0.005530  0.100773 -0.083915  \n",
       "C                     -0.265275  0.041939 -0.229466 -0.116337 -0.091050  \n",
       "C#                     0.155807 -0.001824  0.092178 -0.040143  0.095128  \n",
       "C++                   -0.129653  0.104401  0.017513 -0.069948  0.055444  "
      ]
     },
     "execution_count": 8,
     "metadata": {},
     "output_type": "execute_result"
    }
   ],
   "source": [
    "pca_final_df.head()"
   ]
  },
  {
   "cell_type": "code",
   "execution_count": 9,
   "metadata": {},
   "outputs": [],
   "source": [
    "tsne_projection = TSNE(n_components=2, \n",
    "                       perplexity=3,\n",
    "                       learning_rate=0.01,\n",
    "                       init='pca', \n",
    "                       method='barnes_hut', \n",
    "                       n_jobs=2, \n",
    "                       n_iter=10**10,\n",
    "                       random_state=0).fit_transform(pca_final_df)\n",
    "\n",
    "tsne_projection = pd.DataFrame(tsne_projection, index=final_df.columns)"
   ]
  },
  {
   "cell_type": "code",
   "execution_count": 10,
   "metadata": {},
   "outputs": [
    {
     "data": {
      "text/html": [
       "<div>\n",
       "<style scoped>\n",
       "    .dataframe tbody tr th:only-of-type {\n",
       "        vertical-align: middle;\n",
       "    }\n",
       "\n",
       "    .dataframe tbody tr th {\n",
       "        vertical-align: top;\n",
       "    }\n",
       "\n",
       "    .dataframe thead th {\n",
       "        text-align: right;\n",
       "    }\n",
       "</style>\n",
       "<table border=\"1\" class=\"dataframe\">\n",
       "  <thead>\n",
       "    <tr style=\"text-align: right;\">\n",
       "      <th></th>\n",
       "      <th>Dimension 1</th>\n",
       "      <th>Dimension 2</th>\n",
       "    </tr>\n",
       "  </thead>\n",
       "  <tbody>\n",
       "    <tr>\n",
       "      <th>Assembly</th>\n",
       "      <td>8.706415</td>\n",
       "      <td>2.230735</td>\n",
       "    </tr>\n",
       "    <tr>\n",
       "      <th>Bash/Shell/PowerShell</th>\n",
       "      <td>9.093084</td>\n",
       "      <td>-10.156259</td>\n",
       "    </tr>\n",
       "    <tr>\n",
       "      <th>C</th>\n",
       "      <td>9.122461</td>\n",
       "      <td>3.380812</td>\n",
       "    </tr>\n",
       "    <tr>\n",
       "      <th>C#</th>\n",
       "      <td>-19.979429</td>\n",
       "      <td>15.200497</td>\n",
       "    </tr>\n",
       "    <tr>\n",
       "      <th>C++</th>\n",
       "      <td>8.199023</td>\n",
       "      <td>3.859507</td>\n",
       "    </tr>\n",
       "    <tr>\n",
       "      <th>...</th>\n",
       "      <td>...</td>\n",
       "      <td>...</td>\n",
       "    </tr>\n",
       "    <tr>\n",
       "      <th>Teraform</th>\n",
       "      <td>8.627229</td>\n",
       "      <td>-7.247944</td>\n",
       "    </tr>\n",
       "    <tr>\n",
       "      <th>Torch/PyTorch</th>\n",
       "      <td>30.448118</td>\n",
       "      <td>14.283766</td>\n",
       "    </tr>\n",
       "    <tr>\n",
       "      <th>Unity 3D</th>\n",
       "      <td>2.462782</td>\n",
       "      <td>11.130984</td>\n",
       "    </tr>\n",
       "    <tr>\n",
       "      <th>Unreal Engine</th>\n",
       "      <td>3.081114</td>\n",
       "      <td>10.710283</td>\n",
       "    </tr>\n",
       "    <tr>\n",
       "      <th>Xamarin</th>\n",
       "      <td>-1.612905</td>\n",
       "      <td>40.004383</td>\n",
       "    </tr>\n",
       "  </tbody>\n",
       "</table>\n",
       "<p>74 rows × 2 columns</p>\n",
       "</div>"
      ],
      "text/plain": [
       "                       Dimension 1  Dimension 2\n",
       "Assembly                  8.706415     2.230735\n",
       "Bash/Shell/PowerShell     9.093084   -10.156259\n",
       "C                         9.122461     3.380812\n",
       "C#                      -19.979429    15.200497\n",
       "C++                       8.199023     3.859507\n",
       "...                            ...          ...\n",
       "Teraform                  8.627229    -7.247944\n",
       "Torch/PyTorch            30.448118    14.283766\n",
       "Unity 3D                  2.462782    11.130984\n",
       "Unreal Engine             3.081114    10.710283\n",
       "Xamarin                  -1.612905    40.004383\n",
       "\n",
       "[74 rows x 2 columns]"
      ]
     },
     "execution_count": 10,
     "metadata": {},
     "output_type": "execute_result"
    }
   ],
   "source": [
    "tsne_projection.columns = ['Dimension 1', 'Dimension 2']\n",
    "tsne_projection"
   ]
  },
  {
   "cell_type": "code",
   "execution_count": 11,
   "metadata": {},
   "outputs": [
    {
     "data": {
      "application/vnd.plotly.v1+json": {
       "config": {
        "plotlyServerURL": "https://plot.ly"
       },
       "data": [
        {
         "hovertemplate": "x=%{x}<br>y=%{y}<br>text=%{text}<extra></extra>",
         "legendgroup": "",
         "marker": {
          "color": "#636efa",
          "symbol": "circle"
         },
         "mode": "markers+text",
         "name": "",
         "orientation": "v",
         "showlegend": false,
         "text": [
          "Assembly",
          "Bash/Shell/PowerShell",
          "C",
          "C#",
          "C++",
          "Dart",
          "Go",
          "HTML/CSS",
          "Haskell",
          "Java",
          "JavaScript",
          "Julia",
          "Kotlin",
          "Objective-C",
          "PHP",
          "Perl",
          "Python",
          "R",
          "Ruby",
          "Rust",
          "SQL",
          "Scala",
          "Swift",
          "TypeScript",
          "VBA",
          "Cassandra",
          "Couchbase",
          "DynamoDB",
          "Elasticsearch",
          "Firebase",
          "IBM DB2",
          "MariaDB",
          "Microsoft SQL Server",
          "MongoDB",
          "MySQL",
          "Oracle",
          "PostgreSQL",
          "Redis",
          "SQLite",
          "ASP.NET",
          "ASP.NET Core",
          "Angular",
          "Angular.js",
          "Django",
          "Drupal",
          "Express",
          "Flask",
          "Gatsby",
          "Laravel",
          "React.js",
          "Ruby on Rails",
          "Spring",
          "Symfony",
          "Vue.js",
          "jQuery",
          ".NET",
          ".NET Core",
          "Ansible",
          "Apache Spark",
          "Chef",
          "Cordova",
          "Flutter",
          "Hadoop",
          "Keras",
          "Node.js",
          "Pandas",
          "Puppet",
          "React Native",
          "TensorFlow",
          "Teraform",
          "Torch/PyTorch",
          "Unity 3D",
          "Unreal Engine",
          "Xamarin"
         ],
         "textposition": "top center",
         "type": "scatter",
         "x": [
          8.706415176391602,
          9.093084335327148,
          9.122461318969727,
          -19.979429244995117,
          8.199023246765137,
          -4.118800163269043,
          8.505599021911621,
          -29.736589431762695,
          23.043148040771484,
          0.653170645236969,
          -32.100135803222656,
          23.84976577758789,
          0.13104352355003357,
          -0.05577431246638298,
          -23.468584060668945,
          1.7388783693313599,
          34.686973571777344,
          29.783184051513672,
          0.8848071694374084,
          8.619829177856445,
          -18.04159164428711,
          32.023345947265625,
          -0.12364571541547775,
          -37.9449348449707,
          -14.797036170959473,
          19.449907302856445,
          -12.071439743041992,
          18.647960662841797,
          19.540433883666992,
          -6.449516296386719,
          -14.427725791931152,
          -16.41778564453125,
          -17.315237045288086,
          16.600317001342773,
          -21.937755584716797,
          -16.54289436340332,
          21.401756286621094,
          18.60232925415039,
          1.978832721710205,
          -20.403701782226562,
          -21.759056091308594,
          -37.44970703125,
          -34.03290557861328,
          36.10963821411133,
          -13.267212867736816,
          -35.61885070800781,
          35.317588806152344,
          -12.32661247253418,
          -23.914081573486328,
          -36.99446487426758,
          0.16703207790851593,
          18.85206413269043,
          -14.394525527954102,
          -32.56252670288086,
          -28.695030212402344,
          -19.66698455810547,
          -21.582849502563477,
          8.505250930786133,
          33.32787322998047,
          2.6289496421813965,
          -4.320568561553955,
          -4.520364284515381,
          33.00486755371094,
          30.894363403320312,
          -34.70936965942383,
          31.137460708618164,
          2.9177768230438232,
          -7.174490451812744,
          31.706153869628906,
          8.627228736877441,
          30.448118209838867,
          2.462782382965088,
          3.0811140537261963,
          -1.612904667854309
         ],
         "xaxis": "x",
         "y": [
          2.2307353019714355,
          -10.156258583068848,
          3.380812168121338,
          15.200496673583984,
          3.8595070838928223,
          37.34237289428711,
          -6.227141857147217,
          -14.928832054138184,
          12.300882339477539,
          32.17955017089844,
          -14.401249885559082,
          12.5107421875,
          33.794151306152344,
          36.93257141113281,
          -16.427898406982422,
          -9.297883033752441,
          4.572220802307129,
          10.597387313842773,
          -14.010663032531738,
          -3.2911794185638428,
          4.101316452026367,
          -2.319199562072754,
          35.8751335144043,
          -14.588114738464355,
          -1.1726797819137573,
          -11.243368148803711,
          -15.032208442687988,
          -13.435554504394531,
          -14.930602073669434,
          36.55171203613281,
          -1.9803781509399414,
          -16.420515060424805,
          3.488501787185669,
          -15.819245338439941,
          -16.760337829589844,
          2.2447288036346436,
          -14.605463981628418,
          -15.402398109436035,
          37.32571792602539,
          11.57541275024414,
          12.43236255645752,
          -15.39919376373291,
          -15.841073989868164,
          2.5664138793945312,
          -16.524728775024414,
          -11.001036643981934,
          3.240321636199951,
          -17.95383644104004,
          -17.14063835144043,
          -10.767420768737793,
          -14.783528327941895,
          -17.800838470458984,
          -16.44243621826172,
          -12.0665283203125,
          -15.254472732543945,
          14.104988098144531,
          13.669140815734863,
          -8.594717025756836,
          -1.164650559425354,
          -11.593793869018555,
          39.230106353759766,
          36.465885162353516,
          -0.4119451344013214,
          13.000275611877441,
          -11.70687198638916,
          11.204522132873535,
          -10.761919021606445,
          37.90123748779297,
          13.887856483459473,
          -7.247943878173828,
          14.28376579284668,
          11.13098430633545,
          10.710283279418945,
          40.0043830871582
         ],
         "yaxis": "y"
        }
       ],
       "layout": {
        "height": 1200,
        "legend": {
         "tracegroupgap": 0
        },
        "margin": {
         "t": 60
        },
        "template": {
         "data": {
          "bar": [
           {
            "error_x": {
             "color": "#2a3f5f"
            },
            "error_y": {
             "color": "#2a3f5f"
            },
            "marker": {
             "line": {
              "color": "#E5ECF6",
              "width": 0.5
             },
             "pattern": {
              "fillmode": "overlay",
              "size": 10,
              "solidity": 0.2
             }
            },
            "type": "bar"
           }
          ],
          "barpolar": [
           {
            "marker": {
             "line": {
              "color": "#E5ECF6",
              "width": 0.5
             },
             "pattern": {
              "fillmode": "overlay",
              "size": 10,
              "solidity": 0.2
             }
            },
            "type": "barpolar"
           }
          ],
          "carpet": [
           {
            "aaxis": {
             "endlinecolor": "#2a3f5f",
             "gridcolor": "white",
             "linecolor": "white",
             "minorgridcolor": "white",
             "startlinecolor": "#2a3f5f"
            },
            "baxis": {
             "endlinecolor": "#2a3f5f",
             "gridcolor": "white",
             "linecolor": "white",
             "minorgridcolor": "white",
             "startlinecolor": "#2a3f5f"
            },
            "type": "carpet"
           }
          ],
          "choropleth": [
           {
            "colorbar": {
             "outlinewidth": 0,
             "ticks": ""
            },
            "type": "choropleth"
           }
          ],
          "contour": [
           {
            "colorbar": {
             "outlinewidth": 0,
             "ticks": ""
            },
            "colorscale": [
             [
              0,
              "#0d0887"
             ],
             [
              0.1111111111111111,
              "#46039f"
             ],
             [
              0.2222222222222222,
              "#7201a8"
             ],
             [
              0.3333333333333333,
              "#9c179e"
             ],
             [
              0.4444444444444444,
              "#bd3786"
             ],
             [
              0.5555555555555556,
              "#d8576b"
             ],
             [
              0.6666666666666666,
              "#ed7953"
             ],
             [
              0.7777777777777778,
              "#fb9f3a"
             ],
             [
              0.8888888888888888,
              "#fdca26"
             ],
             [
              1,
              "#f0f921"
             ]
            ],
            "type": "contour"
           }
          ],
          "contourcarpet": [
           {
            "colorbar": {
             "outlinewidth": 0,
             "ticks": ""
            },
            "type": "contourcarpet"
           }
          ],
          "heatmap": [
           {
            "colorbar": {
             "outlinewidth": 0,
             "ticks": ""
            },
            "colorscale": [
             [
              0,
              "#0d0887"
             ],
             [
              0.1111111111111111,
              "#46039f"
             ],
             [
              0.2222222222222222,
              "#7201a8"
             ],
             [
              0.3333333333333333,
              "#9c179e"
             ],
             [
              0.4444444444444444,
              "#bd3786"
             ],
             [
              0.5555555555555556,
              "#d8576b"
             ],
             [
              0.6666666666666666,
              "#ed7953"
             ],
             [
              0.7777777777777778,
              "#fb9f3a"
             ],
             [
              0.8888888888888888,
              "#fdca26"
             ],
             [
              1,
              "#f0f921"
             ]
            ],
            "type": "heatmap"
           }
          ],
          "heatmapgl": [
           {
            "colorbar": {
             "outlinewidth": 0,
             "ticks": ""
            },
            "colorscale": [
             [
              0,
              "#0d0887"
             ],
             [
              0.1111111111111111,
              "#46039f"
             ],
             [
              0.2222222222222222,
              "#7201a8"
             ],
             [
              0.3333333333333333,
              "#9c179e"
             ],
             [
              0.4444444444444444,
              "#bd3786"
             ],
             [
              0.5555555555555556,
              "#d8576b"
             ],
             [
              0.6666666666666666,
              "#ed7953"
             ],
             [
              0.7777777777777778,
              "#fb9f3a"
             ],
             [
              0.8888888888888888,
              "#fdca26"
             ],
             [
              1,
              "#f0f921"
             ]
            ],
            "type": "heatmapgl"
           }
          ],
          "histogram": [
           {
            "marker": {
             "pattern": {
              "fillmode": "overlay",
              "size": 10,
              "solidity": 0.2
             }
            },
            "type": "histogram"
           }
          ],
          "histogram2d": [
           {
            "colorbar": {
             "outlinewidth": 0,
             "ticks": ""
            },
            "colorscale": [
             [
              0,
              "#0d0887"
             ],
             [
              0.1111111111111111,
              "#46039f"
             ],
             [
              0.2222222222222222,
              "#7201a8"
             ],
             [
              0.3333333333333333,
              "#9c179e"
             ],
             [
              0.4444444444444444,
              "#bd3786"
             ],
             [
              0.5555555555555556,
              "#d8576b"
             ],
             [
              0.6666666666666666,
              "#ed7953"
             ],
             [
              0.7777777777777778,
              "#fb9f3a"
             ],
             [
              0.8888888888888888,
              "#fdca26"
             ],
             [
              1,
              "#f0f921"
             ]
            ],
            "type": "histogram2d"
           }
          ],
          "histogram2dcontour": [
           {
            "colorbar": {
             "outlinewidth": 0,
             "ticks": ""
            },
            "colorscale": [
             [
              0,
              "#0d0887"
             ],
             [
              0.1111111111111111,
              "#46039f"
             ],
             [
              0.2222222222222222,
              "#7201a8"
             ],
             [
              0.3333333333333333,
              "#9c179e"
             ],
             [
              0.4444444444444444,
              "#bd3786"
             ],
             [
              0.5555555555555556,
              "#d8576b"
             ],
             [
              0.6666666666666666,
              "#ed7953"
             ],
             [
              0.7777777777777778,
              "#fb9f3a"
             ],
             [
              0.8888888888888888,
              "#fdca26"
             ],
             [
              1,
              "#f0f921"
             ]
            ],
            "type": "histogram2dcontour"
           }
          ],
          "mesh3d": [
           {
            "colorbar": {
             "outlinewidth": 0,
             "ticks": ""
            },
            "type": "mesh3d"
           }
          ],
          "parcoords": [
           {
            "line": {
             "colorbar": {
              "outlinewidth": 0,
              "ticks": ""
             }
            },
            "type": "parcoords"
           }
          ],
          "pie": [
           {
            "automargin": true,
            "type": "pie"
           }
          ],
          "scatter": [
           {
            "fillpattern": {
             "fillmode": "overlay",
             "size": 10,
             "solidity": 0.2
            },
            "type": "scatter"
           }
          ],
          "scatter3d": [
           {
            "line": {
             "colorbar": {
              "outlinewidth": 0,
              "ticks": ""
             }
            },
            "marker": {
             "colorbar": {
              "outlinewidth": 0,
              "ticks": ""
             }
            },
            "type": "scatter3d"
           }
          ],
          "scattercarpet": [
           {
            "marker": {
             "colorbar": {
              "outlinewidth": 0,
              "ticks": ""
             }
            },
            "type": "scattercarpet"
           }
          ],
          "scattergeo": [
           {
            "marker": {
             "colorbar": {
              "outlinewidth": 0,
              "ticks": ""
             }
            },
            "type": "scattergeo"
           }
          ],
          "scattergl": [
           {
            "marker": {
             "colorbar": {
              "outlinewidth": 0,
              "ticks": ""
             }
            },
            "type": "scattergl"
           }
          ],
          "scattermapbox": [
           {
            "marker": {
             "colorbar": {
              "outlinewidth": 0,
              "ticks": ""
             }
            },
            "type": "scattermapbox"
           }
          ],
          "scatterpolar": [
           {
            "marker": {
             "colorbar": {
              "outlinewidth": 0,
              "ticks": ""
             }
            },
            "type": "scatterpolar"
           }
          ],
          "scatterpolargl": [
           {
            "marker": {
             "colorbar": {
              "outlinewidth": 0,
              "ticks": ""
             }
            },
            "type": "scatterpolargl"
           }
          ],
          "scatterternary": [
           {
            "marker": {
             "colorbar": {
              "outlinewidth": 0,
              "ticks": ""
             }
            },
            "type": "scatterternary"
           }
          ],
          "surface": [
           {
            "colorbar": {
             "outlinewidth": 0,
             "ticks": ""
            },
            "colorscale": [
             [
              0,
              "#0d0887"
             ],
             [
              0.1111111111111111,
              "#46039f"
             ],
             [
              0.2222222222222222,
              "#7201a8"
             ],
             [
              0.3333333333333333,
              "#9c179e"
             ],
             [
              0.4444444444444444,
              "#bd3786"
             ],
             [
              0.5555555555555556,
              "#d8576b"
             ],
             [
              0.6666666666666666,
              "#ed7953"
             ],
             [
              0.7777777777777778,
              "#fb9f3a"
             ],
             [
              0.8888888888888888,
              "#fdca26"
             ],
             [
              1,
              "#f0f921"
             ]
            ],
            "type": "surface"
           }
          ],
          "table": [
           {
            "cells": {
             "fill": {
              "color": "#EBF0F8"
             },
             "line": {
              "color": "white"
             }
            },
            "header": {
             "fill": {
              "color": "#C8D4E3"
             },
             "line": {
              "color": "white"
             }
            },
            "type": "table"
           }
          ]
         },
         "layout": {
          "annotationdefaults": {
           "arrowcolor": "#2a3f5f",
           "arrowhead": 0,
           "arrowwidth": 1
          },
          "autotypenumbers": "strict",
          "coloraxis": {
           "colorbar": {
            "outlinewidth": 0,
            "ticks": ""
           }
          },
          "colorscale": {
           "diverging": [
            [
             0,
             "#8e0152"
            ],
            [
             0.1,
             "#c51b7d"
            ],
            [
             0.2,
             "#de77ae"
            ],
            [
             0.3,
             "#f1b6da"
            ],
            [
             0.4,
             "#fde0ef"
            ],
            [
             0.5,
             "#f7f7f7"
            ],
            [
             0.6,
             "#e6f5d0"
            ],
            [
             0.7,
             "#b8e186"
            ],
            [
             0.8,
             "#7fbc41"
            ],
            [
             0.9,
             "#4d9221"
            ],
            [
             1,
             "#276419"
            ]
           ],
           "sequential": [
            [
             0,
             "#0d0887"
            ],
            [
             0.1111111111111111,
             "#46039f"
            ],
            [
             0.2222222222222222,
             "#7201a8"
            ],
            [
             0.3333333333333333,
             "#9c179e"
            ],
            [
             0.4444444444444444,
             "#bd3786"
            ],
            [
             0.5555555555555556,
             "#d8576b"
            ],
            [
             0.6666666666666666,
             "#ed7953"
            ],
            [
             0.7777777777777778,
             "#fb9f3a"
            ],
            [
             0.8888888888888888,
             "#fdca26"
            ],
            [
             1,
             "#f0f921"
            ]
           ],
           "sequentialminus": [
            [
             0,
             "#0d0887"
            ],
            [
             0.1111111111111111,
             "#46039f"
            ],
            [
             0.2222222222222222,
             "#7201a8"
            ],
            [
             0.3333333333333333,
             "#9c179e"
            ],
            [
             0.4444444444444444,
             "#bd3786"
            ],
            [
             0.5555555555555556,
             "#d8576b"
            ],
            [
             0.6666666666666666,
             "#ed7953"
            ],
            [
             0.7777777777777778,
             "#fb9f3a"
            ],
            [
             0.8888888888888888,
             "#fdca26"
            ],
            [
             1,
             "#f0f921"
            ]
           ]
          },
          "colorway": [
           "#636efa",
           "#EF553B",
           "#00cc96",
           "#ab63fa",
           "#FFA15A",
           "#19d3f3",
           "#FF6692",
           "#B6E880",
           "#FF97FF",
           "#FECB52"
          ],
          "font": {
           "color": "#2a3f5f"
          },
          "geo": {
           "bgcolor": "white",
           "lakecolor": "white",
           "landcolor": "#E5ECF6",
           "showlakes": true,
           "showland": true,
           "subunitcolor": "white"
          },
          "hoverlabel": {
           "align": "left"
          },
          "hovermode": "closest",
          "mapbox": {
           "style": "light"
          },
          "paper_bgcolor": "white",
          "plot_bgcolor": "#E5ECF6",
          "polar": {
           "angularaxis": {
            "gridcolor": "white",
            "linecolor": "white",
            "ticks": ""
           },
           "bgcolor": "#E5ECF6",
           "radialaxis": {
            "gridcolor": "white",
            "linecolor": "white",
            "ticks": ""
           }
          },
          "scene": {
           "xaxis": {
            "backgroundcolor": "#E5ECF6",
            "gridcolor": "white",
            "gridwidth": 2,
            "linecolor": "white",
            "showbackground": true,
            "ticks": "",
            "zerolinecolor": "white"
           },
           "yaxis": {
            "backgroundcolor": "#E5ECF6",
            "gridcolor": "white",
            "gridwidth": 2,
            "linecolor": "white",
            "showbackground": true,
            "ticks": "",
            "zerolinecolor": "white"
           },
           "zaxis": {
            "backgroundcolor": "#E5ECF6",
            "gridcolor": "white",
            "gridwidth": 2,
            "linecolor": "white",
            "showbackground": true,
            "ticks": "",
            "zerolinecolor": "white"
           }
          },
          "shapedefaults": {
           "line": {
            "color": "#2a3f5f"
           }
          },
          "ternary": {
           "aaxis": {
            "gridcolor": "white",
            "linecolor": "white",
            "ticks": ""
           },
           "baxis": {
            "gridcolor": "white",
            "linecolor": "white",
            "ticks": ""
           },
           "bgcolor": "#E5ECF6",
           "caxis": {
            "gridcolor": "white",
            "linecolor": "white",
            "ticks": ""
           }
          },
          "title": {
           "x": 0.05
          },
          "xaxis": {
           "automargin": true,
           "gridcolor": "white",
           "linecolor": "white",
           "ticks": "",
           "title": {
            "standoff": 15
           },
           "zerolinecolor": "white",
           "zerolinewidth": 2
          },
          "yaxis": {
           "automargin": true,
           "gridcolor": "white",
           "linecolor": "white",
           "ticks": "",
           "title": {
            "standoff": 15
           },
           "zerolinecolor": "white",
           "zerolinewidth": 2
          }
         }
        },
        "title": {
         "text": "TSNE"
        },
        "width": 1200,
        "xaxis": {
         "anchor": "y",
         "domain": [
          0,
          1
         ],
         "title": {
          "text": "x"
         }
        },
        "yaxis": {
         "anchor": "x",
         "domain": [
          0,
          1
         ],
         "title": {
          "text": "y"
         }
        }
       }
      }
     },
     "metadata": {},
     "output_type": "display_data"
    }
   ],
   "source": [
    "fig = px.scatter(x=tsne_projection['Dimension 1'], y=tsne_projection['Dimension 2'], text=tsne_projection.index)\n",
    "fig.update_traces(textposition='top center')\n",
    "fig.update_layout(height=1200, width=1200, title_text='TSNE')\n",
    "fig.show()"
   ]
  },
  {
   "cell_type": "markdown",
   "metadata": {},
   "source": [
    "## Cluster"
   ]
  },
  {
   "cell_type": "code",
   "execution_count": 12,
   "metadata": {},
   "outputs": [],
   "source": [
    "from sklearn.cluster import KMeans\n",
    "from sklearn.metrics import silhouette_score\n",
    "from sklearn.mixture import GaussianMixture\n",
    "scores = []\n",
    "best_model = 0\n",
    "for i in range(5,25):\n",
    "    cluster = KMeans(n_clusters=i, random_state=42,init='k-means++', n_init=10)\n",
    "    cluster.fit(tsne_projection)\n",
    "    pred = cluster.predict(tsne_projection)\n",
    "    scores.append(silhouette_score(tsne_projection, pred))\n",
    "    \n",
    "    if silhouette_score(tsne_projection, pred) > best_model:\n",
    "        best_model = silhouette_score(tsne_projection, pred)\n",
    "        best_cluster = cluster\n",
    "        \n"
   ]
  },
  {
   "cell_type": "code",
   "execution_count": 13,
   "metadata": {},
   "outputs": [
    {
     "data": {
      "text/plain": [
       "13"
      ]
     },
     "execution_count": 13,
     "metadata": {},
     "output_type": "execute_result"
    }
   ],
   "source": [
    "best_cluster.n_clusters"
   ]
  },
  {
   "cell_type": "code",
   "execution_count": 14,
   "metadata": {},
   "outputs": [
    {
     "data": {
      "text/plain": [
       "<matplotlib.lines.Line2D at 0x1f4807e5c70>"
      ]
     },
     "execution_count": 14,
     "metadata": {},
     "output_type": "execute_result"
    },
    {
     "data": {
      "image/png": "[encoded data removed]",
      "text/plain": [
       "<Figure size 640x480 with 1 Axes>"
      ]
     },
     "metadata": {},
     "output_type": "display_data"
    }
   ],
   "source": [
    "sns.lineplot(x=range(5,25,1), y=scores)\n",
    "plt.axvline(x=best_cluster.n_clusters, ymin=0, ymax=1, color='red')"
   ]
  },
  {
   "cell_type": "code",
   "execution_count": 15,
   "metadata": {},
   "outputs": [],
   "source": [
    "cluster = KMeans(n_clusters=best_cluster.n_clusters, random_state=42,init='k-means++', n_init=10)\n",
    "cluster.fit(tsne_projection)\n",
    "pred = cluster.predict(tsne_projection)"
   ]
  },
  {
   "cell_type": "code",
   "execution_count": 16,
   "metadata": {},
   "outputs": [],
   "source": [
    "labels = ['skill_group_'+str(label) for label in best_cluster.labels_]"
   ]
  },
  {
   "cell_type": "code",
   "execution_count": 17,
   "metadata": {},
   "outputs": [
    {
     "data": {
      "application/vnd.plotly.v1+json": {
       "config": {
        "plotlyServerURL": "https://plot.ly"
       },
       "data": [
        {
         "hovertemplate": "color=skill_group_11<br>x=%{x}<br>y=%{y}<br>text=%{text}<extra></extra>",
         "legendgroup": "skill_group_11",
         "marker": {
          "color": "#636efa",
          "symbol": "circle"
         },
         "mode": "markers+text",
         "name": "skill_group_11",
         "orientation": "v",
         "showlegend": true,
         "text": [
          "Assembly",
          "C",
          "C++"
         ],
         "textposition": "top center",
         "type": "scatter",
         "x": [
          8.706415176391602,
          9.122461318969727,
          8.199023246765137
         ],
         "xaxis": "x",
         "y": [
          2.2307353019714355,
          3.380812168121338,
          3.8595070838928223
         ],
         "yaxis": "y"
        },
        {
         "hovertemplate": "color=skill_group_6<br>x=%{x}<br>y=%{y}<br>text=%{text}<extra></extra>",
         "legendgroup": "skill_group_6",
         "marker": {
          "color": "#EF553B",
          "symbol": "circle"
         },
         "mode": "markers+text",
         "name": "skill_group_6",
         "orientation": "v",
         "showlegend": true,
         "text": [
          "Bash/Shell/PowerShell",
          "Go",
          "Rust",
          "Ansible",
          "Teraform"
         ],
         "textposition": "top center",
         "type": "scatter",
         "x": [
          9.093084335327148,
          8.505599021911621,
          8.619829177856445,
          8.505250930786133,
          8.627228736877441
         ],
         "xaxis": "x",
         "y": [
          -10.156258583068848,
          -6.227141857147217,
          -3.2911794185638428,
          -8.594717025756836,
          -7.247943878173828
         ],
         "yaxis": "y"
        },
        {
         "hovertemplate": "color=skill_group_5<br>x=%{x}<br>y=%{y}<br>text=%{text}<extra></extra>",
         "legendgroup": "skill_group_5",
         "marker": {
          "color": "#00cc96",
          "symbol": "circle"
         },
         "mode": "markers+text",
         "name": "skill_group_5",
         "orientation": "v",
         "showlegend": true,
         "text": [
          "C#",
          "ASP.NET",
          "ASP.NET Core",
          ".NET",
          ".NET Core"
         ],
         "textposition": "top center",
         "type": "scatter",
         "x": [
          -19.979429244995117,
          -20.403701782226562,
          -21.759056091308594,
          -19.66698455810547,
          -21.582849502563477
         ],
         "xaxis": "x",
         "y": [
          15.200496673583984,
          11.57541275024414,
          12.43236255645752,
          14.104988098144531,
          13.669140815734863
         ],
         "yaxis": "y"
        },
        {
         "hovertemplate": "color=skill_group_3<br>x=%{x}<br>y=%{y}<br>text=%{text}<extra></extra>",
         "legendgroup": "skill_group_3",
         "marker": {
          "color": "#ab63fa",
          "symbol": "circle"
         },
         "mode": "markers+text",
         "name": "skill_group_3",
         "orientation": "v",
         "showlegend": true,
         "text": [
          "Dart",
          "Java",
          "Kotlin",
          "Objective-C",
          "Swift",
          "Firebase",
          "SQLite",
          "Cordova",
          "Flutter",
          "React Native",
          "Xamarin"
         ],
         "textposition": "top center",
         "type": "scatter",
         "x": [
          -4.118800163269043,
          0.653170645236969,
          0.13104352355003357,
          -0.05577431246638298,
          -0.12364571541547775,
          -6.449516296386719,
          1.978832721710205,
          -4.320568561553955,
          -4.520364284515381,
          -7.174490451812744,
          -1.612904667854309
         ],
         "xaxis": "x",
         "y": [
          37.34237289428711,
          32.17955017089844,
          33.794151306152344,
          36.93257141113281,
          35.8751335144043,
          36.55171203613281,
          37.32571792602539,
          39.230106353759766,
          36.465885162353516,
          37.90123748779297,
          40.0043830871582
         ],
         "yaxis": "y"
        },
        {
         "hovertemplate": "color=skill_group_12<br>x=%{x}<br>y=%{y}<br>text=%{text}<extra></extra>",
         "legendgroup": "skill_group_12",
         "marker": {
          "color": "#FFA15A",
          "symbol": "circle"
         },
         "mode": "markers+text",
         "name": "skill_group_12",
         "orientation": "v",
         "showlegend": true,
         "text": [
          "HTML/CSS",
          "PHP",
          "MySQL",
          "Laravel",
          "jQuery"
         ],
         "textposition": "top center",
         "type": "scatter",
         "x": [
          -29.736589431762695,
          -23.468584060668945,
          -21.937755584716797,
          -23.914081573486328,
          -28.695030212402344
         ],
         "xaxis": "x",
         "y": [
          -14.928832054138184,
          -16.427898406982422,
          -16.760337829589844,
          -17.14063835144043,
          -15.254472732543945
         ],
         "yaxis": "y"
        },
        {
         "hovertemplate": "color=skill_group_8<br>x=%{x}<br>y=%{y}<br>text=%{text}<extra></extra>",
         "legendgroup": "skill_group_8",
         "marker": {
          "color": "#19d3f3",
          "symbol": "circle"
         },
         "mode": "markers+text",
         "name": "skill_group_8",
         "orientation": "v",
         "showlegend": true,
         "text": [
          "Haskell",
          "Julia",
          "R",
          "Keras",
          "Pandas",
          "TensorFlow",
          "Torch/PyTorch"
         ],
         "textposition": "top center",
         "type": "scatter",
         "x": [
          23.043148040771484,
          23.84976577758789,
          29.783184051513672,
          30.894363403320312,
          31.137460708618164,
          31.706153869628906,
          30.448118209838867
         ],
         "xaxis": "x",
         "y": [
          12.300882339477539,
          12.5107421875,
          10.597387313842773,
          13.000275611877441,
          11.204522132873535,
          13.887856483459473,
          14.28376579284668
         ],
         "yaxis": "y"
        },
        {
         "hovertemplate": "color=skill_group_7<br>x=%{x}<br>y=%{y}<br>text=%{text}<extra></extra>",
         "legendgroup": "skill_group_7",
         "marker": {
          "color": "#FF6692",
          "symbol": "circle"
         },
         "mode": "markers+text",
         "name": "skill_group_7",
         "orientation": "v",
         "showlegend": true,
         "text": [
          "JavaScript",
          "TypeScript",
          "Angular",
          "Angular.js",
          "Express",
          "React.js",
          "Vue.js",
          "Node.js"
         ],
         "textposition": "top center",
         "type": "scatter",
         "x": [
          -32.100135803222656,
          -37.9449348449707,
          -37.44970703125,
          -34.03290557861328,
          -35.61885070800781,
          -36.99446487426758,
          -32.56252670288086,
          -34.70936965942383
         ],
         "xaxis": "x",
         "y": [
          -14.401249885559082,
          -14.588114738464355,
          -15.39919376373291,
          -15.841073989868164,
          -11.001036643981934,
          -10.767420768737793,
          -12.0665283203125,
          -11.70687198638916
         ],
         "yaxis": "y"
        },
        {
         "hovertemplate": "color=skill_group_9<br>x=%{x}<br>y=%{y}<br>text=%{text}<extra></extra>",
         "legendgroup": "skill_group_9",
         "marker": {
          "color": "#B6E880",
          "symbol": "circle"
         },
         "mode": "markers+text",
         "name": "skill_group_9",
         "orientation": "v",
         "showlegend": true,
         "text": [
          "Perl",
          "Ruby",
          "Ruby on Rails",
          "Chef",
          "Puppet"
         ],
         "textposition": "top center",
         "type": "scatter",
         "x": [
          1.7388783693313599,
          0.8848071694374084,
          0.16703207790851593,
          2.6289496421813965,
          2.9177768230438232
         ],
         "xaxis": "x",
         "y": [
          -9.297883033752441,
          -14.010663032531738,
          -14.783528327941895,
          -11.593793869018555,
          -10.761919021606445
         ],
         "yaxis": "y"
        },
        {
         "hovertemplate": "color=skill_group_4<br>x=%{x}<br>y=%{y}<br>text=%{text}<extra></extra>",
         "legendgroup": "skill_group_4",
         "marker": {
          "color": "#FF97FF",
          "symbol": "circle"
         },
         "mode": "markers+text",
         "name": "skill_group_4",
         "orientation": "v",
         "showlegend": true,
         "text": [
          "Python",
          "Scala",
          "Django",
          "Flask",
          "Apache Spark",
          "Hadoop"
         ],
         "textposition": "top center",
         "type": "scatter",
         "x": [
          34.686973571777344,
          32.023345947265625,
          36.10963821411133,
          35.317588806152344,
          33.32787322998047,
          33.00486755371094
         ],
         "xaxis": "x",
         "y": [
          4.572220802307129,
          -2.319199562072754,
          2.5664138793945312,
          3.240321636199951,
          -1.164650559425354,
          -0.4119451344013214
         ],
         "yaxis": "y"
        },
        {
         "hovertemplate": "color=skill_group_10<br>x=%{x}<br>y=%{y}<br>text=%{text}<extra></extra>",
         "legendgroup": "skill_group_10",
         "marker": {
          "color": "#FECB52",
          "symbol": "circle"
         },
         "mode": "markers+text",
         "name": "skill_group_10",
         "orientation": "v",
         "showlegend": true,
         "text": [
          "SQL",
          "VBA",
          "IBM DB2",
          "Microsoft SQL Server",
          "Oracle"
         ],
         "textposition": "top center",
         "type": "scatter",
         "x": [
          -18.04159164428711,
          -14.797036170959473,
          -14.427725791931152,
          -17.315237045288086,
          -16.54289436340332
         ],
         "xaxis": "x",
         "y": [
          4.101316452026367,
          -1.1726797819137573,
          -1.9803781509399414,
          3.488501787185669,
          2.2447288036346436
         ],
         "yaxis": "y"
        },
        {
         "hovertemplate": "color=skill_group_0<br>x=%{x}<br>y=%{y}<br>text=%{text}<extra></extra>",
         "legendgroup": "skill_group_0",
         "marker": {
          "color": "#636efa",
          "symbol": "circle"
         },
         "mode": "markers+text",
         "name": "skill_group_0",
         "orientation": "v",
         "showlegend": true,
         "text": [
          "Cassandra",
          "DynamoDB",
          "Elasticsearch",
          "MongoDB",
          "PostgreSQL",
          "Redis",
          "Spring"
         ],
         "textposition": "top center",
         "type": "scatter",
         "x": [
          19.449907302856445,
          18.647960662841797,
          19.540433883666992,
          16.600317001342773,
          21.401756286621094,
          18.60232925415039,
          18.85206413269043
         ],
         "xaxis": "x",
         "y": [
          -11.243368148803711,
          -13.435554504394531,
          -14.930602073669434,
          -15.819245338439941,
          -14.605463981628418,
          -15.402398109436035,
          -17.800838470458984
         ],
         "yaxis": "y"
        },
        {
         "hovertemplate": "color=skill_group_2<br>x=%{x}<br>y=%{y}<br>text=%{text}<extra></extra>",
         "legendgroup": "skill_group_2",
         "marker": {
          "color": "#EF553B",
          "symbol": "circle"
         },
         "mode": "markers+text",
         "name": "skill_group_2",
         "orientation": "v",
         "showlegend": true,
         "text": [
          "Couchbase",
          "MariaDB",
          "Drupal",
          "Gatsby",
          "Symfony"
         ],
         "textposition": "top center",
         "type": "scatter",
         "x": [
          -12.071439743041992,
          -16.41778564453125,
          -13.267212867736816,
          -12.32661247253418,
          -14.394525527954102
         ],
         "xaxis": "x",
         "y": [
          -15.032208442687988,
          -16.420515060424805,
          -16.524728775024414,
          -17.95383644104004,
          -16.44243621826172
         ],
         "yaxis": "y"
        },
        {
         "hovertemplate": "color=skill_group_1<br>x=%{x}<br>y=%{y}<br>text=%{text}<extra></extra>",
         "legendgroup": "skill_group_1",
         "marker": {
          "color": "#00cc96",
          "symbol": "circle"
         },
         "mode": "markers+text",
         "name": "skill_group_1",
         "orientation": "v",
         "showlegend": true,
         "text": [
          "Unity 3D",
          "Unreal Engine"
         ],
         "textposition": "top center",
         "type": "scatter",
         "x": [
          2.462782382965088,
          3.0811140537261963
         ],
         "xaxis": "x",
         "y": [
          11.13098430633545,
          10.710283279418945
         ],
         "yaxis": "y"
        }
       ],
       "layout": {
        "height": 1200,
        "legend": {
         "title": {
          "text": "color"
         },
         "tracegroupgap": 0
        },
        "margin": {
         "t": 60
        },
        "template": {
         "data": {
          "bar": [
           {
            "error_x": {
             "color": "#2a3f5f"
            },
            "error_y": {
             "color": "#2a3f5f"
            },
            "marker": {
             "line": {
              "color": "#E5ECF6",
              "width": 0.5
             },
             "pattern": {
              "fillmode": "overlay",
              "size": 10,
              "solidity": 0.2
             }
            },
            "type": "bar"
           }
          ],
          "barpolar": [
           {
            "marker": {
             "line": {
              "color": "#E5ECF6",
              "width": 0.5
             },
             "pattern": {
              "fillmode": "overlay",
              "size": 10,
              "solidity": 0.2
             }
            },
            "type": "barpolar"
           }
          ],
          "carpet": [
           {
            "aaxis": {
             "endlinecolor": "#2a3f5f",
             "gridcolor": "white",
             "linecolor": "white",
             "minorgridcolor": "white",
             "startlinecolor": "#2a3f5f"
            },
            "baxis": {
             "endlinecolor": "#2a3f5f",
             "gridcolor": "white",
             "linecolor": "white",
             "minorgridcolor": "white",
             "startlinecolor": "#2a3f5f"
            },
            "type": "carpet"
           }
          ],
          "choropleth": [
           {
            "colorbar": {
             "outlinewidth": 0,
             "ticks": ""
            },
            "type": "choropleth"
           }
          ],
          "contour": [
           {
            "colorbar": {
             "outlinewidth": 0,
             "ticks": ""
            },
            "colorscale": [
             [
              0,
              "#0d0887"
             ],
             [
              0.1111111111111111,
              "#46039f"
             ],
             [
              0.2222222222222222,
              "#7201a8"
             ],
             [
              0.3333333333333333,
              "#9c179e"
             ],
             [
              0.4444444444444444,
              "#bd3786"
             ],
             [
              0.5555555555555556,
              "#d8576b"
             ],
             [
              0.6666666666666666,
              "#ed7953"
             ],
             [
              0.7777777777777778,
              "#fb9f3a"
             ],
             [
              0.8888888888888888,
              "#fdca26"
             ],
             [
              1,
              "#f0f921"
             ]
            ],
            "type": "contour"
           }
          ],
          "contourcarpet": [
           {
            "colorbar": {
             "outlinewidth": 0,
             "ticks": ""
            },
            "type": "contourcarpet"
           }
          ],
          "heatmap": [
           {
            "colorbar": {
             "outlinewidth": 0,
             "ticks": ""
            },
            "colorscale": [
             [
              0,
              "#0d0887"
             ],
             [
              0.1111111111111111,
              "#46039f"
             ],
             [
              0.2222222222222222,
              "#7201a8"
             ],
             [
              0.3333333333333333,
              "#9c179e"
             ],
             [
              0.4444444444444444,
              "#bd3786"
             ],
             [
              0.5555555555555556,
              "#d8576b"
             ],
             [
              0.6666666666666666,
              "#ed7953"
             ],
             [
              0.7777777777777778,
              "#fb9f3a"
             ],
             [
              0.8888888888888888,
              "#fdca26"
             ],
             [
              1,
              "#f0f921"
             ]
            ],
            "type": "heatmap"
           }
          ],
          "heatmapgl": [
           {
            "colorbar": {
             "outlinewidth": 0,
             "ticks": ""
            },
            "colorscale": [
             [
              0,
              "#0d0887"
             ],
             [
              0.1111111111111111,
              "#46039f"
             ],
             [
              0.2222222222222222,
              "#7201a8"
             ],
             [
              0.3333333333333333,
              "#9c179e"
             ],
             [
              0.4444444444444444,
              "#bd3786"
             ],
             [
              0.5555555555555556,
              "#d8576b"
             ],
             [
              0.6666666666666666,
              "#ed7953"
             ],
             [
              0.7777777777777778,
              "#fb9f3a"
             ],
             [
              0.8888888888888888,
              "#fdca26"
             ],
             [
              1,
              "#f0f921"
             ]
            ],
            "type": "heatmapgl"
           }
          ],
          "histogram": [
           {
            "marker": {
             "pattern": {
              "fillmode": "overlay",
              "size": 10,
              "solidity": 0.2
             }
            },
            "type": "histogram"
           }
          ],
          "histogram2d": [
           {
            "colorbar": {
             "outlinewidth": 0,
             "ticks": ""
            },
            "colorscale": [
             [
              0,
              "#0d0887"
             ],
             [
              0.1111111111111111,
              "#46039f"
             ],
             [
              0.2222222222222222,
              "#7201a8"
             ],
             [
              0.3333333333333333,
              "#9c179e"
             ],
             [
              0.4444444444444444,
              "#bd3786"
             ],
             [
              0.5555555555555556,
              "#d8576b"
             ],
             [
              0.6666666666666666,
              "#ed7953"
             ],
             [
              0.7777777777777778,
              "#fb9f3a"
             ],
             [
              0.8888888888888888,
              "#fdca26"
             ],
             [
              1,
              "#f0f921"
             ]
            ],
            "type": "histogram2d"
           }
          ],
          "histogram2dcontour": [
           {
            "colorbar": {
             "outlinewidth": 0,
             "ticks": ""
            },
            "colorscale": [
             [
              0,
              "#0d0887"
             ],
             [
              0.1111111111111111,
              "#46039f"
             ],
             [
              0.2222222222222222,
              "#7201a8"
             ],
             [
              0.3333333333333333,
              "#9c179e"
             ],
             [
              0.4444444444444444,
              "#bd3786"
             ],
             [
              0.5555555555555556,
              "#d8576b"
             ],
             [
              0.6666666666666666,
              "#ed7953"
             ],
             [
              0.7777777777777778,
              "#fb9f3a"
             ],
             [
              0.8888888888888888,
              "#fdca26"
             ],
             [
              1,
              "#f0f921"
             ]
            ],
            "type": "histogram2dcontour"
           }
          ],
          "mesh3d": [
           {
            "colorbar": {
             "outlinewidth": 0,
             "ticks": ""
            },
            "type": "mesh3d"
           }
          ],
          "parcoords": [
           {
            "line": {
             "colorbar": {
              "outlinewidth": 0,
              "ticks": ""
             }
            },
            "type": "parcoords"
           }
          ],
          "pie": [
           {
            "automargin": true,
            "type": "pie"
           }
          ],
          "scatter": [
           {
            "fillpattern": {
             "fillmode": "overlay",
             "size": 10,
             "solidity": 0.2
            },
            "type": "scatter"
           }
          ],
          "scatter3d": [
           {
            "line": {
             "colorbar": {
              "outlinewidth": 0,
              "ticks": ""
             }
            },
            "marker": {
             "colorbar": {
              "outlinewidth": 0,
              "ticks": ""
             }
            },
            "type": "scatter3d"
           }
          ],
          "scattercarpet": [
           {
            "marker": {
             "colorbar": {
              "outlinewidth": 0,
              "ticks": ""
             }
            },
            "type": "scattercarpet"
           }
          ],
          "scattergeo": [
           {
            "marker": {
             "colorbar": {
              "outlinewidth": 0,
              "ticks": ""
             }
            },
            "type": "scattergeo"
           }
          ],
          "scattergl": [
           {
            "marker": {
             "colorbar": {
              "outlinewidth": 0,
              "ticks": ""
             }
            },
            "type": "scattergl"
           }
          ],
          "scattermapbox": [
           {
            "marker": {
             "colorbar": {
              "outlinewidth": 0,
              "ticks": ""
             }
            },
            "type": "scattermapbox"
           }
          ],
          "scatterpolar": [
           {
            "marker": {
             "colorbar": {
              "outlinewidth": 0,
              "ticks": ""
             }
            },
            "type": "scatterpolar"
           }
          ],
          "scatterpolargl": [
           {
            "marker": {
             "colorbar": {
              "outlinewidth": 0,
              "ticks": ""
             }
            },
            "type": "scatterpolargl"
           }
          ],
          "scatterternary": [
           {
            "marker": {
             "colorbar": {
              "outlinewidth": 0,
              "ticks": ""
             }
            },
            "type": "scatterternary"
           }
          ],
          "surface": [
           {
            "colorbar": {
             "outlinewidth": 0,
             "ticks": ""
            },
            "colorscale": [
             [
              0,
              "#0d0887"
             ],
             [
              0.1111111111111111,
              "#46039f"
             ],
             [
              0.2222222222222222,
              "#7201a8"
             ],
             [
              0.3333333333333333,
              "#9c179e"
             ],
             [
              0.4444444444444444,
              "#bd3786"
             ],
             [
              0.5555555555555556,
              "#d8576b"
             ],
             [
              0.6666666666666666,
              "#ed7953"
             ],
             [
              0.7777777777777778,
              "#fb9f3a"
             ],
             [
              0.8888888888888888,
              "#fdca26"
             ],
             [
              1,
              "#f0f921"
             ]
            ],
            "type": "surface"
           }
          ],
          "table": [
           {
            "cells": {
             "fill": {
              "color": "#EBF0F8"
             },
             "line": {
              "color": "white"
             }
            },
            "header": {
             "fill": {
              "color": "#C8D4E3"
             },
             "line": {
              "color": "white"
             }
            },
            "type": "table"
           }
          ]
         },
         "layout": {
          "annotationdefaults": {
           "arrowcolor": "#2a3f5f",
           "arrowhead": 0,
           "arrowwidth": 1
          },
          "autotypenumbers": "strict",
          "coloraxis": {
           "colorbar": {
            "outlinewidth": 0,
            "ticks": ""
           }
          },
          "colorscale": {
           "diverging": [
            [
             0,
             "#8e0152"
            ],
            [
             0.1,
             "#c51b7d"
            ],
            [
             0.2,
             "#de77ae"
            ],
            [
             0.3,
             "#f1b6da"
            ],
            [
             0.4,
             "#fde0ef"
            ],
            [
             0.5,
             "#f7f7f7"
            ],
            [
             0.6,
             "#e6f5d0"
            ],
            [
             0.7,
             "#b8e186"
            ],
            [
             0.8,
             "#7fbc41"
            ],
            [
             0.9,
             "#4d9221"
            ],
            [
             1,
             "#276419"
            ]
           ],
           "sequential": [
            [
             0,
             "#0d0887"
            ],
            [
             0.1111111111111111,
             "#46039f"
            ],
            [
             0.2222222222222222,
             "#7201a8"
            ],
            [
             0.3333333333333333,
             "#9c179e"
            ],
            [
             0.4444444444444444,
             "#bd3786"
            ],
            [
             0.5555555555555556,
             "#d8576b"
            ],
            [
             0.6666666666666666,
             "#ed7953"
            ],
            [
             0.7777777777777778,
             "#fb9f3a"
            ],
            [
             0.8888888888888888,
             "#fdca26"
            ],
            [
             1,
             "#f0f921"
            ]
           ],
           "sequentialminus": [
            [
             0,
             "#0d0887"
            ],
            [
             0.1111111111111111,
             "#46039f"
            ],
            [
             0.2222222222222222,
             "#7201a8"
            ],
            [
             0.3333333333333333,
             "#9c179e"
            ],
            [
             0.4444444444444444,
             "#bd3786"
            ],
            [
             0.5555555555555556,
             "#d8576b"
            ],
            [
             0.6666666666666666,
             "#ed7953"
            ],
            [
             0.7777777777777778,
             "#fb9f3a"
            ],
            [
             0.8888888888888888,
             "#fdca26"
            ],
            [
             1,
             "#f0f921"
            ]
           ]
          },
          "colorway": [
           "#636efa",
           "#EF553B",
           "#00cc96",
           "#ab63fa",
           "#FFA15A",
           "#19d3f3",
           "#FF6692",
           "#B6E880",
           "#FF97FF",
           "#FECB52"
          ],
          "font": {
           "color": "#2a3f5f"
          },
          "geo": {
           "bgcolor": "white",
           "lakecolor": "white",
           "landcolor": "#E5ECF6",
           "showlakes": true,
           "showland": true,
           "subunitcolor": "white"
          },
          "hoverlabel": {
           "align": "left"
          },
          "hovermode": "closest",
          "mapbox": {
           "style": "light"
          },
          "paper_bgcolor": "white",
          "plot_bgcolor": "#E5ECF6",
          "polar": {
           "angularaxis": {
            "gridcolor": "white",
            "linecolor": "white",
            "ticks": ""
           },
           "bgcolor": "#E5ECF6",
           "radialaxis": {
            "gridcolor": "white",
            "linecolor": "white",
            "ticks": ""
           }
          },
          "scene": {
           "xaxis": {
            "backgroundcolor": "#E5ECF6",
            "gridcolor": "white",
            "gridwidth": 2,
            "linecolor": "white",
            "showbackground": true,
            "ticks": "",
            "zerolinecolor": "white"
           },
           "yaxis": {
            "backgroundcolor": "#E5ECF6",
            "gridcolor": "white",
            "gridwidth": 2,
            "linecolor": "white",
            "showbackground": true,
            "ticks": "",
            "zerolinecolor": "white"
           },
           "zaxis": {
            "backgroundcolor": "#E5ECF6",
            "gridcolor": "white",
            "gridwidth": 2,
            "linecolor": "white",
            "showbackground": true,
            "ticks": "",
            "zerolinecolor": "white"
           }
          },
          "shapedefaults": {
           "line": {
            "color": "#2a3f5f"
           }
          },
          "ternary": {
           "aaxis": {
            "gridcolor": "white",
            "linecolor": "white",
            "ticks": ""
           },
           "baxis": {
            "gridcolor": "white",
            "linecolor": "white",
            "ticks": ""
           },
           "bgcolor": "#E5ECF6",
           "caxis": {
            "gridcolor": "white",
            "linecolor": "white",
            "ticks": ""
           }
          },
          "title": {
           "x": 0.05
          },
          "xaxis": {
           "automargin": true,
           "gridcolor": "white",
           "linecolor": "white",
           "ticks": "",
           "title": {
            "standoff": 15
           },
           "zerolinecolor": "white",
           "zerolinewidth": 2
          },
          "yaxis": {
           "automargin": true,
           "gridcolor": "white",
           "linecolor": "white",
           "ticks": "",
           "title": {
            "standoff": 15
           },
           "zerolinecolor": "white",
           "zerolinewidth": 2
          }
         }
        },
        "title": {
         "text": "Cluster"
        },
        "width": 1150,
        "xaxis": {
         "anchor": "y",
         "domain": [
          0,
          1
         ],
         "title": {
          "text": "x"
         }
        },
        "yaxis": {
         "anchor": "x",
         "domain": [
          0,
          1
         ],
         "title": {
          "text": "y"
         }
        }
       }
      }
     },
     "metadata": {},
     "output_type": "display_data"
    }
   ],
   "source": [
    "fig = px.scatter(x=tsne_projection['Dimension 1'], \n",
    "                 y=tsne_projection['Dimension 2'], \n",
    "                 text=tsne_projection.index, \n",
    "                 color=labels)\n",
    "fig.update_traces(textposition='top center')\n",
    "fig.update_layout(height=1200, width=1150, title_text='Cluster')\n",
    "fig.show()"
   ]
  },
  {
   "cell_type": "code",
   "execution_count": 18,
   "metadata": {},
   "outputs": [],
   "source": [
    "skills_clusters  = tsne_projection.index.to_series().groupby(labels).apply(list)\n",
    "skills_clusters \n",
    "\n",
    "with open(EXPORT_PATH+'skills_group_clusters.pkl', 'wb') as f:\n",
    "    pickle.dump(skills_clusters, f)\n",
    "    "
   ]
  },
  {
   "cell_type": "markdown",
   "metadata": {},
   "source": [
    "## Create new features"
   ]
  },
  {
   "cell_type": "code",
   "execution_count": 19,
   "metadata": {},
   "outputs": [],
   "source": [
    "skill_ohe = ohe_df.drop(columns=['DevType'])\n",
    "\n",
    "new_features= []\n",
    "for cluster , skills in skills_clusters.items():\n",
    "    cluster_group = skill_ohe.droplevel(0,axis=1)[skills].sum(axis=1)\n",
    "    cluster_group.name = cluster\n",
    "    new_features.append(cluster_group)\n",
    "    \n",
    "    \n",
    "new_features_df = pd.concat(new_features,axis=1)\n",
    "    "
   ]
  },
  {
   "cell_type": "markdown",
   "metadata": {},
   "source": [
    "## Illustration Model"
   ]
  },
  {
   "cell_type": "code",
   "execution_count": 20,
   "metadata": {},
   "outputs": [],
   "source": [
    "ohe_skill = ohe_df.drop(columns=['DevType'])\n",
    "ohe_skill = ohe_skill.droplevel(0,axis=1)\n",
    "role_ohe = ohe_df['DevType'].copy()\n",
    "\n",
    "combined_features = pd.concat([new_features_df,ohe_skill],axis=1)"
   ]
  },
  {
   "cell_type": "code",
   "execution_count": 21,
   "metadata": {},
   "outputs": [
    {
     "data": {
      "text/html": [
       "<div>\n",
       "<style scoped>\n",
       "    .dataframe tbody tr th:only-of-type {\n",
       "        vertical-align: middle;\n",
       "    }\n",
       "\n",
       "    .dataframe tbody tr th {\n",
       "        vertical-align: top;\n",
       "    }\n",
       "\n",
       "    .dataframe thead th {\n",
       "        text-align: right;\n",
       "    }\n",
       "</style>\n",
       "<table border=\"1\" class=\"dataframe\">\n",
       "  <thead>\n",
       "    <tr style=\"text-align: right;\">\n",
       "      <th></th>\n",
       "      <th>skill_group_0</th>\n",
       "      <th>skill_group_1</th>\n",
       "      <th>skill_group_10</th>\n",
       "      <th>skill_group_11</th>\n",
       "      <th>skill_group_12</th>\n",
       "      <th>skill_group_2</th>\n",
       "      <th>skill_group_3</th>\n",
       "      <th>skill_group_4</th>\n",
       "      <th>skill_group_5</th>\n",
       "      <th>skill_group_6</th>\n",
       "      <th>...</th>\n",
       "      <th>Node.js</th>\n",
       "      <th>Pandas</th>\n",
       "      <th>Puppet</th>\n",
       "      <th>React Native</th>\n",
       "      <th>TensorFlow</th>\n",
       "      <th>Teraform</th>\n",
       "      <th>Torch/PyTorch</th>\n",
       "      <th>Unity 3D</th>\n",
       "      <th>Unreal Engine</th>\n",
       "      <th>Xamarin</th>\n",
       "    </tr>\n",
       "  </thead>\n",
       "  <tbody>\n",
       "    <tr>\n",
       "      <th>0</th>\n",
       "      <td>1</td>\n",
       "      <td>0</td>\n",
       "      <td>2</td>\n",
       "      <td>0</td>\n",
       "      <td>1</td>\n",
       "      <td>0</td>\n",
       "      <td>0</td>\n",
       "      <td>0</td>\n",
       "      <td>5</td>\n",
       "      <td>0</td>\n",
       "      <td>...</td>\n",
       "      <td>0</td>\n",
       "      <td>0</td>\n",
       "      <td>0</td>\n",
       "      <td>0</td>\n",
       "      <td>0</td>\n",
       "      <td>0</td>\n",
       "      <td>0</td>\n",
       "      <td>0</td>\n",
       "      <td>0</td>\n",
       "      <td>0</td>\n",
       "    </tr>\n",
       "    <tr>\n",
       "      <th>1</th>\n",
       "      <td>0</td>\n",
       "      <td>0</td>\n",
       "      <td>0</td>\n",
       "      <td>0</td>\n",
       "      <td>0</td>\n",
       "      <td>0</td>\n",
       "      <td>2</td>\n",
       "      <td>0</td>\n",
       "      <td>0</td>\n",
       "      <td>0</td>\n",
       "      <td>...</td>\n",
       "      <td>0</td>\n",
       "      <td>0</td>\n",
       "      <td>0</td>\n",
       "      <td>1</td>\n",
       "      <td>0</td>\n",
       "      <td>0</td>\n",
       "      <td>0</td>\n",
       "      <td>0</td>\n",
       "      <td>0</td>\n",
       "      <td>0</td>\n",
       "    </tr>\n",
       "    <tr>\n",
       "      <th>2</th>\n",
       "      <td>0</td>\n",
       "      <td>0</td>\n",
       "      <td>0</td>\n",
       "      <td>0</td>\n",
       "      <td>0</td>\n",
       "      <td>0</td>\n",
       "      <td>2</td>\n",
       "      <td>1</td>\n",
       "      <td>0</td>\n",
       "      <td>0</td>\n",
       "      <td>...</td>\n",
       "      <td>0</td>\n",
       "      <td>0</td>\n",
       "      <td>0</td>\n",
       "      <td>0</td>\n",
       "      <td>0</td>\n",
       "      <td>0</td>\n",
       "      <td>0</td>\n",
       "      <td>0</td>\n",
       "      <td>0</td>\n",
       "      <td>0</td>\n",
       "    </tr>\n",
       "    <tr>\n",
       "      <th>3</th>\n",
       "      <td>0</td>\n",
       "      <td>0</td>\n",
       "      <td>0</td>\n",
       "      <td>0</td>\n",
       "      <td>0</td>\n",
       "      <td>0</td>\n",
       "      <td>0</td>\n",
       "      <td>0</td>\n",
       "      <td>0</td>\n",
       "      <td>0</td>\n",
       "      <td>...</td>\n",
       "      <td>0</td>\n",
       "      <td>0</td>\n",
       "      <td>0</td>\n",
       "      <td>0</td>\n",
       "      <td>0</td>\n",
       "      <td>0</td>\n",
       "      <td>0</td>\n",
       "      <td>0</td>\n",
       "      <td>0</td>\n",
       "      <td>0</td>\n",
       "    </tr>\n",
       "    <tr>\n",
       "      <th>4</th>\n",
       "      <td>2</td>\n",
       "      <td>0</td>\n",
       "      <td>1</td>\n",
       "      <td>0</td>\n",
       "      <td>2</td>\n",
       "      <td>0</td>\n",
       "      <td>1</td>\n",
       "      <td>0</td>\n",
       "      <td>0</td>\n",
       "      <td>1</td>\n",
       "      <td>...</td>\n",
       "      <td>0</td>\n",
       "      <td>0</td>\n",
       "      <td>0</td>\n",
       "      <td>0</td>\n",
       "      <td>0</td>\n",
       "      <td>0</td>\n",
       "      <td>0</td>\n",
       "      <td>0</td>\n",
       "      <td>0</td>\n",
       "      <td>0</td>\n",
       "    </tr>\n",
       "    <tr>\n",
       "      <th>...</th>\n",
       "      <td>...</td>\n",
       "      <td>...</td>\n",
       "      <td>...</td>\n",
       "      <td>...</td>\n",
       "      <td>...</td>\n",
       "      <td>...</td>\n",
       "      <td>...</td>\n",
       "      <td>...</td>\n",
       "      <td>...</td>\n",
       "      <td>...</td>\n",
       "      <td>...</td>\n",
       "      <td>...</td>\n",
       "      <td>...</td>\n",
       "      <td>...</td>\n",
       "      <td>...</td>\n",
       "      <td>...</td>\n",
       "      <td>...</td>\n",
       "      <td>...</td>\n",
       "      <td>...</td>\n",
       "      <td>...</td>\n",
       "      <td>...</td>\n",
       "    </tr>\n",
       "    <tr>\n",
       "      <th>64456</th>\n",
       "      <td>0</td>\n",
       "      <td>0</td>\n",
       "      <td>0</td>\n",
       "      <td>0</td>\n",
       "      <td>0</td>\n",
       "      <td>0</td>\n",
       "      <td>0</td>\n",
       "      <td>0</td>\n",
       "      <td>0</td>\n",
       "      <td>0</td>\n",
       "      <td>...</td>\n",
       "      <td>0</td>\n",
       "      <td>0</td>\n",
       "      <td>0</td>\n",
       "      <td>0</td>\n",
       "      <td>0</td>\n",
       "      <td>0</td>\n",
       "      <td>0</td>\n",
       "      <td>0</td>\n",
       "      <td>0</td>\n",
       "      <td>0</td>\n",
       "    </tr>\n",
       "    <tr>\n",
       "      <th>64457</th>\n",
       "      <td>6</td>\n",
       "      <td>0</td>\n",
       "      <td>5</td>\n",
       "      <td>3</td>\n",
       "      <td>3</td>\n",
       "      <td>2</td>\n",
       "      <td>7</td>\n",
       "      <td>2</td>\n",
       "      <td>1</td>\n",
       "      <td>3</td>\n",
       "      <td>...</td>\n",
       "      <td>0</td>\n",
       "      <td>0</td>\n",
       "      <td>0</td>\n",
       "      <td>0</td>\n",
       "      <td>0</td>\n",
       "      <td>0</td>\n",
       "      <td>0</td>\n",
       "      <td>0</td>\n",
       "      <td>0</td>\n",
       "      <td>0</td>\n",
       "    </tr>\n",
       "    <tr>\n",
       "      <th>64458</th>\n",
       "      <td>0</td>\n",
       "      <td>0</td>\n",
       "      <td>0</td>\n",
       "      <td>0</td>\n",
       "      <td>0</td>\n",
       "      <td>0</td>\n",
       "      <td>0</td>\n",
       "      <td>0</td>\n",
       "      <td>0</td>\n",
       "      <td>0</td>\n",
       "      <td>...</td>\n",
       "      <td>0</td>\n",
       "      <td>0</td>\n",
       "      <td>0</td>\n",
       "      <td>0</td>\n",
       "      <td>0</td>\n",
       "      <td>0</td>\n",
       "      <td>0</td>\n",
       "      <td>0</td>\n",
       "      <td>0</td>\n",
       "      <td>0</td>\n",
       "    </tr>\n",
       "    <tr>\n",
       "      <th>64459</th>\n",
       "      <td>0</td>\n",
       "      <td>0</td>\n",
       "      <td>1</td>\n",
       "      <td>0</td>\n",
       "      <td>1</td>\n",
       "      <td>0</td>\n",
       "      <td>0</td>\n",
       "      <td>0</td>\n",
       "      <td>0</td>\n",
       "      <td>0</td>\n",
       "      <td>...</td>\n",
       "      <td>0</td>\n",
       "      <td>0</td>\n",
       "      <td>0</td>\n",
       "      <td>0</td>\n",
       "      <td>0</td>\n",
       "      <td>0</td>\n",
       "      <td>0</td>\n",
       "      <td>0</td>\n",
       "      <td>0</td>\n",
       "      <td>0</td>\n",
       "    </tr>\n",
       "    <tr>\n",
       "      <th>64460</th>\n",
       "      <td>0</td>\n",
       "      <td>0</td>\n",
       "      <td>3</td>\n",
       "      <td>0</td>\n",
       "      <td>3</td>\n",
       "      <td>1</td>\n",
       "      <td>1</td>\n",
       "      <td>0</td>\n",
       "      <td>4</td>\n",
       "      <td>0</td>\n",
       "      <td>...</td>\n",
       "      <td>0</td>\n",
       "      <td>0</td>\n",
       "      <td>0</td>\n",
       "      <td>0</td>\n",
       "      <td>0</td>\n",
       "      <td>0</td>\n",
       "      <td>0</td>\n",
       "      <td>0</td>\n",
       "      <td>0</td>\n",
       "      <td>0</td>\n",
       "    </tr>\n",
       "  </tbody>\n",
       "</table>\n",
       "<p>64461 rows × 87 columns</p>\n",
       "</div>"
      ],
      "text/plain": [
       "       skill_group_0  skill_group_1  skill_group_10  skill_group_11   \n",
       "0                  1              0               2               0  \\\n",
       "1                  0              0               0               0   \n",
       "2                  0              0               0               0   \n",
       "3                  0              0               0               0   \n",
       "4                  2              0               1               0   \n",
       "...              ...            ...             ...             ...   \n",
       "64456              0              0               0               0   \n",
       "64457              6              0               5               3   \n",
       "64458              0              0               0               0   \n",
       "64459              0              0               1               0   \n",
       "64460              0              0               3               0   \n",
       "\n",
       "       skill_group_12  skill_group_2  skill_group_3  skill_group_4   \n",
       "0                   1              0              0              0  \\\n",
       "1                   0              0              2              0   \n",
       "2                   0              0              2              1   \n",
       "3                   0              0              0              0   \n",
       "4                   2              0              1              0   \n",
       "...               ...            ...            ...            ...   \n",
       "64456               0              0              0              0   \n",
       "64457               3              2              7              2   \n",
       "64458               0              0              0              0   \n",
       "64459               1              0              0              0   \n",
       "64460               3              1              1              0   \n",
       "\n",
       "       skill_group_5  skill_group_6  ...  Node.js  Pandas  Puppet   \n",
       "0                  5              0  ...        0       0       0  \\\n",
       "1                  0              0  ...        0       0       0   \n",
       "2                  0              0  ...        0       0       0   \n",
       "3                  0              0  ...        0       0       0   \n",
       "4                  0              1  ...        0       0       0   \n",
       "...              ...            ...  ...      ...     ...     ...   \n",
       "64456              0              0  ...        0       0       0   \n",
       "64457              1              3  ...        0       0       0   \n",
       "64458              0              0  ...        0       0       0   \n",
       "64459              0              0  ...        0       0       0   \n",
       "64460              4              0  ...        0       0       0   \n",
       "\n",
       "       React Native  TensorFlow  Teraform  Torch/PyTorch  Unity 3D   \n",
       "0                 0           0         0              0         0  \\\n",
       "1                 1           0         0              0         0   \n",
       "2                 0           0         0              0         0   \n",
       "3                 0           0         0              0         0   \n",
       "4                 0           0         0              0         0   \n",
       "...             ...         ...       ...            ...       ...   \n",
       "64456             0           0         0              0         0   \n",
       "64457             0           0         0              0         0   \n",
       "64458             0           0         0              0         0   \n",
       "64459             0           0         0              0         0   \n",
       "64460             0           0         0              0         0   \n",
       "\n",
       "       Unreal Engine  Xamarin  \n",
       "0                  0        0  \n",
       "1                  0        0  \n",
       "2                  0        0  \n",
       "3                  0        0  \n",
       "4                  0        0  \n",
       "...              ...      ...  \n",
       "64456              0        0  \n",
       "64457              0        0  \n",
       "64458              0        0  \n",
       "64459              0        0  \n",
       "64460              0        0  \n",
       "\n",
       "[64461 rows x 87 columns]"
      ]
     },
     "execution_count": 21,
     "metadata": {},
     "output_type": "execute_result"
    }
   ],
   "source": [
    "combined_features"
   ]
  },
  {
   "cell_type": "code",
   "execution_count": 22,
   "metadata": {},
   "outputs": [],
   "source": [
    "X_train , X_test , y_train , y_test = train_test_split(combined_features,role_ohe,test_size=0.3,random_state=42)"
   ]
  },
  {
   "cell_type": "markdown",
   "metadata": {},
   "source": [
    "## Compute samples weight to deal with classes imbalance"
   ]
  },
  {
   "cell_type": "code",
   "execution_count": 23,
   "metadata": {},
   "outputs": [],
   "source": [
    "weights = 1/role_ohe.sum(axis=0)\n",
    "sample_weights = np.multiply(weights.values,y_train.values).mean(axis=1)"
   ]
  },
  {
   "cell_type": "code",
   "execution_count": 24,
   "metadata": {},
   "outputs": [],
   "source": [
    "from sklearn.linear_model import LogisticRegression\n",
    "from sklearn.multioutput import MultiOutputClassifier\n",
    "from sklearn.metrics import accuracy_score\n",
    "from sklearn.metrics import f1_score\n",
    "from sklearn.metrics import classification_report\n",
    "from sklearn.metrics import confusion_matrix\n",
    "from sklearn.metrics import precision_score , recall_score"
   ]
  },
  {
   "cell_type": "code",
   "execution_count": 25,
   "metadata": {},
   "outputs": [],
   "source": [
    "\n",
    "model = MultiOutputClassifier(LogisticRegression(random_state=42, max_iter=1000, solver='lbfgs', n_jobs=2))\n",
    "\n",
    "model.fit(X_train,y_train,sample_weight=sample_weights)\n",
    "pred = model.predict(X_test)\n",
    "pred_train = model.predict(X_train)\n",
    "\n"
   ]
  },
  {
   "cell_type": "code",
   "execution_count": 26,
   "metadata": {},
   "outputs": [
    {
     "name": "stdout",
     "output_type": "stream",
     "text": [
      "for test data\n",
      "Accuracy Score:  0.05196752675939811\n",
      "F1 Score:  0.3023546489618043\n",
      "Precision Score:  0.6241671435040446\n",
      "Recall Score:  0.40782016579259006\n",
      "---------------------------------------------------------\n",
      "for train data\n",
      "Accuracy Score:  0.053654536589690174\n",
      "F1 Score:  0.3068293895311575\n",
      "Precision Score:  0.6087213552741111\n",
      "Recall Score:  0.41241826493998507\n"
     ]
    }
   ],
   "source": [
    "print('for test data')\n",
    "print('Accuracy Score: ',accuracy_score(y_test,pred))\n",
    "print('F1 Score: ',f1_score(y_test,pred,average='weighted'))\n",
    "print('Precision Score: ',precision_score(y_test,pred,average='weighted',zero_division=1))\n",
    "print('Recall Score: ',recall_score(y_test,pred,average='weighted'))\n",
    "print('---------------------------------------------------------')\n",
    "print('for train data')\n",
    "print('Accuracy Score: ',accuracy_score(y_train,pred_train))\n",
    "print('F1 Score: ',f1_score(y_train,pred_train,average='weighted'))\n",
    "print('Precision Score: ',precision_score(y_train,pred_train,average='weighted',zero_division=1))\n",
    "print('Recall Score: ',recall_score(y_train,pred_train,average='weighted'))\n"
   ]
  },
  {
   "cell_type": "markdown",
   "metadata": {},
   "source": [
    "## Export new features"
   ]
  },
  {
   "cell_type": "code",
   "execution_count": 27,
   "metadata": {},
   "outputs": [],
   "source": [
    "feature_path = os.path.join('../data/processed/','features_skills_clusters.pkl')\n",
    "new_features_df.to_pickle(feature_path)"
   ]
  },
  {
   "cell_type": "code",
   "execution_count": null,
   "metadata": {},
   "outputs": [],
   "source": []
  }
 ],
 "metadata": {
  "kernelspec": {
   "display_name": "e2e_env",
   "language": "python",
   "name": "python3"
  },
  "language_info": {
   "codemirror_mode": {
    "name": "ipython",
    "version": 3
   },
   "file_extension": ".py",
   "mimetype": "text/x-python",
   "name": "python",
   "nbconvert_exporter": "python",
   "pygments_lexer": "ipython3",
   "version": "3.9.16"
  },
  "orig_nbformat": 4
 },
 "nbformat": 4,
 "nbformat_minor": 2
}
